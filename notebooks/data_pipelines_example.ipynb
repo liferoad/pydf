{
 "cells": [
  {
   "cell_type": "code",
   "execution_count": 1,
   "id": "81868215-7f83-4c0e-a93c-f0c50974267f",
   "metadata": {},
   "outputs": [],
   "source": [
    "import apache_beam as beam"
   ]
  },
  {
   "cell_type": "code",
   "execution_count": 1,
   "id": "58fdf4e5",
   "metadata": {},
   "outputs": [],
   "source": [
    "import sys  \n",
    "sys.path.insert(0, \"../\")"
   ]
  },
  {
   "cell_type": "code",
   "execution_count": null,
   "id": "7d19f348-7674-4a0b-b964-2dee579b33fa",
   "metadata": {},
   "outputs": [],
   "source": [
    "! which python"
   ]
  },
  {
   "cell_type": "code",
   "execution_count": null,
   "id": "4bf43415-9d70-4c47-bd48-83602781a83e",
   "metadata": {},
   "outputs": [],
   "source": [
    "! gcloud auth list"
   ]
  },
  {
   "cell_type": "markdown",
   "id": "20686a31",
   "metadata": {},
   "source": [
    "# Old way to use the APIs directly"
   ]
  },
  {
   "cell_type": "code",
   "execution_count": 9,
   "id": "1edaad07-3118-4504-bedb-3f18a26e90ed",
   "metadata": {},
   "outputs": [],
   "source": [
    "from google.oauth2 import service_account"
   ]
  },
  {
   "cell_type": "code",
   "execution_count": 13,
   "id": "f729f320-6ecd-4ed1-8812-6e9458997643",
   "metadata": {},
   "outputs": [],
   "source": [
    "service_account_file = \"manav-jit-test-2f1ad5006d9b.json\"\n",
    "credentials = service_account.Credentials.from_service_account_file(\n",
    "      service_account_file, scopes=['https://www.googleapis.com/auth/cloud-platform'])"
   ]
  },
  {
   "cell_type": "code",
   "execution_count": 14,
   "id": "9cec0552-4ab6-420c-be9b-5d1e4345c68e",
   "metadata": {},
   "outputs": [],
   "source": [
    "from googleapiclient.discovery import build\n",
    "dp_service = build(\"datapipelines\", \"v1\", credentials=credentials, cache_discovery=False)"
   ]
  },
  {
   "cell_type": "code",
   "execution_count": 16,
   "id": "f4913ea6-55bd-4598-bbf7-d00e1b5fa491",
   "metadata": {},
   "outputs": [],
   "source": [
    "res = dp_service.projects().locations().listPipelines(parent=\"projects/manav-jit-test/locations/us-central1\").execute()"
   ]
  },
  {
   "cell_type": "code",
   "execution_count": 17,
   "id": "6f59fa16",
   "metadata": {},
   "outputs": [
    {
     "data": {
      "text/plain": [
       "dict"
      ]
     },
     "execution_count": 17,
     "metadata": {},
     "output_type": "execute_result"
    }
   ],
   "source": [
    "type(res)"
   ]
  },
  {
   "cell_type": "code",
   "execution_count": 22,
   "id": "31e36d92",
   "metadata": {},
   "outputs": [
    {
     "data": {
      "text/plain": [
       "{'name': 'projects/manav-jit-test/locations/us-central1/pipelines/test-xqhu',\n",
       " 'displayName': 'test-xqhu',\n",
       " 'type': 'PIPELINE_TYPE_BATCH',\n",
       " 'state': 'STATE_ARCHIVED',\n",
       " 'createTime': '2022-09-19T13:18:36.044475Z',\n",
       " 'lastUpdateTime': '2022-09-30T14:08:04.705119Z',\n",
       " 'workload': {'dataflowLaunchTemplateRequest': {'projectId': 'manav-jit-test',\n",
       "   'gcsPath': 'gs://dataflow-templates-us-central1/latest/Word_Count',\n",
       "   'launchParameters': {'jobName': 'test-xqhu',\n",
       "    'parameters': {'output': 'gs://tmp_xqhu/counts',\n",
       "     'inputFile': 'gs://tmp_xqhu/kinglear.txt'},\n",
       "    'environment': {'tempLocation': 'gs://tmp_xqhu/temp_hourly/'}},\n",
       "   'location': 'us-central1'}},\n",
       " 'jobCount': 265}"
      ]
     },
     "execution_count": 22,
     "metadata": {},
     "output_type": "execute_result"
    }
   ],
   "source": [
    "res[\"pipelines\"][0]"
   ]
  },
  {
   "cell_type": "markdown",
   "id": "0b259ff0",
   "metadata": {},
   "source": [
    "# New way to list data pipelines"
   ]
  },
  {
   "cell_type": "code",
   "execution_count": 2,
   "id": "e8000f7f-c42d-47ec-a728-acb4b4c380cb",
   "metadata": {},
   "outputs": [],
   "source": [
    "from df import models as dm\n",
    "from df import dataflow as flow"
   ]
  },
  {
   "cell_type": "code",
   "execution_count": 3,
   "id": "59640ca0-ee32-4fc3-9188-1cc28b6a7b91",
   "metadata": {},
   "outputs": [],
   "source": [
    "dw = flow.Dataflow(project_id=\"manav-jit-test\", location_id=\"us-central1\", service_account_file=\"manav-jit-test-2f1ad5006d9b.json\")"
   ]
  },
  {
   "cell_type": "code",
   "execution_count": 4,
   "id": "0f2a5c02-6e52-4680-a134-9cad2bcba58d",
   "metadata": {},
   "outputs": [
    {
     "data": {
      "text/plain": [
       "[DataPipeline(name='projects/manav-jit-test/locations/us-central1/pipelines/test-xqhu'),\n",
       " DataPipeline(name='projects/manav-jit-test/locations/us-central1/pipelines/syndeo-streaming-test'),\n",
       " DataPipeline(name='projects/manav-jit-test/locations/us-central1/pipelines/abc8'),\n",
       " DataPipeline(name='projects/manav-jit-test/locations/us-central1/pipelines/abc7'),\n",
       " DataPipeline(name='projects/manav-jit-test/locations/us-central1/pipelines/abc4'),\n",
       " DataPipeline(name='projects/manav-jit-test/locations/us-central1/pipelines/abc3'),\n",
       " DataPipeline(name='projects/manav-jit-test/locations/us-central1/pipelines/abc2')]"
      ]
     },
     "execution_count": 4,
     "metadata": {},
     "output_type": "execute_result"
    }
   ],
   "source": [
    "dw.list_data_pipelines()"
   ]
  },
  {
   "cell_type": "code",
   "execution_count": null,
   "id": "7487ca3a",
   "metadata": {},
   "outputs": [],
   "source": []
  }
 ],
 "metadata": {
  "kernelspec": {
   "display_name": "Python 3.9.13 ('venv': venv)",
   "language": "python",
   "name": "python3"
  },
  "language_info": {
   "codemirror_mode": {
    "name": "ipython",
    "version": 3
   },
   "file_extension": ".py",
   "mimetype": "text/x-python",
   "name": "python",
   "nbconvert_exporter": "python",
   "pygments_lexer": "ipython3",
   "version": "3.9.13"
  },
  "vscode": {
   "interpreter": {
    "hash": "6f737920f730edbd29bf5d9c00b412287b0c2b244b77025b95628ee3d308af8f"
   }
  }
 },
 "nbformat": 4,
 "nbformat_minor": 5
}
