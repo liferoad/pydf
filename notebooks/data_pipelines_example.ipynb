{
 "cells": [
  {
   "cell_type": "code",
   "execution_count": null,
   "id": "81868215-7f83-4c0e-a93c-f0c50974267f",
   "metadata": {},
   "outputs": [],
   "source": [
    "import apache_beam as beam"
   ]
  },
  {
   "cell_type": "code",
   "execution_count": null,
   "id": "7d19f348-7674-4a0b-b964-2dee579b33fa",
   "metadata": {},
   "outputs": [],
   "source": [
    "! which python"
   ]
  },
  {
   "cell_type": "code",
   "execution_count": null,
   "id": "4bf43415-9d70-4c47-bd48-83602781a83e",
   "metadata": {},
   "outputs": [],
   "source": [
    "! gcloud auth list"
   ]
  },
  {
   "cell_type": "markdown",
   "id": "20686a31",
   "metadata": {},
   "source": [
    "# Old way to use the APIs directly"
   ]
  },
  {
   "cell_type": "code",
<<<<<<< HEAD
   "execution_count": 1,
=======
   "execution_count": null,
>>>>>>> 734623e (Added create_job_from_template)
   "id": "1edaad07-3118-4504-bedb-3f18a26e90ed",
   "metadata": {},
   "outputs": [],
   "source": [
    "from google.oauth2 import service_account"
   ]
  },
  {
   "cell_type": "code",
<<<<<<< HEAD
   "execution_count": 2,
=======
   "execution_count": null,
>>>>>>> 734623e (Added create_job_from_template)
   "id": "f729f320-6ecd-4ed1-8812-6e9458997643",
   "metadata": {},
   "outputs": [],
   "source": [
    "service_account_file = \"manav-jit-test-2f1ad5006d9b.json\"\n",
    "credentials = service_account.Credentials.from_service_account_file(\n",
    "      service_account_file, scopes=['https://www.googleapis.com/auth/cloud-platform'])"
   ]
  },
  {
   "cell_type": "code",
<<<<<<< HEAD
   "execution_count": 3,
=======
   "execution_count": null,
>>>>>>> 734623e (Added create_job_from_template)
   "id": "9cec0552-4ab6-420c-be9b-5d1e4345c68e",
   "metadata": {},
   "outputs": [],
   "source": [
    "from googleapiclient.discovery import build\n",
    "dp_service = build(\"datapipelines\", \"v1\", credentials=credentials, cache_discovery=False)"
   ]
  },
  {
   "cell_type": "code",
<<<<<<< HEAD
   "execution_count": 4,
=======
   "execution_count": null,
>>>>>>> 734623e (Added create_job_from_template)
   "id": "f4913ea6-55bd-4598-bbf7-d00e1b5fa491",
   "metadata": {},
   "outputs": [],
   "source": [
    "res = dp_service.projects().locations().listPipelines(parent=\"projects/manav-jit-test/locations/us-central1\").execute()"
   ]
  },
  {
   "cell_type": "code",
<<<<<<< HEAD
   "execution_count": 5,
   "id": "6f59fa16",
   "metadata": {},
   "outputs": [
    {
     "data": {
      "text/plain": [
       "dict"
      ]
     },
     "execution_count": 5,
     "metadata": {},
     "output_type": "execute_result"
    }
   ],
=======
   "execution_count": null,
   "id": "6f59fa16",
   "metadata": {},
   "outputs": [],
>>>>>>> 734623e (Added create_job_from_template)
   "source": [
    "type(res)"
   ]
  },
  {
   "cell_type": "code",
<<<<<<< HEAD
   "execution_count": 6,
   "id": "31e36d92",
   "metadata": {},
   "outputs": [
    {
     "data": {
      "text/plain": [
       "{'name': 'projects/manav-jit-test/locations/us-central1/pipelines/test-xqhu',\n",
       " 'displayName': 'test-xqhu',\n",
       " 'type': 'PIPELINE_TYPE_BATCH',\n",
       " 'state': 'STATE_ARCHIVED',\n",
       " 'createTime': '2022-09-19T13:18:36.044475Z',\n",
       " 'lastUpdateTime': '2022-09-30T14:08:04.705119Z',\n",
       " 'workload': {'dataflowLaunchTemplateRequest': {'projectId': 'manav-jit-test',\n",
       "   'gcsPath': 'gs://dataflow-templates-us-central1/latest/Word_Count',\n",
       "   'launchParameters': {'jobName': 'test-xqhu',\n",
       "    'parameters': {'inputFile': 'gs://tmp_xqhu/kinglear.txt',\n",
       "     'output': 'gs://tmp_xqhu/counts'},\n",
       "    'environment': {'tempLocation': 'gs://tmp_xqhu/temp_hourly/'}},\n",
       "   'location': 'us-central1'}},\n",
       " 'jobCount': 265}"
      ]
     },
     "execution_count": 6,
     "metadata": {},
     "output_type": "execute_result"
    }
   ],
=======
   "execution_count": null,
   "id": "31e36d92",
   "metadata": {},
   "outputs": [],
>>>>>>> 734623e (Added create_job_from_template)
   "source": [
    "res[\"pipelines\"][0]"
   ]
  },
  {
   "cell_type": "code",
<<<<<<< HEAD
   "execution_count": 7,
   "id": "24ad12b0",
   "metadata": {},
   "outputs": [
    {
     "data": {
      "text/plain": [
       "'test-xqhu'"
      ]
     },
     "execution_count": 7,
     "metadata": {},
     "output_type": "execute_result"
    }
   ],
=======
   "execution_count": null,
   "id": "24ad12b0",
   "metadata": {},
   "outputs": [],
>>>>>>> 734623e (Added create_job_from_template)
   "source": [
    "res[\"pipelines\"][0][\"displayName\"]"
   ]
  },
  {
   "cell_type": "code",
<<<<<<< HEAD
   "execution_count": 8,
=======
   "execution_count": null,
>>>>>>> 734623e (Added create_job_from_template)
   "id": "05daae2e",
   "metadata": {},
   "outputs": [],
   "source": [
    "%load_ext autoreload\n",
    "%autoreload 2"
   ]
  },
  {
   "cell_type": "markdown",
   "id": "0b259ff0",
   "metadata": {},
   "source": [
    "# New way to manage data pipelines"
   ]
  },
  {
   "cell_type": "code",
<<<<<<< HEAD
   "execution_count": 9,
=======
   "execution_count": null,
>>>>>>> 734623e (Added create_job_from_template)
   "id": "e8000f7f-c42d-47ec-a728-acb4b4c380cb",
   "metadata": {},
   "outputs": [],
   "source": [
    "from df import models as dm\n",
    "from df import dataflow as flow"
   ]
  },
  {
   "cell_type": "code",
<<<<<<< HEAD
   "execution_count": 10,
=======
   "execution_count": null,
>>>>>>> 734623e (Added create_job_from_template)
   "id": "59640ca0-ee32-4fc3-9188-1cc28b6a7b91",
   "metadata": {},
   "outputs": [],
   "source": [
    "dw = flow.Dataflow(project_id=\"manav-jit-test\", location_id=\"us-central1\", service_account_file=\"manav-jit-test-2f1ad5006d9b.json\")"
   ]
  },
  {
   "cell_type": "code",
<<<<<<< HEAD
   "execution_count": 11,
=======
   "execution_count": null,
>>>>>>> 734623e (Added create_job_from_template)
   "id": "0f2a5c02-6e52-4680-a134-9cad2bcba58d",
   "metadata": {},
   "outputs": [],
   "source": [
    "# list all data pipelines\n",
    "dps = dw.list_data_pipelines()"
   ]
  },
  {
   "cell_type": "code",
<<<<<<< HEAD
   "execution_count": 12,
   "id": "80729de6",
   "metadata": {},
   "outputs": [
    {
     "data": {
      "text/plain": [
       "[DataPipeline(short_name='test-xqhu', name='projects/manav-jit-test/locations/us-central1/pipelines/test-xqhu', display_name='test-xqhu', type='PIPELINE_TYPE_BATCH', state='STATE_ARCHIVED'),\n",
       " DataPipeline(short_name='syndeo-streaming-test', name='projects/manav-jit-test/locations/us-central1/pipelines/syndeo-streaming-test', display_name=None, type='PIPELINE_TYPE_STREAMING', state='STATE_ACTIVE'),\n",
       " DataPipeline(short_name='abc8', name='projects/manav-jit-test/locations/us-central1/pipelines/abc8', display_name='abc8', type='PIPELINE_TYPE_BATCH', state='STATE_ACTIVE'),\n",
       " DataPipeline(short_name='abc7', name='projects/manav-jit-test/locations/us-central1/pipelines/abc7', display_name='abc7', type='PIPELINE_TYPE_BATCH', state='STATE_ACTIVE'),\n",
       " DataPipeline(short_name='abc4', name='projects/manav-jit-test/locations/us-central1/pipelines/abc4', display_name='abc4', type='PIPELINE_TYPE_BATCH', state='STATE_ACTIVE'),\n",
       " DataPipeline(short_name='abc3', name='projects/manav-jit-test/locations/us-central1/pipelines/abc3', display_name='abc3', type='PIPELINE_TYPE_BATCH', state='STATE_ACTIVE'),\n",
       " DataPipeline(short_name='abc2', name='projects/manav-jit-test/locations/us-central1/pipelines/abc2', display_name='abc2', type='PIPELINE_TYPE_BATCH', state='STATE_ARCHIVED')]"
      ]
     },
     "execution_count": 12,
     "metadata": {},
     "output_type": "execute_result"
    }
   ],
=======
   "execution_count": null,
   "id": "80729de6",
   "metadata": {},
   "outputs": [],
>>>>>>> 734623e (Added create_job_from_template)
   "source": [
    "dps"
   ]
  },
  {
   "cell_type": "code",
<<<<<<< HEAD
   "execution_count": 13,
   "id": "7487ca3a",
   "metadata": {},
   "outputs": [
    {
     "data": {
      "text/plain": [
       "DataPipeline(short_name='test-xqhu', name='projects/manav-jit-test/locations/us-central1/pipelines/test-xqhu', display_name='test-xqhu', type='PIPELINE_TYPE_BATCH', state='STATE_ARCHIVED')"
      ]
     },
     "execution_count": 13,
     "metadata": {},
     "output_type": "execute_result"
    }
   ],
=======
   "execution_count": null,
   "id": "7487ca3a",
   "metadata": {},
   "outputs": [],
>>>>>>> 734623e (Added create_job_from_template)
   "source": [
    "dps[0]"
   ]
  },
  {
   "cell_type": "code",
<<<<<<< HEAD
   "execution_count": 14,
   "id": "e52383af",
   "metadata": {},
   "outputs": [],
   "source": [
    "# create a new data pipeline\n",
    "new_dp = dw.create_data_pipeline(dm.DataPipeline(short_name=\"test-df\"))"
   ]
  },
  {
   "cell_type": "code",
   "execution_count": 15,
   "id": "d5b5af38",
   "metadata": {},
   "outputs": [
    {
     "data": {
      "text/plain": [
       "{'name': 'projects/manav-jit-test/locations/us-central1/pipelines/test-df',\n",
       " 'state': 'STATE_ACTIVE',\n",
       " 'createTime': '2022-11-10T23:26:56.408743Z',\n",
       " 'lastUpdateTime': '2022-11-10T23:26:56.408743Z'}"
      ]
     },
     "execution_count": 15,
     "metadata": {},
     "output_type": "execute_result"
    }
   ],
=======
   "execution_count": null,
   "id": "d5b5af38",
   "metadata": {},
   "outputs": [],
>>>>>>> 734623e (Added create_job_from_template)
   "source": [
    "new_dp.raw_results"
   ]
  },
  {
   "cell_type": "code",
<<<<<<< HEAD
   "execution_count": 16,
=======
   "execution_count": null,
>>>>>>> 734623e (Added create_job_from_template)
   "id": "8df3bc8e",
   "metadata": {},
   "outputs": [],
   "source": [
    "# remove this data pipeline\n",
    "new_dp.delete()"
   ]
  },
  {
   "cell_type": "code",
   "execution_count": null,
   "id": "12fff568",
   "metadata": {},
   "outputs": [],
   "source": [
    "dw.create_job_from_template(\"gs://dataflow-templates/latest/Word_Count\", \"gs://dataflow-samples/shakespeare/kinglear.txt\", \"gs://nickllx_test_bucket/results/output\")"
   ]
  }
 ],
 "metadata": {
  "kernelspec": {
   "display_name": "Python 3.9.15 64-bit",
   "language": "python",
   "name": "python3"
  },
  "language_info": {
   "codemirror_mode": {
    "name": "ipython",
    "version": 3
   },
   "file_extension": ".py",
   "mimetype": "text/x-python",
   "name": "python",
   "nbconvert_exporter": "python",
   "pygments_lexer": "ipython3",
   "version": "3.9.15"
  },
  "vscode": {
   "interpreter": {
    "hash": "a665b5d41d17b532ea9890333293a1b812fa0b73c9c25c950b3cedf1bebd0438"
   }
  }
 },
 "nbformat": 4,
 "nbformat_minor": 5
}
