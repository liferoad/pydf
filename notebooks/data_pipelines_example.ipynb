{
 "cells": [
  {
   "cell_type": "markdown",
   "id": "20686a31",
   "metadata": {},
   "source": [
    "# Old way to use the APIs directly"
   ]
  },
  {
   "cell_type": "code",
   "execution_count": 1,
   "id": "1edaad07-3118-4504-bedb-3f18a26e90ed",
   "metadata": {},
   "outputs": [],
   "source": [
    "from google.oauth2 import service_account"
   ]
  },
  {
   "cell_type": "code",
   "execution_count": 2,
   "id": "f729f320-6ecd-4ed1-8812-6e9458997643",
   "metadata": {},
   "outputs": [],
   "source": [
    "service_account_file = \"manav-jit-test-2f1ad5006d9b.json\"\n",
    "credentials = service_account.Credentials.from_service_account_file(\n",
    "      service_account_file, scopes=['https://www.googleapis.com/auth/cloud-platform'])"
   ]
  },
  {
   "cell_type": "code",
   "execution_count": 3,
   "id": "9cec0552-4ab6-420c-be9b-5d1e4345c68e",
   "metadata": {},
   "outputs": [],
   "source": [
    "from googleapiclient.discovery import build\n",
    "dp_service = build(\"datapipelines\", \"v1\", credentials=credentials, cache_discovery=False)"
   ]
  },
  {
   "cell_type": "code",
   "execution_count": 4,
   "id": "f4913ea6-55bd-4598-bbf7-d00e1b5fa491",
   "metadata": {},
   "outputs": [],
   "source": [
    "res = dp_service.projects().locations().listPipelines(parent=\"projects/manav-jit-test/locations/us-central1\").execute()"
   ]
  },
  {
   "cell_type": "code",
   "execution_count": 5,
   "id": "6f59fa16",
   "metadata": {},
   "outputs": [
    {
     "data": {
      "text/plain": [
       "dict"
      ]
     },
     "execution_count": 5,
     "metadata": {},
     "output_type": "execute_result"
    }
   ],
   "source": [
    "type(res)"
   ]
  },
  {
   "cell_type": "code",
   "execution_count": 6,
   "id": "31e36d92",
   "metadata": {},
   "outputs": [
    {
     "data": {
      "text/plain": [
       "{'name': 'projects/manav-jit-test/locations/us-central1/pipelines/test-xqhu-word-count-1',\n",
       " 'displayName': 'test-xqhu-word-count-1',\n",
       " 'type': 'PIPELINE_TYPE_BATCH',\n",
       " 'state': 'STATE_ACTIVE',\n",
       " 'createTime': '2022-11-13T02:48:52.607924Z',\n",
       " 'lastUpdateTime': '2022-11-13T02:48:52.607924Z',\n",
       " 'workload': {'dataflowLaunchTemplateRequest': {'projectId': 'manav-jit-test',\n",
       "   'gcsPath': 'gs://dataflow-templates/latest/Word_Count',\n",
       "   'launchParameters': {'jobName': 'test-xqhu-word-count-1',\n",
       "    'parameters': {'inputFile': 'gs://dataflow-samples/shakespeare/kinglear.txt',\n",
       "     'output': 'gs://pydf_test_bucket/results/output'},\n",
       "    'environment': {'tempLocation': 'gs://pydf_test_bucket/results'}},\n",
       "   'location': 'us-central1'}}}"
      ]
     },
     "execution_count": 6,
     "metadata": {},
     "output_type": "execute_result"
    }
   ],
   "source": [
    "res[\"pipelines\"][0]"
   ]
  },
  {
   "cell_type": "code",
   "execution_count": 7,
   "id": "24ad12b0",
   "metadata": {},
   "outputs": [
    {
     "data": {
      "text/plain": [
       "'test-xqhu-word-count-1'"
      ]
     },
     "execution_count": 7,
     "metadata": {},
     "output_type": "execute_result"
    }
   ],
   "source": [
    "res[\"pipelines\"][0][\"displayName\"]"
   ]
  },
  {
   "cell_type": "markdown",
   "id": "0b259ff0",
   "metadata": {},
   "source": [
    "# New way to manage data pipelines"
   ]
  },
  {
   "cell_type": "code",
   "execution_count": 8,
   "id": "05daae2e",
   "metadata": {},
   "outputs": [],
   "source": [
    "%load_ext autoreload\n",
    "%autoreload 2"
   ]
  },
  {
   "cell_type": "code",
   "execution_count": 9,
   "id": "e8000f7f-c42d-47ec-a728-acb4b4c380cb",
   "metadata": {},
   "outputs": [],
   "source": [
    "from df import models as dm\n",
    "from df import dataflow as flow"
   ]
  },
  {
   "cell_type": "code",
   "execution_count": 10,
   "id": "59640ca0-ee32-4fc3-9188-1cc28b6a7b91",
   "metadata": {},
   "outputs": [],
   "source": [
    "dw = flow.Dataflow(project_id=\"manav-jit-test\", location_id=\"us-central1\")"
   ]
  },
  {
   "cell_type": "code",
   "execution_count": 12,
   "id": "0f2a5c02-6e52-4680-a134-9cad2bcba58d",
   "metadata": {},
   "outputs": [],
   "source": [
    "# list all data pipelines\n",
    "dps = dw.list_data_pipelines()"
   ]
  },
  {
   "cell_type": "code",
   "execution_count": 13,
   "id": "80729de6",
   "metadata": {},
   "outputs": [
    {
     "data": {
      "text/plain": [
       "[DataPipeline(short_name='test-word-count', name='projects/manav-jit-test/locations/us-central1/pipelines/test-word-count', display_name='test-word-count', type='PIPELINE_TYPE_BATCH', state='STATE_ACTIVE'),\n",
       " DataPipeline(short_name='test-xqhu', name='projects/manav-jit-test/locations/us-central1/pipelines/test-xqhu', display_name='test-xqhu', type='PIPELINE_TYPE_BATCH', state='STATE_ARCHIVED'),\n",
       " DataPipeline(short_name='syndeo-streaming-test', name='projects/manav-jit-test/locations/us-central1/pipelines/syndeo-streaming-test', display_name=None, type='PIPELINE_TYPE_STREAMING', state='STATE_ACTIVE'),\n",
       " DataPipeline(short_name='abc8', name='projects/manav-jit-test/locations/us-central1/pipelines/abc8', display_name='abc8', type='PIPELINE_TYPE_BATCH', state='STATE_ACTIVE'),\n",
       " DataPipeline(short_name='abc7', name='projects/manav-jit-test/locations/us-central1/pipelines/abc7', display_name='abc7', type='PIPELINE_TYPE_BATCH', state='STATE_ACTIVE'),\n",
       " DataPipeline(short_name='abc4', name='projects/manav-jit-test/locations/us-central1/pipelines/abc4', display_name='abc4', type='PIPELINE_TYPE_BATCH', state='STATE_ACTIVE'),\n",
       " DataPipeline(short_name='abc3', name='projects/manav-jit-test/locations/us-central1/pipelines/abc3', display_name='abc3', type='PIPELINE_TYPE_BATCH', state='STATE_ACTIVE'),\n",
       " DataPipeline(short_name='abc2', name='projects/manav-jit-test/locations/us-central1/pipelines/abc2', display_name='abc2', type='PIPELINE_TYPE_BATCH', state='STATE_ARCHIVED')]"
      ]
     },
     "execution_count": 13,
     "metadata": {},
     "output_type": "execute_result"
    }
   ],
   "source": [
    "dps"
   ]
  },
  {
   "cell_type": "code",
   "execution_count": 14,
   "id": "7487ca3a",
   "metadata": {},
   "outputs": [
    {
     "data": {
      "text/plain": [
       "{'name': 'projects/manav-jit-test/locations/us-central1/pipelines/test-word-count',\n",
       " 'displayName': 'test-word-count',\n",
       " 'type': 'PIPELINE_TYPE_BATCH',\n",
       " 'state': 'STATE_ACTIVE',\n",
       " 'createTime': '2022-11-13T01:38:19.929693Z',\n",
       " 'lastUpdateTime': '2022-11-13T01:38:58.249208Z',\n",
       " 'workload': {'dataflowLaunchTemplateRequest': {'projectId': 'manav-jit-test',\n",
       "   'gcsPath': 'gs://dataflow-templates-us-central1/latest/Word_Count',\n",
       "   'launchParameters': {'jobName': 'test-word-count',\n",
       "    'parameters': {'output': 'gs://tmp_xqhu',\n",
       "     'inputFile': 'gs://tmp_xqhu/kinglear.txt'},\n",
       "    'environment': {'tempLocation': 'gs://tmp_xqhu/temp/'}},\n",
       "   'location': 'us-central1'}},\n",
       " 'scheduleInfo': {'schedule': '40 20 * * *',\n",
       "  'timeZone': 'America/New_York',\n",
       "  'nextJobTime': '2023-02-12T01:40:00.098290Z'},\n",
       " 'jobCount': 91}"
      ]
     },
     "execution_count": 14,
     "metadata": {},
     "output_type": "execute_result"
    }
   ],
   "source": [
    "dps[0]._api_results"
   ]
  },
  {
   "cell_type": "code",
   "execution_count": 15,
   "id": "e52383af",
   "metadata": {},
   "outputs": [],
   "source": [
    "# create a new data pipeline using the data pipeline builder\n",
    "from df import options as op\n",
    "word_count_dp = op.WordCountDataPipeline(short_name=\"test-xqhu-word-count-2\",\n",
    "    input_file=\"gs://dataflow-samples/shakespeare/kinglear.txt\",\n",
    "    output_file=\"gs://pydf_test_bucket/results/output\",\n",
    "    temp_location=\"gs://pydf_test_bucket/results\")\n"
   ]
  },
  {
   "cell_type": "code",
   "execution_count": 16,
   "id": "5df8d08d",
   "metadata": {},
   "outputs": [
    {
     "data": {
      "text/plain": [
       "WordCountDataPipeline(short_name='test-xqhu-word-count-2', scheduler='15 * * * *', time_zone='America/New_York', name=None, display_name='test-xqhu-word-count-2', type=None, state=None, gcs_path='gs://dataflow-templates/latest/Word_Count', input_file='gs://dataflow-samples/shakespeare/kinglear.txt', output_file='gs://pydf_test_bucket/results/output', temp_location='gs://pydf_test_bucket/results')"
      ]
     },
     "execution_count": 16,
     "metadata": {},
     "output_type": "execute_result"
    }
   ],
   "source": [
    "word_count_dp"
   ]
  },
  {
   "cell_type": "code",
   "execution_count": 17,
   "id": "9b0d9c29",
   "metadata": {},
   "outputs": [
    {
     "data": {
      "text/plain": [
       "{'name': 'projects/manav-jit-test/locations/us-central1/pipelines/test-xqhu-word-count-2',\n",
       " 'displayName': 'test-xqhu-word-count-2',\n",
       " 'type': 'PIPELINE_TYPE_BATCH',\n",
       " 'workload': {'dataflowLaunchTemplateRequest': {'projectId': 'manav-jit-test',\n",
       "   'gcsPath': 'gs://dataflow-templates/latest/Word_Count',\n",
       "   'launchParameters': {'jobName': 'test-xqhu-word-count-2',\n",
       "    'parameters': {'output': 'gs://pydf_test_bucket/results/output',\n",
       "     'inputFile': 'gs://dataflow-samples/shakespeare/kinglear.txt'},\n",
       "    'environment': {'tempLocation': 'gs://pydf_test_bucket/results'}},\n",
       "   'location': 'us-central1'}},\n",
       " 'scheduleInfo': {'schedule': '15 * * * *', 'timeZone': 'America/New_York'}}"
      ]
     },
     "execution_count": 17,
     "metadata": {},
     "output_type": "execute_result"
    }
   ],
   "source": [
    "# the payload body for the create API\n",
    "word_count_dp.body(dw)"
   ]
  },
  {
   "cell_type": "code",
   "execution_count": 18,
   "id": "d7e4e822",
   "metadata": {},
   "outputs": [],
   "source": [
    "new_dp = dw.create_data_pipeline(word_count_dp)"
   ]
  },
  {
   "cell_type": "code",
   "execution_count": 19,
   "id": "d5b5af38",
   "metadata": {},
   "outputs": [
    {
     "data": {
      "text/plain": [
       "{'name': 'projects/manav-jit-test/locations/us-central1/pipelines/test-xqhu-word-count-2',\n",
       " 'displayName': 'test-xqhu-word-count-2',\n",
       " 'type': 'PIPELINE_TYPE_BATCH',\n",
       " 'state': 'STATE_ACTIVE',\n",
       " 'createTime': '2023-02-11T15:13:11.940683Z',\n",
       " 'lastUpdateTime': '2023-02-11T15:13:11.940683Z',\n",
       " 'workload': {'dataflowLaunchTemplateRequest': {'projectId': 'manav-jit-test',\n",
       "   'gcsPath': 'gs://dataflow-templates/latest/Word_Count',\n",
       "   'launchParameters': {'jobName': 'test-xqhu-word-count-2',\n",
       "    'parameters': {'output': 'gs://pydf_test_bucket/results/output',\n",
       "     'inputFile': 'gs://dataflow-samples/shakespeare/kinglear.txt'},\n",
       "    'environment': {'tempLocation': 'gs://pydf_test_bucket/results'}},\n",
       "   'location': 'us-central1'}},\n",
       " 'scheduleInfo': {'schedule': '15 * * * *',\n",
       "  'timeZone': 'America/New_York',\n",
       "  'nextJobTime': '1970-01-01T00:00:00Z'}}"
      ]
     },
     "execution_count": 19,
     "metadata": {},
     "output_type": "execute_result"
    }
   ],
   "source": [
    "new_dp.raw_results"
   ]
  },
  {
   "cell_type": "code",
   "execution_count": 20,
   "id": "8df3bc8e",
   "metadata": {},
   "outputs": [],
   "source": [
    "# remove this data pipeline\n",
    "new_dp.delete()"
   ]
  },
  {
   "cell_type": "code",
   "execution_count": null,
   "id": "a4f7a961",
   "metadata": {},
   "outputs": [],
   "source": []
  }
 ],
 "metadata": {
  "kernelspec": {
   "display_name": "Python 3.9.13 ('venv': venv)",
   "language": "python",
   "name": "python3"
  },
  "language_info": {
   "codemirror_mode": {
    "name": "ipython",
    "version": 3
   },
   "file_extension": ".py",
   "mimetype": "text/x-python",
   "name": "python",
   "nbconvert_exporter": "python",
   "pygments_lexer": "ipython3",
   "version": "3.9.13"
  },
  "vscode": {
   "interpreter": {
    "hash": "6f737920f730edbd29bf5d9c00b412287b0c2b244b77025b95628ee3d308af8f"
   }
  }
 },
 "nbformat": 4,
 "nbformat_minor": 5
}
