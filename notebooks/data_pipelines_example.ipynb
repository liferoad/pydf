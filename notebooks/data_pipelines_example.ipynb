{
 "cells": [
  {
   "cell_type": "code",
   "execution_count": null,
   "id": "81868215-7f83-4c0e-a93c-f0c50974267f",
   "metadata": {},
   "outputs": [],
   "source": [
    "import apache_beam as beam"
   ]
  },
  {
   "cell_type": "code",
   "execution_count": null,
   "id": "58fdf4e5",
   "metadata": {},
   "outputs": [],
   "source": [
    "import sys  \n",
    "sys.path.insert(0, \"../\")"
   ]
  },
  {
   "cell_type": "code",
   "execution_count": null,
   "id": "7d19f348-7674-4a0b-b964-2dee579b33fa",
   "metadata": {},
   "outputs": [],
   "source": [
    "! which python"
   ]
  },
  {
   "cell_type": "code",
   "execution_count": null,
   "id": "4bf43415-9d70-4c47-bd48-83602781a83e",
   "metadata": {},
   "outputs": [],
   "source": [
    "! gcloud auth list"
   ]
  },
  {
   "cell_type": "code",
   "execution_count": null,
   "id": "1edaad07-3118-4504-bedb-3f18a26e90ed",
   "metadata": {},
   "outputs": [],
   "source": [
    "from google.oauth2 import service_account"
   ]
  },
  {
   "cell_type": "code",
   "execution_count": null,
   "id": "f729f320-6ecd-4ed1-8812-6e9458997643",
   "metadata": {},
   "outputs": [],
   "source": [
    "service_account_file = \"google.com_data-pipelines-testing-0c88351daab9.json\"\n",
    "credentials = service_account.Credentials.from_service_account_file(\n",
    "      service_account_file, scopes=['https://www.googleapis.com/auth/cloud-platform'])"
   ]
  },
  {
   "cell_type": "code",
   "execution_count": null,
   "id": "9cec0552-4ab6-420c-be9b-5d1e4345c68e",
   "metadata": {},
   "outputs": [],
   "source": [
    "from googleapiclient.discovery import build\n",
    "dp_service = build(\"datapipelines\", \"v1\", credentials=credentials, cache_discovery=False)"
   ]
  },
  {
   "cell_type": "code",
   "execution_count": null,
   "id": "f4913ea6-55bd-4598-bbf7-d00e1b5fa491",
   "metadata": {},
   "outputs": [],
   "source": [
    "dp_service.projects().locations().listPipelines(parent=\"projects/manav-jit-test/locations/us-central1\").execute()"
   ]
  },
  {
   "cell_type": "code",
   "execution_count": null,
   "id": "e8000f7f-c42d-47ec-a728-acb4b4c380cb",
   "metadata": {},
   "outputs": [],
   "source": [
    "from df import models as dm"
   ]
  },
  {
   "cell_type": "code",
   "execution_count": null,
   "id": "59640ca0-ee32-4fc3-9188-1cc28b6a7b91",
   "metadata": {},
   "outputs": [],
   "source": [
    "dm.Job(name=\"test\")"
   ]
  },
  {
   "cell_type": "code",
   "execution_count": null,
   "id": "0f2a5c02-6e52-4680-a134-9cad2bcba58d",
   "metadata": {},
   "outputs": [],
   "source": []
  }
 ],
 "metadata": {
  "kernelspec": {
   "display_name": "Python 3.9.13 ('venv': venv)",
   "language": "python",
   "name": "python3"
  },
  "language_info": {
   "codemirror_mode": {
    "name": "ipython",
    "version": 3
   },
   "file_extension": ".py",
   "mimetype": "text/x-python",
   "name": "python",
   "nbconvert_exporter": "python",
   "pygments_lexer": "ipython3",
   "version": "3.9.13"
  },
  "vscode": {
   "interpreter": {
    "hash": "6f737920f730edbd29bf5d9c00b412287b0c2b244b77025b95628ee3d308af8f"
   }
  }
 },
 "nbformat": 4,
 "nbformat_minor": 5
}
