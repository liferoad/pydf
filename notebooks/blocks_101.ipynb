{
 "cells": [
  {
   "cell_type": "code",
   "execution_count": 1,
   "id": "04c79c9c-0de2-4ed1-8582-39b009a5ec4e",
   "metadata": {},
   "outputs": [],
   "source": [
    "%load_ext autoreload\n",
    "%autoreload 2"
   ]
  },
  {
   "cell_type": "code",
   "execution_count": 2,
   "id": "cb40c1ab-baa2-49cd-9031-f3de99b54c10",
   "metadata": {},
   "outputs": [],
   "source": [
    "from df import blocks as blocks"
   ]
  },
  {
   "cell_type": "markdown",
   "id": "86edb753-f355-45d8-9153-489e65f51a51",
   "metadata": {},
   "source": [
    "**Only few pre-defined blocks are supported now but we can add more easily and add even more blocks specifically ML feature engineering**"
   ]
  },
  {
   "cell_type": "markdown",
   "id": "49f15748-2f59-4e7d-9554-926e472f0b6b",
   "metadata": {},
   "source": [
    "# Simple sequential beam model"
   ]
  },
  {
   "cell_type": "code",
   "execution_count": 3,
   "id": "e4a0be0e-061f-40f4-a037-879b375648b8",
   "metadata": {},
   "outputs": [],
   "source": [
    "sentences = ['This framework generates embeddings for each input sentence',\n",
    "    'Sentences are passed as a list of string.', \n",
    "    'The quick brown fox jumps over the lazy dog.']"
   ]
  },
  {
   "cell_type": "code",
   "execution_count": 4,
   "id": "2a405218-c765-49a2-b2eb-7ae659affe9b",
   "metadata": {},
   "outputs": [],
   "source": [
    "create = blocks.CreateBlock(values = sentences)"
   ]
  },
  {
   "cell_type": "code",
   "execution_count": 5,
   "id": "b5f294ca-e1a7-4d9f-9eb9-e2a139bcc9ce",
   "metadata": {},
   "outputs": [
    {
     "data": {
      "text/plain": [
       "<Create(PTransform) label=[Create] at 0x29214e5b0>"
      ]
     },
     "execution_count": 5,
     "metadata": {},
     "output_type": "execute_result"
    }
   ],
   "source": [
    "create.operation"
   ]
  },
  {
   "cell_type": "code",
   "execution_count": 6,
   "id": "0f7e2181-81b4-47ad-9b41-abfefaf09dee",
   "metadata": {},
   "outputs": [
    {
     "data": {
      "text/plain": [
       "CreateBlock(block_type='Create', block_id=UUID('a543dc34-e452-4a28-b63f-f3b1b0eec0ee'), source_ids=[], target_ids=[], operation=<Create(PTransform) label=[Create] at 0x29214e5b0>, o=None, values=['This framework generates embeddings for each input sentence', 'Sentences are passed as a list of string.', 'The quick brown fox jumps over the lazy dog.'])"
      ]
     },
     "execution_count": 6,
     "metadata": {},
     "output_type": "execute_result"
    }
   ],
   "source": [
    "create"
   ]
  },
  {
   "cell_type": "code",
   "execution_count": 7,
   "id": "58d3f758-6929-4670-be73-256b7c1f28a4",
   "metadata": {},
   "outputs": [],
   "source": [
    "embed = blocks.SentenceEmbeddingBlock()"
   ]
  },
  {
   "cell_type": "code",
   "execution_count": 8,
   "id": "a7e2e372-8fec-4228-9cc1-4d48a7eefd23",
   "metadata": {},
   "outputs": [
    {
     "data": {
      "text/plain": [
       "'all-MiniLM-L6-v2'"
      ]
     },
     "execution_count": 8,
     "metadata": {},
     "output_type": "execute_result"
    }
   ],
   "source": [
    "embed.model_name"
   ]
  },
  {
   "cell_type": "code",
   "execution_count": 9,
   "id": "7ca529fc-4103-45a4-b8e6-4dea937806b5",
   "metadata": {},
   "outputs": [
    {
     "data": {
      "text/plain": [
       "<ParDo(PTransform) label=[Map(<lambda at blocks.py:100>)] at 0x292183100>"
      ]
     },
     "execution_count": 9,
     "metadata": {},
     "output_type": "execute_result"
    }
   ],
   "source": [
    "embed.operation"
   ]
  },
  {
   "cell_type": "code",
   "execution_count": 10,
   "id": "20a76956-cee8-4ad4-8964-f11344b62ae6",
   "metadata": {},
   "outputs": [],
   "source": [
    "model = blocks.BlockAssembler.Sequential([create, embed])"
   ]
  },
  {
   "cell_type": "code",
   "execution_count": 11,
   "id": "9c70096a-5fdd-45b1-8b1c-825f92eb7d07",
   "metadata": {},
   "outputs": [
    {
     "data": {
      "application/javascript": [
       "\n",
       "        if (typeof window.interactive_beam_jquery == 'undefined') {\n",
       "          var jqueryScript = document.createElement('script');\n",
       "          jqueryScript.src = 'https://code.jquery.com/jquery-3.4.1.slim.min.js';\n",
       "          jqueryScript.type = 'text/javascript';\n",
       "          jqueryScript.onload = function() {\n",
       "            var datatableScript = document.createElement('script');\n",
       "            datatableScript.src = 'https://cdn.datatables.net/1.10.20/js/jquery.dataTables.min.js';\n",
       "            datatableScript.type = 'text/javascript';\n",
       "            datatableScript.onload = function() {\n",
       "              window.interactive_beam_jquery = jQuery.noConflict(true);\n",
       "              window.interactive_beam_jquery(document).ready(function($){\n",
       "                \n",
       "              });\n",
       "            }\n",
       "            document.head.appendChild(datatableScript);\n",
       "          };\n",
       "          document.head.appendChild(jqueryScript);\n",
       "        } else {\n",
       "          window.interactive_beam_jquery(document).ready(function($){\n",
       "            \n",
       "          });\n",
       "        }"
      ]
     },
     "metadata": {},
     "output_type": "display_data"
    }
   ],
   "source": [
    "model.compile()"
   ]
  },
  {
   "cell_type": "code",
   "execution_count": 12,
   "id": "4ee2e711-935e-4181-89a6-950bd9ae92b1",
   "metadata": {},
   "outputs": [
    {
     "data": {
      "text/plain": [
       "2"
      ]
     },
     "execution_count": 12,
     "metadata": {},
     "output_type": "execute_result"
    }
   ],
   "source": [
    "len(model.blocks)"
   ]
  },
  {
   "cell_type": "code",
   "execution_count": 13,
   "id": "865585bc-abcb-487b-82a4-2a01df0ec89b",
   "metadata": {},
   "outputs": [
    {
     "data": {
      "text/html": [
       "\n",
       "            <link rel=\"stylesheet\" href=\"https://stackpath.bootstrapcdn.com/bootstrap/4.4.1/css/bootstrap.min.css\" integrity=\"sha384-Vkoo8x4CGsO3+Hhxv8T/Q5PaXtkKtu6ug5TOeNV6gBiFeWPGFN9MuhOf23Q9Ifjh\" crossorigin=\"anonymous\">\n",
       "            <div id=\"progress_indicator_443edf8957a8f7fd1dfe7850c1cc1f4e\">\n",
       "              <div class=\"spinner-border text-info\" role=\"status\"></div>\n",
       "              <span class=\"text-info\">Processing... show_graph</span>\n",
       "            </div>\n",
       "            "
      ],
      "text/plain": [
       "<IPython.core.display.HTML object>"
      ]
     },
     "metadata": {},
     "output_type": "display_data"
    },
    {
     "name": "stdout",
     "output_type": "stream",
     "text": [
      "/Users/xqhu/homebrew/bin/dot\n"
     ]
    },
    {
     "data": {
      "text/html": [
       "<?xml version=\"1.0\" encoding=\"UTF-8\" standalone=\"no\"?>\n",
       "<!DOCTYPE svg PUBLIC \"-//W3C//DTD SVG 1.1//EN\"\n",
       " \"http://www.w3.org/Graphics/SVG/1.1/DTD/svg11.dtd\">\n",
       "<!-- Generated by graphviz version 7.0.5 (20221223.1930)\n",
       " -->\n",
       "<!-- Title: G Pages: 1 -->\n",
       "<svg width=\"375pt\" height=\"260pt\"\n",
       " viewBox=\"0.00 0.00 375.00 260.00\" xmlns=\"http://www.w3.org/2000/svg\" xmlns:xlink=\"http://www.w3.org/1999/xlink\">\n",
       "<g id=\"graph0\" class=\"graph\" transform=\"scale(1 1) rotate(0) translate(4 256)\">\n",
       "<title>G</title>\n",
       "<polygon fill=\"white\" stroke=\"none\" points=\"-4,4 -4,-256 371,-256 371,4 -4,4\"/>\n",
       "<!-- Create &#45; a543dc34&#45;e452&#45;4a28&#45;b63f&#45;f3b1b0eec0ee -->\n",
       "<g id=\"node1\" class=\"node\">\n",
       "<title>Create &#45; a543dc34&#45;e452&#45;4a28&#45;b63f&#45;f3b1b0eec0ee</title>\n",
       "<polygon fill=\"none\" stroke=\"blue\" points=\"327,-252 40,-252 40,-216 327,-216 327,-252\"/>\n",
       "<text text-anchor=\"middle\" x=\"183.5\" y=\"-230.3\" font-family=\"Times,serif\" font-size=\"14.00\" fill=\"blue\">Create &#45; a543dc34&#45;e452&#45;4a28&#45;b63f&#45;f3b1b0eec0ee</text>\n",
       "</g>\n",
       "<!-- pcoll181 -->\n",
       "<g id=\"node2\" class=\"node\">\n",
       "<title>pcoll181</title>\n",
       "<ellipse fill=\"none\" stroke=\"blue\" cx=\"183.5\" cy=\"-162\" rx=\"18\" ry=\"18\"/>\n",
       "</g>\n",
       "<!-- Create &#45; a543dc34&#45;e452&#45;4a28&#45;b63f&#45;f3b1b0eec0ee&#45;&gt;pcoll181 -->\n",
       "<g id=\"edge1\" class=\"edge\">\n",
       "<title>Create &#45; a543dc34&#45;e452&#45;4a28&#45;b63f&#45;f3b1b0eec0ee&#45;&gt;pcoll181</title>\n",
       "<path fill=\"none\" stroke=\"black\" d=\"M183.5,-215.7C183.5,-208.41 183.5,-199.73 183.5,-191.54\"/>\n",
       "<polygon fill=\"black\" stroke=\"black\" points=\"187,-191.62 183.5,-181.62 180,-191.62 187,-191.62\"/>\n",
       "</g>\n",
       "<!-- SentenceEmbedding &#45; efb33448&#45;a2b7&#45;4d5a&#45;a253&#45;cd9c87d533be -->\n",
       "<g id=\"node3\" class=\"node\">\n",
       "<title>SentenceEmbedding &#45; efb33448&#45;a2b7&#45;4d5a&#45;a253&#45;cd9c87d533be</title>\n",
       "<polygon fill=\"none\" stroke=\"blue\" points=\"367,-108 0,-108 0,-72 367,-72 367,-108\"/>\n",
       "<text text-anchor=\"middle\" x=\"183.5\" y=\"-86.3\" font-family=\"Times,serif\" font-size=\"14.00\" fill=\"blue\">SentenceEmbedding &#45; efb33448&#45;a2b7&#45;4d5a&#45;a253&#45;cd9c87d533be</text>\n",
       "</g>\n",
       "<!-- pcoll181&#45;&gt;SentenceEmbedding &#45; efb33448&#45;a2b7&#45;4d5a&#45;a253&#45;cd9c87d533be -->\n",
       "<g id=\"edge2\" class=\"edge\">\n",
       "<title>pcoll181&#45;&gt;SentenceEmbedding &#45; efb33448&#45;a2b7&#45;4d5a&#45;a253&#45;cd9c87d533be</title>\n",
       "<path fill=\"none\" stroke=\"black\" d=\"M183.5,-143.7C183.5,-136.41 183.5,-127.73 183.5,-119.54\"/>\n",
       "<polygon fill=\"black\" stroke=\"black\" points=\"187,-119.62 183.5,-109.62 180,-119.62 187,-119.62\"/>\n",
       "</g>\n",
       "<!-- pcoll6652 -->\n",
       "<g id=\"node4\" class=\"node\">\n",
       "<title>pcoll6652</title>\n",
       "<ellipse fill=\"none\" stroke=\"blue\" cx=\"183.5\" cy=\"-18\" rx=\"18\" ry=\"18\"/>\n",
       "</g>\n",
       "<!-- SentenceEmbedding &#45; efb33448&#45;a2b7&#45;4d5a&#45;a253&#45;cd9c87d533be&#45;&gt;pcoll6652 -->\n",
       "<g id=\"edge3\" class=\"edge\">\n",
       "<title>SentenceEmbedding &#45; efb33448&#45;a2b7&#45;4d5a&#45;a253&#45;cd9c87d533be&#45;&gt;pcoll6652</title>\n",
       "<path fill=\"none\" stroke=\"black\" d=\"M183.5,-71.7C183.5,-64.41 183.5,-55.73 183.5,-47.54\"/>\n",
       "<polygon fill=\"black\" stroke=\"black\" points=\"187,-47.62 183.5,-37.62 180,-47.62 187,-47.62\"/>\n",
       "</g>\n",
       "</g>\n",
       "</svg>\n"
      ],
      "text/plain": [
       "<IPython.core.display.HTML object>"
      ]
     },
     "metadata": {},
     "output_type": "display_data"
    },
    {
     "data": {
      "application/javascript": [
       "\n",
       "        if (typeof window.interactive_beam_jquery == 'undefined') {\n",
       "          var jqueryScript = document.createElement('script');\n",
       "          jqueryScript.src = 'https://code.jquery.com/jquery-3.4.1.slim.min.js';\n",
       "          jqueryScript.type = 'text/javascript';\n",
       "          jqueryScript.onload = function() {\n",
       "            var datatableScript = document.createElement('script');\n",
       "            datatableScript.src = 'https://cdn.datatables.net/1.10.20/js/jquery.dataTables.min.js';\n",
       "            datatableScript.type = 'text/javascript';\n",
       "            datatableScript.onload = function() {\n",
       "              window.interactive_beam_jquery = jQuery.noConflict(true);\n",
       "              window.interactive_beam_jquery(document).ready(function($){\n",
       "                \n",
       "            $(\"#progress_indicator_443edf8957a8f7fd1dfe7850c1cc1f4e\").remove();\n",
       "              });\n",
       "            }\n",
       "            document.head.appendChild(datatableScript);\n",
       "          };\n",
       "          document.head.appendChild(jqueryScript);\n",
       "        } else {\n",
       "          window.interactive_beam_jquery(document).ready(function($){\n",
       "            \n",
       "            $(\"#progress_indicator_443edf8957a8f7fd1dfe7850c1cc1f4e\").remove();\n",
       "          });\n",
       "        }"
      ]
     },
     "metadata": {},
     "output_type": "display_data"
    }
   ],
   "source": [
    "model.show_graph()"
   ]
  },
  {
   "cell_type": "code",
   "execution_count": 14,
   "id": "113e09c6-177d-4314-80ba-21d7d58c1bec",
   "metadata": {},
   "outputs": [
    {
     "data": {
      "text/html": [
       "\n",
       "            <link rel=\"stylesheet\" href=\"https://stackpath.bootstrapcdn.com/bootstrap/4.4.1/css/bootstrap.min.css\" integrity=\"sha384-Vkoo8x4CGsO3+Hhxv8T/Q5PaXtkKtu6ug5TOeNV6gBiFeWPGFN9MuhOf23Q9Ifjh\" crossorigin=\"anonymous\">\n",
       "            <div id=\"progress_indicator_eec40ad84af93f6e5837663cd9f0857f\">\n",
       "              <div class=\"spinner-border text-info\" role=\"status\"></div>\n",
       "              <span class=\"text-info\">Processing... collect</span>\n",
       "            </div>\n",
       "            "
      ],
      "text/plain": [
       "<IPython.core.display.HTML object>"
      ]
     },
     "metadata": {},
     "output_type": "display_data"
    },
    {
     "data": {
      "application/javascript": [
       "\n",
       "        if (typeof window.interactive_beam_jquery == 'undefined') {\n",
       "          var jqueryScript = document.createElement('script');\n",
       "          jqueryScript.src = 'https://code.jquery.com/jquery-3.4.1.slim.min.js';\n",
       "          jqueryScript.type = 'text/javascript';\n",
       "          jqueryScript.onload = function() {\n",
       "            var datatableScript = document.createElement('script');\n",
       "            datatableScript.src = 'https://cdn.datatables.net/1.10.20/js/jquery.dataTables.min.js';\n",
       "            datatableScript.type = 'text/javascript';\n",
       "            datatableScript.onload = function() {\n",
       "              window.interactive_beam_jquery = jQuery.noConflict(true);\n",
       "              window.interactive_beam_jquery(document).ready(function($){\n",
       "                \n",
       "            $(\"#progress_indicator_eec40ad84af93f6e5837663cd9f0857f\").remove();\n",
       "              });\n",
       "            }\n",
       "            document.head.appendChild(datatableScript);\n",
       "          };\n",
       "          document.head.appendChild(jqueryScript);\n",
       "        } else {\n",
       "          window.interactive_beam_jquery(document).ready(function($){\n",
       "            \n",
       "            $(\"#progress_indicator_eec40ad84af93f6e5837663cd9f0857f\").remove();\n",
       "          });\n",
       "        }"
      ]
     },
     "metadata": {},
     "output_type": "display_data"
    },
    {
     "data": {
      "text/html": [
       "<div>\n",
       "<style scoped>\n",
       "    .dataframe tbody tr th:only-of-type {\n",
       "        vertical-align: middle;\n",
       "    }\n",
       "\n",
       "    .dataframe tbody tr th {\n",
       "        vertical-align: top;\n",
       "    }\n",
       "\n",
       "    .dataframe thead th {\n",
       "        text-align: right;\n",
       "    }\n",
       "</style>\n",
       "<table border=\"1\" class=\"dataframe\">\n",
       "  <thead>\n",
       "    <tr style=\"text-align: right;\">\n",
       "      <th></th>\n",
       "      <th>0</th>\n",
       "    </tr>\n",
       "  </thead>\n",
       "  <tbody>\n",
       "    <tr>\n",
       "      <th>0</th>\n",
       "      <td>This framework generates embeddings for each i...</td>\n",
       "    </tr>\n",
       "    <tr>\n",
       "      <th>1</th>\n",
       "      <td>Sentences are passed as a list of string.</td>\n",
       "    </tr>\n",
       "    <tr>\n",
       "      <th>2</th>\n",
       "      <td>The quick brown fox jumps over the lazy dog.</td>\n",
       "    </tr>\n",
       "  </tbody>\n",
       "</table>\n",
       "</div>"
      ],
      "text/plain": [
       "                                                   0\n",
       "0  This framework generates embeddings for each i...\n",
       "1          Sentences are passed as a list of string.\n",
       "2       The quick brown fox jumps over the lazy dog."
      ]
     },
     "execution_count": 14,
     "metadata": {},
     "output_type": "execute_result"
    }
   ],
   "source": [
    "model.block_data(model.blocks[0])"
   ]
  },
  {
   "cell_type": "code",
   "execution_count": 15,
   "id": "808cfc4d-de90-4ed4-9f48-6d28c01fb89d",
   "metadata": {},
   "outputs": [
    {
     "data": {
      "text/html": [
       "\n",
       "            <link rel=\"stylesheet\" href=\"https://stackpath.bootstrapcdn.com/bootstrap/4.4.1/css/bootstrap.min.css\" integrity=\"sha384-Vkoo8x4CGsO3+Hhxv8T/Q5PaXtkKtu6ug5TOeNV6gBiFeWPGFN9MuhOf23Q9Ifjh\" crossorigin=\"anonymous\">\n",
       "            <div id=\"progress_indicator_3ebf65459087d2e7108e425673670419\">\n",
       "              <div class=\"spinner-border text-info\" role=\"status\"></div>\n",
       "              <span class=\"text-info\">Processing... collect</span>\n",
       "            </div>\n",
       "            "
      ],
      "text/plain": [
       "<IPython.core.display.HTML object>"
      ]
     },
     "metadata": {},
     "output_type": "display_data"
    },
    {
     "data": {
      "application/javascript": [
       "\n",
       "        if (typeof window.interactive_beam_jquery == 'undefined') {\n",
       "          var jqueryScript = document.createElement('script');\n",
       "          jqueryScript.src = 'https://code.jquery.com/jquery-3.4.1.slim.min.js';\n",
       "          jqueryScript.type = 'text/javascript';\n",
       "          jqueryScript.onload = function() {\n",
       "            var datatableScript = document.createElement('script');\n",
       "            datatableScript.src = 'https://cdn.datatables.net/1.10.20/js/jquery.dataTables.min.js';\n",
       "            datatableScript.type = 'text/javascript';\n",
       "            datatableScript.onload = function() {\n",
       "              window.interactive_beam_jquery = jQuery.noConflict(true);\n",
       "              window.interactive_beam_jquery(document).ready(function($){\n",
       "                \n",
       "            $(\"#progress_indicator_3ebf65459087d2e7108e425673670419\").remove();\n",
       "              });\n",
       "            }\n",
       "            document.head.appendChild(datatableScript);\n",
       "          };\n",
       "          document.head.appendChild(jqueryScript);\n",
       "        } else {\n",
       "          window.interactive_beam_jquery(document).ready(function($){\n",
       "            \n",
       "            $(\"#progress_indicator_3ebf65459087d2e7108e425673670419\").remove();\n",
       "          });\n",
       "        }"
      ]
     },
     "metadata": {},
     "output_type": "display_data"
    },
    {
     "data": {
      "text/html": [
       "<div>\n",
       "<style scoped>\n",
       "    .dataframe tbody tr th:only-of-type {\n",
       "        vertical-align: middle;\n",
       "    }\n",
       "\n",
       "    .dataframe tbody tr th {\n",
       "        vertical-align: top;\n",
       "    }\n",
       "\n",
       "    .dataframe thead th {\n",
       "        text-align: right;\n",
       "    }\n",
       "</style>\n",
       "<table border=\"1\" class=\"dataframe\">\n",
       "  <thead>\n",
       "    <tr style=\"text-align: right;\">\n",
       "      <th></th>\n",
       "      <th>0</th>\n",
       "    </tr>\n",
       "  </thead>\n",
       "  <tbody>\n",
       "    <tr>\n",
       "      <th>0</th>\n",
       "      <td>[-0.013717398, -0.042851556, -0.01562865, 0.01...</td>\n",
       "    </tr>\n",
       "    <tr>\n",
       "      <th>1</th>\n",
       "      <td>[0.0564525, 0.05500244, 0.031379532, 0.0339484...</td>\n",
       "    </tr>\n",
       "    <tr>\n",
       "      <th>2</th>\n",
       "      <td>[0.043933515, 0.05893439, 0.04817844, 0.077548...</td>\n",
       "    </tr>\n",
       "  </tbody>\n",
       "</table>\n",
       "</div>"
      ],
      "text/plain": [
       "                                                   0\n",
       "0  [-0.013717398, -0.042851556, -0.01562865, 0.01...\n",
       "1  [0.0564525, 0.05500244, 0.031379532, 0.0339484...\n",
       "2  [0.043933515, 0.05893439, 0.04817844, 0.077548..."
      ]
     },
     "execution_count": 15,
     "metadata": {},
     "output_type": "execute_result"
    }
   ],
   "source": [
    "model.block_data(model.blocks[1])"
   ]
  },
  {
   "cell_type": "code",
   "execution_count": 16,
   "id": "b3723bb0-312f-4f8c-8152-18093a43161c",
   "metadata": {},
   "outputs": [
    {
     "data": {
      "text/plain": [
       "'{\"block_type\": \"SentenceEmbedding\", \"block_id\": \"efb33448-a2b7-4d5a-a253-cd9c87d533be\", \"source_ids\": [\"a543dc34-e452-4a28-b63f-f3b1b0eec0ee\"], \"target_ids\": [], \"model_name\": \"all-MiniLM-L6-v2\"}'"
      ]
     },
     "execution_count": 16,
     "metadata": {},
     "output_type": "execute_result"
    }
   ],
   "source": [
    "model.blocks[1].json(exclude={\"operation\", \"o\"})"
   ]
  },
  {
   "cell_type": "markdown",
   "id": "91597325-102a-46c1-92f0-d9df0e52d188",
   "metadata": {},
   "source": [
    "# Support the json config"
   ]
  },
  {
   "cell_type": "code",
   "execution_count": 17,
   "id": "0f78d865-3aa0-47a5-99ff-71d551a2d8d9",
   "metadata": {},
   "outputs": [],
   "source": [
    "model_in_json = model.to_json(indent=2)"
   ]
  },
  {
   "cell_type": "code",
   "execution_count": 18,
   "id": "b9766958-ee94-4860-b03f-76996689e1c9",
   "metadata": {},
   "outputs": [
    {
     "name": "stdout",
     "output_type": "stream",
     "text": [
      "{\n",
      "  \"blocks\": [\n",
      "    {\n",
      "      \"block_type\": \"Create\",\n",
      "      \"block_id\": \"a543dc34-e452-4a28-b63f-f3b1b0eec0ee\",\n",
      "      \"source_ids\": [],\n",
      "      \"target_ids\": [\n",
      "        \"efb33448-a2b7-4d5a-a253-cd9c87d533be\"\n",
      "      ],\n",
      "      \"values\": [\n",
      "        \"This framework generates embeddings for each input sentence\",\n",
      "        \"Sentences are passed as a list of string.\",\n",
      "        \"The quick brown fox jumps over the lazy dog.\"\n",
      "      ]\n",
      "    },\n",
      "    {\n",
      "      \"block_type\": \"SentenceEmbedding\",\n",
      "      \"block_id\": \"efb33448-a2b7-4d5a-a253-cd9c87d533be\",\n",
      "      \"source_ids\": [\n",
      "        \"a543dc34-e452-4a28-b63f-f3b1b0eec0ee\"\n",
      "      ],\n",
      "      \"target_ids\": [],\n",
      "      \"model_name\": \"all-MiniLM-L6-v2\"\n",
      "    }\n",
      "  ],\n",
      "  \"model_type\": \"SEQUENTIAL\"\n",
      "}\n"
     ]
    }
   ],
   "source": [
    "print(model_in_json)"
   ]
  },
  {
   "cell_type": "code",
   "execution_count": 19,
   "id": "45837cb7-a917-4b9c-8234-6d20b0450747",
   "metadata": {},
   "outputs": [],
   "source": [
    "new_model = blocks.BlockAssembler.from_json(model_in_json)"
   ]
  },
  {
   "cell_type": "code",
   "execution_count": 20,
   "id": "ca4a8802-11ea-42a7-8c55-db5467221100",
   "metadata": {},
   "outputs": [],
   "source": [
    "new_model.compile()"
   ]
  },
  {
   "cell_type": "code",
   "execution_count": 21,
   "id": "d34b4c05-b557-4c11-8511-7a19fdcdbcc0",
   "metadata": {},
   "outputs": [
    {
     "data": {
      "text/html": [
       "\n",
       "            <link rel=\"stylesheet\" href=\"https://stackpath.bootstrapcdn.com/bootstrap/4.4.1/css/bootstrap.min.css\" integrity=\"sha384-Vkoo8x4CGsO3+Hhxv8T/Q5PaXtkKtu6ug5TOeNV6gBiFeWPGFN9MuhOf23Q9Ifjh\" crossorigin=\"anonymous\">\n",
       "            <div id=\"progress_indicator_ad12a89b08ec9c269fc4bd5ce6040c8a\">\n",
       "              <div class=\"spinner-border text-info\" role=\"status\"></div>\n",
       "              <span class=\"text-info\">Processing... show_graph</span>\n",
       "            </div>\n",
       "            "
      ],
      "text/plain": [
       "<IPython.core.display.HTML object>"
      ]
     },
     "metadata": {},
     "output_type": "display_data"
    },
    {
     "name": "stdout",
     "output_type": "stream",
     "text": [
      "huggingface/tokenizers: The current process just got forked, after parallelism has already been used. Disabling parallelism to avoid deadlocks...\n",
      "To disable this warning, you can either:\n",
      "\t- Avoid using `tokenizers` before the fork if possible\n",
      "\t- Explicitly set the environment variable TOKENIZERS_PARALLELISM=(true | false)\n",
      "/Users/xqhu/homebrew/bin/dot\n",
      "huggingface/tokenizers: The current process just got forked, after parallelism has already been used. Disabling parallelism to avoid deadlocks...\n",
      "To disable this warning, you can either:\n",
      "\t- Avoid using `tokenizers` before the fork if possible\n",
      "\t- Explicitly set the environment variable TOKENIZERS_PARALLELISM=(true | false)\n"
     ]
    },
    {
     "data": {
      "text/html": [
       "<?xml version=\"1.0\" encoding=\"UTF-8\" standalone=\"no\"?>\n",
       "<!DOCTYPE svg PUBLIC \"-//W3C//DTD SVG 1.1//EN\"\n",
       " \"http://www.w3.org/Graphics/SVG/1.1/DTD/svg11.dtd\">\n",
       "<!-- Generated by graphviz version 7.0.5 (20221223.1930)\n",
       " -->\n",
       "<!-- Title: G Pages: 1 -->\n",
       "<svg width=\"375pt\" height=\"260pt\"\n",
       " viewBox=\"0.00 0.00 375.00 260.00\" xmlns=\"http://www.w3.org/2000/svg\" xmlns:xlink=\"http://www.w3.org/1999/xlink\">\n",
       "<g id=\"graph0\" class=\"graph\" transform=\"scale(1 1) rotate(0) translate(4 256)\">\n",
       "<title>G</title>\n",
       "<polygon fill=\"white\" stroke=\"none\" points=\"-4,4 -4,-256 371,-256 371,4 -4,4\"/>\n",
       "<!-- Create &#45; a543dc34&#45;e452&#45;4a28&#45;b63f&#45;f3b1b0eec0ee -->\n",
       "<g id=\"node1\" class=\"node\">\n",
       "<title>Create &#45; a543dc34&#45;e452&#45;4a28&#45;b63f&#45;f3b1b0eec0ee</title>\n",
       "<polygon fill=\"none\" stroke=\"blue\" points=\"327,-252 40,-252 40,-216 327,-216 327,-252\"/>\n",
       "<text text-anchor=\"middle\" x=\"183.5\" y=\"-230.3\" font-family=\"Times,serif\" font-size=\"14.00\" fill=\"blue\">Create &#45; a543dc34&#45;e452&#45;4a28&#45;b63f&#45;f3b1b0eec0ee</text>\n",
       "</g>\n",
       "<!-- pcoll181 -->\n",
       "<g id=\"node2\" class=\"node\">\n",
       "<title>pcoll181</title>\n",
       "<ellipse fill=\"none\" stroke=\"blue\" cx=\"183.5\" cy=\"-162\" rx=\"18\" ry=\"18\"/>\n",
       "</g>\n",
       "<!-- Create &#45; a543dc34&#45;e452&#45;4a28&#45;b63f&#45;f3b1b0eec0ee&#45;&gt;pcoll181 -->\n",
       "<g id=\"edge1\" class=\"edge\">\n",
       "<title>Create &#45; a543dc34&#45;e452&#45;4a28&#45;b63f&#45;f3b1b0eec0ee&#45;&gt;pcoll181</title>\n",
       "<path fill=\"none\" stroke=\"black\" d=\"M183.5,-215.7C183.5,-208.41 183.5,-199.73 183.5,-191.54\"/>\n",
       "<polygon fill=\"black\" stroke=\"black\" points=\"187,-191.62 183.5,-181.62 180,-191.62 187,-191.62\"/>\n",
       "</g>\n",
       "<!-- SentenceEmbedding &#45; efb33448&#45;a2b7&#45;4d5a&#45;a253&#45;cd9c87d533be -->\n",
       "<g id=\"node3\" class=\"node\">\n",
       "<title>SentenceEmbedding &#45; efb33448&#45;a2b7&#45;4d5a&#45;a253&#45;cd9c87d533be</title>\n",
       "<polygon fill=\"none\" stroke=\"blue\" points=\"367,-108 0,-108 0,-72 367,-72 367,-108\"/>\n",
       "<text text-anchor=\"middle\" x=\"183.5\" y=\"-86.3\" font-family=\"Times,serif\" font-size=\"14.00\" fill=\"blue\">SentenceEmbedding &#45; efb33448&#45;a2b7&#45;4d5a&#45;a253&#45;cd9c87d533be</text>\n",
       "</g>\n",
       "<!-- pcoll181&#45;&gt;SentenceEmbedding &#45; efb33448&#45;a2b7&#45;4d5a&#45;a253&#45;cd9c87d533be -->\n",
       "<g id=\"edge2\" class=\"edge\">\n",
       "<title>pcoll181&#45;&gt;SentenceEmbedding &#45; efb33448&#45;a2b7&#45;4d5a&#45;a253&#45;cd9c87d533be</title>\n",
       "<path fill=\"none\" stroke=\"black\" d=\"M183.5,-143.7C183.5,-136.41 183.5,-127.73 183.5,-119.54\"/>\n",
       "<polygon fill=\"black\" stroke=\"black\" points=\"187,-119.62 183.5,-109.62 180,-119.62 187,-119.62\"/>\n",
       "</g>\n",
       "<!-- pcoll6652 -->\n",
       "<g id=\"node4\" class=\"node\">\n",
       "<title>pcoll6652</title>\n",
       "<ellipse fill=\"none\" stroke=\"blue\" cx=\"183.5\" cy=\"-18\" rx=\"18\" ry=\"18\"/>\n",
       "</g>\n",
       "<!-- SentenceEmbedding &#45; efb33448&#45;a2b7&#45;4d5a&#45;a253&#45;cd9c87d533be&#45;&gt;pcoll6652 -->\n",
       "<g id=\"edge3\" class=\"edge\">\n",
       "<title>SentenceEmbedding &#45; efb33448&#45;a2b7&#45;4d5a&#45;a253&#45;cd9c87d533be&#45;&gt;pcoll6652</title>\n",
       "<path fill=\"none\" stroke=\"black\" d=\"M183.5,-71.7C183.5,-64.41 183.5,-55.73 183.5,-47.54\"/>\n",
       "<polygon fill=\"black\" stroke=\"black\" points=\"187,-47.62 183.5,-37.62 180,-47.62 187,-47.62\"/>\n",
       "</g>\n",
       "</g>\n",
       "</svg>\n"
      ],
      "text/plain": [
       "<IPython.core.display.HTML object>"
      ]
     },
     "metadata": {},
     "output_type": "display_data"
    },
    {
     "data": {
      "application/javascript": [
       "\n",
       "        if (typeof window.interactive_beam_jquery == 'undefined') {\n",
       "          var jqueryScript = document.createElement('script');\n",
       "          jqueryScript.src = 'https://code.jquery.com/jquery-3.4.1.slim.min.js';\n",
       "          jqueryScript.type = 'text/javascript';\n",
       "          jqueryScript.onload = function() {\n",
       "            var datatableScript = document.createElement('script');\n",
       "            datatableScript.src = 'https://cdn.datatables.net/1.10.20/js/jquery.dataTables.min.js';\n",
       "            datatableScript.type = 'text/javascript';\n",
       "            datatableScript.onload = function() {\n",
       "              window.interactive_beam_jquery = jQuery.noConflict(true);\n",
       "              window.interactive_beam_jquery(document).ready(function($){\n",
       "                \n",
       "            $(\"#progress_indicator_ad12a89b08ec9c269fc4bd5ce6040c8a\").remove();\n",
       "              });\n",
       "            }\n",
       "            document.head.appendChild(datatableScript);\n",
       "          };\n",
       "          document.head.appendChild(jqueryScript);\n",
       "        } else {\n",
       "          window.interactive_beam_jquery(document).ready(function($){\n",
       "            \n",
       "            $(\"#progress_indicator_ad12a89b08ec9c269fc4bd5ce6040c8a\").remove();\n",
       "          });\n",
       "        }"
      ]
     },
     "metadata": {},
     "output_type": "display_data"
    }
   ],
   "source": [
    "new_model.show_graph()"
   ]
  },
  {
   "cell_type": "code",
   "execution_count": 22,
   "id": "8ff4cf7b-17a8-4e80-9535-50db3f7e9533",
   "metadata": {},
   "outputs": [
    {
     "data": {
      "text/html": [
       "\n",
       "            <link rel=\"stylesheet\" href=\"https://stackpath.bootstrapcdn.com/bootstrap/4.4.1/css/bootstrap.min.css\" integrity=\"sha384-Vkoo8x4CGsO3+Hhxv8T/Q5PaXtkKtu6ug5TOeNV6gBiFeWPGFN9MuhOf23Q9Ifjh\" crossorigin=\"anonymous\">\n",
       "            <div id=\"progress_indicator_3ba87ca043004349ff0d95e0f040bd33\">\n",
       "              <div class=\"spinner-border text-info\" role=\"status\"></div>\n",
       "              <span class=\"text-info\">Processing... collect</span>\n",
       "            </div>\n",
       "            "
      ],
      "text/plain": [
       "<IPython.core.display.HTML object>"
      ]
     },
     "metadata": {},
     "output_type": "display_data"
    },
    {
     "data": {
      "application/javascript": [
       "\n",
       "        if (typeof window.interactive_beam_jquery == 'undefined') {\n",
       "          var jqueryScript = document.createElement('script');\n",
       "          jqueryScript.src = 'https://code.jquery.com/jquery-3.4.1.slim.min.js';\n",
       "          jqueryScript.type = 'text/javascript';\n",
       "          jqueryScript.onload = function() {\n",
       "            var datatableScript = document.createElement('script');\n",
       "            datatableScript.src = 'https://cdn.datatables.net/1.10.20/js/jquery.dataTables.min.js';\n",
       "            datatableScript.type = 'text/javascript';\n",
       "            datatableScript.onload = function() {\n",
       "              window.interactive_beam_jquery = jQuery.noConflict(true);\n",
       "              window.interactive_beam_jquery(document).ready(function($){\n",
       "                \n",
       "            $(\"#progress_indicator_3ba87ca043004349ff0d95e0f040bd33\").remove();\n",
       "              });\n",
       "            }\n",
       "            document.head.appendChild(datatableScript);\n",
       "          };\n",
       "          document.head.appendChild(jqueryScript);\n",
       "        } else {\n",
       "          window.interactive_beam_jquery(document).ready(function($){\n",
       "            \n",
       "            $(\"#progress_indicator_3ba87ca043004349ff0d95e0f040bd33\").remove();\n",
       "          });\n",
       "        }"
      ]
     },
     "metadata": {},
     "output_type": "display_data"
    },
    {
     "data": {
      "text/html": [
       "<div>\n",
       "<style scoped>\n",
       "    .dataframe tbody tr th:only-of-type {\n",
       "        vertical-align: middle;\n",
       "    }\n",
       "\n",
       "    .dataframe tbody tr th {\n",
       "        vertical-align: top;\n",
       "    }\n",
       "\n",
       "    .dataframe thead th {\n",
       "        text-align: right;\n",
       "    }\n",
       "</style>\n",
       "<table border=\"1\" class=\"dataframe\">\n",
       "  <thead>\n",
       "    <tr style=\"text-align: right;\">\n",
       "      <th></th>\n",
       "      <th>0</th>\n",
       "    </tr>\n",
       "  </thead>\n",
       "  <tbody>\n",
       "    <tr>\n",
       "      <th>0</th>\n",
       "      <td>[-0.013717398, -0.042851556, -0.01562865, 0.01...</td>\n",
       "    </tr>\n",
       "    <tr>\n",
       "      <th>1</th>\n",
       "      <td>[0.0564525, 0.05500244, 0.031379532, 0.0339484...</td>\n",
       "    </tr>\n",
       "    <tr>\n",
       "      <th>2</th>\n",
       "      <td>[0.043933515, 0.05893439, 0.04817844, 0.077548...</td>\n",
       "    </tr>\n",
       "  </tbody>\n",
       "</table>\n",
       "</div>"
      ],
      "text/plain": [
       "                                                   0\n",
       "0  [-0.013717398, -0.042851556, -0.01562865, 0.01...\n",
       "1  [0.0564525, 0.05500244, 0.031379532, 0.0339484...\n",
       "2  [0.043933515, 0.05893439, 0.04817844, 0.077548..."
      ]
     },
     "execution_count": 22,
     "metadata": {},
     "output_type": "execute_result"
    }
   ],
   "source": [
    "new_model.block_data(new_model.blocks[1])"
   ]
  },
  {
   "cell_type": "markdown",
   "id": "3b7f7fe6-2695-4bd8-82b7-b0475b31a84f",
   "metadata": {},
   "source": [
    "# Use Functional API to build more complicated models"
   ]
  },
  {
   "cell_type": "code",
   "execution_count": 23,
   "id": "3cc2c221-4deb-440e-bf2a-ebec5efd3312",
   "metadata": {},
   "outputs": [],
   "source": [
    "create_1 = blocks.CreateBlock(values = sentences)\n",
    "embed_1 = blocks.SentenceEmbeddingBlock()([create_1])"
   ]
  },
  {
   "cell_type": "code",
   "execution_count": 24,
   "id": "6b40925f-87b5-4634-a05c-2c891e799b2d",
   "metadata": {},
   "outputs": [],
   "source": [
    "target_sentences = ['This framework is for testing']\n",
    "create_2 = blocks.CreateBlock(values = target_sentences)\n",
    "embed_2 = blocks.SentenceEmbeddingBlock()([create_2])"
   ]
  },
  {
   "cell_type": "code",
   "execution_count": 25,
   "id": "3a67b26e-ab1b-4fba-9bb3-d8ec66839054",
   "metadata": {},
   "outputs": [],
   "source": [
    "cross = blocks.CrossJoinBlock()([embed_1, embed_2])"
   ]
  },
  {
   "cell_type": "code",
   "execution_count": 26,
   "id": "6eaae757-e3ea-481e-ad99-296428413e61",
   "metadata": {},
   "outputs": [
    {
     "data": {
      "text/plain": [
       "CrossJoinBlock(block_type='CrossJoin', block_id=UUID('152c33af-5555-47b5-9bf5-25a09eb9e45e'), source_ids=[UUID('be9aca49-c82a-4253-b743-d62fd9d950ca'), UUID('70a52cb5-f7d6-434c-8a38-5238eeee0751')], target_ids=[], operation=None, o=None)"
      ]
     },
     "execution_count": 26,
     "metadata": {},
     "output_type": "execute_result"
    }
   ],
   "source": [
    "cross"
   ]
  },
  {
   "cell_type": "code",
   "execution_count": 27,
   "id": "a311e52b-7cce-4c73-bc23-2aac64304ba3",
   "metadata": {},
   "outputs": [],
   "source": [
    "sim = blocks.CosSimilarityBlock()(cross)"
   ]
  },
  {
   "cell_type": "code",
   "execution_count": 28,
   "id": "1d79b063-0ccd-4f67-944d-1cc2609b1497",
   "metadata": {},
   "outputs": [
    {
     "data": {
      "text/plain": [
       "CosSimilarityBlock(block_type='CosSimilarity', block_id=UUID('f39645de-9e93-44a3-9fd1-c5b2c3b880d9'), source_ids=[UUID('152c33af-5555-47b5-9bf5-25a09eb9e45e')], target_ids=[], operation=<ParDo(PTransform) label=[Map(<lambda at blocks.py:128>)] at 0x2935ddd90>, o=None)"
      ]
     },
     "execution_count": 28,
     "metadata": {},
     "output_type": "execute_result"
    }
   ],
   "source": [
    "sim"
   ]
  },
  {
   "cell_type": "code",
   "execution_count": 29,
   "id": "a1cca392-e6d9-4ad0-99dd-e7e331a17441",
   "metadata": {},
   "outputs": [],
   "source": [
    "model_1 = blocks.BlockAssembler([create_1, create_2])"
   ]
  },
  {
   "cell_type": "code",
   "execution_count": 30,
   "id": "a5e13c61-d2a2-44f3-a0e7-8f7aa2ea448c",
   "metadata": {},
   "outputs": [],
   "source": [
    "model_1.compile()"
   ]
  },
  {
   "cell_type": "code",
   "execution_count": 31,
   "id": "f0e0d09e-14c5-4a18-b9f5-da14ac60535f",
   "metadata": {},
   "outputs": [
    {
     "data": {
      "text/html": [
       "\n",
       "            <link rel=\"stylesheet\" href=\"https://stackpath.bootstrapcdn.com/bootstrap/4.4.1/css/bootstrap.min.css\" integrity=\"sha384-Vkoo8x4CGsO3+Hhxv8T/Q5PaXtkKtu6ug5TOeNV6gBiFeWPGFN9MuhOf23Q9Ifjh\" crossorigin=\"anonymous\">\n",
       "            <div id=\"progress_indicator_60417e9fec52fb26c016de5e9a0e853b\">\n",
       "              <div class=\"spinner-border text-info\" role=\"status\"></div>\n",
       "              <span class=\"text-info\">Processing... show_graph</span>\n",
       "            </div>\n",
       "            "
      ],
      "text/plain": [
       "<IPython.core.display.HTML object>"
      ]
     },
     "metadata": {},
     "output_type": "display_data"
    },
    {
     "name": "stdout",
     "output_type": "stream",
     "text": [
      "huggingface/tokenizers: The current process just got forked, after parallelism has already been used. Disabling parallelism to avoid deadlocks...\n",
      "To disable this warning, you can either:\n",
      "\t- Avoid using `tokenizers` before the fork if possible\n",
      "\t- Explicitly set the environment variable TOKENIZERS_PARALLELISM=(true | false)\n",
      "/Users/xqhu/homebrew/bin/dot\n",
      "huggingface/tokenizers: The current process just got forked, after parallelism has already been used. Disabling parallelism to avoid deadlocks...\n",
      "To disable this warning, you can either:\n",
      "\t- Avoid using `tokenizers` before the fork if possible\n",
      "\t- Explicitly set the environment variable TOKENIZERS_PARALLELISM=(true | false)\n"
     ]
    },
    {
     "data": {
      "text/html": [
       "<?xml version=\"1.0\" encoding=\"UTF-8\" standalone=\"no\"?>\n",
       "<!DOCTYPE svg PUBLIC \"-//W3C//DTD SVG 1.1//EN\"\n",
       " \"http://www.w3.org/Graphics/SVG/1.1/DTD/svg11.dtd\">\n",
       "<!-- Generated by graphviz version 7.0.5 (20221223.1930)\n",
       " -->\n",
       "<!-- Title: G Pages: 1 -->\n",
       "<svg width=\"758pt\" height=\"548pt\"\n",
       " viewBox=\"0.00 0.00 758.00 548.00\" xmlns=\"http://www.w3.org/2000/svg\" xmlns:xlink=\"http://www.w3.org/1999/xlink\">\n",
       "<g id=\"graph0\" class=\"graph\" transform=\"scale(1 1) rotate(0) translate(4 544)\">\n",
       "<title>G</title>\n",
       "<polygon fill=\"white\" stroke=\"none\" points=\"-4,4 -4,-544 754,-544 754,4 -4,4\"/>\n",
       "<!-- Create &#45; 15c687b1&#45;c759&#45;4d2f&#45;befc&#45;837706e6f16c -->\n",
       "<g id=\"node1\" class=\"node\">\n",
       "<title>Create &#45; 15c687b1&#45;c759&#45;4d2f&#45;befc&#45;837706e6f16c</title>\n",
       "<polygon fill=\"none\" stroke=\"blue\" points=\"326.5,-540 39.5,-540 39.5,-504 326.5,-504 326.5,-540\"/>\n",
       "<text text-anchor=\"middle\" x=\"183\" y=\"-518.3\" font-family=\"Times,serif\" font-size=\"14.00\" fill=\"blue\">Create &#45; 15c687b1&#45;c759&#45;4d2f&#45;befc&#45;837706e6f16c</text>\n",
       "</g>\n",
       "<!-- pcoll181 -->\n",
       "<g id=\"node2\" class=\"node\">\n",
       "<title>pcoll181</title>\n",
       "<ellipse fill=\"none\" stroke=\"blue\" cx=\"183\" cy=\"-450\" rx=\"18\" ry=\"18\"/>\n",
       "</g>\n",
       "<!-- Create &#45; 15c687b1&#45;c759&#45;4d2f&#45;befc&#45;837706e6f16c&#45;&gt;pcoll181 -->\n",
       "<g id=\"edge1\" class=\"edge\">\n",
       "<title>Create &#45; 15c687b1&#45;c759&#45;4d2f&#45;befc&#45;837706e6f16c&#45;&gt;pcoll181</title>\n",
       "<path fill=\"none\" stroke=\"black\" d=\"M183,-503.7C183,-496.41 183,-487.73 183,-479.54\"/>\n",
       "<polygon fill=\"black\" stroke=\"black\" points=\"186.5,-479.62 183,-469.62 179.5,-479.62 186.5,-479.62\"/>\n",
       "</g>\n",
       "<!-- SentenceEmbedding &#45; be9aca49&#45;c82a&#45;4253&#45;b743&#45;d62fd9d950ca -->\n",
       "<g id=\"node3\" class=\"node\">\n",
       "<title>SentenceEmbedding &#45; be9aca49&#45;c82a&#45;4253&#45;b743&#45;d62fd9d950ca</title>\n",
       "<polygon fill=\"none\" stroke=\"blue\" points=\"366,-396 0,-396 0,-360 366,-360 366,-396\"/>\n",
       "<text text-anchor=\"middle\" x=\"183\" y=\"-374.3\" font-family=\"Times,serif\" font-size=\"14.00\" fill=\"blue\">SentenceEmbedding &#45; be9aca49&#45;c82a&#45;4253&#45;b743&#45;d62fd9d950ca</text>\n",
       "</g>\n",
       "<!-- pcoll181&#45;&gt;SentenceEmbedding &#45; be9aca49&#45;c82a&#45;4253&#45;b743&#45;d62fd9d950ca -->\n",
       "<g id=\"edge2\" class=\"edge\">\n",
       "<title>pcoll181&#45;&gt;SentenceEmbedding &#45; be9aca49&#45;c82a&#45;4253&#45;b743&#45;d62fd9d950ca</title>\n",
       "<path fill=\"none\" stroke=\"black\" d=\"M183,-431.7C183,-424.41 183,-415.73 183,-407.54\"/>\n",
       "<polygon fill=\"black\" stroke=\"black\" points=\"186.5,-407.62 183,-397.62 179.5,-407.62 186.5,-407.62\"/>\n",
       "</g>\n",
       "<!-- pcoll6652 -->\n",
       "<g id=\"node4\" class=\"node\">\n",
       "<title>pcoll6652</title>\n",
       "<ellipse fill=\"none\" stroke=\"blue\" cx=\"348\" cy=\"-306\" rx=\"18\" ry=\"18\"/>\n",
       "</g>\n",
       "<!-- SentenceEmbedding &#45; be9aca49&#45;c82a&#45;4253&#45;b743&#45;d62fd9d950ca&#45;&gt;pcoll6652 -->\n",
       "<g id=\"edge3\" class=\"edge\">\n",
       "<title>SentenceEmbedding &#45; be9aca49&#45;c82a&#45;4253&#45;b743&#45;d62fd9d950ca&#45;&gt;pcoll6652</title>\n",
       "<path fill=\"none\" stroke=\"black\" d=\"M224.21,-359.52C254.61,-346.62 295.09,-329.45 321.35,-318.31\"/>\n",
       "<polygon fill=\"black\" stroke=\"black\" points=\"322.43,-321.65 330.27,-314.52 319.69,-315.21 322.43,-321.65\"/>\n",
       "</g>\n",
       "<!-- CrossJoin &#45; 152c33af&#45;5555&#45;47b5&#45;9bf5&#45;25a09eb9e45e -->\n",
       "<g id=\"node9\" class=\"node\">\n",
       "<title>CrossJoin &#45; 152c33af&#45;5555&#45;47b5&#45;9bf5&#45;25a09eb9e45e</title>\n",
       "<polygon fill=\"none\" stroke=\"blue\" points=\"528.5,-252 221.5,-252 221.5,-216 528.5,-216 528.5,-252\"/>\n",
       "<text text-anchor=\"middle\" x=\"375\" y=\"-230.3\" font-family=\"Times,serif\" font-size=\"14.00\" fill=\"blue\">CrossJoin &#45; 152c33af&#45;5555&#45;47b5&#45;9bf5&#45;25a09eb9e45e</text>\n",
       "</g>\n",
       "<!-- pcoll6652&#45;&gt;CrossJoin &#45; 152c33af&#45;5555&#45;47b5&#45;9bf5&#45;25a09eb9e45e -->\n",
       "<g id=\"edge4\" class=\"edge\">\n",
       "<title>pcoll6652&#45;&gt;CrossJoin &#45; 152c33af&#45;5555&#45;47b5&#45;9bf5&#45;25a09eb9e45e</title>\n",
       "<path fill=\"none\" stroke=\"black\" d=\"M354.26,-288.76C357.24,-281.04 360.89,-271.59 364.29,-262.77\"/>\n",
       "<polygon fill=\"black\" stroke=\"black\" points=\"367.52,-264.13 367.85,-253.54 360.99,-261.61 367.52,-264.13\"/>\n",
       "</g>\n",
       "<!-- Create &#45; c9262aaf&#45;01d2&#45;4ee9&#45;becf&#45;de76d9a0d289 -->\n",
       "<g id=\"node5\" class=\"node\">\n",
       "<title>Create &#45; c9262aaf&#45;01d2&#45;4ee9&#45;becf&#45;de76d9a0d289</title>\n",
       "<polygon fill=\"none\" stroke=\"blue\" points=\"710.5,-540 423.5,-540 423.5,-504 710.5,-504 710.5,-540\"/>\n",
       "<text text-anchor=\"middle\" x=\"567\" y=\"-518.3\" font-family=\"Times,serif\" font-size=\"14.00\" fill=\"blue\">Create &#45; c9262aaf&#45;01d2&#45;4ee9&#45;becf&#45;de76d9a0d289</text>\n",
       "</g>\n",
       "<!-- pcoll5818 -->\n",
       "<g id=\"node6\" class=\"node\">\n",
       "<title>pcoll5818</title>\n",
       "<ellipse fill=\"none\" stroke=\"blue\" cx=\"567\" cy=\"-450\" rx=\"18\" ry=\"18\"/>\n",
       "</g>\n",
       "<!-- Create &#45; c9262aaf&#45;01d2&#45;4ee9&#45;becf&#45;de76d9a0d289&#45;&gt;pcoll5818 -->\n",
       "<g id=\"edge5\" class=\"edge\">\n",
       "<title>Create &#45; c9262aaf&#45;01d2&#45;4ee9&#45;becf&#45;de76d9a0d289&#45;&gt;pcoll5818</title>\n",
       "<path fill=\"none\" stroke=\"black\" d=\"M567,-503.7C567,-496.41 567,-487.73 567,-479.54\"/>\n",
       "<polygon fill=\"black\" stroke=\"black\" points=\"570.5,-479.62 567,-469.62 563.5,-479.62 570.5,-479.62\"/>\n",
       "</g>\n",
       "<!-- SentenceEmbedding &#45; 70a52cb5&#45;f7d6&#45;434c&#45;8a38&#45;5238eeee0751 -->\n",
       "<g id=\"node7\" class=\"node\">\n",
       "<title>SentenceEmbedding &#45; 70a52cb5&#45;f7d6&#45;434c&#45;8a38&#45;5238eeee0751</title>\n",
       "<polygon fill=\"none\" stroke=\"blue\" points=\"750,-396 384,-396 384,-360 750,-360 750,-396\"/>\n",
       "<text text-anchor=\"middle\" x=\"567\" y=\"-374.3\" font-family=\"Times,serif\" font-size=\"14.00\" fill=\"blue\">SentenceEmbedding &#45; 70a52cb5&#45;f7d6&#45;434c&#45;8a38&#45;5238eeee0751</text>\n",
       "</g>\n",
       "<!-- pcoll5818&#45;&gt;SentenceEmbedding &#45; 70a52cb5&#45;f7d6&#45;434c&#45;8a38&#45;5238eeee0751 -->\n",
       "<g id=\"edge6\" class=\"edge\">\n",
       "<title>pcoll5818&#45;&gt;SentenceEmbedding &#45; 70a52cb5&#45;f7d6&#45;434c&#45;8a38&#45;5238eeee0751</title>\n",
       "<path fill=\"none\" stroke=\"black\" d=\"M567,-431.7C567,-424.41 567,-415.73 567,-407.54\"/>\n",
       "<polygon fill=\"black\" stroke=\"black\" points=\"570.5,-407.62 567,-397.62 563.5,-407.62 570.5,-407.62\"/>\n",
       "</g>\n",
       "<!-- pcoll1891 -->\n",
       "<g id=\"node8\" class=\"node\">\n",
       "<title>pcoll1891</title>\n",
       "<ellipse fill=\"none\" stroke=\"blue\" cx=\"484\" cy=\"-306\" rx=\"18\" ry=\"18\"/>\n",
       "</g>\n",
       "<!-- SentenceEmbedding &#45; 70a52cb5&#45;f7d6&#45;434c&#45;8a38&#45;5238eeee0751&#45;&gt;pcoll1891 -->\n",
       "<g id=\"edge7\" class=\"edge\">\n",
       "<title>SentenceEmbedding &#45; 70a52cb5&#45;f7d6&#45;434c&#45;8a38&#45;5238eeee0751&#45;&gt;pcoll1891</title>\n",
       "<path fill=\"none\" stroke=\"black\" d=\"M546.48,-359.7C534.2,-349.34 518.59,-336.17 506.04,-325.59\"/>\n",
       "<polygon fill=\"black\" stroke=\"black\" points=\"508.6,-323.17 498.7,-319.39 504.08,-328.52 508.6,-323.17\"/>\n",
       "</g>\n",
       "<!-- pcoll1891&#45;&gt;CrossJoin &#45; 152c33af&#45;5555&#45;47b5&#45;9bf5&#45;25a09eb9e45e -->\n",
       "<g id=\"edge8\" class=\"edge\">\n",
       "<title>pcoll1891&#45;&gt;CrossJoin &#45; 152c33af&#45;5555&#45;47b5&#45;9bf5&#45;25a09eb9e45e</title>\n",
       "<path fill=\"none\" stroke=\"black\" d=\"M469.3,-295.56C454.59,-286.11 431.36,-271.19 411.64,-258.53\"/>\n",
       "<polygon fill=\"black\" stroke=\"black\" points=\"413.58,-255.62 403.28,-253.16 409.8,-261.51 413.58,-255.62\"/>\n",
       "</g>\n",
       "<!-- pcoll9233 -->\n",
       "<g id=\"node10\" class=\"node\">\n",
       "<title>pcoll9233</title>\n",
       "<ellipse fill=\"none\" stroke=\"blue\" cx=\"375\" cy=\"-162\" rx=\"18\" ry=\"18\"/>\n",
       "</g>\n",
       "<!-- CrossJoin &#45; 152c33af&#45;5555&#45;47b5&#45;9bf5&#45;25a09eb9e45e&#45;&gt;pcoll9233 -->\n",
       "<g id=\"edge9\" class=\"edge\">\n",
       "<title>CrossJoin &#45; 152c33af&#45;5555&#45;47b5&#45;9bf5&#45;25a09eb9e45e&#45;&gt;pcoll9233</title>\n",
       "<path fill=\"none\" stroke=\"black\" d=\"M375,-215.7C375,-208.41 375,-199.73 375,-191.54\"/>\n",
       "<polygon fill=\"black\" stroke=\"black\" points=\"378.5,-191.62 375,-181.62 371.5,-191.62 378.5,-191.62\"/>\n",
       "</g>\n",
       "<!-- CosSimilarity &#45; f39645de&#45;9e93&#45;44a3&#45;9fd1&#45;c5b2c3b880d9 -->\n",
       "<g id=\"node11\" class=\"node\">\n",
       "<title>CosSimilarity &#45; f39645de&#45;9e93&#45;44a3&#45;9fd1&#45;c5b2c3b880d9</title>\n",
       "<polygon fill=\"none\" stroke=\"blue\" points=\"540,-108 210,-108 210,-72 540,-72 540,-108\"/>\n",
       "<text text-anchor=\"middle\" x=\"375\" y=\"-86.3\" font-family=\"Times,serif\" font-size=\"14.00\" fill=\"blue\">CosSimilarity &#45; f39645de&#45;9e93&#45;44a3&#45;9fd1&#45;c5b2c3b880d9</text>\n",
       "</g>\n",
       "<!-- pcoll9233&#45;&gt;CosSimilarity &#45; f39645de&#45;9e93&#45;44a3&#45;9fd1&#45;c5b2c3b880d9 -->\n",
       "<g id=\"edge10\" class=\"edge\">\n",
       "<title>pcoll9233&#45;&gt;CosSimilarity &#45; f39645de&#45;9e93&#45;44a3&#45;9fd1&#45;c5b2c3b880d9</title>\n",
       "<path fill=\"none\" stroke=\"black\" d=\"M375,-143.7C375,-136.41 375,-127.73 375,-119.54\"/>\n",
       "<polygon fill=\"black\" stroke=\"black\" points=\"378.5,-119.62 375,-109.62 371.5,-119.62 378.5,-119.62\"/>\n",
       "</g>\n",
       "<!-- pcoll1333 -->\n",
       "<g id=\"node12\" class=\"node\">\n",
       "<title>pcoll1333</title>\n",
       "<ellipse fill=\"none\" stroke=\"blue\" cx=\"375\" cy=\"-18\" rx=\"18\" ry=\"18\"/>\n",
       "</g>\n",
       "<!-- CosSimilarity &#45; f39645de&#45;9e93&#45;44a3&#45;9fd1&#45;c5b2c3b880d9&#45;&gt;pcoll1333 -->\n",
       "<g id=\"edge11\" class=\"edge\">\n",
       "<title>CosSimilarity &#45; f39645de&#45;9e93&#45;44a3&#45;9fd1&#45;c5b2c3b880d9&#45;&gt;pcoll1333</title>\n",
       "<path fill=\"none\" stroke=\"black\" d=\"M375,-71.7C375,-64.41 375,-55.73 375,-47.54\"/>\n",
       "<polygon fill=\"black\" stroke=\"black\" points=\"378.5,-47.62 375,-37.62 371.5,-47.62 378.5,-47.62\"/>\n",
       "</g>\n",
       "</g>\n",
       "</svg>\n"
      ],
      "text/plain": [
       "<IPython.core.display.HTML object>"
      ]
     },
     "metadata": {},
     "output_type": "display_data"
    },
    {
     "data": {
      "application/javascript": [
       "\n",
       "        if (typeof window.interactive_beam_jquery == 'undefined') {\n",
       "          var jqueryScript = document.createElement('script');\n",
       "          jqueryScript.src = 'https://code.jquery.com/jquery-3.4.1.slim.min.js';\n",
       "          jqueryScript.type = 'text/javascript';\n",
       "          jqueryScript.onload = function() {\n",
       "            var datatableScript = document.createElement('script');\n",
       "            datatableScript.src = 'https://cdn.datatables.net/1.10.20/js/jquery.dataTables.min.js';\n",
       "            datatableScript.type = 'text/javascript';\n",
       "            datatableScript.onload = function() {\n",
       "              window.interactive_beam_jquery = jQuery.noConflict(true);\n",
       "              window.interactive_beam_jquery(document).ready(function($){\n",
       "                \n",
       "            $(\"#progress_indicator_60417e9fec52fb26c016de5e9a0e853b\").remove();\n",
       "              });\n",
       "            }\n",
       "            document.head.appendChild(datatableScript);\n",
       "          };\n",
       "          document.head.appendChild(jqueryScript);\n",
       "        } else {\n",
       "          window.interactive_beam_jquery(document).ready(function($){\n",
       "            \n",
       "            $(\"#progress_indicator_60417e9fec52fb26c016de5e9a0e853b\").remove();\n",
       "          });\n",
       "        }"
      ]
     },
     "metadata": {},
     "output_type": "display_data"
    }
   ],
   "source": [
    "model_1.show_graph()"
   ]
  },
  {
   "cell_type": "code",
   "execution_count": 32,
   "id": "1a6ae4ec-fc7b-456c-b8b1-8f06e342ee5d",
   "metadata": {},
   "outputs": [
    {
     "data": {
      "text/html": [
       "\n",
       "            <link rel=\"stylesheet\" href=\"https://stackpath.bootstrapcdn.com/bootstrap/4.4.1/css/bootstrap.min.css\" integrity=\"sha384-Vkoo8x4CGsO3+Hhxv8T/Q5PaXtkKtu6ug5TOeNV6gBiFeWPGFN9MuhOf23Q9Ifjh\" crossorigin=\"anonymous\">\n",
       "            <div id=\"progress_indicator_a615ad1a7f474f5d2bfa7d37987b4e90\">\n",
       "              <div class=\"spinner-border text-info\" role=\"status\"></div>\n",
       "              <span class=\"text-info\">Processing... collect</span>\n",
       "            </div>\n",
       "            "
      ],
      "text/plain": [
       "<IPython.core.display.HTML object>"
      ]
     },
     "metadata": {},
     "output_type": "display_data"
    },
    {
     "name": "stderr",
     "output_type": "stream",
     "text": [
      "/Users/xqhu/Dev/pydf/venv/lib/python3.9/site-packages/sentence_transformers/util.py:36: UserWarning: Creating a tensor from a list of numpy.ndarrays is extremely slow. Please consider converting the list to a single numpy.ndarray with numpy.array() before converting to a tensor. (Triggered internally at /Users/runner/work/pytorch/pytorch/pytorch/torch/csrc/utils/tensor_new.cpp:233.)\n",
      "  a = torch.tensor(a)\n"
     ]
    },
    {
     "data": {
      "application/javascript": [
       "\n",
       "        if (typeof window.interactive_beam_jquery == 'undefined') {\n",
       "          var jqueryScript = document.createElement('script');\n",
       "          jqueryScript.src = 'https://code.jquery.com/jquery-3.4.1.slim.min.js';\n",
       "          jqueryScript.type = 'text/javascript';\n",
       "          jqueryScript.onload = function() {\n",
       "            var datatableScript = document.createElement('script');\n",
       "            datatableScript.src = 'https://cdn.datatables.net/1.10.20/js/jquery.dataTables.min.js';\n",
       "            datatableScript.type = 'text/javascript';\n",
       "            datatableScript.onload = function() {\n",
       "              window.interactive_beam_jquery = jQuery.noConflict(true);\n",
       "              window.interactive_beam_jquery(document).ready(function($){\n",
       "                \n",
       "            $(\"#progress_indicator_a615ad1a7f474f5d2bfa7d37987b4e90\").remove();\n",
       "              });\n",
       "            }\n",
       "            document.head.appendChild(datatableScript);\n",
       "          };\n",
       "          document.head.appendChild(jqueryScript);\n",
       "        } else {\n",
       "          window.interactive_beam_jquery(document).ready(function($){\n",
       "            \n",
       "            $(\"#progress_indicator_a615ad1a7f474f5d2bfa7d37987b4e90\").remove();\n",
       "          });\n",
       "        }"
      ]
     },
     "metadata": {},
     "output_type": "display_data"
    },
    {
     "data": {
      "text/html": [
       "<div>\n",
       "<style scoped>\n",
       "    .dataframe tbody tr th:only-of-type {\n",
       "        vertical-align: middle;\n",
       "    }\n",
       "\n",
       "    .dataframe tbody tr th {\n",
       "        vertical-align: top;\n",
       "    }\n",
       "\n",
       "    .dataframe thead th {\n",
       "        text-align: right;\n",
       "    }\n",
       "</style>\n",
       "<table border=\"1\" class=\"dataframe\">\n",
       "  <thead>\n",
       "    <tr style=\"text-align: right;\">\n",
       "      <th></th>\n",
       "      <th>0</th>\n",
       "    </tr>\n",
       "  </thead>\n",
       "  <tbody>\n",
       "    <tr>\n",
       "      <th>0</th>\n",
       "      <td>0.342632</td>\n",
       "    </tr>\n",
       "    <tr>\n",
       "      <th>1</th>\n",
       "      <td>0.162461</td>\n",
       "    </tr>\n",
       "    <tr>\n",
       "      <th>2</th>\n",
       "      <td>0.051704</td>\n",
       "    </tr>\n",
       "  </tbody>\n",
       "</table>\n",
       "</div>"
      ],
      "text/plain": [
       "          0\n",
       "0  0.342632\n",
       "1  0.162461\n",
       "2  0.051704"
      ]
     },
     "execution_count": 32,
     "metadata": {},
     "output_type": "execute_result"
    }
   ],
   "source": [
    "model_1.block_data(sim)"
   ]
  },
  {
   "cell_type": "code",
   "execution_count": 33,
   "id": "7772b06d-d7ac-4202-bc10-c05559024919",
   "metadata": {},
   "outputs": [],
   "source": [
    "# You can also use the json config here for functional models\n",
    "model_1_config = model_1.to_json(indent=2)"
   ]
  },
  {
   "cell_type": "code",
   "execution_count": 34,
   "id": "f2dfe048-0757-4b7c-a7a1-9c9388be7404",
   "metadata": {},
   "outputs": [
    {
     "name": "stdout",
     "output_type": "stream",
     "text": [
      "{\n",
      "  \"blocks\": [\n",
      "    {\n",
      "      \"block_type\": \"Create\",\n",
      "      \"block_id\": \"15c687b1-c759-4d2f-befc-837706e6f16c\",\n",
      "      \"source_ids\": [],\n",
      "      \"target_ids\": [\n",
      "        \"be9aca49-c82a-4253-b743-d62fd9d950ca\"\n",
      "      ],\n",
      "      \"values\": [\n",
      "        \"This framework generates embeddings for each input sentence\",\n",
      "        \"Sentences are passed as a list of string.\",\n",
      "        \"The quick brown fox jumps over the lazy dog.\"\n",
      "      ]\n",
      "    },\n",
      "    {\n",
      "      \"block_type\": \"SentenceEmbedding\",\n",
      "      \"block_id\": \"be9aca49-c82a-4253-b743-d62fd9d950ca\",\n",
      "      \"source_ids\": [\n",
      "        \"15c687b1-c759-4d2f-befc-837706e6f16c\"\n",
      "      ],\n",
      "      \"target_ids\": [\n",
      "        \"152c33af-5555-47b5-9bf5-25a09eb9e45e\",\n",
      "        \"152c33af-5555-47b5-9bf5-25a09eb9e45e\",\n",
      "        \"152c33af-5555-47b5-9bf5-25a09eb9e45e\"\n",
      "      ],\n",
      "      \"model_name\": \"all-MiniLM-L6-v2\"\n",
      "    },\n",
      "    {\n",
      "      \"block_type\": \"CrossJoin\",\n",
      "      \"block_id\": \"152c33af-5555-47b5-9bf5-25a09eb9e45e\",\n",
      "      \"source_ids\": [\n",
      "        \"be9aca49-c82a-4253-b743-d62fd9d950ca\",\n",
      "        \"70a52cb5-f7d6-434c-8a38-5238eeee0751\"\n",
      "      ],\n",
      "      \"target_ids\": [\n",
      "        \"f39645de-9e93-44a3-9fd1-c5b2c3b880d9\"\n",
      "      ]\n",
      "    },\n",
      "    {\n",
      "      \"block_type\": \"CosSimilarity\",\n",
      "      \"block_id\": \"f39645de-9e93-44a3-9fd1-c5b2c3b880d9\",\n",
      "      \"source_ids\": [\n",
      "        \"152c33af-5555-47b5-9bf5-25a09eb9e45e\"\n",
      "      ],\n",
      "      \"target_ids\": []\n",
      "    },\n",
      "    {\n",
      "      \"block_type\": \"Create\",\n",
      "      \"block_id\": \"c9262aaf-01d2-4ee9-becf-de76d9a0d289\",\n",
      "      \"source_ids\": [],\n",
      "      \"target_ids\": [\n",
      "        \"70a52cb5-f7d6-434c-8a38-5238eeee0751\"\n",
      "      ],\n",
      "      \"values\": [\n",
      "        \"This framework is for testing\"\n",
      "      ]\n",
      "    },\n",
      "    {\n",
      "      \"block_type\": \"SentenceEmbedding\",\n",
      "      \"block_id\": \"70a52cb5-f7d6-434c-8a38-5238eeee0751\",\n",
      "      \"source_ids\": [\n",
      "        \"c9262aaf-01d2-4ee9-becf-de76d9a0d289\"\n",
      "      ],\n",
      "      \"target_ids\": [\n",
      "        \"152c33af-5555-47b5-9bf5-25a09eb9e45e\",\n",
      "        \"152c33af-5555-47b5-9bf5-25a09eb9e45e\",\n",
      "        \"152c33af-5555-47b5-9bf5-25a09eb9e45e\"\n",
      "      ],\n",
      "      \"model_name\": \"all-MiniLM-L6-v2\"\n",
      "    }\n",
      "  ],\n",
      "  \"model_type\": \"FUNCTIONAL\"\n",
      "}\n"
     ]
    }
   ],
   "source": [
    "print(model_1_config)"
   ]
  },
  {
   "cell_type": "code",
   "execution_count": 35,
   "id": "61f116de-ecaa-4ed0-bf32-4ce733c6835c",
   "metadata": {},
   "outputs": [],
   "source": [
    "new_model_1 = blocks.BlockAssembler.from_json(model_1_config)"
   ]
  },
  {
   "cell_type": "code",
   "execution_count": 36,
   "id": "572a625f-6294-430a-8939-f1d0d2496c40",
   "metadata": {},
   "outputs": [],
   "source": [
    "new_model_1.compile()"
   ]
  },
  {
   "cell_type": "code",
   "execution_count": 37,
   "id": "9050c9ad-6d4e-455f-9f49-7e5e1d3a3216",
   "metadata": {},
   "outputs": [
    {
     "data": {
      "text/html": [
       "\n",
       "            <link rel=\"stylesheet\" href=\"https://stackpath.bootstrapcdn.com/bootstrap/4.4.1/css/bootstrap.min.css\" integrity=\"sha384-Vkoo8x4CGsO3+Hhxv8T/Q5PaXtkKtu6ug5TOeNV6gBiFeWPGFN9MuhOf23Q9Ifjh\" crossorigin=\"anonymous\">\n",
       "            <div id=\"progress_indicator_c30dfbdfde75908da92af707c4efd944\">\n",
       "              <div class=\"spinner-border text-info\" role=\"status\"></div>\n",
       "              <span class=\"text-info\">Processing... show_graph</span>\n",
       "            </div>\n",
       "            "
      ],
      "text/plain": [
       "<IPython.core.display.HTML object>"
      ]
     },
     "metadata": {},
     "output_type": "display_data"
    },
    {
     "name": "stdout",
     "output_type": "stream",
     "text": [
      "huggingface/tokenizers: The current process just got forked, after parallelism has already been used. Disabling parallelism to avoid deadlocks...\n",
      "To disable this warning, you can either:\n",
      "\t- Avoid using `tokenizers` before the fork if possible\n",
      "\t- Explicitly set the environment variable TOKENIZERS_PARALLELISM=(true | false)\n",
      "/Users/xqhu/homebrew/bin/dot\n",
      "huggingface/tokenizers: The current process just got forked, after parallelism has already been used. Disabling parallelism to avoid deadlocks...\n",
      "To disable this warning, you can either:\n",
      "\t- Avoid using `tokenizers` before the fork if possible\n",
      "\t- Explicitly set the environment variable TOKENIZERS_PARALLELISM=(true | false)\n"
     ]
    },
    {
     "data": {
      "text/html": [
       "<?xml version=\"1.0\" encoding=\"UTF-8\" standalone=\"no\"?>\n",
       "<!DOCTYPE svg PUBLIC \"-//W3C//DTD SVG 1.1//EN\"\n",
       " \"http://www.w3.org/Graphics/SVG/1.1/DTD/svg11.dtd\">\n",
       "<!-- Generated by graphviz version 7.0.5 (20221223.1930)\n",
       " -->\n",
       "<!-- Title: G Pages: 1 -->\n",
       "<svg width=\"758pt\" height=\"548pt\"\n",
       " viewBox=\"0.00 0.00 758.00 548.00\" xmlns=\"http://www.w3.org/2000/svg\" xmlns:xlink=\"http://www.w3.org/1999/xlink\">\n",
       "<g id=\"graph0\" class=\"graph\" transform=\"scale(1 1) rotate(0) translate(4 544)\">\n",
       "<title>G</title>\n",
       "<polygon fill=\"white\" stroke=\"none\" points=\"-4,4 -4,-544 754,-544 754,4 -4,4\"/>\n",
       "<!-- Create &#45; 15c687b1&#45;c759&#45;4d2f&#45;befc&#45;837706e6f16c -->\n",
       "<g id=\"node1\" class=\"node\">\n",
       "<title>Create &#45; 15c687b1&#45;c759&#45;4d2f&#45;befc&#45;837706e6f16c</title>\n",
       "<polygon fill=\"none\" stroke=\"blue\" points=\"326.5,-540 39.5,-540 39.5,-504 326.5,-504 326.5,-540\"/>\n",
       "<text text-anchor=\"middle\" x=\"183\" y=\"-518.3\" font-family=\"Times,serif\" font-size=\"14.00\" fill=\"blue\">Create &#45; 15c687b1&#45;c759&#45;4d2f&#45;befc&#45;837706e6f16c</text>\n",
       "</g>\n",
       "<!-- pcoll181 -->\n",
       "<g id=\"node2\" class=\"node\">\n",
       "<title>pcoll181</title>\n",
       "<ellipse fill=\"none\" stroke=\"blue\" cx=\"183\" cy=\"-450\" rx=\"18\" ry=\"18\"/>\n",
       "</g>\n",
       "<!-- Create &#45; 15c687b1&#45;c759&#45;4d2f&#45;befc&#45;837706e6f16c&#45;&gt;pcoll181 -->\n",
       "<g id=\"edge1\" class=\"edge\">\n",
       "<title>Create &#45; 15c687b1&#45;c759&#45;4d2f&#45;befc&#45;837706e6f16c&#45;&gt;pcoll181</title>\n",
       "<path fill=\"none\" stroke=\"black\" d=\"M183,-503.7C183,-496.41 183,-487.73 183,-479.54\"/>\n",
       "<polygon fill=\"black\" stroke=\"black\" points=\"186.5,-479.62 183,-469.62 179.5,-479.62 186.5,-479.62\"/>\n",
       "</g>\n",
       "<!-- SentenceEmbedding &#45; be9aca49&#45;c82a&#45;4253&#45;b743&#45;d62fd9d950ca -->\n",
       "<g id=\"node3\" class=\"node\">\n",
       "<title>SentenceEmbedding &#45; be9aca49&#45;c82a&#45;4253&#45;b743&#45;d62fd9d950ca</title>\n",
       "<polygon fill=\"none\" stroke=\"blue\" points=\"366,-396 0,-396 0,-360 366,-360 366,-396\"/>\n",
       "<text text-anchor=\"middle\" x=\"183\" y=\"-374.3\" font-family=\"Times,serif\" font-size=\"14.00\" fill=\"blue\">SentenceEmbedding &#45; be9aca49&#45;c82a&#45;4253&#45;b743&#45;d62fd9d950ca</text>\n",
       "</g>\n",
       "<!-- pcoll181&#45;&gt;SentenceEmbedding &#45; be9aca49&#45;c82a&#45;4253&#45;b743&#45;d62fd9d950ca -->\n",
       "<g id=\"edge2\" class=\"edge\">\n",
       "<title>pcoll181&#45;&gt;SentenceEmbedding &#45; be9aca49&#45;c82a&#45;4253&#45;b743&#45;d62fd9d950ca</title>\n",
       "<path fill=\"none\" stroke=\"black\" d=\"M183,-431.7C183,-424.41 183,-415.73 183,-407.54\"/>\n",
       "<polygon fill=\"black\" stroke=\"black\" points=\"186.5,-407.62 183,-397.62 179.5,-407.62 186.5,-407.62\"/>\n",
       "</g>\n",
       "<!-- pcoll6652 -->\n",
       "<g id=\"node4\" class=\"node\">\n",
       "<title>pcoll6652</title>\n",
       "<ellipse fill=\"none\" stroke=\"blue\" cx=\"348\" cy=\"-306\" rx=\"18\" ry=\"18\"/>\n",
       "</g>\n",
       "<!-- SentenceEmbedding &#45; be9aca49&#45;c82a&#45;4253&#45;b743&#45;d62fd9d950ca&#45;&gt;pcoll6652 -->\n",
       "<g id=\"edge3\" class=\"edge\">\n",
       "<title>SentenceEmbedding &#45; be9aca49&#45;c82a&#45;4253&#45;b743&#45;d62fd9d950ca&#45;&gt;pcoll6652</title>\n",
       "<path fill=\"none\" stroke=\"black\" d=\"M224.21,-359.52C254.61,-346.62 295.09,-329.45 321.35,-318.31\"/>\n",
       "<polygon fill=\"black\" stroke=\"black\" points=\"322.43,-321.65 330.27,-314.52 319.69,-315.21 322.43,-321.65\"/>\n",
       "</g>\n",
       "<!-- CrossJoin &#45; 152c33af&#45;5555&#45;47b5&#45;9bf5&#45;25a09eb9e45e -->\n",
       "<g id=\"node9\" class=\"node\">\n",
       "<title>CrossJoin &#45; 152c33af&#45;5555&#45;47b5&#45;9bf5&#45;25a09eb9e45e</title>\n",
       "<polygon fill=\"none\" stroke=\"blue\" points=\"528.5,-252 221.5,-252 221.5,-216 528.5,-216 528.5,-252\"/>\n",
       "<text text-anchor=\"middle\" x=\"375\" y=\"-230.3\" font-family=\"Times,serif\" font-size=\"14.00\" fill=\"blue\">CrossJoin &#45; 152c33af&#45;5555&#45;47b5&#45;9bf5&#45;25a09eb9e45e</text>\n",
       "</g>\n",
       "<!-- pcoll6652&#45;&gt;CrossJoin &#45; 152c33af&#45;5555&#45;47b5&#45;9bf5&#45;25a09eb9e45e -->\n",
       "<g id=\"edge4\" class=\"edge\">\n",
       "<title>pcoll6652&#45;&gt;CrossJoin &#45; 152c33af&#45;5555&#45;47b5&#45;9bf5&#45;25a09eb9e45e</title>\n",
       "<path fill=\"none\" stroke=\"black\" d=\"M354.26,-288.76C357.24,-281.04 360.89,-271.59 364.29,-262.77\"/>\n",
       "<polygon fill=\"black\" stroke=\"black\" points=\"367.52,-264.13 367.85,-253.54 360.99,-261.61 367.52,-264.13\"/>\n",
       "</g>\n",
       "<!-- Create &#45; c9262aaf&#45;01d2&#45;4ee9&#45;becf&#45;de76d9a0d289 -->\n",
       "<g id=\"node5\" class=\"node\">\n",
       "<title>Create &#45; c9262aaf&#45;01d2&#45;4ee9&#45;becf&#45;de76d9a0d289</title>\n",
       "<polygon fill=\"none\" stroke=\"blue\" points=\"710.5,-540 423.5,-540 423.5,-504 710.5,-504 710.5,-540\"/>\n",
       "<text text-anchor=\"middle\" x=\"567\" y=\"-518.3\" font-family=\"Times,serif\" font-size=\"14.00\" fill=\"blue\">Create &#45; c9262aaf&#45;01d2&#45;4ee9&#45;becf&#45;de76d9a0d289</text>\n",
       "</g>\n",
       "<!-- pcoll5818 -->\n",
       "<g id=\"node6\" class=\"node\">\n",
       "<title>pcoll5818</title>\n",
       "<ellipse fill=\"none\" stroke=\"blue\" cx=\"567\" cy=\"-450\" rx=\"18\" ry=\"18\"/>\n",
       "</g>\n",
       "<!-- Create &#45; c9262aaf&#45;01d2&#45;4ee9&#45;becf&#45;de76d9a0d289&#45;&gt;pcoll5818 -->\n",
       "<g id=\"edge5\" class=\"edge\">\n",
       "<title>Create &#45; c9262aaf&#45;01d2&#45;4ee9&#45;becf&#45;de76d9a0d289&#45;&gt;pcoll5818</title>\n",
       "<path fill=\"none\" stroke=\"black\" d=\"M567,-503.7C567,-496.41 567,-487.73 567,-479.54\"/>\n",
       "<polygon fill=\"black\" stroke=\"black\" points=\"570.5,-479.62 567,-469.62 563.5,-479.62 570.5,-479.62\"/>\n",
       "</g>\n",
       "<!-- SentenceEmbedding &#45; 70a52cb5&#45;f7d6&#45;434c&#45;8a38&#45;5238eeee0751 -->\n",
       "<g id=\"node7\" class=\"node\">\n",
       "<title>SentenceEmbedding &#45; 70a52cb5&#45;f7d6&#45;434c&#45;8a38&#45;5238eeee0751</title>\n",
       "<polygon fill=\"none\" stroke=\"blue\" points=\"750,-396 384,-396 384,-360 750,-360 750,-396\"/>\n",
       "<text text-anchor=\"middle\" x=\"567\" y=\"-374.3\" font-family=\"Times,serif\" font-size=\"14.00\" fill=\"blue\">SentenceEmbedding &#45; 70a52cb5&#45;f7d6&#45;434c&#45;8a38&#45;5238eeee0751</text>\n",
       "</g>\n",
       "<!-- pcoll5818&#45;&gt;SentenceEmbedding &#45; 70a52cb5&#45;f7d6&#45;434c&#45;8a38&#45;5238eeee0751 -->\n",
       "<g id=\"edge6\" class=\"edge\">\n",
       "<title>pcoll5818&#45;&gt;SentenceEmbedding &#45; 70a52cb5&#45;f7d6&#45;434c&#45;8a38&#45;5238eeee0751</title>\n",
       "<path fill=\"none\" stroke=\"black\" d=\"M567,-431.7C567,-424.41 567,-415.73 567,-407.54\"/>\n",
       "<polygon fill=\"black\" stroke=\"black\" points=\"570.5,-407.62 567,-397.62 563.5,-407.62 570.5,-407.62\"/>\n",
       "</g>\n",
       "<!-- pcoll1891 -->\n",
       "<g id=\"node8\" class=\"node\">\n",
       "<title>pcoll1891</title>\n",
       "<ellipse fill=\"none\" stroke=\"blue\" cx=\"484\" cy=\"-306\" rx=\"18\" ry=\"18\"/>\n",
       "</g>\n",
       "<!-- SentenceEmbedding &#45; 70a52cb5&#45;f7d6&#45;434c&#45;8a38&#45;5238eeee0751&#45;&gt;pcoll1891 -->\n",
       "<g id=\"edge7\" class=\"edge\">\n",
       "<title>SentenceEmbedding &#45; 70a52cb5&#45;f7d6&#45;434c&#45;8a38&#45;5238eeee0751&#45;&gt;pcoll1891</title>\n",
       "<path fill=\"none\" stroke=\"black\" d=\"M546.48,-359.7C534.2,-349.34 518.59,-336.17 506.04,-325.59\"/>\n",
       "<polygon fill=\"black\" stroke=\"black\" points=\"508.6,-323.17 498.7,-319.39 504.08,-328.52 508.6,-323.17\"/>\n",
       "</g>\n",
       "<!-- pcoll1891&#45;&gt;CrossJoin &#45; 152c33af&#45;5555&#45;47b5&#45;9bf5&#45;25a09eb9e45e -->\n",
       "<g id=\"edge8\" class=\"edge\">\n",
       "<title>pcoll1891&#45;&gt;CrossJoin &#45; 152c33af&#45;5555&#45;47b5&#45;9bf5&#45;25a09eb9e45e</title>\n",
       "<path fill=\"none\" stroke=\"black\" d=\"M469.3,-295.56C454.59,-286.11 431.36,-271.19 411.64,-258.53\"/>\n",
       "<polygon fill=\"black\" stroke=\"black\" points=\"413.58,-255.62 403.28,-253.16 409.8,-261.51 413.58,-255.62\"/>\n",
       "</g>\n",
       "<!-- pcoll9233 -->\n",
       "<g id=\"node10\" class=\"node\">\n",
       "<title>pcoll9233</title>\n",
       "<ellipse fill=\"none\" stroke=\"blue\" cx=\"375\" cy=\"-162\" rx=\"18\" ry=\"18\"/>\n",
       "</g>\n",
       "<!-- CrossJoin &#45; 152c33af&#45;5555&#45;47b5&#45;9bf5&#45;25a09eb9e45e&#45;&gt;pcoll9233 -->\n",
       "<g id=\"edge9\" class=\"edge\">\n",
       "<title>CrossJoin &#45; 152c33af&#45;5555&#45;47b5&#45;9bf5&#45;25a09eb9e45e&#45;&gt;pcoll9233</title>\n",
       "<path fill=\"none\" stroke=\"black\" d=\"M375,-215.7C375,-208.41 375,-199.73 375,-191.54\"/>\n",
       "<polygon fill=\"black\" stroke=\"black\" points=\"378.5,-191.62 375,-181.62 371.5,-191.62 378.5,-191.62\"/>\n",
       "</g>\n",
       "<!-- CosSimilarity &#45; f39645de&#45;9e93&#45;44a3&#45;9fd1&#45;c5b2c3b880d9 -->\n",
       "<g id=\"node11\" class=\"node\">\n",
       "<title>CosSimilarity &#45; f39645de&#45;9e93&#45;44a3&#45;9fd1&#45;c5b2c3b880d9</title>\n",
       "<polygon fill=\"none\" stroke=\"blue\" points=\"540,-108 210,-108 210,-72 540,-72 540,-108\"/>\n",
       "<text text-anchor=\"middle\" x=\"375\" y=\"-86.3\" font-family=\"Times,serif\" font-size=\"14.00\" fill=\"blue\">CosSimilarity &#45; f39645de&#45;9e93&#45;44a3&#45;9fd1&#45;c5b2c3b880d9</text>\n",
       "</g>\n",
       "<!-- pcoll9233&#45;&gt;CosSimilarity &#45; f39645de&#45;9e93&#45;44a3&#45;9fd1&#45;c5b2c3b880d9 -->\n",
       "<g id=\"edge10\" class=\"edge\">\n",
       "<title>pcoll9233&#45;&gt;CosSimilarity &#45; f39645de&#45;9e93&#45;44a3&#45;9fd1&#45;c5b2c3b880d9</title>\n",
       "<path fill=\"none\" stroke=\"black\" d=\"M375,-143.7C375,-136.41 375,-127.73 375,-119.54\"/>\n",
       "<polygon fill=\"black\" stroke=\"black\" points=\"378.5,-119.62 375,-109.62 371.5,-119.62 378.5,-119.62\"/>\n",
       "</g>\n",
       "<!-- pcoll1333 -->\n",
       "<g id=\"node12\" class=\"node\">\n",
       "<title>pcoll1333</title>\n",
       "<ellipse fill=\"none\" stroke=\"blue\" cx=\"375\" cy=\"-18\" rx=\"18\" ry=\"18\"/>\n",
       "</g>\n",
       "<!-- CosSimilarity &#45; f39645de&#45;9e93&#45;44a3&#45;9fd1&#45;c5b2c3b880d9&#45;&gt;pcoll1333 -->\n",
       "<g id=\"edge11\" class=\"edge\">\n",
       "<title>CosSimilarity &#45; f39645de&#45;9e93&#45;44a3&#45;9fd1&#45;c5b2c3b880d9&#45;&gt;pcoll1333</title>\n",
       "<path fill=\"none\" stroke=\"black\" d=\"M375,-71.7C375,-64.41 375,-55.73 375,-47.54\"/>\n",
       "<polygon fill=\"black\" stroke=\"black\" points=\"378.5,-47.62 375,-37.62 371.5,-47.62 378.5,-47.62\"/>\n",
       "</g>\n",
       "</g>\n",
       "</svg>\n"
      ],
      "text/plain": [
       "<IPython.core.display.HTML object>"
      ]
     },
     "metadata": {},
     "output_type": "display_data"
    },
    {
     "data": {
      "application/javascript": [
       "\n",
       "        if (typeof window.interactive_beam_jquery == 'undefined') {\n",
       "          var jqueryScript = document.createElement('script');\n",
       "          jqueryScript.src = 'https://code.jquery.com/jquery-3.4.1.slim.min.js';\n",
       "          jqueryScript.type = 'text/javascript';\n",
       "          jqueryScript.onload = function() {\n",
       "            var datatableScript = document.createElement('script');\n",
       "            datatableScript.src = 'https://cdn.datatables.net/1.10.20/js/jquery.dataTables.min.js';\n",
       "            datatableScript.type = 'text/javascript';\n",
       "            datatableScript.onload = function() {\n",
       "              window.interactive_beam_jquery = jQuery.noConflict(true);\n",
       "              window.interactive_beam_jquery(document).ready(function($){\n",
       "                \n",
       "            $(\"#progress_indicator_c30dfbdfde75908da92af707c4efd944\").remove();\n",
       "              });\n",
       "            }\n",
       "            document.head.appendChild(datatableScript);\n",
       "          };\n",
       "          document.head.appendChild(jqueryScript);\n",
       "        } else {\n",
       "          window.interactive_beam_jquery(document).ready(function($){\n",
       "            \n",
       "            $(\"#progress_indicator_c30dfbdfde75908da92af707c4efd944\").remove();\n",
       "          });\n",
       "        }"
      ]
     },
     "metadata": {},
     "output_type": "display_data"
    }
   ],
   "source": [
    "new_model_1.show_graph()"
   ]
  },
  {
   "cell_type": "code",
   "execution_count": null,
   "id": "23db6a52-939a-4516-8e74-0016bb49ac55",
   "metadata": {},
   "outputs": [],
   "source": []
  }
 ],
 "metadata": {
  "kernelspec": {
   "display_name": "Python 3 (ipykernel)",
   "language": "python",
   "name": "python3"
  },
  "language_info": {
   "codemirror_mode": {
    "name": "ipython",
    "version": 3
   },
   "file_extension": ".py",
   "mimetype": "text/x-python",
   "name": "python",
   "nbconvert_exporter": "python",
   "pygments_lexer": "ipython3",
   "version": "3.9.13"
  }
 },
 "nbformat": 4,
 "nbformat_minor": 5
}
