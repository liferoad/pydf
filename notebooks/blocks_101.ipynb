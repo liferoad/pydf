{
 "cells": [
  {
   "cell_type": "code",
   "execution_count": 39,
   "id": "04c79c9c-0de2-4ed1-8582-39b009a5ec4e",
   "metadata": {},
   "outputs": [
    {
     "name": "stdout",
     "output_type": "stream",
     "text": [
      "The autoreload extension is already loaded. To reload it, use:\n",
      "  %reload_ext autoreload\n"
     ]
    }
   ],
   "source": [
    "%load_ext autoreload\n",
    "%autoreload 2"
   ]
  },
  {
   "cell_type": "code",
   "execution_count": 40,
   "id": "cb40c1ab-baa2-49cd-9031-f3de99b54c10",
   "metadata": {},
   "outputs": [],
   "source": [
    "from df import blocks as blocks"
   ]
  },
  {
   "attachments": {},
   "cell_type": "markdown",
   "id": "86edb753-f355-45d8-9153-489e65f51a51",
   "metadata": {},
   "source": [
    "**Only few pre-defined blocks are supported now but we can add more easily and add even more blocks specifically for ML feature engineering**\n",
    "Goal: use the terms familiar with data scientists to build the Beam pipeline"
   ]
  },
  {
   "cell_type": "markdown",
   "id": "49f15748-2f59-4e7d-9554-926e472f0b6b",
   "metadata": {},
   "source": [
    "# Simple sequential beam model"
   ]
  },
  {
   "cell_type": "code",
   "execution_count": 41,
   "id": "e4a0be0e-061f-40f4-a037-879b375648b8",
   "metadata": {},
   "outputs": [],
   "source": [
    "sentences = ['This framework generates embeddings for each input sentence',\n",
    "    'Sentences are passed as a list of string.', \n",
    "    'The quick brown fox jumps over the lazy dog.']"
   ]
  },
  {
   "cell_type": "code",
   "execution_count": 42,
   "id": "2a405218-c765-49a2-b2eb-7ae659affe9b",
   "metadata": {},
   "outputs": [],
   "source": [
    "create = blocks.CreateBlock(values = sentences)"
   ]
  },
  {
   "cell_type": "code",
   "execution_count": 43,
   "id": "b5f294ca-e1a7-4d9f-9eb9-e2a139bcc9ce",
   "metadata": {},
   "outputs": [
    {
     "data": {
      "text/plain": [
       "<Create(PTransform) label=[Create] at 0x2a3613e50>"
      ]
     },
     "execution_count": 43,
     "metadata": {},
     "output_type": "execute_result"
    }
   ],
   "source": [
    "create.operation"
   ]
  },
  {
   "cell_type": "code",
   "execution_count": 44,
   "id": "0f7e2181-81b4-47ad-9b41-abfefaf09dee",
   "metadata": {},
   "outputs": [
    {
     "data": {
      "text/plain": [
       "CreateBlock(block_type='Create', block_id=UUID('f448a157-d566-497d-9b23-c6ee6171c49d'), source_ids=[], target_ids=[], operation=<Create(PTransform) label=[Create] at 0x2a3613e50>, o=None, values=['This framework generates embeddings for each input sentence', 'Sentences are passed as a list of string.', 'The quick brown fox jumps over the lazy dog.'])"
      ]
     },
     "execution_count": 44,
     "metadata": {},
     "output_type": "execute_result"
    }
   ],
   "source": [
    "create"
   ]
  },
  {
   "cell_type": "code",
   "execution_count": 45,
   "id": "58d3f758-6929-4670-be73-256b7c1f28a4",
   "metadata": {},
   "outputs": [],
   "source": [
    "embed = blocks.SentenceEmbeddingBlock()"
   ]
  },
  {
   "cell_type": "code",
   "execution_count": 46,
   "id": "a7e2e372-8fec-4228-9cc1-4d48a7eefd23",
   "metadata": {},
   "outputs": [
    {
     "data": {
      "text/plain": [
       "'all-MiniLM-L6-v2'"
      ]
     },
     "execution_count": 46,
     "metadata": {},
     "output_type": "execute_result"
    }
   ],
   "source": [
    "embed.model_name"
   ]
  },
  {
   "cell_type": "code",
   "execution_count": 47,
   "id": "7ca529fc-4103-45a4-b8e6-4dea937806b5",
   "metadata": {},
   "outputs": [
    {
     "data": {
      "text/plain": [
       "<ParDo(PTransform) label=[Map(<lambda at blocks.py:136>)] at 0x2a36130a0>"
      ]
     },
     "execution_count": 47,
     "metadata": {},
     "output_type": "execute_result"
    }
   ],
   "source": [
    "embed.operation"
   ]
  },
  {
   "cell_type": "code",
   "execution_count": 48,
   "id": "20a76956-cee8-4ad4-8964-f11344b62ae6",
   "metadata": {},
   "outputs": [],
   "source": [
    "model = blocks.BlockAssembler.Sequential([create, embed])"
   ]
  },
  {
   "cell_type": "code",
   "execution_count": 49,
   "id": "9c70096a-5fdd-45b1-8b1c-825f92eb7d07",
   "metadata": {},
   "outputs": [],
   "source": [
    "model.compile()"
   ]
  },
  {
   "cell_type": "code",
   "execution_count": 50,
   "id": "4ee2e711-935e-4181-89a6-950bd9ae92b1",
   "metadata": {},
   "outputs": [
    {
     "data": {
      "text/plain": [
       "2"
      ]
     },
     "execution_count": 50,
     "metadata": {},
     "output_type": "execute_result"
    }
   ],
   "source": [
    "len(model.blocks)"
   ]
  },
  {
   "cell_type": "code",
   "execution_count": 51,
   "id": "865585bc-abcb-487b-82a4-2a01df0ec89b",
   "metadata": {},
   "outputs": [
    {
     "data": {
      "text/html": [
       "\n",
       "            <link rel=\"stylesheet\" href=\"https://stackpath.bootstrapcdn.com/bootstrap/4.4.1/css/bootstrap.min.css\" integrity=\"sha384-Vkoo8x4CGsO3+Hhxv8T/Q5PaXtkKtu6ug5TOeNV6gBiFeWPGFN9MuhOf23Q9Ifjh\" crossorigin=\"anonymous\">\n",
       "            <div id=\"progress_indicator_9ae94463bad93ad0e2b4b77ee436a6e7\">\n",
       "              <div class=\"spinner-border text-info\" role=\"status\"></div>\n",
       "              <span class=\"text-info\">Processing... show_graph</span>\n",
       "            </div>\n",
       "            "
      ],
      "text/plain": [
       "<IPython.core.display.HTML object>"
      ]
     },
     "metadata": {},
     "output_type": "display_data"
    },
    {
     "name": "stdout",
     "output_type": "stream",
     "text": [
      "huggingface/tokenizers: The current process just got forked, after parallelism has already been used. Disabling parallelism to avoid deadlocks...\n",
      "To disable this warning, you can either:\n",
      "\t- Avoid using `tokenizers` before the fork if possible\n",
      "\t- Explicitly set the environment variable TOKENIZERS_PARALLELISM=(true | false)\n",
      "/Users/xqhu/homebrew/bin/dot\n",
      "huggingface/tokenizers: The current process just got forked, after parallelism has already been used. Disabling parallelism to avoid deadlocks...\n",
      "To disable this warning, you can either:\n",
      "\t- Avoid using `tokenizers` before the fork if possible\n",
      "\t- Explicitly set the environment variable TOKENIZERS_PARALLELISM=(true | false)\n"
     ]
    },
    {
     "data": {
      "text/html": [
       "<?xml version=\"1.0\" encoding=\"UTF-8\" standalone=\"no\"?>\n",
       "<!DOCTYPE svg PUBLIC \"-//W3C//DTD SVG 1.1//EN\"\n",
       " \"http://www.w3.org/Graphics/SVG/1.1/DTD/svg11.dtd\">\n",
       "<!-- Generated by graphviz version 7.0.5 (20221223.1930)\n",
       " -->\n",
       "<!-- Title: G Pages: 1 -->\n",
       "<svg width=\"374pt\" height=\"260pt\"\n",
       " viewBox=\"0.00 0.00 374.00 260.00\" xmlns=\"http://www.w3.org/2000/svg\" xmlns:xlink=\"http://www.w3.org/1999/xlink\">\n",
       "<g id=\"graph0\" class=\"graph\" transform=\"scale(1 1) rotate(0) translate(4 256)\">\n",
       "<title>G</title>\n",
       "<polygon fill=\"white\" stroke=\"none\" points=\"-4,4 -4,-256 370,-256 370,4 -4,4\"/>\n",
       "<!-- Create &#45; f448a157&#45;d566&#45;497d&#45;9b23&#45;c6ee6171c49d -->\n",
       "<g id=\"node1\" class=\"node\">\n",
       "<title>Create &#45; f448a157&#45;d566&#45;497d&#45;9b23&#45;c6ee6171c49d</title>\n",
       "<polygon fill=\"none\" stroke=\"blue\" points=\"329,-252 37,-252 37,-216 329,-216 329,-252\"/>\n",
       "<text text-anchor=\"middle\" x=\"183\" y=\"-230.3\" font-family=\"Times,serif\" font-size=\"14.00\" fill=\"blue\">Create &#45; f448a157&#45;d566&#45;497d&#45;9b23&#45;c6ee6171c49d</text>\n",
       "</g>\n",
       "<!-- pcoll7528 -->\n",
       "<g id=\"node2\" class=\"node\">\n",
       "<title>pcoll7528</title>\n",
       "<ellipse fill=\"none\" stroke=\"blue\" cx=\"183\" cy=\"-162\" rx=\"18\" ry=\"18\"/>\n",
       "</g>\n",
       "<!-- Create &#45; f448a157&#45;d566&#45;497d&#45;9b23&#45;c6ee6171c49d&#45;&gt;pcoll7528 -->\n",
       "<g id=\"edge1\" class=\"edge\">\n",
       "<title>Create &#45; f448a157&#45;d566&#45;497d&#45;9b23&#45;c6ee6171c49d&#45;&gt;pcoll7528</title>\n",
       "<path fill=\"none\" stroke=\"black\" d=\"M183,-215.7C183,-208.41 183,-199.73 183,-191.54\"/>\n",
       "<polygon fill=\"black\" stroke=\"black\" points=\"186.5,-191.62 183,-181.62 179.5,-191.62 186.5,-191.62\"/>\n",
       "</g>\n",
       "<!-- SentenceEmbedding &#45; 694fef2e&#45;015b&#45;4d68&#45;b1d8&#45;cc68999c9176 -->\n",
       "<g id=\"node3\" class=\"node\">\n",
       "<title>SentenceEmbedding &#45; 694fef2e&#45;015b&#45;4d68&#45;b1d8&#45;cc68999c9176</title>\n",
       "<polygon fill=\"none\" stroke=\"blue\" points=\"366,-108 0,-108 0,-72 366,-72 366,-108\"/>\n",
       "<text text-anchor=\"middle\" x=\"183\" y=\"-86.3\" font-family=\"Times,serif\" font-size=\"14.00\" fill=\"blue\">SentenceEmbedding &#45; 694fef2e&#45;015b&#45;4d68&#45;b1d8&#45;cc68999c9176</text>\n",
       "</g>\n",
       "<!-- pcoll7528&#45;&gt;SentenceEmbedding &#45; 694fef2e&#45;015b&#45;4d68&#45;b1d8&#45;cc68999c9176 -->\n",
       "<g id=\"edge2\" class=\"edge\">\n",
       "<title>pcoll7528&#45;&gt;SentenceEmbedding &#45; 694fef2e&#45;015b&#45;4d68&#45;b1d8&#45;cc68999c9176</title>\n",
       "<path fill=\"none\" stroke=\"black\" d=\"M183,-143.7C183,-136.41 183,-127.73 183,-119.54\"/>\n",
       "<polygon fill=\"black\" stroke=\"black\" points=\"186.5,-119.62 183,-109.62 179.5,-119.62 186.5,-119.62\"/>\n",
       "</g>\n",
       "<!-- pcoll7812 -->\n",
       "<g id=\"node4\" class=\"node\">\n",
       "<title>pcoll7812</title>\n",
       "<ellipse fill=\"none\" stroke=\"blue\" cx=\"183\" cy=\"-18\" rx=\"18\" ry=\"18\"/>\n",
       "</g>\n",
       "<!-- SentenceEmbedding &#45; 694fef2e&#45;015b&#45;4d68&#45;b1d8&#45;cc68999c9176&#45;&gt;pcoll7812 -->\n",
       "<g id=\"edge3\" class=\"edge\">\n",
       "<title>SentenceEmbedding &#45; 694fef2e&#45;015b&#45;4d68&#45;b1d8&#45;cc68999c9176&#45;&gt;pcoll7812</title>\n",
       "<path fill=\"none\" stroke=\"black\" d=\"M183,-71.7C183,-64.41 183,-55.73 183,-47.54\"/>\n",
       "<polygon fill=\"black\" stroke=\"black\" points=\"186.5,-47.62 183,-37.62 179.5,-47.62 186.5,-47.62\"/>\n",
       "</g>\n",
       "</g>\n",
       "</svg>\n"
      ],
      "text/plain": [
       "<IPython.core.display.HTML object>"
      ]
     },
     "metadata": {},
     "output_type": "display_data"
    },
    {
     "data": {
      "application/javascript": "\n        if (typeof window.interactive_beam_jquery == 'undefined') {\n          var jqueryScript = document.createElement('script');\n          jqueryScript.src = 'https://code.jquery.com/jquery-3.4.1.slim.min.js';\n          jqueryScript.type = 'text/javascript';\n          jqueryScript.onload = function() {\n            var datatableScript = document.createElement('script');\n            datatableScript.src = 'https://cdn.datatables.net/1.10.20/js/jquery.dataTables.min.js';\n            datatableScript.type = 'text/javascript';\n            datatableScript.onload = function() {\n              window.interactive_beam_jquery = jQuery.noConflict(true);\n              window.interactive_beam_jquery(document).ready(function($){\n                \n            $(\"#progress_indicator_9ae94463bad93ad0e2b4b77ee436a6e7\").remove();\n              });\n            }\n            document.head.appendChild(datatableScript);\n          };\n          document.head.appendChild(jqueryScript);\n        } else {\n          window.interactive_beam_jquery(document).ready(function($){\n            \n            $(\"#progress_indicator_9ae94463bad93ad0e2b4b77ee436a6e7\").remove();\n          });\n        }"
     },
     "metadata": {},
     "output_type": "display_data"
    }
   ],
   "source": [
    "model.show_graph()"
   ]
  },
  {
   "cell_type": "code",
   "execution_count": 52,
   "id": "113e09c6-177d-4314-80ba-21d7d58c1bec",
   "metadata": {},
   "outputs": [
    {
     "data": {
      "text/html": [
       "\n",
       "            <link rel=\"stylesheet\" href=\"https://stackpath.bootstrapcdn.com/bootstrap/4.4.1/css/bootstrap.min.css\" integrity=\"sha384-Vkoo8x4CGsO3+Hhxv8T/Q5PaXtkKtu6ug5TOeNV6gBiFeWPGFN9MuhOf23Q9Ifjh\" crossorigin=\"anonymous\">\n",
       "            <div id=\"progress_indicator_4e79ef3165eedda53c775a9eb61b8bbc\">\n",
       "              <div class=\"spinner-border text-info\" role=\"status\"></div>\n",
       "              <span class=\"text-info\">Processing... collect</span>\n",
       "            </div>\n",
       "            "
      ],
      "text/plain": [
       "<IPython.core.display.HTML object>"
      ]
     },
     "metadata": {},
     "output_type": "display_data"
    },
    {
     "data": {
      "application/javascript": "\n        if (typeof window.interactive_beam_jquery == 'undefined') {\n          var jqueryScript = document.createElement('script');\n          jqueryScript.src = 'https://code.jquery.com/jquery-3.4.1.slim.min.js';\n          jqueryScript.type = 'text/javascript';\n          jqueryScript.onload = function() {\n            var datatableScript = document.createElement('script');\n            datatableScript.src = 'https://cdn.datatables.net/1.10.20/js/jquery.dataTables.min.js';\n            datatableScript.type = 'text/javascript';\n            datatableScript.onload = function() {\n              window.interactive_beam_jquery = jQuery.noConflict(true);\n              window.interactive_beam_jquery(document).ready(function($){\n                \n            $(\"#progress_indicator_4e79ef3165eedda53c775a9eb61b8bbc\").remove();\n              });\n            }\n            document.head.appendChild(datatableScript);\n          };\n          document.head.appendChild(jqueryScript);\n        } else {\n          window.interactive_beam_jquery(document).ready(function($){\n            \n            $(\"#progress_indicator_4e79ef3165eedda53c775a9eb61b8bbc\").remove();\n          });\n        }"
     },
     "metadata": {},
     "output_type": "display_data"
    },
    {
     "data": {
      "text/html": [
       "<div>\n",
       "<style scoped>\n",
       "    .dataframe tbody tr th:only-of-type {\n",
       "        vertical-align: middle;\n",
       "    }\n",
       "\n",
       "    .dataframe tbody tr th {\n",
       "        vertical-align: top;\n",
       "    }\n",
       "\n",
       "    .dataframe thead th {\n",
       "        text-align: right;\n",
       "    }\n",
       "</style>\n",
       "<table border=\"1\" class=\"dataframe\">\n",
       "  <thead>\n",
       "    <tr style=\"text-align: right;\">\n",
       "      <th></th>\n",
       "      <th>0</th>\n",
       "    </tr>\n",
       "  </thead>\n",
       "  <tbody>\n",
       "    <tr>\n",
       "      <th>0</th>\n",
       "      <td>This framework generates embeddings for each i...</td>\n",
       "    </tr>\n",
       "    <tr>\n",
       "      <th>1</th>\n",
       "      <td>Sentences are passed as a list of string.</td>\n",
       "    </tr>\n",
       "    <tr>\n",
       "      <th>2</th>\n",
       "      <td>The quick brown fox jumps over the lazy dog.</td>\n",
       "    </tr>\n",
       "  </tbody>\n",
       "</table>\n",
       "</div>"
      ],
      "text/plain": [
       "                                                   0\n",
       "0  This framework generates embeddings for each i...\n",
       "1          Sentences are passed as a list of string.\n",
       "2       The quick brown fox jumps over the lazy dog."
      ]
     },
     "execution_count": 52,
     "metadata": {},
     "output_type": "execute_result"
    }
   ],
   "source": [
    "model.block_data(model.blocks[0])"
   ]
  },
  {
   "cell_type": "code",
   "execution_count": 53,
   "id": "808cfc4d-de90-4ed4-9f48-6d28c01fb89d",
   "metadata": {},
   "outputs": [
    {
     "data": {
      "text/html": [
       "\n",
       "            <link rel=\"stylesheet\" href=\"https://stackpath.bootstrapcdn.com/bootstrap/4.4.1/css/bootstrap.min.css\" integrity=\"sha384-Vkoo8x4CGsO3+Hhxv8T/Q5PaXtkKtu6ug5TOeNV6gBiFeWPGFN9MuhOf23Q9Ifjh\" crossorigin=\"anonymous\">\n",
       "            <div id=\"progress_indicator_e6eb8025acbd15cb9d73cefda85cc3df\">\n",
       "              <div class=\"spinner-border text-info\" role=\"status\"></div>\n",
       "              <span class=\"text-info\">Processing... collect</span>\n",
       "            </div>\n",
       "            "
      ],
      "text/plain": [
       "<IPython.core.display.HTML object>"
      ]
     },
     "metadata": {},
     "output_type": "display_data"
    },
    {
     "data": {
      "application/javascript": "\n        if (typeof window.interactive_beam_jquery == 'undefined') {\n          var jqueryScript = document.createElement('script');\n          jqueryScript.src = 'https://code.jquery.com/jquery-3.4.1.slim.min.js';\n          jqueryScript.type = 'text/javascript';\n          jqueryScript.onload = function() {\n            var datatableScript = document.createElement('script');\n            datatableScript.src = 'https://cdn.datatables.net/1.10.20/js/jquery.dataTables.min.js';\n            datatableScript.type = 'text/javascript';\n            datatableScript.onload = function() {\n              window.interactive_beam_jquery = jQuery.noConflict(true);\n              window.interactive_beam_jquery(document).ready(function($){\n                \n            $(\"#progress_indicator_e6eb8025acbd15cb9d73cefda85cc3df\").remove();\n              });\n            }\n            document.head.appendChild(datatableScript);\n          };\n          document.head.appendChild(jqueryScript);\n        } else {\n          window.interactive_beam_jquery(document).ready(function($){\n            \n            $(\"#progress_indicator_e6eb8025acbd15cb9d73cefda85cc3df\").remove();\n          });\n        }"
     },
     "metadata": {},
     "output_type": "display_data"
    },
    {
     "data": {
      "text/html": [
       "<div>\n",
       "<style scoped>\n",
       "    .dataframe tbody tr th:only-of-type {\n",
       "        vertical-align: middle;\n",
       "    }\n",
       "\n",
       "    .dataframe tbody tr th {\n",
       "        vertical-align: top;\n",
       "    }\n",
       "\n",
       "    .dataframe thead th {\n",
       "        text-align: right;\n",
       "    }\n",
       "</style>\n",
       "<table border=\"1\" class=\"dataframe\">\n",
       "  <thead>\n",
       "    <tr style=\"text-align: right;\">\n",
       "      <th></th>\n",
       "      <th>0</th>\n",
       "    </tr>\n",
       "  </thead>\n",
       "  <tbody>\n",
       "    <tr>\n",
       "      <th>0</th>\n",
       "      <td>[-0.013717398, -0.042851556, -0.01562865, 0.01...</td>\n",
       "    </tr>\n",
       "    <tr>\n",
       "      <th>1</th>\n",
       "      <td>[0.0564525, 0.05500244, 0.031379532, 0.0339484...</td>\n",
       "    </tr>\n",
       "    <tr>\n",
       "      <th>2</th>\n",
       "      <td>[0.043933515, 0.05893439, 0.04817844, 0.077548...</td>\n",
       "    </tr>\n",
       "  </tbody>\n",
       "</table>\n",
       "</div>"
      ],
      "text/plain": [
       "                                                   0\n",
       "0  [-0.013717398, -0.042851556, -0.01562865, 0.01...\n",
       "1  [0.0564525, 0.05500244, 0.031379532, 0.0339484...\n",
       "2  [0.043933515, 0.05893439, 0.04817844, 0.077548..."
      ]
     },
     "execution_count": 53,
     "metadata": {},
     "output_type": "execute_result"
    }
   ],
   "source": [
    "model.block_data(model.blocks[1])"
   ]
  },
  {
   "cell_type": "code",
   "execution_count": 54,
   "id": "b3723bb0-312f-4f8c-8152-18093a43161c",
   "metadata": {},
   "outputs": [
    {
     "data": {
      "text/plain": [
       "'{\"block_type\": \"SentenceEmbedding\", \"block_id\": \"694fef2e-015b-4d68-b1d8-cc68999c9176\", \"source_ids\": [\"f448a157-d566-497d-9b23-c6ee6171c49d\"], \"target_ids\": [], \"model_name\": \"all-MiniLM-L6-v2\"}'"
      ]
     },
     "execution_count": 54,
     "metadata": {},
     "output_type": "execute_result"
    }
   ],
   "source": [
    "model.blocks[1].json(exclude={\"operation\", \"o\"})"
   ]
  },
  {
   "cell_type": "markdown",
   "id": "91597325-102a-46c1-92f0-d9df0e52d188",
   "metadata": {},
   "source": [
    "# Support the json config"
   ]
  },
  {
   "cell_type": "code",
   "execution_count": 55,
   "id": "0f78d865-3aa0-47a5-99ff-71d551a2d8d9",
   "metadata": {},
   "outputs": [],
   "source": [
    "model_in_json = model.to_json(indent=2)"
   ]
  },
  {
   "cell_type": "code",
   "execution_count": 56,
   "id": "b9766958-ee94-4860-b03f-76996689e1c9",
   "metadata": {},
   "outputs": [
    {
     "name": "stdout",
     "output_type": "stream",
     "text": [
      "{\n",
      "  \"blocks\": [\n",
      "    {\n",
      "      \"block_type\": \"Create\",\n",
      "      \"block_id\": \"f448a157-d566-497d-9b23-c6ee6171c49d\",\n",
      "      \"source_ids\": [],\n",
      "      \"target_ids\": [\n",
      "        \"694fef2e-015b-4d68-b1d8-cc68999c9176\"\n",
      "      ],\n",
      "      \"values\": [\n",
      "        \"This framework generates embeddings for each input sentence\",\n",
      "        \"Sentences are passed as a list of string.\",\n",
      "        \"The quick brown fox jumps over the lazy dog.\"\n",
      "      ]\n",
      "    },\n",
      "    {\n",
      "      \"block_type\": \"SentenceEmbedding\",\n",
      "      \"block_id\": \"694fef2e-015b-4d68-b1d8-cc68999c9176\",\n",
      "      \"source_ids\": [\n",
      "        \"f448a157-d566-497d-9b23-c6ee6171c49d\"\n",
      "      ],\n",
      "      \"target_ids\": [],\n",
      "      \"model_name\": \"all-MiniLM-L6-v2\"\n",
      "    }\n",
      "  ],\n",
      "  \"model_type\": \"SEQUENTIAL\"\n",
      "}\n"
     ]
    }
   ],
   "source": [
    "print(model_in_json)"
   ]
  },
  {
   "cell_type": "code",
   "execution_count": 57,
   "id": "45837cb7-a917-4b9c-8234-6d20b0450747",
   "metadata": {},
   "outputs": [],
   "source": [
    "new_model = blocks.BlockAssembler.from_json(model_in_json)"
   ]
  },
  {
   "cell_type": "code",
   "execution_count": 58,
   "id": "ca4a8802-11ea-42a7-8c55-db5467221100",
   "metadata": {},
   "outputs": [],
   "source": [
    "new_model.compile()"
   ]
  },
  {
   "cell_type": "code",
   "execution_count": 59,
   "id": "d34b4c05-b557-4c11-8511-7a19fdcdbcc0",
   "metadata": {},
   "outputs": [
    {
     "data": {
      "text/html": [
       "\n",
       "            <link rel=\"stylesheet\" href=\"https://stackpath.bootstrapcdn.com/bootstrap/4.4.1/css/bootstrap.min.css\" integrity=\"sha384-Vkoo8x4CGsO3+Hhxv8T/Q5PaXtkKtu6ug5TOeNV6gBiFeWPGFN9MuhOf23Q9Ifjh\" crossorigin=\"anonymous\">\n",
       "            <div id=\"progress_indicator_0b88b498985b696dc7584a182f14b8a0\">\n",
       "              <div class=\"spinner-border text-info\" role=\"status\"></div>\n",
       "              <span class=\"text-info\">Processing... show_graph</span>\n",
       "            </div>\n",
       "            "
      ],
      "text/plain": [
       "<IPython.core.display.HTML object>"
      ]
     },
     "metadata": {},
     "output_type": "display_data"
    },
    {
     "name": "stdout",
     "output_type": "stream",
     "text": [
      "huggingface/tokenizers: The current process just got forked, after parallelism has already been used. Disabling parallelism to avoid deadlocks...\n",
      "To disable this warning, you can either:\n",
      "\t- Avoid using `tokenizers` before the fork if possible\n",
      "\t- Explicitly set the environment variable TOKENIZERS_PARALLELISM=(true | false)\n",
      "/Users/xqhu/homebrew/bin/dot\n",
      "huggingface/tokenizers: The current process just got forked, after parallelism has already been used. Disabling parallelism to avoid deadlocks...\n",
      "To disable this warning, you can either:\n",
      "\t- Avoid using `tokenizers` before the fork if possible\n",
      "\t- Explicitly set the environment variable TOKENIZERS_PARALLELISM=(true | false)\n"
     ]
    },
    {
     "data": {
      "text/html": [
       "<?xml version=\"1.0\" encoding=\"UTF-8\" standalone=\"no\"?>\n",
       "<!DOCTYPE svg PUBLIC \"-//W3C//DTD SVG 1.1//EN\"\n",
       " \"http://www.w3.org/Graphics/SVG/1.1/DTD/svg11.dtd\">\n",
       "<!-- Generated by graphviz version 7.0.5 (20221223.1930)\n",
       " -->\n",
       "<!-- Title: G Pages: 1 -->\n",
       "<svg width=\"374pt\" height=\"260pt\"\n",
       " viewBox=\"0.00 0.00 374.00 260.00\" xmlns=\"http://www.w3.org/2000/svg\" xmlns:xlink=\"http://www.w3.org/1999/xlink\">\n",
       "<g id=\"graph0\" class=\"graph\" transform=\"scale(1 1) rotate(0) translate(4 256)\">\n",
       "<title>G</title>\n",
       "<polygon fill=\"white\" stroke=\"none\" points=\"-4,4 -4,-256 370,-256 370,4 -4,4\"/>\n",
       "<!-- Create &#45; f448a157&#45;d566&#45;497d&#45;9b23&#45;c6ee6171c49d -->\n",
       "<g id=\"node1\" class=\"node\">\n",
       "<title>Create &#45; f448a157&#45;d566&#45;497d&#45;9b23&#45;c6ee6171c49d</title>\n",
       "<polygon fill=\"none\" stroke=\"blue\" points=\"329,-252 37,-252 37,-216 329,-216 329,-252\"/>\n",
       "<text text-anchor=\"middle\" x=\"183\" y=\"-230.3\" font-family=\"Times,serif\" font-size=\"14.00\" fill=\"blue\">Create &#45; f448a157&#45;d566&#45;497d&#45;9b23&#45;c6ee6171c49d</text>\n",
       "</g>\n",
       "<!-- pcoll7528 -->\n",
       "<g id=\"node2\" class=\"node\">\n",
       "<title>pcoll7528</title>\n",
       "<ellipse fill=\"none\" stroke=\"blue\" cx=\"183\" cy=\"-162\" rx=\"18\" ry=\"18\"/>\n",
       "</g>\n",
       "<!-- Create &#45; f448a157&#45;d566&#45;497d&#45;9b23&#45;c6ee6171c49d&#45;&gt;pcoll7528 -->\n",
       "<g id=\"edge1\" class=\"edge\">\n",
       "<title>Create &#45; f448a157&#45;d566&#45;497d&#45;9b23&#45;c6ee6171c49d&#45;&gt;pcoll7528</title>\n",
       "<path fill=\"none\" stroke=\"black\" d=\"M183,-215.7C183,-208.41 183,-199.73 183,-191.54\"/>\n",
       "<polygon fill=\"black\" stroke=\"black\" points=\"186.5,-191.62 183,-181.62 179.5,-191.62 186.5,-191.62\"/>\n",
       "</g>\n",
       "<!-- SentenceEmbedding &#45; 694fef2e&#45;015b&#45;4d68&#45;b1d8&#45;cc68999c9176 -->\n",
       "<g id=\"node3\" class=\"node\">\n",
       "<title>SentenceEmbedding &#45; 694fef2e&#45;015b&#45;4d68&#45;b1d8&#45;cc68999c9176</title>\n",
       "<polygon fill=\"none\" stroke=\"blue\" points=\"366,-108 0,-108 0,-72 366,-72 366,-108\"/>\n",
       "<text text-anchor=\"middle\" x=\"183\" y=\"-86.3\" font-family=\"Times,serif\" font-size=\"14.00\" fill=\"blue\">SentenceEmbedding &#45; 694fef2e&#45;015b&#45;4d68&#45;b1d8&#45;cc68999c9176</text>\n",
       "</g>\n",
       "<!-- pcoll7528&#45;&gt;SentenceEmbedding &#45; 694fef2e&#45;015b&#45;4d68&#45;b1d8&#45;cc68999c9176 -->\n",
       "<g id=\"edge2\" class=\"edge\">\n",
       "<title>pcoll7528&#45;&gt;SentenceEmbedding &#45; 694fef2e&#45;015b&#45;4d68&#45;b1d8&#45;cc68999c9176</title>\n",
       "<path fill=\"none\" stroke=\"black\" d=\"M183,-143.7C183,-136.41 183,-127.73 183,-119.54\"/>\n",
       "<polygon fill=\"black\" stroke=\"black\" points=\"186.5,-119.62 183,-109.62 179.5,-119.62 186.5,-119.62\"/>\n",
       "</g>\n",
       "<!-- pcoll7812 -->\n",
       "<g id=\"node4\" class=\"node\">\n",
       "<title>pcoll7812</title>\n",
       "<ellipse fill=\"none\" stroke=\"blue\" cx=\"183\" cy=\"-18\" rx=\"18\" ry=\"18\"/>\n",
       "</g>\n",
       "<!-- SentenceEmbedding &#45; 694fef2e&#45;015b&#45;4d68&#45;b1d8&#45;cc68999c9176&#45;&gt;pcoll7812 -->\n",
       "<g id=\"edge3\" class=\"edge\">\n",
       "<title>SentenceEmbedding &#45; 694fef2e&#45;015b&#45;4d68&#45;b1d8&#45;cc68999c9176&#45;&gt;pcoll7812</title>\n",
       "<path fill=\"none\" stroke=\"black\" d=\"M183,-71.7C183,-64.41 183,-55.73 183,-47.54\"/>\n",
       "<polygon fill=\"black\" stroke=\"black\" points=\"186.5,-47.62 183,-37.62 179.5,-47.62 186.5,-47.62\"/>\n",
       "</g>\n",
       "</g>\n",
       "</svg>\n"
      ],
      "text/plain": [
       "<IPython.core.display.HTML object>"
      ]
     },
     "metadata": {},
     "output_type": "display_data"
    },
    {
     "data": {
      "application/javascript": "\n        if (typeof window.interactive_beam_jquery == 'undefined') {\n          var jqueryScript = document.createElement('script');\n          jqueryScript.src = 'https://code.jquery.com/jquery-3.4.1.slim.min.js';\n          jqueryScript.type = 'text/javascript';\n          jqueryScript.onload = function() {\n            var datatableScript = document.createElement('script');\n            datatableScript.src = 'https://cdn.datatables.net/1.10.20/js/jquery.dataTables.min.js';\n            datatableScript.type = 'text/javascript';\n            datatableScript.onload = function() {\n              window.interactive_beam_jquery = jQuery.noConflict(true);\n              window.interactive_beam_jquery(document).ready(function($){\n                \n            $(\"#progress_indicator_0b88b498985b696dc7584a182f14b8a0\").remove();\n              });\n            }\n            document.head.appendChild(datatableScript);\n          };\n          document.head.appendChild(jqueryScript);\n        } else {\n          window.interactive_beam_jquery(document).ready(function($){\n            \n            $(\"#progress_indicator_0b88b498985b696dc7584a182f14b8a0\").remove();\n          });\n        }"
     },
     "metadata": {},
     "output_type": "display_data"
    }
   ],
   "source": [
    "new_model.show_graph()"
   ]
  },
  {
   "cell_type": "code",
   "execution_count": 60,
   "id": "8ff4cf7b-17a8-4e80-9535-50db3f7e9533",
   "metadata": {},
   "outputs": [
    {
     "data": {
      "text/html": [
       "\n",
       "            <link rel=\"stylesheet\" href=\"https://stackpath.bootstrapcdn.com/bootstrap/4.4.1/css/bootstrap.min.css\" integrity=\"sha384-Vkoo8x4CGsO3+Hhxv8T/Q5PaXtkKtu6ug5TOeNV6gBiFeWPGFN9MuhOf23Q9Ifjh\" crossorigin=\"anonymous\">\n",
       "            <div id=\"progress_indicator_7bac127dc9e7573ce0310268f534c293\">\n",
       "              <div class=\"spinner-border text-info\" role=\"status\"></div>\n",
       "              <span class=\"text-info\">Processing... collect</span>\n",
       "            </div>\n",
       "            "
      ],
      "text/plain": [
       "<IPython.core.display.HTML object>"
      ]
     },
     "metadata": {},
     "output_type": "display_data"
    },
    {
     "data": {
      "application/javascript": "\n        if (typeof window.interactive_beam_jquery == 'undefined') {\n          var jqueryScript = document.createElement('script');\n          jqueryScript.src = 'https://code.jquery.com/jquery-3.4.1.slim.min.js';\n          jqueryScript.type = 'text/javascript';\n          jqueryScript.onload = function() {\n            var datatableScript = document.createElement('script');\n            datatableScript.src = 'https://cdn.datatables.net/1.10.20/js/jquery.dataTables.min.js';\n            datatableScript.type = 'text/javascript';\n            datatableScript.onload = function() {\n              window.interactive_beam_jquery = jQuery.noConflict(true);\n              window.interactive_beam_jquery(document).ready(function($){\n                \n            $(\"#progress_indicator_7bac127dc9e7573ce0310268f534c293\").remove();\n              });\n            }\n            document.head.appendChild(datatableScript);\n          };\n          document.head.appendChild(jqueryScript);\n        } else {\n          window.interactive_beam_jquery(document).ready(function($){\n            \n            $(\"#progress_indicator_7bac127dc9e7573ce0310268f534c293\").remove();\n          });\n        }"
     },
     "metadata": {},
     "output_type": "display_data"
    },
    {
     "data": {
      "text/html": [
       "<div>\n",
       "<style scoped>\n",
       "    .dataframe tbody tr th:only-of-type {\n",
       "        vertical-align: middle;\n",
       "    }\n",
       "\n",
       "    .dataframe tbody tr th {\n",
       "        vertical-align: top;\n",
       "    }\n",
       "\n",
       "    .dataframe thead th {\n",
       "        text-align: right;\n",
       "    }\n",
       "</style>\n",
       "<table border=\"1\" class=\"dataframe\">\n",
       "  <thead>\n",
       "    <tr style=\"text-align: right;\">\n",
       "      <th></th>\n",
       "      <th>0</th>\n",
       "    </tr>\n",
       "  </thead>\n",
       "  <tbody>\n",
       "    <tr>\n",
       "      <th>0</th>\n",
       "      <td>[-0.013717398, -0.042851556, -0.01562865, 0.01...</td>\n",
       "    </tr>\n",
       "    <tr>\n",
       "      <th>1</th>\n",
       "      <td>[0.0564525, 0.05500244, 0.031379532, 0.0339484...</td>\n",
       "    </tr>\n",
       "    <tr>\n",
       "      <th>2</th>\n",
       "      <td>[0.043933515, 0.05893439, 0.04817844, 0.077548...</td>\n",
       "    </tr>\n",
       "  </tbody>\n",
       "</table>\n",
       "</div>"
      ],
      "text/plain": [
       "                                                   0\n",
       "0  [-0.013717398, -0.042851556, -0.01562865, 0.01...\n",
       "1  [0.0564525, 0.05500244, 0.031379532, 0.0339484...\n",
       "2  [0.043933515, 0.05893439, 0.04817844, 0.077548..."
      ]
     },
     "execution_count": 60,
     "metadata": {},
     "output_type": "execute_result"
    }
   ],
   "source": [
    "new_model.block_data(new_model.blocks[1])"
   ]
  },
  {
   "cell_type": "markdown",
   "id": "3b7f7fe6-2695-4bd8-82b7-b0475b31a84f",
   "metadata": {},
   "source": [
    "# Use Functional API to build more complicated models"
   ]
  },
  {
   "cell_type": "code",
   "execution_count": 61,
   "id": "3cc2c221-4deb-440e-bf2a-ebec5efd3312",
   "metadata": {},
   "outputs": [],
   "source": [
    "create_1 = blocks.CreateBlock(values = sentences)\n",
    "embed_1 = blocks.SentenceEmbeddingBlock()([create_1])"
   ]
  },
  {
   "cell_type": "code",
   "execution_count": 62,
   "id": "6b40925f-87b5-4634-a05c-2c891e799b2d",
   "metadata": {},
   "outputs": [],
   "source": [
    "target_sentences = ['This framework is for testing']\n",
    "create_2 = blocks.CreateBlock(values = target_sentences)\n",
    "embed_2 = blocks.SentenceEmbeddingBlock()([create_2])"
   ]
  },
  {
   "cell_type": "code",
   "execution_count": 63,
   "id": "3a67b26e-ab1b-4fba-9bb3-d8ec66839054",
   "metadata": {},
   "outputs": [],
   "source": [
    "cross = blocks.CrossJoinBlock()([embed_1, embed_2])"
   ]
  },
  {
   "cell_type": "code",
   "execution_count": 64,
   "id": "6eaae757-e3ea-481e-ad99-296428413e61",
   "metadata": {},
   "outputs": [
    {
     "data": {
      "text/plain": [
       "CrossJoinBlock(block_type='CrossJoin', block_id=UUID('23d22d17-984d-4b39-8142-72423ec7f2e9'), source_ids=[UUID('c10b1f90-d82e-4c53-91d7-e526e87be9a1'), UUID('d3218632-a0a8-42f4-88f3-47353456b1fe')], target_ids=[], operation=None, o=None)"
      ]
     },
     "execution_count": 64,
     "metadata": {},
     "output_type": "execute_result"
    }
   ],
   "source": [
    "cross"
   ]
  },
  {
   "cell_type": "code",
   "execution_count": 65,
   "id": "a311e52b-7cce-4c73-bc23-2aac64304ba3",
   "metadata": {},
   "outputs": [],
   "source": [
    "sim = blocks.CosSimilarityBlock()(cross)"
   ]
  },
  {
   "cell_type": "code",
   "execution_count": 66,
   "id": "1d79b063-0ccd-4f67-944d-1cc2609b1497",
   "metadata": {},
   "outputs": [
    {
     "data": {
      "text/plain": [
       "CosSimilarityBlock(block_type='CosSimilarity', block_id=UUID('34de5a7f-7959-4a1f-8231-fc7b8c169079'), source_ids=[UUID('23d22d17-984d-4b39-8142-72423ec7f2e9')], target_ids=[], operation=<ParDo(PTransform) label=[Map(<lambda at blocks.py:194>)] at 0x2a3dc0280>, o=None)"
      ]
     },
     "execution_count": 66,
     "metadata": {},
     "output_type": "execute_result"
    }
   ],
   "source": [
    "sim"
   ]
  },
  {
   "cell_type": "code",
   "execution_count": 67,
   "id": "a1cca392-e6d9-4ad0-99dd-e7e331a17441",
   "metadata": {},
   "outputs": [],
   "source": [
    "model_1 = blocks.BlockAssembler([create_1, create_2])"
   ]
  },
  {
   "cell_type": "code",
   "execution_count": 68,
   "id": "a5e13c61-d2a2-44f3-a0e7-8f7aa2ea448c",
   "metadata": {},
   "outputs": [],
   "source": [
    "model_1.compile()"
   ]
  },
  {
   "cell_type": "code",
   "execution_count": 69,
   "id": "f0e0d09e-14c5-4a18-b9f5-da14ac60535f",
   "metadata": {},
   "outputs": [
    {
     "data": {
      "text/html": [
       "\n",
       "            <link rel=\"stylesheet\" href=\"https://stackpath.bootstrapcdn.com/bootstrap/4.4.1/css/bootstrap.min.css\" integrity=\"sha384-Vkoo8x4CGsO3+Hhxv8T/Q5PaXtkKtu6ug5TOeNV6gBiFeWPGFN9MuhOf23Q9Ifjh\" crossorigin=\"anonymous\">\n",
       "            <div id=\"progress_indicator_b30552322ff92ff955e4d1c7be7c3508\">\n",
       "              <div class=\"spinner-border text-info\" role=\"status\"></div>\n",
       "              <span class=\"text-info\">Processing... show_graph</span>\n",
       "            </div>\n",
       "            "
      ],
      "text/plain": [
       "<IPython.core.display.HTML object>"
      ]
     },
     "metadata": {},
     "output_type": "display_data"
    },
    {
     "name": "stdout",
     "output_type": "stream",
     "text": [
      "huggingface/tokenizers: The current process just got forked, after parallelism has already been used. Disabling parallelism to avoid deadlocks...\n",
      "To disable this warning, you can either:\n",
      "\t- Avoid using `tokenizers` before the fork if possible\n",
      "\t- Explicitly set the environment variable TOKENIZERS_PARALLELISM=(true | false)\n",
      "/Users/xqhu/homebrew/bin/dot\n",
      "huggingface/tokenizers: The current process just got forked, after parallelism has already been used. Disabling parallelism to avoid deadlocks...\n",
      "To disable this warning, you can either:\n",
      "\t- Avoid using `tokenizers` before the fork if possible\n",
      "\t- Explicitly set the environment variable TOKENIZERS_PARALLELISM=(true | false)\n"
     ]
    },
    {
     "data": {
      "text/html": [
       "<?xml version=\"1.0\" encoding=\"UTF-8\" standalone=\"no\"?>\n",
       "<!DOCTYPE svg PUBLIC \"-//W3C//DTD SVG 1.1//EN\"\n",
       " \"http://www.w3.org/Graphics/SVG/1.1/DTD/svg11.dtd\">\n",
       "<!-- Generated by graphviz version 7.0.5 (20221223.1930)\n",
       " -->\n",
       "<!-- Title: G Pages: 1 -->\n",
       "<svg width=\"758pt\" height=\"548pt\"\n",
       " viewBox=\"0.00 0.00 758.00 548.00\" xmlns=\"http://www.w3.org/2000/svg\" xmlns:xlink=\"http://www.w3.org/1999/xlink\">\n",
       "<g id=\"graph0\" class=\"graph\" transform=\"scale(1 1) rotate(0) translate(4 544)\">\n",
       "<title>G</title>\n",
       "<polygon fill=\"white\" stroke=\"none\" points=\"-4,4 -4,-544 754,-544 754,4 -4,4\"/>\n",
       "<!-- Create &#45; d839639d&#45;a6c7&#45;4c48&#45;b460&#45;817007c4de00 -->\n",
       "<g id=\"node1\" class=\"node\">\n",
       "<title>Create &#45; d839639d&#45;a6c7&#45;4c48&#45;b460&#45;817007c4de00</title>\n",
       "<polygon fill=\"none\" stroke=\"blue\" points=\"330.5,-540 36.5,-540 36.5,-504 330.5,-504 330.5,-540\"/>\n",
       "<text text-anchor=\"middle\" x=\"183.5\" y=\"-518.3\" font-family=\"Times,serif\" font-size=\"14.00\" fill=\"blue\">Create &#45; d839639d&#45;a6c7&#45;4c48&#45;b460&#45;817007c4de00</text>\n",
       "</g>\n",
       "<!-- pcoll7528 -->\n",
       "<g id=\"node2\" class=\"node\">\n",
       "<title>pcoll7528</title>\n",
       "<ellipse fill=\"none\" stroke=\"blue\" cx=\"183.5\" cy=\"-450\" rx=\"18\" ry=\"18\"/>\n",
       "</g>\n",
       "<!-- Create &#45; d839639d&#45;a6c7&#45;4c48&#45;b460&#45;817007c4de00&#45;&gt;pcoll7528 -->\n",
       "<g id=\"edge1\" class=\"edge\">\n",
       "<title>Create &#45; d839639d&#45;a6c7&#45;4c48&#45;b460&#45;817007c4de00&#45;&gt;pcoll7528</title>\n",
       "<path fill=\"none\" stroke=\"black\" d=\"M183.5,-503.7C183.5,-496.41 183.5,-487.73 183.5,-479.54\"/>\n",
       "<polygon fill=\"black\" stroke=\"black\" points=\"187,-479.62 183.5,-469.62 180,-479.62 187,-479.62\"/>\n",
       "</g>\n",
       "<!-- SentenceEmbedding &#45; c10b1f90&#45;d82e&#45;4c53&#45;91d7&#45;e526e87be9a1 -->\n",
       "<g id=\"node3\" class=\"node\">\n",
       "<title>SentenceEmbedding &#45; c10b1f90&#45;d82e&#45;4c53&#45;91d7&#45;e526e87be9a1</title>\n",
       "<polygon fill=\"none\" stroke=\"blue\" points=\"367,-396 0,-396 0,-360 367,-360 367,-396\"/>\n",
       "<text text-anchor=\"middle\" x=\"183.5\" y=\"-374.3\" font-family=\"Times,serif\" font-size=\"14.00\" fill=\"blue\">SentenceEmbedding &#45; c10b1f90&#45;d82e&#45;4c53&#45;91d7&#45;e526e87be9a1</text>\n",
       "</g>\n",
       "<!-- pcoll7528&#45;&gt;SentenceEmbedding &#45; c10b1f90&#45;d82e&#45;4c53&#45;91d7&#45;e526e87be9a1 -->\n",
       "<g id=\"edge2\" class=\"edge\">\n",
       "<title>pcoll7528&#45;&gt;SentenceEmbedding &#45; c10b1f90&#45;d82e&#45;4c53&#45;91d7&#45;e526e87be9a1</title>\n",
       "<path fill=\"none\" stroke=\"black\" d=\"M183.5,-431.7C183.5,-424.41 183.5,-415.73 183.5,-407.54\"/>\n",
       "<polygon fill=\"black\" stroke=\"black\" points=\"187,-407.62 183.5,-397.62 180,-407.62 187,-407.62\"/>\n",
       "</g>\n",
       "<!-- pcoll7812 -->\n",
       "<g id=\"node4\" class=\"node\">\n",
       "<title>pcoll7812</title>\n",
       "<ellipse fill=\"none\" stroke=\"blue\" cx=\"348.5\" cy=\"-306\" rx=\"18\" ry=\"18\"/>\n",
       "</g>\n",
       "<!-- SentenceEmbedding &#45; c10b1f90&#45;d82e&#45;4c53&#45;91d7&#45;e526e87be9a1&#45;&gt;pcoll7812 -->\n",
       "<g id=\"edge3\" class=\"edge\">\n",
       "<title>SentenceEmbedding &#45; c10b1f90&#45;d82e&#45;4c53&#45;91d7&#45;e526e87be9a1&#45;&gt;pcoll7812</title>\n",
       "<path fill=\"none\" stroke=\"black\" d=\"M224.71,-359.52C255.11,-346.62 295.59,-329.45 321.85,-318.31\"/>\n",
       "<polygon fill=\"black\" stroke=\"black\" points=\"322.93,-321.65 330.77,-314.52 320.19,-315.21 322.93,-321.65\"/>\n",
       "</g>\n",
       "<!-- CrossJoin &#45; 23d22d17&#45;984d&#45;4b39&#45;8142&#45;72423ec7f2e9 -->\n",
       "<g id=\"node9\" class=\"node\">\n",
       "<title>CrossJoin &#45; 23d22d17&#45;984d&#45;4b39&#45;8142&#45;72423ec7f2e9</title>\n",
       "<polygon fill=\"none\" stroke=\"blue\" points=\"531,-252 220,-252 220,-216 531,-216 531,-252\"/>\n",
       "<text text-anchor=\"middle\" x=\"375.5\" y=\"-230.3\" font-family=\"Times,serif\" font-size=\"14.00\" fill=\"blue\">CrossJoin &#45; 23d22d17&#45;984d&#45;4b39&#45;8142&#45;72423ec7f2e9</text>\n",
       "</g>\n",
       "<!-- pcoll7812&#45;&gt;CrossJoin &#45; 23d22d17&#45;984d&#45;4b39&#45;8142&#45;72423ec7f2e9 -->\n",
       "<g id=\"edge4\" class=\"edge\">\n",
       "<title>pcoll7812&#45;&gt;CrossJoin &#45; 23d22d17&#45;984d&#45;4b39&#45;8142&#45;72423ec7f2e9</title>\n",
       "<path fill=\"none\" stroke=\"black\" d=\"M354.76,-288.76C357.74,-281.04 361.39,-271.59 364.79,-262.77\"/>\n",
       "<polygon fill=\"black\" stroke=\"black\" points=\"368.02,-264.13 368.35,-253.54 361.49,-261.61 368.02,-264.13\"/>\n",
       "</g>\n",
       "<!-- Create &#45; 78ab271b&#45;e31c&#45;4046&#45;bdf7&#45;906258ff4f4c -->\n",
       "<g id=\"node5\" class=\"node\">\n",
       "<title>Create &#45; 78ab271b&#45;e31c&#45;4046&#45;bdf7&#45;906258ff4f4c</title>\n",
       "<polygon fill=\"none\" stroke=\"blue\" points=\"710.5,-540 424.5,-540 424.5,-504 710.5,-504 710.5,-540\"/>\n",
       "<text text-anchor=\"middle\" x=\"567.5\" y=\"-518.3\" font-family=\"Times,serif\" font-size=\"14.00\" fill=\"blue\">Create &#45; 78ab271b&#45;e31c&#45;4046&#45;bdf7&#45;906258ff4f4c</text>\n",
       "</g>\n",
       "<!-- pcoll4129 -->\n",
       "<g id=\"node6\" class=\"node\">\n",
       "<title>pcoll4129</title>\n",
       "<ellipse fill=\"none\" stroke=\"blue\" cx=\"567.5\" cy=\"-450\" rx=\"18\" ry=\"18\"/>\n",
       "</g>\n",
       "<!-- Create &#45; 78ab271b&#45;e31c&#45;4046&#45;bdf7&#45;906258ff4f4c&#45;&gt;pcoll4129 -->\n",
       "<g id=\"edge5\" class=\"edge\">\n",
       "<title>Create &#45; 78ab271b&#45;e31c&#45;4046&#45;bdf7&#45;906258ff4f4c&#45;&gt;pcoll4129</title>\n",
       "<path fill=\"none\" stroke=\"black\" d=\"M567.5,-503.7C567.5,-496.41 567.5,-487.73 567.5,-479.54\"/>\n",
       "<polygon fill=\"black\" stroke=\"black\" points=\"571,-479.62 567.5,-469.62 564,-479.62 571,-479.62\"/>\n",
       "</g>\n",
       "<!-- SentenceEmbedding &#45; d3218632&#45;a0a8&#45;42f4&#45;88f3&#45;47353456b1fe -->\n",
       "<g id=\"node7\" class=\"node\">\n",
       "<title>SentenceEmbedding &#45; d3218632&#45;a0a8&#45;42f4&#45;88f3&#45;47353456b1fe</title>\n",
       "<polygon fill=\"none\" stroke=\"blue\" points=\"750,-396 385,-396 385,-360 750,-360 750,-396\"/>\n",
       "<text text-anchor=\"middle\" x=\"567.5\" y=\"-374.3\" font-family=\"Times,serif\" font-size=\"14.00\" fill=\"blue\">SentenceEmbedding &#45; d3218632&#45;a0a8&#45;42f4&#45;88f3&#45;47353456b1fe</text>\n",
       "</g>\n",
       "<!-- pcoll4129&#45;&gt;SentenceEmbedding &#45; d3218632&#45;a0a8&#45;42f4&#45;88f3&#45;47353456b1fe -->\n",
       "<g id=\"edge6\" class=\"edge\">\n",
       "<title>pcoll4129&#45;&gt;SentenceEmbedding &#45; d3218632&#45;a0a8&#45;42f4&#45;88f3&#45;47353456b1fe</title>\n",
       "<path fill=\"none\" stroke=\"black\" d=\"M567.5,-431.7C567.5,-424.41 567.5,-415.73 567.5,-407.54\"/>\n",
       "<polygon fill=\"black\" stroke=\"black\" points=\"571,-407.62 567.5,-397.62 564,-407.62 571,-407.62\"/>\n",
       "</g>\n",
       "<!-- pcoll817 -->\n",
       "<g id=\"node8\" class=\"node\">\n",
       "<title>pcoll817</title>\n",
       "<ellipse fill=\"none\" stroke=\"blue\" cx=\"484.5\" cy=\"-306\" rx=\"18\" ry=\"18\"/>\n",
       "</g>\n",
       "<!-- SentenceEmbedding &#45; d3218632&#45;a0a8&#45;42f4&#45;88f3&#45;47353456b1fe&#45;&gt;pcoll817 -->\n",
       "<g id=\"edge7\" class=\"edge\">\n",
       "<title>SentenceEmbedding &#45; d3218632&#45;a0a8&#45;42f4&#45;88f3&#45;47353456b1fe&#45;&gt;pcoll817</title>\n",
       "<path fill=\"none\" stroke=\"black\" d=\"M546.98,-359.7C534.7,-349.34 519.09,-336.17 506.54,-325.59\"/>\n",
       "<polygon fill=\"black\" stroke=\"black\" points=\"509.1,-323.17 499.2,-319.39 504.58,-328.52 509.1,-323.17\"/>\n",
       "</g>\n",
       "<!-- pcoll817&#45;&gt;CrossJoin &#45; 23d22d17&#45;984d&#45;4b39&#45;8142&#45;72423ec7f2e9 -->\n",
       "<g id=\"edge8\" class=\"edge\">\n",
       "<title>pcoll817&#45;&gt;CrossJoin &#45; 23d22d17&#45;984d&#45;4b39&#45;8142&#45;72423ec7f2e9</title>\n",
       "<path fill=\"none\" stroke=\"black\" d=\"M469.8,-295.56C455.09,-286.11 431.86,-271.19 412.14,-258.53\"/>\n",
       "<polygon fill=\"black\" stroke=\"black\" points=\"414.08,-255.62 403.78,-253.16 410.3,-261.51 414.08,-255.62\"/>\n",
       "</g>\n",
       "<!-- pcoll9623 -->\n",
       "<g id=\"node10\" class=\"node\">\n",
       "<title>pcoll9623</title>\n",
       "<ellipse fill=\"none\" stroke=\"blue\" cx=\"375.5\" cy=\"-162\" rx=\"18\" ry=\"18\"/>\n",
       "</g>\n",
       "<!-- CrossJoin &#45; 23d22d17&#45;984d&#45;4b39&#45;8142&#45;72423ec7f2e9&#45;&gt;pcoll9623 -->\n",
       "<g id=\"edge9\" class=\"edge\">\n",
       "<title>CrossJoin &#45; 23d22d17&#45;984d&#45;4b39&#45;8142&#45;72423ec7f2e9&#45;&gt;pcoll9623</title>\n",
       "<path fill=\"none\" stroke=\"black\" d=\"M375.5,-215.7C375.5,-208.41 375.5,-199.73 375.5,-191.54\"/>\n",
       "<polygon fill=\"black\" stroke=\"black\" points=\"379,-191.62 375.5,-181.62 372,-191.62 379,-191.62\"/>\n",
       "</g>\n",
       "<!-- CosSimilarity &#45; 34de5a7f&#45;7959&#45;4a1f&#45;8231&#45;fc7b8c169079 -->\n",
       "<g id=\"node11\" class=\"node\">\n",
       "<title>CosSimilarity &#45; 34de5a7f&#45;7959&#45;4a1f&#45;8231&#45;fc7b8c169079</title>\n",
       "<polygon fill=\"none\" stroke=\"blue\" points=\"539.5,-108 211.5,-108 211.5,-72 539.5,-72 539.5,-108\"/>\n",
       "<text text-anchor=\"middle\" x=\"375.5\" y=\"-86.3\" font-family=\"Times,serif\" font-size=\"14.00\" fill=\"blue\">CosSimilarity &#45; 34de5a7f&#45;7959&#45;4a1f&#45;8231&#45;fc7b8c169079</text>\n",
       "</g>\n",
       "<!-- pcoll9623&#45;&gt;CosSimilarity &#45; 34de5a7f&#45;7959&#45;4a1f&#45;8231&#45;fc7b8c169079 -->\n",
       "<g id=\"edge10\" class=\"edge\">\n",
       "<title>pcoll9623&#45;&gt;CosSimilarity &#45; 34de5a7f&#45;7959&#45;4a1f&#45;8231&#45;fc7b8c169079</title>\n",
       "<path fill=\"none\" stroke=\"black\" d=\"M375.5,-143.7C375.5,-136.41 375.5,-127.73 375.5,-119.54\"/>\n",
       "<polygon fill=\"black\" stroke=\"black\" points=\"379,-119.62 375.5,-109.62 372,-119.62 379,-119.62\"/>\n",
       "</g>\n",
       "<!-- pcoll7883 -->\n",
       "<g id=\"node12\" class=\"node\">\n",
       "<title>pcoll7883</title>\n",
       "<ellipse fill=\"none\" stroke=\"blue\" cx=\"375.5\" cy=\"-18\" rx=\"18\" ry=\"18\"/>\n",
       "</g>\n",
       "<!-- CosSimilarity &#45; 34de5a7f&#45;7959&#45;4a1f&#45;8231&#45;fc7b8c169079&#45;&gt;pcoll7883 -->\n",
       "<g id=\"edge11\" class=\"edge\">\n",
       "<title>CosSimilarity &#45; 34de5a7f&#45;7959&#45;4a1f&#45;8231&#45;fc7b8c169079&#45;&gt;pcoll7883</title>\n",
       "<path fill=\"none\" stroke=\"black\" d=\"M375.5,-71.7C375.5,-64.41 375.5,-55.73 375.5,-47.54\"/>\n",
       "<polygon fill=\"black\" stroke=\"black\" points=\"379,-47.62 375.5,-37.62 372,-47.62 379,-47.62\"/>\n",
       "</g>\n",
       "</g>\n",
       "</svg>\n"
      ],
      "text/plain": [
       "<IPython.core.display.HTML object>"
      ]
     },
     "metadata": {},
     "output_type": "display_data"
    },
    {
     "data": {
      "application/javascript": "\n        if (typeof window.interactive_beam_jquery == 'undefined') {\n          var jqueryScript = document.createElement('script');\n          jqueryScript.src = 'https://code.jquery.com/jquery-3.4.1.slim.min.js';\n          jqueryScript.type = 'text/javascript';\n          jqueryScript.onload = function() {\n            var datatableScript = document.createElement('script');\n            datatableScript.src = 'https://cdn.datatables.net/1.10.20/js/jquery.dataTables.min.js';\n            datatableScript.type = 'text/javascript';\n            datatableScript.onload = function() {\n              window.interactive_beam_jquery = jQuery.noConflict(true);\n              window.interactive_beam_jquery(document).ready(function($){\n                \n            $(\"#progress_indicator_b30552322ff92ff955e4d1c7be7c3508\").remove();\n              });\n            }\n            document.head.appendChild(datatableScript);\n          };\n          document.head.appendChild(jqueryScript);\n        } else {\n          window.interactive_beam_jquery(document).ready(function($){\n            \n            $(\"#progress_indicator_b30552322ff92ff955e4d1c7be7c3508\").remove();\n          });\n        }"
     },
     "metadata": {},
     "output_type": "display_data"
    }
   ],
   "source": [
    "model_1.show_graph()"
   ]
  },
  {
   "cell_type": "code",
   "execution_count": 70,
   "id": "1a6ae4ec-fc7b-456c-b8b1-8f06e342ee5d",
   "metadata": {},
   "outputs": [
    {
     "data": {
      "text/html": [
       "\n",
       "            <link rel=\"stylesheet\" href=\"https://stackpath.bootstrapcdn.com/bootstrap/4.4.1/css/bootstrap.min.css\" integrity=\"sha384-Vkoo8x4CGsO3+Hhxv8T/Q5PaXtkKtu6ug5TOeNV6gBiFeWPGFN9MuhOf23Q9Ifjh\" crossorigin=\"anonymous\">\n",
       "            <div id=\"progress_indicator_063e495375e4ad264e05a46018968e64\">\n",
       "              <div class=\"spinner-border text-info\" role=\"status\"></div>\n",
       "              <span class=\"text-info\">Processing... collect</span>\n",
       "            </div>\n",
       "            "
      ],
      "text/plain": [
       "<IPython.core.display.HTML object>"
      ]
     },
     "metadata": {},
     "output_type": "display_data"
    },
    {
     "data": {
      "application/javascript": "\n        if (typeof window.interactive_beam_jquery == 'undefined') {\n          var jqueryScript = document.createElement('script');\n          jqueryScript.src = 'https://code.jquery.com/jquery-3.4.1.slim.min.js';\n          jqueryScript.type = 'text/javascript';\n          jqueryScript.onload = function() {\n            var datatableScript = document.createElement('script');\n            datatableScript.src = 'https://cdn.datatables.net/1.10.20/js/jquery.dataTables.min.js';\n            datatableScript.type = 'text/javascript';\n            datatableScript.onload = function() {\n              window.interactive_beam_jquery = jQuery.noConflict(true);\n              window.interactive_beam_jquery(document).ready(function($){\n                \n            $(\"#progress_indicator_063e495375e4ad264e05a46018968e64\").remove();\n              });\n            }\n            document.head.appendChild(datatableScript);\n          };\n          document.head.appendChild(jqueryScript);\n        } else {\n          window.interactive_beam_jquery(document).ready(function($){\n            \n            $(\"#progress_indicator_063e495375e4ad264e05a46018968e64\").remove();\n          });\n        }"
     },
     "metadata": {},
     "output_type": "display_data"
    },
    {
     "data": {
      "text/html": [
       "<div>\n",
       "<style scoped>\n",
       "    .dataframe tbody tr th:only-of-type {\n",
       "        vertical-align: middle;\n",
       "    }\n",
       "\n",
       "    .dataframe tbody tr th {\n",
       "        vertical-align: top;\n",
       "    }\n",
       "\n",
       "    .dataframe thead th {\n",
       "        text-align: right;\n",
       "    }\n",
       "</style>\n",
       "<table border=\"1\" class=\"dataframe\">\n",
       "  <thead>\n",
       "    <tr style=\"text-align: right;\">\n",
       "      <th></th>\n",
       "      <th>0</th>\n",
       "    </tr>\n",
       "  </thead>\n",
       "  <tbody>\n",
       "    <tr>\n",
       "      <th>0</th>\n",
       "      <td>0.342632</td>\n",
       "    </tr>\n",
       "    <tr>\n",
       "      <th>1</th>\n",
       "      <td>0.162461</td>\n",
       "    </tr>\n",
       "    <tr>\n",
       "      <th>2</th>\n",
       "      <td>0.051704</td>\n",
       "    </tr>\n",
       "  </tbody>\n",
       "</table>\n",
       "</div>"
      ],
      "text/plain": [
       "          0\n",
       "0  0.342632\n",
       "1  0.162461\n",
       "2  0.051704"
      ]
     },
     "execution_count": 70,
     "metadata": {},
     "output_type": "execute_result"
    }
   ],
   "source": [
    "model_1.block_data(sim)"
   ]
  },
  {
   "cell_type": "code",
   "execution_count": 71,
   "id": "7772b06d-d7ac-4202-bc10-c05559024919",
   "metadata": {},
   "outputs": [],
   "source": [
    "# You can also use the json config here for functional models\n",
    "model_1_config = model_1.to_json(indent=2)"
   ]
  },
  {
   "cell_type": "code",
   "execution_count": 72,
   "id": "f2dfe048-0757-4b7c-a7a1-9c9388be7404",
   "metadata": {},
   "outputs": [
    {
     "name": "stdout",
     "output_type": "stream",
     "text": [
      "{\n",
      "  \"blocks\": [\n",
      "    {\n",
      "      \"block_type\": \"Create\",\n",
      "      \"block_id\": \"d839639d-a6c7-4c48-b460-817007c4de00\",\n",
      "      \"source_ids\": [],\n",
      "      \"target_ids\": [\n",
      "        \"c10b1f90-d82e-4c53-91d7-e526e87be9a1\"\n",
      "      ],\n",
      "      \"values\": [\n",
      "        \"This framework generates embeddings for each input sentence\",\n",
      "        \"Sentences are passed as a list of string.\",\n",
      "        \"The quick brown fox jumps over the lazy dog.\"\n",
      "      ]\n",
      "    },\n",
      "    {\n",
      "      \"block_type\": \"SentenceEmbedding\",\n",
      "      \"block_id\": \"c10b1f90-d82e-4c53-91d7-e526e87be9a1\",\n",
      "      \"source_ids\": [\n",
      "        \"d839639d-a6c7-4c48-b460-817007c4de00\"\n",
      "      ],\n",
      "      \"target_ids\": [\n",
      "        \"23d22d17-984d-4b39-8142-72423ec7f2e9\",\n",
      "        \"23d22d17-984d-4b39-8142-72423ec7f2e9\",\n",
      "        \"23d22d17-984d-4b39-8142-72423ec7f2e9\"\n",
      "      ],\n",
      "      \"model_name\": \"all-MiniLM-L6-v2\"\n",
      "    },\n",
      "    {\n",
      "      \"block_type\": \"CrossJoin\",\n",
      "      \"block_id\": \"23d22d17-984d-4b39-8142-72423ec7f2e9\",\n",
      "      \"source_ids\": [\n",
      "        \"c10b1f90-d82e-4c53-91d7-e526e87be9a1\",\n",
      "        \"d3218632-a0a8-42f4-88f3-47353456b1fe\"\n",
      "      ],\n",
      "      \"target_ids\": [\n",
      "        \"34de5a7f-7959-4a1f-8231-fc7b8c169079\"\n",
      "      ]\n",
      "    },\n",
      "    {\n",
      "      \"block_type\": \"CosSimilarity\",\n",
      "      \"block_id\": \"34de5a7f-7959-4a1f-8231-fc7b8c169079\",\n",
      "      \"source_ids\": [\n",
      "        \"23d22d17-984d-4b39-8142-72423ec7f2e9\"\n",
      "      ],\n",
      "      \"target_ids\": []\n",
      "    },\n",
      "    {\n",
      "      \"block_type\": \"Create\",\n",
      "      \"block_id\": \"78ab271b-e31c-4046-bdf7-906258ff4f4c\",\n",
      "      \"source_ids\": [],\n",
      "      \"target_ids\": [\n",
      "        \"d3218632-a0a8-42f4-88f3-47353456b1fe\"\n",
      "      ],\n",
      "      \"values\": [\n",
      "        \"This framework is for testing\"\n",
      "      ]\n",
      "    },\n",
      "    {\n",
      "      \"block_type\": \"SentenceEmbedding\",\n",
      "      \"block_id\": \"d3218632-a0a8-42f4-88f3-47353456b1fe\",\n",
      "      \"source_ids\": [\n",
      "        \"78ab271b-e31c-4046-bdf7-906258ff4f4c\"\n",
      "      ],\n",
      "      \"target_ids\": [\n",
      "        \"23d22d17-984d-4b39-8142-72423ec7f2e9\",\n",
      "        \"23d22d17-984d-4b39-8142-72423ec7f2e9\",\n",
      "        \"23d22d17-984d-4b39-8142-72423ec7f2e9\"\n",
      "      ],\n",
      "      \"model_name\": \"all-MiniLM-L6-v2\"\n",
      "    }\n",
      "  ],\n",
      "  \"model_type\": \"FUNCTIONAL\"\n",
      "}\n"
     ]
    }
   ],
   "source": [
    "print(model_1_config)"
   ]
  },
  {
   "cell_type": "code",
   "execution_count": 73,
   "id": "61f116de-ecaa-4ed0-bf32-4ce733c6835c",
   "metadata": {},
   "outputs": [],
   "source": [
    "new_model_1 = blocks.BlockAssembler.from_json(model_1_config)"
   ]
  },
  {
   "cell_type": "code",
   "execution_count": 74,
   "id": "572a625f-6294-430a-8939-f1d0d2496c40",
   "metadata": {},
   "outputs": [],
   "source": [
    "new_model_1.compile()"
   ]
  },
  {
   "cell_type": "code",
   "execution_count": 75,
   "id": "9050c9ad-6d4e-455f-9f49-7e5e1d3a3216",
   "metadata": {},
   "outputs": [
    {
     "data": {
      "text/html": [
       "\n",
       "            <link rel=\"stylesheet\" href=\"https://stackpath.bootstrapcdn.com/bootstrap/4.4.1/css/bootstrap.min.css\" integrity=\"sha384-Vkoo8x4CGsO3+Hhxv8T/Q5PaXtkKtu6ug5TOeNV6gBiFeWPGFN9MuhOf23Q9Ifjh\" crossorigin=\"anonymous\">\n",
       "            <div id=\"progress_indicator_bdaf9ad123c728967e62d8d05b5f4cde\">\n",
       "              <div class=\"spinner-border text-info\" role=\"status\"></div>\n",
       "              <span class=\"text-info\">Processing... show_graph</span>\n",
       "            </div>\n",
       "            "
      ],
      "text/plain": [
       "<IPython.core.display.HTML object>"
      ]
     },
     "metadata": {},
     "output_type": "display_data"
    },
    {
     "name": "stdout",
     "output_type": "stream",
     "text": [
      "huggingface/tokenizers: The current process just got forked, after parallelism has already been used. Disabling parallelism to avoid deadlocks...\n",
      "To disable this warning, you can either:\n",
      "\t- Avoid using `tokenizers` before the fork if possible\n",
      "\t- Explicitly set the environment variable TOKENIZERS_PARALLELISM=(true | false)\n",
      "/Users/xqhu/homebrew/bin/dot\n",
      "huggingface/tokenizers: The current process just got forked, after parallelism has already been used. Disabling parallelism to avoid deadlocks...\n",
      "To disable this warning, you can either:\n",
      "\t- Avoid using `tokenizers` before the fork if possible\n",
      "\t- Explicitly set the environment variable TOKENIZERS_PARALLELISM=(true | false)\n"
     ]
    },
    {
     "data": {
      "text/html": [
       "<?xml version=\"1.0\" encoding=\"UTF-8\" standalone=\"no\"?>\n",
       "<!DOCTYPE svg PUBLIC \"-//W3C//DTD SVG 1.1//EN\"\n",
       " \"http://www.w3.org/Graphics/SVG/1.1/DTD/svg11.dtd\">\n",
       "<!-- Generated by graphviz version 7.0.5 (20221223.1930)\n",
       " -->\n",
       "<!-- Title: G Pages: 1 -->\n",
       "<svg width=\"758pt\" height=\"548pt\"\n",
       " viewBox=\"0.00 0.00 758.00 548.00\" xmlns=\"http://www.w3.org/2000/svg\" xmlns:xlink=\"http://www.w3.org/1999/xlink\">\n",
       "<g id=\"graph0\" class=\"graph\" transform=\"scale(1 1) rotate(0) translate(4 544)\">\n",
       "<title>G</title>\n",
       "<polygon fill=\"white\" stroke=\"none\" points=\"-4,4 -4,-544 754,-544 754,4 -4,4\"/>\n",
       "<!-- Create &#45; d839639d&#45;a6c7&#45;4c48&#45;b460&#45;817007c4de00 -->\n",
       "<g id=\"node1\" class=\"node\">\n",
       "<title>Create &#45; d839639d&#45;a6c7&#45;4c48&#45;b460&#45;817007c4de00</title>\n",
       "<polygon fill=\"none\" stroke=\"blue\" points=\"330.5,-540 36.5,-540 36.5,-504 330.5,-504 330.5,-540\"/>\n",
       "<text text-anchor=\"middle\" x=\"183.5\" y=\"-518.3\" font-family=\"Times,serif\" font-size=\"14.00\" fill=\"blue\">Create &#45; d839639d&#45;a6c7&#45;4c48&#45;b460&#45;817007c4de00</text>\n",
       "</g>\n",
       "<!-- pcoll7528 -->\n",
       "<g id=\"node2\" class=\"node\">\n",
       "<title>pcoll7528</title>\n",
       "<ellipse fill=\"none\" stroke=\"blue\" cx=\"183.5\" cy=\"-450\" rx=\"18\" ry=\"18\"/>\n",
       "</g>\n",
       "<!-- Create &#45; d839639d&#45;a6c7&#45;4c48&#45;b460&#45;817007c4de00&#45;&gt;pcoll7528 -->\n",
       "<g id=\"edge1\" class=\"edge\">\n",
       "<title>Create &#45; d839639d&#45;a6c7&#45;4c48&#45;b460&#45;817007c4de00&#45;&gt;pcoll7528</title>\n",
       "<path fill=\"none\" stroke=\"black\" d=\"M183.5,-503.7C183.5,-496.41 183.5,-487.73 183.5,-479.54\"/>\n",
       "<polygon fill=\"black\" stroke=\"black\" points=\"187,-479.62 183.5,-469.62 180,-479.62 187,-479.62\"/>\n",
       "</g>\n",
       "<!-- SentenceEmbedding &#45; c10b1f90&#45;d82e&#45;4c53&#45;91d7&#45;e526e87be9a1 -->\n",
       "<g id=\"node3\" class=\"node\">\n",
       "<title>SentenceEmbedding &#45; c10b1f90&#45;d82e&#45;4c53&#45;91d7&#45;e526e87be9a1</title>\n",
       "<polygon fill=\"none\" stroke=\"blue\" points=\"367,-396 0,-396 0,-360 367,-360 367,-396\"/>\n",
       "<text text-anchor=\"middle\" x=\"183.5\" y=\"-374.3\" font-family=\"Times,serif\" font-size=\"14.00\" fill=\"blue\">SentenceEmbedding &#45; c10b1f90&#45;d82e&#45;4c53&#45;91d7&#45;e526e87be9a1</text>\n",
       "</g>\n",
       "<!-- pcoll7528&#45;&gt;SentenceEmbedding &#45; c10b1f90&#45;d82e&#45;4c53&#45;91d7&#45;e526e87be9a1 -->\n",
       "<g id=\"edge2\" class=\"edge\">\n",
       "<title>pcoll7528&#45;&gt;SentenceEmbedding &#45; c10b1f90&#45;d82e&#45;4c53&#45;91d7&#45;e526e87be9a1</title>\n",
       "<path fill=\"none\" stroke=\"black\" d=\"M183.5,-431.7C183.5,-424.41 183.5,-415.73 183.5,-407.54\"/>\n",
       "<polygon fill=\"black\" stroke=\"black\" points=\"187,-407.62 183.5,-397.62 180,-407.62 187,-407.62\"/>\n",
       "</g>\n",
       "<!-- pcoll7812 -->\n",
       "<g id=\"node4\" class=\"node\">\n",
       "<title>pcoll7812</title>\n",
       "<ellipse fill=\"none\" stroke=\"blue\" cx=\"348.5\" cy=\"-306\" rx=\"18\" ry=\"18\"/>\n",
       "</g>\n",
       "<!-- SentenceEmbedding &#45; c10b1f90&#45;d82e&#45;4c53&#45;91d7&#45;e526e87be9a1&#45;&gt;pcoll7812 -->\n",
       "<g id=\"edge3\" class=\"edge\">\n",
       "<title>SentenceEmbedding &#45; c10b1f90&#45;d82e&#45;4c53&#45;91d7&#45;e526e87be9a1&#45;&gt;pcoll7812</title>\n",
       "<path fill=\"none\" stroke=\"black\" d=\"M224.71,-359.52C255.11,-346.62 295.59,-329.45 321.85,-318.31\"/>\n",
       "<polygon fill=\"black\" stroke=\"black\" points=\"322.93,-321.65 330.77,-314.52 320.19,-315.21 322.93,-321.65\"/>\n",
       "</g>\n",
       "<!-- CrossJoin &#45; 23d22d17&#45;984d&#45;4b39&#45;8142&#45;72423ec7f2e9 -->\n",
       "<g id=\"node9\" class=\"node\">\n",
       "<title>CrossJoin &#45; 23d22d17&#45;984d&#45;4b39&#45;8142&#45;72423ec7f2e9</title>\n",
       "<polygon fill=\"none\" stroke=\"blue\" points=\"531,-252 220,-252 220,-216 531,-216 531,-252\"/>\n",
       "<text text-anchor=\"middle\" x=\"375.5\" y=\"-230.3\" font-family=\"Times,serif\" font-size=\"14.00\" fill=\"blue\">CrossJoin &#45; 23d22d17&#45;984d&#45;4b39&#45;8142&#45;72423ec7f2e9</text>\n",
       "</g>\n",
       "<!-- pcoll7812&#45;&gt;CrossJoin &#45; 23d22d17&#45;984d&#45;4b39&#45;8142&#45;72423ec7f2e9 -->\n",
       "<g id=\"edge4\" class=\"edge\">\n",
       "<title>pcoll7812&#45;&gt;CrossJoin &#45; 23d22d17&#45;984d&#45;4b39&#45;8142&#45;72423ec7f2e9</title>\n",
       "<path fill=\"none\" stroke=\"black\" d=\"M354.76,-288.76C357.74,-281.04 361.39,-271.59 364.79,-262.77\"/>\n",
       "<polygon fill=\"black\" stroke=\"black\" points=\"368.02,-264.13 368.35,-253.54 361.49,-261.61 368.02,-264.13\"/>\n",
       "</g>\n",
       "<!-- Create &#45; 78ab271b&#45;e31c&#45;4046&#45;bdf7&#45;906258ff4f4c -->\n",
       "<g id=\"node5\" class=\"node\">\n",
       "<title>Create &#45; 78ab271b&#45;e31c&#45;4046&#45;bdf7&#45;906258ff4f4c</title>\n",
       "<polygon fill=\"none\" stroke=\"blue\" points=\"710.5,-540 424.5,-540 424.5,-504 710.5,-504 710.5,-540\"/>\n",
       "<text text-anchor=\"middle\" x=\"567.5\" y=\"-518.3\" font-family=\"Times,serif\" font-size=\"14.00\" fill=\"blue\">Create &#45; 78ab271b&#45;e31c&#45;4046&#45;bdf7&#45;906258ff4f4c</text>\n",
       "</g>\n",
       "<!-- pcoll4129 -->\n",
       "<g id=\"node6\" class=\"node\">\n",
       "<title>pcoll4129</title>\n",
       "<ellipse fill=\"none\" stroke=\"blue\" cx=\"567.5\" cy=\"-450\" rx=\"18\" ry=\"18\"/>\n",
       "</g>\n",
       "<!-- Create &#45; 78ab271b&#45;e31c&#45;4046&#45;bdf7&#45;906258ff4f4c&#45;&gt;pcoll4129 -->\n",
       "<g id=\"edge5\" class=\"edge\">\n",
       "<title>Create &#45; 78ab271b&#45;e31c&#45;4046&#45;bdf7&#45;906258ff4f4c&#45;&gt;pcoll4129</title>\n",
       "<path fill=\"none\" stroke=\"black\" d=\"M567.5,-503.7C567.5,-496.41 567.5,-487.73 567.5,-479.54\"/>\n",
       "<polygon fill=\"black\" stroke=\"black\" points=\"571,-479.62 567.5,-469.62 564,-479.62 571,-479.62\"/>\n",
       "</g>\n",
       "<!-- SentenceEmbedding &#45; d3218632&#45;a0a8&#45;42f4&#45;88f3&#45;47353456b1fe -->\n",
       "<g id=\"node7\" class=\"node\">\n",
       "<title>SentenceEmbedding &#45; d3218632&#45;a0a8&#45;42f4&#45;88f3&#45;47353456b1fe</title>\n",
       "<polygon fill=\"none\" stroke=\"blue\" points=\"750,-396 385,-396 385,-360 750,-360 750,-396\"/>\n",
       "<text text-anchor=\"middle\" x=\"567.5\" y=\"-374.3\" font-family=\"Times,serif\" font-size=\"14.00\" fill=\"blue\">SentenceEmbedding &#45; d3218632&#45;a0a8&#45;42f4&#45;88f3&#45;47353456b1fe</text>\n",
       "</g>\n",
       "<!-- pcoll4129&#45;&gt;SentenceEmbedding &#45; d3218632&#45;a0a8&#45;42f4&#45;88f3&#45;47353456b1fe -->\n",
       "<g id=\"edge6\" class=\"edge\">\n",
       "<title>pcoll4129&#45;&gt;SentenceEmbedding &#45; d3218632&#45;a0a8&#45;42f4&#45;88f3&#45;47353456b1fe</title>\n",
       "<path fill=\"none\" stroke=\"black\" d=\"M567.5,-431.7C567.5,-424.41 567.5,-415.73 567.5,-407.54\"/>\n",
       "<polygon fill=\"black\" stroke=\"black\" points=\"571,-407.62 567.5,-397.62 564,-407.62 571,-407.62\"/>\n",
       "</g>\n",
       "<!-- pcoll817 -->\n",
       "<g id=\"node8\" class=\"node\">\n",
       "<title>pcoll817</title>\n",
       "<ellipse fill=\"none\" stroke=\"blue\" cx=\"484.5\" cy=\"-306\" rx=\"18\" ry=\"18\"/>\n",
       "</g>\n",
       "<!-- SentenceEmbedding &#45; d3218632&#45;a0a8&#45;42f4&#45;88f3&#45;47353456b1fe&#45;&gt;pcoll817 -->\n",
       "<g id=\"edge7\" class=\"edge\">\n",
       "<title>SentenceEmbedding &#45; d3218632&#45;a0a8&#45;42f4&#45;88f3&#45;47353456b1fe&#45;&gt;pcoll817</title>\n",
       "<path fill=\"none\" stroke=\"black\" d=\"M546.98,-359.7C534.7,-349.34 519.09,-336.17 506.54,-325.59\"/>\n",
       "<polygon fill=\"black\" stroke=\"black\" points=\"509.1,-323.17 499.2,-319.39 504.58,-328.52 509.1,-323.17\"/>\n",
       "</g>\n",
       "<!-- pcoll817&#45;&gt;CrossJoin &#45; 23d22d17&#45;984d&#45;4b39&#45;8142&#45;72423ec7f2e9 -->\n",
       "<g id=\"edge8\" class=\"edge\">\n",
       "<title>pcoll817&#45;&gt;CrossJoin &#45; 23d22d17&#45;984d&#45;4b39&#45;8142&#45;72423ec7f2e9</title>\n",
       "<path fill=\"none\" stroke=\"black\" d=\"M469.8,-295.56C455.09,-286.11 431.86,-271.19 412.14,-258.53\"/>\n",
       "<polygon fill=\"black\" stroke=\"black\" points=\"414.08,-255.62 403.78,-253.16 410.3,-261.51 414.08,-255.62\"/>\n",
       "</g>\n",
       "<!-- pcoll9623 -->\n",
       "<g id=\"node10\" class=\"node\">\n",
       "<title>pcoll9623</title>\n",
       "<ellipse fill=\"none\" stroke=\"blue\" cx=\"375.5\" cy=\"-162\" rx=\"18\" ry=\"18\"/>\n",
       "</g>\n",
       "<!-- CrossJoin &#45; 23d22d17&#45;984d&#45;4b39&#45;8142&#45;72423ec7f2e9&#45;&gt;pcoll9623 -->\n",
       "<g id=\"edge9\" class=\"edge\">\n",
       "<title>CrossJoin &#45; 23d22d17&#45;984d&#45;4b39&#45;8142&#45;72423ec7f2e9&#45;&gt;pcoll9623</title>\n",
       "<path fill=\"none\" stroke=\"black\" d=\"M375.5,-215.7C375.5,-208.41 375.5,-199.73 375.5,-191.54\"/>\n",
       "<polygon fill=\"black\" stroke=\"black\" points=\"379,-191.62 375.5,-181.62 372,-191.62 379,-191.62\"/>\n",
       "</g>\n",
       "<!-- CosSimilarity &#45; 34de5a7f&#45;7959&#45;4a1f&#45;8231&#45;fc7b8c169079 -->\n",
       "<g id=\"node11\" class=\"node\">\n",
       "<title>CosSimilarity &#45; 34de5a7f&#45;7959&#45;4a1f&#45;8231&#45;fc7b8c169079</title>\n",
       "<polygon fill=\"none\" stroke=\"blue\" points=\"539.5,-108 211.5,-108 211.5,-72 539.5,-72 539.5,-108\"/>\n",
       "<text text-anchor=\"middle\" x=\"375.5\" y=\"-86.3\" font-family=\"Times,serif\" font-size=\"14.00\" fill=\"blue\">CosSimilarity &#45; 34de5a7f&#45;7959&#45;4a1f&#45;8231&#45;fc7b8c169079</text>\n",
       "</g>\n",
       "<!-- pcoll9623&#45;&gt;CosSimilarity &#45; 34de5a7f&#45;7959&#45;4a1f&#45;8231&#45;fc7b8c169079 -->\n",
       "<g id=\"edge10\" class=\"edge\">\n",
       "<title>pcoll9623&#45;&gt;CosSimilarity &#45; 34de5a7f&#45;7959&#45;4a1f&#45;8231&#45;fc7b8c169079</title>\n",
       "<path fill=\"none\" stroke=\"black\" d=\"M375.5,-143.7C375.5,-136.41 375.5,-127.73 375.5,-119.54\"/>\n",
       "<polygon fill=\"black\" stroke=\"black\" points=\"379,-119.62 375.5,-109.62 372,-119.62 379,-119.62\"/>\n",
       "</g>\n",
       "<!-- pcoll7883 -->\n",
       "<g id=\"node12\" class=\"node\">\n",
       "<title>pcoll7883</title>\n",
       "<ellipse fill=\"none\" stroke=\"blue\" cx=\"375.5\" cy=\"-18\" rx=\"18\" ry=\"18\"/>\n",
       "</g>\n",
       "<!-- CosSimilarity &#45; 34de5a7f&#45;7959&#45;4a1f&#45;8231&#45;fc7b8c169079&#45;&gt;pcoll7883 -->\n",
       "<g id=\"edge11\" class=\"edge\">\n",
       "<title>CosSimilarity &#45; 34de5a7f&#45;7959&#45;4a1f&#45;8231&#45;fc7b8c169079&#45;&gt;pcoll7883</title>\n",
       "<path fill=\"none\" stroke=\"black\" d=\"M375.5,-71.7C375.5,-64.41 375.5,-55.73 375.5,-47.54\"/>\n",
       "<polygon fill=\"black\" stroke=\"black\" points=\"379,-47.62 375.5,-37.62 372,-47.62 379,-47.62\"/>\n",
       "</g>\n",
       "</g>\n",
       "</svg>\n"
      ],
      "text/plain": [
       "<IPython.core.display.HTML object>"
      ]
     },
     "metadata": {},
     "output_type": "display_data"
    },
    {
     "data": {
      "application/javascript": "\n        if (typeof window.interactive_beam_jquery == 'undefined') {\n          var jqueryScript = document.createElement('script');\n          jqueryScript.src = 'https://code.jquery.com/jquery-3.4.1.slim.min.js';\n          jqueryScript.type = 'text/javascript';\n          jqueryScript.onload = function() {\n            var datatableScript = document.createElement('script');\n            datatableScript.src = 'https://cdn.datatables.net/1.10.20/js/jquery.dataTables.min.js';\n            datatableScript.type = 'text/javascript';\n            datatableScript.onload = function() {\n              window.interactive_beam_jquery = jQuery.noConflict(true);\n              window.interactive_beam_jquery(document).ready(function($){\n                \n            $(\"#progress_indicator_bdaf9ad123c728967e62d8d05b5f4cde\").remove();\n              });\n            }\n            document.head.appendChild(datatableScript);\n          };\n          document.head.appendChild(jqueryScript);\n        } else {\n          window.interactive_beam_jquery(document).ready(function($){\n            \n            $(\"#progress_indicator_bdaf9ad123c728967e62d8d05b5f4cde\").remove();\n          });\n        }"
     },
     "metadata": {},
     "output_type": "display_data"
    }
   ],
   "source": [
    "new_model_1.show_graph()"
   ]
  },
  {
   "attachments": {},
   "cell_type": "markdown",
   "id": "9d885ac0",
   "metadata": {},
   "source": [
    "# Process a CSV file using Beam"
   ]
  },
  {
   "cell_type": "code",
   "execution_count": 76,
   "id": "5cabb07f",
   "metadata": {},
   "outputs": [],
   "source": [
    "# read from a csv file using ReadCSVBlock\n",
    "csv_b = blocks.ReadCSVBlock(path=str(\"../tests/beers.csv\"), header=0)"
   ]
  },
  {
   "cell_type": "code",
   "execution_count": 77,
   "id": "08512fb9",
   "metadata": {},
   "outputs": [],
   "source": [
    "# use two callback functions to process data using DataTransformBlock\n",
    "def _fill_missing(data):\n",
    "    \"\"\"fill missing with a constant for the ibu field\"\"\"\n",
    "    if data.ibu is None:\n",
    "        return data._replace(ibu = -1.0)\n",
    "    return data\n",
    "\n",
    "dt_b = blocks.DataTransformBlock(callbacks=[_fill_missing])"
   ]
  },
  {
   "cell_type": "code",
   "execution_count": 78,
   "id": "f500de23",
   "metadata": {},
   "outputs": [],
   "source": [
    "# build the model\n",
    "dt_model = blocks.BlockAssembler.Sequential([csv_b, dt_b])"
   ]
  },
  {
   "cell_type": "code",
   "execution_count": 79,
   "id": "75d7f261",
   "metadata": {},
   "outputs": [
    {
     "data": {
      "text/html": [
       "\n",
       "            <link rel=\"stylesheet\" href=\"https://stackpath.bootstrapcdn.com/bootstrap/4.4.1/css/bootstrap.min.css\" integrity=\"sha384-Vkoo8x4CGsO3+Hhxv8T/Q5PaXtkKtu6ug5TOeNV6gBiFeWPGFN9MuhOf23Q9Ifjh\" crossorigin=\"anonymous\">\n",
       "            <div id=\"progress_indicator_4ca9df2b6e3df3c673ae9f39b9eeb9a6\">\n",
       "              <div class=\"spinner-border text-info\" role=\"status\"></div>\n",
       "              <span class=\"text-info\">Processing... show_graph</span>\n",
       "            </div>\n",
       "            "
      ],
      "text/plain": [
       "<IPython.core.display.HTML object>"
      ]
     },
     "metadata": {},
     "output_type": "display_data"
    },
    {
     "name": "stdout",
     "output_type": "stream",
     "text": [
      "huggingface/tokenizers: The current process just got forked, after parallelism has already been used. Disabling parallelism to avoid deadlocks...\n",
      "To disable this warning, you can either:\n",
      "\t- Avoid using `tokenizers` before the fork if possible\n",
      "\t- Explicitly set the environment variable TOKENIZERS_PARALLELISM=(true | false)\n",
      "/Users/xqhu/homebrew/bin/dot\n",
      "huggingface/tokenizers: The current process just got forked, after parallelism has already been used. Disabling parallelism to avoid deadlocks...\n",
      "To disable this warning, you can either:\n",
      "\t- Avoid using `tokenizers` before the fork if possible\n",
      "\t- Explicitly set the environment variable TOKENIZERS_PARALLELISM=(true | false)\n"
     ]
    },
    {
     "data": {
      "text/html": [
       "<?xml version=\"1.0\" encoding=\"UTF-8\" standalone=\"no\"?>\n",
       "<!DOCTYPE svg PUBLIC \"-//W3C//DTD SVG 1.1//EN\"\n",
       " \"http://www.w3.org/Graphics/SVG/1.1/DTD/svg11.dtd\">\n",
       "<!-- Generated by graphviz version 7.0.5 (20221223.1930)\n",
       " -->\n",
       "<!-- Title: G Pages: 1 -->\n",
       "<svg width=\"565pt\" height=\"404pt\"\n",
       " viewBox=\"0.00 0.00 565.00 404.00\" xmlns=\"http://www.w3.org/2000/svg\" xmlns:xlink=\"http://www.w3.org/1999/xlink\">\n",
       "<g id=\"graph0\" class=\"graph\" transform=\"scale(1 1) rotate(0) translate(4 400)\">\n",
       "<title>G</title>\n",
       "<polygon fill=\"white\" stroke=\"none\" points=\"-4,4 -4,-400 561,-400 561,4 -4,4\"/>\n",
       "<!-- ReadCSV &#45; 87c32666&#45;9190&#45;409d&#45;8b5e&#45;1908d270db9c -->\n",
       "<g id=\"node1\" class=\"node\">\n",
       "<title>ReadCSV &#45; 87c32666&#45;9190&#45;409d&#45;8b5e&#45;1908d270db9c</title>\n",
       "<polygon fill=\"none\" stroke=\"blue\" points=\"314,-396 0,-396 0,-360 314,-360 314,-396\"/>\n",
       "<text text-anchor=\"middle\" x=\"157\" y=\"-374.3\" font-family=\"Times,serif\" font-size=\"14.00\" fill=\"blue\">ReadCSV &#45; 87c32666&#45;9190&#45;409d&#45;8b5e&#45;1908d270db9c</text>\n",
       "</g>\n",
       "<!-- ToPCollection(o) -->\n",
       "<g id=\"node2\" class=\"node\">\n",
       "<title>ToPCollection(o)</title>\n",
       "<polygon fill=\"none\" stroke=\"blue\" points=\"443.5,-396 332.5,-396 332.5,-360 443.5,-360 443.5,-396\"/>\n",
       "<text text-anchor=\"middle\" x=\"388\" y=\"-374.3\" font-family=\"Times,serif\" font-size=\"14.00\" fill=\"blue\">ToPCollection(o)</text>\n",
       "</g>\n",
       "<!-- pcoll2167 -->\n",
       "<g id=\"node3\" class=\"node\">\n",
       "<title>pcoll2167</title>\n",
       "<ellipse fill=\"none\" stroke=\"blue\" cx=\"388\" cy=\"-306\" rx=\"18\" ry=\"18\"/>\n",
       "</g>\n",
       "<!-- ToPCollection(o)&#45;&gt;pcoll2167 -->\n",
       "<g id=\"edge1\" class=\"edge\">\n",
       "<title>ToPCollection(o)&#45;&gt;pcoll2167</title>\n",
       "<path fill=\"none\" stroke=\"black\" d=\"M382.08,-359.7C381.3,-352.1 381.07,-343 381.39,-334.51\"/>\n",
       "<polygon fill=\"black\" stroke=\"black\" points=\"384.87,-334.88 382.1,-324.65 377.89,-334.38 384.87,-334.88\"/>\n",
       "</g>\n",
       "<!-- pcoll2167&#45;&gt;ToPCollection(o) -->\n",
       "<g id=\"edge2\" class=\"edge\">\n",
       "<title>pcoll2167&#45;&gt;ToPCollection(o)</title>\n",
       "<path fill=\"none\" stroke=\"black\" d=\"M393.79,-323.14C394.64,-330.66 394.93,-339.84 394.65,-348.47\"/>\n",
       "<polygon fill=\"black\" stroke=\"black\" points=\"391.17,-347.98 394.01,-358.19 398.16,-348.43 391.17,-347.98\"/>\n",
       "</g>\n",
       "<!-- Unbatch &#39;placeholder_DataFrame_11339128160&#39; -->\n",
       "<g id=\"node4\" class=\"node\">\n",
       "<title>Unbatch &#39;placeholder_DataFrame_11339128160&#39;</title>\n",
       "<polygon fill=\"none\" stroke=\"blue\" points=\"529,-252 247,-252 247,-216 529,-216 529,-252\"/>\n",
       "<text text-anchor=\"middle\" x=\"388\" y=\"-230.3\" font-family=\"Times,serif\" font-size=\"14.00\" fill=\"blue\">Unbatch &#39;placeholder_DataFrame_11339128160&#39;</text>\n",
       "</g>\n",
       "<!-- pcoll2167&#45;&gt;Unbatch &#39;placeholder_DataFrame_11339128160&#39; -->\n",
       "<g id=\"edge3\" class=\"edge\">\n",
       "<title>pcoll2167&#45;&gt;Unbatch &#39;placeholder_DataFrame_11339128160&#39;</title>\n",
       "<path fill=\"none\" stroke=\"black\" d=\"M388,-287.7C388,-280.41 388,-271.73 388,-263.54\"/>\n",
       "<polygon fill=\"black\" stroke=\"black\" points=\"391.5,-263.62 388,-253.62 384.5,-263.62 391.5,-263.62\"/>\n",
       "</g>\n",
       "<!-- pcoll8891 -->\n",
       "<g id=\"node5\" class=\"node\">\n",
       "<title>pcoll8891</title>\n",
       "<ellipse fill=\"none\" stroke=\"blue\" cx=\"388\" cy=\"-162\" rx=\"18\" ry=\"18\"/>\n",
       "</g>\n",
       "<!-- Unbatch &#39;placeholder_DataFrame_11339128160&#39;&#45;&gt;pcoll8891 -->\n",
       "<g id=\"edge4\" class=\"edge\">\n",
       "<title>Unbatch &#39;placeholder_DataFrame_11339128160&#39;&#45;&gt;pcoll8891</title>\n",
       "<path fill=\"none\" stroke=\"black\" d=\"M388,-215.7C388,-208.41 388,-199.73 388,-191.54\"/>\n",
       "<polygon fill=\"black\" stroke=\"black\" points=\"391.5,-191.62 388,-181.62 384.5,-191.62 391.5,-191.62\"/>\n",
       "</g>\n",
       "<!-- DataTransform &#45; e30d6937&#45;5bdb&#45;49aa&#45;ab97&#45;1d9c6fe7a219 -->\n",
       "<g id=\"node6\" class=\"node\">\n",
       "<title>DataTransform &#45; e30d6937&#45;5bdb&#45;49aa&#45;ab97&#45;1d9c6fe7a219</title>\n",
       "<polygon fill=\"none\" stroke=\"blue\" points=\"557,-108 219,-108 219,-72 557,-72 557,-108\"/>\n",
       "<text text-anchor=\"middle\" x=\"388\" y=\"-86.3\" font-family=\"Times,serif\" font-size=\"14.00\" fill=\"blue\">DataTransform &#45; e30d6937&#45;5bdb&#45;49aa&#45;ab97&#45;1d9c6fe7a219</text>\n",
       "</g>\n",
       "<!-- pcoll8891&#45;&gt;DataTransform &#45; e30d6937&#45;5bdb&#45;49aa&#45;ab97&#45;1d9c6fe7a219 -->\n",
       "<g id=\"edge5\" class=\"edge\">\n",
       "<title>pcoll8891&#45;&gt;DataTransform &#45; e30d6937&#45;5bdb&#45;49aa&#45;ab97&#45;1d9c6fe7a219</title>\n",
       "<path fill=\"none\" stroke=\"black\" d=\"M388,-143.7C388,-136.41 388,-127.73 388,-119.54\"/>\n",
       "<polygon fill=\"black\" stroke=\"black\" points=\"391.5,-119.62 388,-109.62 384.5,-119.62 391.5,-119.62\"/>\n",
       "</g>\n",
       "<!-- pcoll5792 -->\n",
       "<g id=\"node7\" class=\"node\">\n",
       "<title>pcoll5792</title>\n",
       "<ellipse fill=\"none\" stroke=\"blue\" cx=\"388\" cy=\"-18\" rx=\"18\" ry=\"18\"/>\n",
       "</g>\n",
       "<!-- DataTransform &#45; e30d6937&#45;5bdb&#45;49aa&#45;ab97&#45;1d9c6fe7a219&#45;&gt;pcoll5792 -->\n",
       "<g id=\"edge6\" class=\"edge\">\n",
       "<title>DataTransform &#45; e30d6937&#45;5bdb&#45;49aa&#45;ab97&#45;1d9c6fe7a219&#45;&gt;pcoll5792</title>\n",
       "<path fill=\"none\" stroke=\"black\" d=\"M388,-71.7C388,-64.41 388,-55.73 388,-47.54\"/>\n",
       "<polygon fill=\"black\" stroke=\"black\" points=\"391.5,-47.62 388,-37.62 384.5,-47.62 391.5,-47.62\"/>\n",
       "</g>\n",
       "</g>\n",
       "</svg>\n"
      ],
      "text/plain": [
       "<IPython.core.display.HTML object>"
      ]
     },
     "metadata": {},
     "output_type": "display_data"
    },
    {
     "data": {
      "application/javascript": "\n        if (typeof window.interactive_beam_jquery == 'undefined') {\n          var jqueryScript = document.createElement('script');\n          jqueryScript.src = 'https://code.jquery.com/jquery-3.4.1.slim.min.js';\n          jqueryScript.type = 'text/javascript';\n          jqueryScript.onload = function() {\n            var datatableScript = document.createElement('script');\n            datatableScript.src = 'https://cdn.datatables.net/1.10.20/js/jquery.dataTables.min.js';\n            datatableScript.type = 'text/javascript';\n            datatableScript.onload = function() {\n              window.interactive_beam_jquery = jQuery.noConflict(true);\n              window.interactive_beam_jquery(document).ready(function($){\n                \n            $(\"#progress_indicator_4ca9df2b6e3df3c673ae9f39b9eeb9a6\").remove();\n              });\n            }\n            document.head.appendChild(datatableScript);\n          };\n          document.head.appendChild(jqueryScript);\n        } else {\n          window.interactive_beam_jquery(document).ready(function($){\n            \n            $(\"#progress_indicator_4ca9df2b6e3df3c673ae9f39b9eeb9a6\").remove();\n          });\n        }"
     },
     "metadata": {},
     "output_type": "display_data"
    }
   ],
   "source": [
    "dt_model.show_graph()"
   ]
  },
  {
   "cell_type": "code",
   "execution_count": 80,
   "id": "640aa898",
   "metadata": {},
   "outputs": [
    {
     "data": {
      "text/html": [
       "\n",
       "            <link rel=\"stylesheet\" href=\"https://stackpath.bootstrapcdn.com/bootstrap/4.4.1/css/bootstrap.min.css\" integrity=\"sha384-Vkoo8x4CGsO3+Hhxv8T/Q5PaXtkKtu6ug5TOeNV6gBiFeWPGFN9MuhOf23Q9Ifjh\" crossorigin=\"anonymous\">\n",
       "            <div id=\"progress_indicator_69cfeabb7c003e5c3e64e7e35c38fd52\">\n",
       "              <div class=\"spinner-border text-info\" role=\"status\"></div>\n",
       "              <span class=\"text-info\">Processing... collect</span>\n",
       "            </div>\n",
       "            "
      ],
      "text/plain": [
       "<IPython.core.display.HTML object>"
      ]
     },
     "metadata": {},
     "output_type": "display_data"
    },
    {
     "data": {
      "application/javascript": "\n        if (typeof window.interactive_beam_jquery == 'undefined') {\n          var jqueryScript = document.createElement('script');\n          jqueryScript.src = 'https://code.jquery.com/jquery-3.4.1.slim.min.js';\n          jqueryScript.type = 'text/javascript';\n          jqueryScript.onload = function() {\n            var datatableScript = document.createElement('script');\n            datatableScript.src = 'https://cdn.datatables.net/1.10.20/js/jquery.dataTables.min.js';\n            datatableScript.type = 'text/javascript';\n            datatableScript.onload = function() {\n              window.interactive_beam_jquery = jQuery.noConflict(true);\n              window.interactive_beam_jquery(document).ready(function($){\n                \n            $(\"#progress_indicator_69cfeabb7c003e5c3e64e7e35c38fd52\").remove();\n              });\n            }\n            document.head.appendChild(datatableScript);\n          };\n          document.head.appendChild(jqueryScript);\n        } else {\n          window.interactive_beam_jquery(document).ready(function($){\n            \n            $(\"#progress_indicator_69cfeabb7c003e5c3e64e7e35c38fd52\").remove();\n          });\n        }"
     },
     "metadata": {},
     "output_type": "display_data"
    }
   ],
   "source": [
    "pdf = dt_model.block_data(dt_b)"
   ]
  },
  {
   "cell_type": "code",
   "execution_count": 81,
   "id": "2d058775",
   "metadata": {},
   "outputs": [
    {
     "data": {
      "text/html": [
       "<div>\n",
       "<style scoped>\n",
       "    .dataframe tbody tr th:only-of-type {\n",
       "        vertical-align: middle;\n",
       "    }\n",
       "\n",
       "    .dataframe tbody tr th {\n",
       "        vertical-align: top;\n",
       "    }\n",
       "\n",
       "    .dataframe thead th {\n",
       "        text-align: right;\n",
       "    }\n",
       "</style>\n",
       "<table border=\"1\" class=\"dataframe\">\n",
       "  <thead>\n",
       "    <tr style=\"text-align: right;\">\n",
       "      <th></th>\n",
       "      <th>row_id</th>\n",
       "      <th>abv</th>\n",
       "      <th>ibu</th>\n",
       "      <th>id</th>\n",
       "      <th>name</th>\n",
       "      <th>style</th>\n",
       "      <th>brewery_id</th>\n",
       "      <th>ounces</th>\n",
       "    </tr>\n",
       "  </thead>\n",
       "  <tbody>\n",
       "    <tr>\n",
       "      <th>0</th>\n",
       "      <td>0</td>\n",
       "      <td>0.050</td>\n",
       "      <td>-1.0</td>\n",
       "      <td>1436</td>\n",
       "      <td>Pub Beer</td>\n",
       "      <td>American Pale Lager</td>\n",
       "      <td>408</td>\n",
       "      <td>12.0</td>\n",
       "    </tr>\n",
       "    <tr>\n",
       "      <th>1</th>\n",
       "      <td>1</td>\n",
       "      <td>0.066</td>\n",
       "      <td>-1.0</td>\n",
       "      <td>2265</td>\n",
       "      <td>Devil's Cup</td>\n",
       "      <td>American Pale Ale (APA)</td>\n",
       "      <td>177</td>\n",
       "      <td>12.0</td>\n",
       "    </tr>\n",
       "    <tr>\n",
       "      <th>2</th>\n",
       "      <td>2</td>\n",
       "      <td>0.071</td>\n",
       "      <td>-1.0</td>\n",
       "      <td>2264</td>\n",
       "      <td>Rise of the Phoenix</td>\n",
       "      <td>American IPA</td>\n",
       "      <td>177</td>\n",
       "      <td>12.0</td>\n",
       "    </tr>\n",
       "    <tr>\n",
       "      <th>3</th>\n",
       "      <td>3</td>\n",
       "      <td>0.090</td>\n",
       "      <td>-1.0</td>\n",
       "      <td>2263</td>\n",
       "      <td>Sinister</td>\n",
       "      <td>American Double / Imperial IPA</td>\n",
       "      <td>177</td>\n",
       "      <td>12.0</td>\n",
       "    </tr>\n",
       "    <tr>\n",
       "      <th>4</th>\n",
       "      <td>4</td>\n",
       "      <td>0.075</td>\n",
       "      <td>-1.0</td>\n",
       "      <td>2262</td>\n",
       "      <td>Sex and Candy</td>\n",
       "      <td>American IPA</td>\n",
       "      <td>177</td>\n",
       "      <td>12.0</td>\n",
       "    </tr>\n",
       "  </tbody>\n",
       "</table>\n",
       "</div>"
      ],
      "text/plain": [
       "   row_id    abv  ibu    id                 name  \\\n",
       "0       0  0.050 -1.0  1436             Pub Beer   \n",
       "1       1  0.066 -1.0  2265          Devil's Cup   \n",
       "2       2  0.071 -1.0  2264  Rise of the Phoenix   \n",
       "3       3  0.090 -1.0  2263             Sinister   \n",
       "4       4  0.075 -1.0  2262        Sex and Candy   \n",
       "\n",
       "                            style  brewery_id  ounces  \n",
       "0             American Pale Lager         408    12.0  \n",
       "1         American Pale Ale (APA)         177    12.0  \n",
       "2                    American IPA         177    12.0  \n",
       "3  American Double / Imperial IPA         177    12.0  \n",
       "4                    American IPA         177    12.0  "
      ]
     },
     "execution_count": 81,
     "metadata": {},
     "output_type": "execute_result"
    }
   ],
   "source": [
    "pdf.head()"
   ]
  },
  {
   "cell_type": "code",
   "execution_count": 82,
   "id": "fbdfc9c6",
   "metadata": {},
   "outputs": [],
   "source": [
    "dt_model_json = dt_model.to_json(indent = 2)"
   ]
  },
  {
   "cell_type": "code",
   "execution_count": 83,
   "id": "ccf06411",
   "metadata": {},
   "outputs": [
    {
     "name": "stdout",
     "output_type": "stream",
     "text": [
      "{\n",
      "  \"blocks\": [\n",
      "    {\n",
      "      \"block_type\": \"ReadCSV\",\n",
      "      \"block_id\": \"87c32666-9190-409d-8b5e-1908d270db9c\",\n",
      "      \"source_ids\": [],\n",
      "      \"target_ids\": [\n",
      "        \"e30d6937-5bdb-49aa-ab97-1d9c6fe7a219\"\n",
      "      ],\n",
      "      \"path\": \"../tests/beers.csv\",\n",
      "      \"header\": 0\n",
      "    },\n",
      "    {\n",
      "      \"block_type\": \"DataTransform\",\n",
      "      \"block_id\": \"e30d6937-5bdb-49aa-ab97-1d9c6fe7a219\",\n",
      "      \"source_ids\": [\n",
      "        \"87c32666-9190-409d-8b5e-1908d270db9c\"\n",
      "      ],\n",
      "      \"target_ids\": [],\n",
      "      \"callbacks\": [\n",
      "        {\n",
      "          \"_fill_missing\": \"def _fill_missing(data):\\n    \\\"\\\"\\\"fill missing with a constant for the ibu field\\\"\\\"\\\"\\n    if data.ibu is None:\\n        return data._replace(ibu = -1.0)\\n    return data\\n\"\n",
      "        }\n",
      "      ]\n",
      "    }\n",
      "  ],\n",
      "  \"model_type\": \"SEQUENTIAL\"\n",
      "}\n"
     ]
    }
   ],
   "source": [
    "print(dt_model_json)"
   ]
  },
  {
   "cell_type": "code",
   "execution_count": 84,
   "id": "a4f90e5b",
   "metadata": {},
   "outputs": [],
   "source": [
    "dt_model_1 = blocks.BlockAssembler.from_json(dt_model_json)"
   ]
  },
  {
   "cell_type": "code",
   "execution_count": 85,
   "id": "94201abd",
   "metadata": {},
   "outputs": [
    {
     "data": {
      "text/plain": [
       "[ReadCSVBlock(block_type='ReadCSV', block_id=UUID('87c32666-9190-409d-8b5e-1908d270db9c'), source_ids=[], target_ids=[UUID('e30d6937-5bdb-49aa-ab97-1d9c6fe7a219')], operation=<_ReadFromPandas(PTransform) label=[_ReadFromPandas] at 0x2ad0b3a60>, o=None, path='../tests/beers.csv', header=0),\n",
       " DataTransformBlock(block_type='DataTransform', block_id=UUID('e30d6937-5bdb-49aa-ab97-1d9c6fe7a219'), source_ids=[UUID('87c32666-9190-409d-8b5e-1908d270db9c')], target_ids=[], operation=<ParDo(PTransform) label=[Map(_fill_missing)] at 0x2ac73ca30>, o=None, callbacks=[{'_fill_missing': 'def _fill_missing(data):\\n    \"\"\"fill missing with a constant for the ibu field\"\"\"\\n    if data.ibu is None:\\n        return data._replace(ibu = -1.0)\\n    return data\\n'}])]"
      ]
     },
     "execution_count": 85,
     "metadata": {},
     "output_type": "execute_result"
    }
   ],
   "source": [
    "dt_model_1.blocks"
   ]
  },
  {
   "cell_type": "code",
   "execution_count": 86,
   "id": "f6651529",
   "metadata": {},
   "outputs": [
    {
     "data": {
      "text/html": [
       "\n",
       "            <link rel=\"stylesheet\" href=\"https://stackpath.bootstrapcdn.com/bootstrap/4.4.1/css/bootstrap.min.css\" integrity=\"sha384-Vkoo8x4CGsO3+Hhxv8T/Q5PaXtkKtu6ug5TOeNV6gBiFeWPGFN9MuhOf23Q9Ifjh\" crossorigin=\"anonymous\">\n",
       "            <div id=\"progress_indicator_55e36cded1fa7665ed8aca6a1fd1b66a\">\n",
       "              <div class=\"spinner-border text-info\" role=\"status\"></div>\n",
       "              <span class=\"text-info\">Processing... collect</span>\n",
       "            </div>\n",
       "            "
      ],
      "text/plain": [
       "<IPython.core.display.HTML object>"
      ]
     },
     "metadata": {},
     "output_type": "display_data"
    },
    {
     "data": {
      "application/javascript": "\n        if (typeof window.interactive_beam_jquery == 'undefined') {\n          var jqueryScript = document.createElement('script');\n          jqueryScript.src = 'https://code.jquery.com/jquery-3.4.1.slim.min.js';\n          jqueryScript.type = 'text/javascript';\n          jqueryScript.onload = function() {\n            var datatableScript = document.createElement('script');\n            datatableScript.src = 'https://cdn.datatables.net/1.10.20/js/jquery.dataTables.min.js';\n            datatableScript.type = 'text/javascript';\n            datatableScript.onload = function() {\n              window.interactive_beam_jquery = jQuery.noConflict(true);\n              window.interactive_beam_jquery(document).ready(function($){\n                \n            $(\"#progress_indicator_55e36cded1fa7665ed8aca6a1fd1b66a\").remove();\n              });\n            }\n            document.head.appendChild(datatableScript);\n          };\n          document.head.appendChild(jqueryScript);\n        } else {\n          window.interactive_beam_jquery(document).ready(function($){\n            \n            $(\"#progress_indicator_55e36cded1fa7665ed8aca6a1fd1b66a\").remove();\n          });\n        }"
     },
     "metadata": {},
     "output_type": "display_data"
    },
    {
     "data": {
      "text/html": [
       "<div>\n",
       "<style scoped>\n",
       "    .dataframe tbody tr th:only-of-type {\n",
       "        vertical-align: middle;\n",
       "    }\n",
       "\n",
       "    .dataframe tbody tr th {\n",
       "        vertical-align: top;\n",
       "    }\n",
       "\n",
       "    .dataframe thead th {\n",
       "        text-align: right;\n",
       "    }\n",
       "</style>\n",
       "<table border=\"1\" class=\"dataframe\">\n",
       "  <thead>\n",
       "    <tr style=\"text-align: right;\">\n",
       "      <th></th>\n",
       "      <th>row_id</th>\n",
       "      <th>abv</th>\n",
       "      <th>ibu</th>\n",
       "      <th>id</th>\n",
       "      <th>name</th>\n",
       "      <th>style</th>\n",
       "      <th>brewery_id</th>\n",
       "      <th>ounces</th>\n",
       "    </tr>\n",
       "  </thead>\n",
       "  <tbody>\n",
       "    <tr>\n",
       "      <th>0</th>\n",
       "      <td>0</td>\n",
       "      <td>0.050</td>\n",
       "      <td>-1.0</td>\n",
       "      <td>1436</td>\n",
       "      <td>Pub Beer</td>\n",
       "      <td>American Pale Lager</td>\n",
       "      <td>408</td>\n",
       "      <td>12.0</td>\n",
       "    </tr>\n",
       "    <tr>\n",
       "      <th>1</th>\n",
       "      <td>1</td>\n",
       "      <td>0.066</td>\n",
       "      <td>-1.0</td>\n",
       "      <td>2265</td>\n",
       "      <td>Devil's Cup</td>\n",
       "      <td>American Pale Ale (APA)</td>\n",
       "      <td>177</td>\n",
       "      <td>12.0</td>\n",
       "    </tr>\n",
       "    <tr>\n",
       "      <th>2</th>\n",
       "      <td>2</td>\n",
       "      <td>0.071</td>\n",
       "      <td>-1.0</td>\n",
       "      <td>2264</td>\n",
       "      <td>Rise of the Phoenix</td>\n",
       "      <td>American IPA</td>\n",
       "      <td>177</td>\n",
       "      <td>12.0</td>\n",
       "    </tr>\n",
       "    <tr>\n",
       "      <th>3</th>\n",
       "      <td>3</td>\n",
       "      <td>0.090</td>\n",
       "      <td>-1.0</td>\n",
       "      <td>2263</td>\n",
       "      <td>Sinister</td>\n",
       "      <td>American Double / Imperial IPA</td>\n",
       "      <td>177</td>\n",
       "      <td>12.0</td>\n",
       "    </tr>\n",
       "    <tr>\n",
       "      <th>4</th>\n",
       "      <td>4</td>\n",
       "      <td>0.075</td>\n",
       "      <td>-1.0</td>\n",
       "      <td>2262</td>\n",
       "      <td>Sex and Candy</td>\n",
       "      <td>American IPA</td>\n",
       "      <td>177</td>\n",
       "      <td>12.0</td>\n",
       "    </tr>\n",
       "    <tr>\n",
       "      <th>...</th>\n",
       "      <td>...</td>\n",
       "      <td>...</td>\n",
       "      <td>...</td>\n",
       "      <td>...</td>\n",
       "      <td>...</td>\n",
       "      <td>...</td>\n",
       "      <td>...</td>\n",
       "      <td>...</td>\n",
       "    </tr>\n",
       "    <tr>\n",
       "      <th>2405</th>\n",
       "      <td>2405</td>\n",
       "      <td>0.067</td>\n",
       "      <td>45.0</td>\n",
       "      <td>928</td>\n",
       "      <td>Belgorado</td>\n",
       "      <td>Belgian IPA</td>\n",
       "      <td>424</td>\n",
       "      <td>12.0</td>\n",
       "    </tr>\n",
       "    <tr>\n",
       "      <th>2406</th>\n",
       "      <td>2406</td>\n",
       "      <td>0.052</td>\n",
       "      <td>-1.0</td>\n",
       "      <td>807</td>\n",
       "      <td>Rail Yard Ale</td>\n",
       "      <td>American Amber / Red Ale</td>\n",
       "      <td>424</td>\n",
       "      <td>12.0</td>\n",
       "    </tr>\n",
       "    <tr>\n",
       "      <th>2407</th>\n",
       "      <td>2407</td>\n",
       "      <td>0.055</td>\n",
       "      <td>-1.0</td>\n",
       "      <td>620</td>\n",
       "      <td>B3K Black Lager</td>\n",
       "      <td>Schwarzbier</td>\n",
       "      <td>424</td>\n",
       "      <td>12.0</td>\n",
       "    </tr>\n",
       "    <tr>\n",
       "      <th>2408</th>\n",
       "      <td>2408</td>\n",
       "      <td>0.055</td>\n",
       "      <td>40.0</td>\n",
       "      <td>145</td>\n",
       "      <td>Silverback Pale Ale</td>\n",
       "      <td>American Pale Ale (APA)</td>\n",
       "      <td>424</td>\n",
       "      <td>12.0</td>\n",
       "    </tr>\n",
       "    <tr>\n",
       "      <th>2409</th>\n",
       "      <td>2409</td>\n",
       "      <td>0.052</td>\n",
       "      <td>-1.0</td>\n",
       "      <td>84</td>\n",
       "      <td>Rail Yard Ale (2009)</td>\n",
       "      <td>American Amber / Red Ale</td>\n",
       "      <td>424</td>\n",
       "      <td>12.0</td>\n",
       "    </tr>\n",
       "  </tbody>\n",
       "</table>\n",
       "<p>2410 rows × 8 columns</p>\n",
       "</div>"
      ],
      "text/plain": [
       "      row_id    abv   ibu    id                  name  \\\n",
       "0          0  0.050  -1.0  1436              Pub Beer   \n",
       "1          1  0.066  -1.0  2265           Devil's Cup   \n",
       "2          2  0.071  -1.0  2264   Rise of the Phoenix   \n",
       "3          3  0.090  -1.0  2263              Sinister   \n",
       "4          4  0.075  -1.0  2262         Sex and Candy   \n",
       "...      ...    ...   ...   ...                   ...   \n",
       "2405    2405  0.067  45.0   928             Belgorado   \n",
       "2406    2406  0.052  -1.0   807         Rail Yard Ale   \n",
       "2407    2407  0.055  -1.0   620       B3K Black Lager   \n",
       "2408    2408  0.055  40.0   145   Silverback Pale Ale   \n",
       "2409    2409  0.052  -1.0    84  Rail Yard Ale (2009)   \n",
       "\n",
       "                               style  brewery_id  ounces  \n",
       "0                American Pale Lager         408    12.0  \n",
       "1            American Pale Ale (APA)         177    12.0  \n",
       "2                       American IPA         177    12.0  \n",
       "3     American Double / Imperial IPA         177    12.0  \n",
       "4                       American IPA         177    12.0  \n",
       "...                              ...         ...     ...  \n",
       "2405                     Belgian IPA         424    12.0  \n",
       "2406        American Amber / Red Ale         424    12.0  \n",
       "2407                     Schwarzbier         424    12.0  \n",
       "2408         American Pale Ale (APA)         424    12.0  \n",
       "2409        American Amber / Red Ale         424    12.0  \n",
       "\n",
       "[2410 rows x 8 columns]"
      ]
     },
     "execution_count": 86,
     "metadata": {},
     "output_type": "execute_result"
    }
   ],
   "source": [
    "dt_model_1.block_data(dt_model_1.blocks[1])"
   ]
  },
  {
   "cell_type": "code",
   "execution_count": null,
   "id": "55b5d794",
   "metadata": {},
   "outputs": [],
   "source": []
  }
 ],
 "metadata": {
  "kernelspec": {
   "display_name": "venv",
   "language": "python",
   "name": "python3"
  },
  "language_info": {
   "codemirror_mode": {
    "name": "ipython",
    "version": 3
   },
   "file_extension": ".py",
   "mimetype": "text/x-python",
   "name": "python",
   "nbconvert_exporter": "python",
   "pygments_lexer": "ipython3",
   "version": "3.9.13"
  },
  "vscode": {
   "interpreter": {
    "hash": "6f737920f730edbd29bf5d9c00b412287b0c2b244b77025b95628ee3d308af8f"
   }
  }
 },
 "nbformat": 4,
 "nbformat_minor": 5
}
