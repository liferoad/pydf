{
 "cells": [
  {
   "cell_type": "code",
   "execution_count": 1,
   "id": "04c79c9c-0de2-4ed1-8582-39b009a5ec4e",
   "metadata": {},
   "outputs": [],
   "source": [
    "%load_ext autoreload\n",
    "%autoreload 2"
   ]
  },
  {
   "cell_type": "code",
   "execution_count": 2,
   "id": "cb40c1ab-baa2-49cd-9031-f3de99b54c10",
   "metadata": {},
   "outputs": [],
   "source": [
    "from df import blocks as blocks"
   ]
  },
  {
   "cell_type": "code",
   "execution_count": 3,
   "id": "25cb7d70-f8f7-4667-8b87-196a435e974e",
   "metadata": {},
   "outputs": [],
   "source": [
    "p = blocks.create_beam_pipeline()"
   ]
  },
  {
   "cell_type": "code",
   "execution_count": 4,
   "id": "e4a0be0e-061f-40f4-a037-879b375648b8",
   "metadata": {},
   "outputs": [],
   "source": [
    "sentences = ['This framework generates embeddings for each input sentence',\n",
    "    'Sentences are passed as a list of string.', \n",
    "    'The quick brown fox jumps over the lazy dog.']"
   ]
  },
  {
   "cell_type": "code",
   "execution_count": 5,
   "id": "2a405218-c765-49a2-b2eb-7ae659affe9b",
   "metadata": {},
   "outputs": [],
   "source": [
    "create = blocks.CreateBlock(values = sentences)"
   ]
  },
  {
   "cell_type": "code",
   "execution_count": 6,
   "id": "b5f294ca-e1a7-4d9f-9eb9-e2a139bcc9ce",
   "metadata": {},
   "outputs": [
    {
     "data": {
      "text/plain": [
       "<Create(PTransform) label=[Create] at 0x288418370>"
      ]
     },
     "execution_count": 6,
     "metadata": {},
     "output_type": "execute_result"
    }
   ],
   "source": [
    "create.operation"
   ]
  },
  {
   "cell_type": "code",
   "execution_count": 7,
   "id": "0f7e2181-81b4-47ad-9b41-abfefaf09dee",
   "metadata": {},
   "outputs": [
    {
     "data": {
      "text/plain": [
       "CreateBlock(block_id=UUID('2bbbc4ed-d3ea-4dc5-b4e5-625e03c314d9'), source_ids=[], target_ids=[], operation=<Create(PTransform) label=[Create] at 0x288418370>, o=None, values=['This framework generates embeddings for each input sentence', 'Sentences are passed as a list of string.', 'The quick brown fox jumps over the lazy dog.'])"
      ]
     },
     "execution_count": 7,
     "metadata": {},
     "output_type": "execute_result"
    }
   ],
   "source": [
    "create"
   ]
  },
  {
   "cell_type": "code",
   "execution_count": 8,
   "id": "58d3f758-6929-4670-be73-256b7c1f28a4",
   "metadata": {},
   "outputs": [],
   "source": [
    "embed = blocks.SentenceEmbeddingBlock()"
   ]
  },
  {
   "cell_type": "code",
   "execution_count": 9,
   "id": "a7e2e372-8fec-4228-9cc1-4d48a7eefd23",
   "metadata": {},
   "outputs": [
    {
     "data": {
      "text/plain": [
       "'all-MiniLM-L6-v2'"
      ]
     },
     "execution_count": 9,
     "metadata": {},
     "output_type": "execute_result"
    }
   ],
   "source": [
    "embed.model_name"
   ]
  },
  {
   "cell_type": "code",
   "execution_count": 10,
   "id": "7ca529fc-4103-45a4-b8e6-4dea937806b5",
   "metadata": {},
   "outputs": [
    {
     "data": {
      "text/plain": [
       "<ParDo(PTransform) label=[Map(<lambda at blocks.py:54>)] at 0x177efeeb0>"
      ]
     },
     "execution_count": 10,
     "metadata": {},
     "output_type": "execute_result"
    }
   ],
   "source": [
    "embed.operation"
   ]
  },
  {
   "cell_type": "code",
   "execution_count": 11,
   "id": "20a76956-cee8-4ad4-8964-f11344b62ae6",
   "metadata": {},
   "outputs": [],
   "source": [
    "model = blocks.BlockAssembler.Sequential([create, embed], p=p)"
   ]
  },
  {
   "cell_type": "code",
   "execution_count": 12,
   "id": "9c70096a-5fdd-45b1-8b1c-825f92eb7d07",
   "metadata": {},
   "outputs": [
    {
     "data": {
      "application/javascript": [
       "\n",
       "        if (typeof window.interactive_beam_jquery == 'undefined') {\n",
       "          var jqueryScript = document.createElement('script');\n",
       "          jqueryScript.src = 'https://code.jquery.com/jquery-3.4.1.slim.min.js';\n",
       "          jqueryScript.type = 'text/javascript';\n",
       "          jqueryScript.onload = function() {\n",
       "            var datatableScript = document.createElement('script');\n",
       "            datatableScript.src = 'https://cdn.datatables.net/1.10.20/js/jquery.dataTables.min.js';\n",
       "            datatableScript.type = 'text/javascript';\n",
       "            datatableScript.onload = function() {\n",
       "              window.interactive_beam_jquery = jQuery.noConflict(true);\n",
       "              window.interactive_beam_jquery(document).ready(function($){\n",
       "                \n",
       "              });\n",
       "            }\n",
       "            document.head.appendChild(datatableScript);\n",
       "          };\n",
       "          document.head.appendChild(jqueryScript);\n",
       "        } else {\n",
       "          window.interactive_beam_jquery(document).ready(function($){\n",
       "            \n",
       "          });\n",
       "        }"
      ]
     },
     "metadata": {},
     "output_type": "display_data"
    },
    {
     "name": "stderr",
     "output_type": "stream",
     "text": [
      "WARNING:apache_beam.options.pipeline_options:Discarding unparseable args: ['-f', '/Users/xqhu/Library/Jupyter/runtime/kernel-701fa203-072f-46c4-a82b-0d3bc685b43a.json']\n"
     ]
    }
   ],
   "source": [
    "model.compile()"
   ]
  },
  {
   "cell_type": "code",
   "execution_count": 13,
   "id": "4ee2e711-935e-4181-89a6-950bd9ae92b1",
   "metadata": {},
   "outputs": [
    {
     "data": {
      "text/plain": [
       "2"
      ]
     },
     "execution_count": 13,
     "metadata": {},
     "output_type": "execute_result"
    }
   ],
   "source": [
    "len(model.blocks)"
   ]
  },
  {
   "cell_type": "code",
   "execution_count": 14,
   "id": "865585bc-abcb-487b-82a4-2a01df0ec89b",
   "metadata": {},
   "outputs": [
    {
     "data": {
      "text/html": [
       "\n",
       "            <link rel=\"stylesheet\" href=\"https://stackpath.bootstrapcdn.com/bootstrap/4.4.1/css/bootstrap.min.css\" integrity=\"sha384-Vkoo8x4CGsO3+Hhxv8T/Q5PaXtkKtu6ug5TOeNV6gBiFeWPGFN9MuhOf23Q9Ifjh\" crossorigin=\"anonymous\">\n",
       "            <div id=\"progress_indicator_e2e343e2f4d7ffeb7e2ec7cd4623357d\">\n",
       "              <div class=\"spinner-border text-info\" role=\"status\"></div>\n",
       "              <span class=\"text-info\">Processing... show_graph</span>\n",
       "            </div>\n",
       "            "
      ],
      "text/plain": [
       "<IPython.core.display.HTML object>"
      ]
     },
     "metadata": {},
     "output_type": "display_data"
    },
    {
     "name": "stdout",
     "output_type": "stream",
     "text": [
      "/Users/xqhu/homebrew/bin/dot\n"
     ]
    },
    {
     "data": {
      "text/html": [
       "<?xml version=\"1.0\" encoding=\"UTF-8\" standalone=\"no\"?>\n",
       "<!DOCTYPE svg PUBLIC \"-//W3C//DTD SVG 1.1//EN\"\n",
       " \"http://www.w3.org/Graphics/SVG/1.1/DTD/svg11.dtd\">\n",
       "<!-- Generated by graphviz version 7.0.5 (20221223.1930)\n",
       " -->\n",
       "<!-- Title: G Pages: 1 -->\n",
       "<svg width=\"233pt\" height=\"260pt\"\n",
       " viewBox=\"0.00 0.00 233.00 260.00\" xmlns=\"http://www.w3.org/2000/svg\" xmlns:xlink=\"http://www.w3.org/1999/xlink\">\n",
       "<g id=\"graph0\" class=\"graph\" transform=\"scale(1 1) rotate(0) translate(4 256)\">\n",
       "<title>G</title>\n",
       "<polygon fill=\"white\" stroke=\"none\" points=\"-4,4 -4,-256 229,-256 229,4 -4,4\"/>\n",
       "<!-- [12]: Create -->\n",
       "<g id=\"node1\" class=\"node\">\n",
       "<title>[12]: Create</title>\n",
       "<polygon fill=\"none\" stroke=\"blue\" points=\"153.5,-252 71.5,-252 71.5,-216 153.5,-216 153.5,-252\"/>\n",
       "<text text-anchor=\"middle\" x=\"112.5\" y=\"-230.3\" font-family=\"Times,serif\" font-size=\"14.00\" fill=\"blue\">[12]: Create</text>\n",
       "</g>\n",
       "<!-- pcoll4540 -->\n",
       "<g id=\"node2\" class=\"node\">\n",
       "<title>pcoll4540</title>\n",
       "<ellipse fill=\"none\" stroke=\"blue\" cx=\"112.5\" cy=\"-162\" rx=\"18\" ry=\"18\"/>\n",
       "</g>\n",
       "<!-- [12]: Create&#45;&gt;pcoll4540 -->\n",
       "<g id=\"edge1\" class=\"edge\">\n",
       "<title>[12]: Create&#45;&gt;pcoll4540</title>\n",
       "<path fill=\"none\" stroke=\"black\" d=\"M112.5,-215.7C112.5,-208.41 112.5,-199.73 112.5,-191.54\"/>\n",
       "<polygon fill=\"black\" stroke=\"black\" points=\"116,-191.62 112.5,-181.62 109,-191.62 116,-191.62\"/>\n",
       "</g>\n",
       "<!-- [12]: Map(&lt;lambda at blocks.py:54&gt;) -->\n",
       "<g id=\"node3\" class=\"node\">\n",
       "<title>[12]: Map(&lt;lambda at blocks.py:54&gt;)</title>\n",
       "<polygon fill=\"none\" stroke=\"blue\" points=\"225,-108 0,-108 0,-72 225,-72 225,-108\"/>\n",
       "<text text-anchor=\"middle\" x=\"112.5\" y=\"-86.3\" font-family=\"Times,serif\" font-size=\"14.00\" fill=\"blue\">[12]: Map(&lt;lambda at blocks.py:54&gt;)</text>\n",
       "</g>\n",
       "<!-- pcoll4540&#45;&gt;[12]: Map(&lt;lambda at blocks.py:54&gt;) -->\n",
       "<g id=\"edge2\" class=\"edge\">\n",
       "<title>pcoll4540&#45;&gt;[12]: Map(&lt;lambda at blocks.py:54&gt;)</title>\n",
       "<path fill=\"none\" stroke=\"black\" d=\"M112.5,-143.7C112.5,-136.41 112.5,-127.73 112.5,-119.54\"/>\n",
       "<polygon fill=\"black\" stroke=\"black\" points=\"116,-119.62 112.5,-109.62 109,-119.62 116,-119.62\"/>\n",
       "</g>\n",
       "<!-- pcoll2489 -->\n",
       "<g id=\"node4\" class=\"node\">\n",
       "<title>pcoll2489</title>\n",
       "<ellipse fill=\"none\" stroke=\"blue\" cx=\"112.5\" cy=\"-18\" rx=\"18\" ry=\"18\"/>\n",
       "</g>\n",
       "<!-- [12]: Map(&lt;lambda at blocks.py:54&gt;)&#45;&gt;pcoll2489 -->\n",
       "<g id=\"edge3\" class=\"edge\">\n",
       "<title>[12]: Map(&lt;lambda at blocks.py:54&gt;)&#45;&gt;pcoll2489</title>\n",
       "<path fill=\"none\" stroke=\"black\" d=\"M112.5,-71.7C112.5,-64.41 112.5,-55.73 112.5,-47.54\"/>\n",
       "<polygon fill=\"black\" stroke=\"black\" points=\"116,-47.62 112.5,-37.62 109,-47.62 116,-47.62\"/>\n",
       "</g>\n",
       "</g>\n",
       "</svg>\n"
      ],
      "text/plain": [
       "<IPython.core.display.HTML object>"
      ]
     },
     "metadata": {},
     "output_type": "display_data"
    },
    {
     "data": {
      "application/javascript": [
       "\n",
       "        if (typeof window.interactive_beam_jquery == 'undefined') {\n",
       "          var jqueryScript = document.createElement('script');\n",
       "          jqueryScript.src = 'https://code.jquery.com/jquery-3.4.1.slim.min.js';\n",
       "          jqueryScript.type = 'text/javascript';\n",
       "          jqueryScript.onload = function() {\n",
       "            var datatableScript = document.createElement('script');\n",
       "            datatableScript.src = 'https://cdn.datatables.net/1.10.20/js/jquery.dataTables.min.js';\n",
       "            datatableScript.type = 'text/javascript';\n",
       "            datatableScript.onload = function() {\n",
       "              window.interactive_beam_jquery = jQuery.noConflict(true);\n",
       "              window.interactive_beam_jquery(document).ready(function($){\n",
       "                \n",
       "            $(\"#progress_indicator_e2e343e2f4d7ffeb7e2ec7cd4623357d\").remove();\n",
       "              });\n",
       "            }\n",
       "            document.head.appendChild(datatableScript);\n",
       "          };\n",
       "          document.head.appendChild(jqueryScript);\n",
       "        } else {\n",
       "          window.interactive_beam_jquery(document).ready(function($){\n",
       "            \n",
       "            $(\"#progress_indicator_e2e343e2f4d7ffeb7e2ec7cd4623357d\").remove();\n",
       "          });\n",
       "        }"
      ]
     },
     "metadata": {},
     "output_type": "display_data"
    }
   ],
   "source": [
    "model.show_graph()"
   ]
  },
  {
   "cell_type": "code",
   "execution_count": 15,
   "id": "113e09c6-177d-4314-80ba-21d7d58c1bec",
   "metadata": {},
   "outputs": [
    {
     "data": {
      "text/html": [
       "\n",
       "            <link rel=\"stylesheet\" href=\"https://stackpath.bootstrapcdn.com/bootstrap/4.4.1/css/bootstrap.min.css\" integrity=\"sha384-Vkoo8x4CGsO3+Hhxv8T/Q5PaXtkKtu6ug5TOeNV6gBiFeWPGFN9MuhOf23Q9Ifjh\" crossorigin=\"anonymous\">\n",
       "            <div id=\"progress_indicator_f5862d643a0167a7d084a84004b4007c\">\n",
       "              <div class=\"spinner-border text-info\" role=\"status\"></div>\n",
       "              <span class=\"text-info\">Processing... collect</span>\n",
       "            </div>\n",
       "            "
      ],
      "text/plain": [
       "<IPython.core.display.HTML object>"
      ]
     },
     "metadata": {},
     "output_type": "display_data"
    },
    {
     "name": "stderr",
     "output_type": "stream",
     "text": [
      "WARNING:apache_beam.options.pipeline_options:Discarding unparseable args: ['-f', '/Users/xqhu/Library/Jupyter/runtime/kernel-701fa203-072f-46c4-a82b-0d3bc685b43a.json']\n"
     ]
    },
    {
     "data": {
      "application/javascript": [
       "\n",
       "        if (typeof window.interactive_beam_jquery == 'undefined') {\n",
       "          var jqueryScript = document.createElement('script');\n",
       "          jqueryScript.src = 'https://code.jquery.com/jquery-3.4.1.slim.min.js';\n",
       "          jqueryScript.type = 'text/javascript';\n",
       "          jqueryScript.onload = function() {\n",
       "            var datatableScript = document.createElement('script');\n",
       "            datatableScript.src = 'https://cdn.datatables.net/1.10.20/js/jquery.dataTables.min.js';\n",
       "            datatableScript.type = 'text/javascript';\n",
       "            datatableScript.onload = function() {\n",
       "              window.interactive_beam_jquery = jQuery.noConflict(true);\n",
       "              window.interactive_beam_jquery(document).ready(function($){\n",
       "                \n",
       "            $(\"#progress_indicator_f5862d643a0167a7d084a84004b4007c\").remove();\n",
       "              });\n",
       "            }\n",
       "            document.head.appendChild(datatableScript);\n",
       "          };\n",
       "          document.head.appendChild(jqueryScript);\n",
       "        } else {\n",
       "          window.interactive_beam_jquery(document).ready(function($){\n",
       "            \n",
       "            $(\"#progress_indicator_f5862d643a0167a7d084a84004b4007c\").remove();\n",
       "          });\n",
       "        }"
      ]
     },
     "metadata": {},
     "output_type": "display_data"
    },
    {
     "data": {
      "text/html": [
       "<div>\n",
       "<style scoped>\n",
       "    .dataframe tbody tr th:only-of-type {\n",
       "        vertical-align: middle;\n",
       "    }\n",
       "\n",
       "    .dataframe tbody tr th {\n",
       "        vertical-align: top;\n",
       "    }\n",
       "\n",
       "    .dataframe thead th {\n",
       "        text-align: right;\n",
       "    }\n",
       "</style>\n",
       "<table border=\"1\" class=\"dataframe\">\n",
       "  <thead>\n",
       "    <tr style=\"text-align: right;\">\n",
       "      <th></th>\n",
       "      <th>0</th>\n",
       "    </tr>\n",
       "  </thead>\n",
       "  <tbody>\n",
       "    <tr>\n",
       "      <th>0</th>\n",
       "      <td>This framework generates embeddings for each i...</td>\n",
       "    </tr>\n",
       "    <tr>\n",
       "      <th>1</th>\n",
       "      <td>Sentences are passed as a list of string.</td>\n",
       "    </tr>\n",
       "    <tr>\n",
       "      <th>2</th>\n",
       "      <td>The quick brown fox jumps over the lazy dog.</td>\n",
       "    </tr>\n",
       "  </tbody>\n",
       "</table>\n",
       "</div>"
      ],
      "text/plain": [
       "                                                   0\n",
       "0  This framework generates embeddings for each i...\n",
       "1          Sentences are passed as a list of string.\n",
       "2       The quick brown fox jumps over the lazy dog."
      ]
     },
     "execution_count": 15,
     "metadata": {},
     "output_type": "execute_result"
    }
   ],
   "source": [
    "model.block_data(model.blocks[0])"
   ]
  },
  {
   "cell_type": "code",
   "execution_count": 16,
   "id": "808cfc4d-de90-4ed4-9f48-6d28c01fb89d",
   "metadata": {},
   "outputs": [
    {
     "data": {
      "text/html": [
       "\n",
       "            <link rel=\"stylesheet\" href=\"https://stackpath.bootstrapcdn.com/bootstrap/4.4.1/css/bootstrap.min.css\" integrity=\"sha384-Vkoo8x4CGsO3+Hhxv8T/Q5PaXtkKtu6ug5TOeNV6gBiFeWPGFN9MuhOf23Q9Ifjh\" crossorigin=\"anonymous\">\n",
       "            <div id=\"progress_indicator_13cfeba02290113873536153b9a063d0\">\n",
       "              <div class=\"spinner-border text-info\" role=\"status\"></div>\n",
       "              <span class=\"text-info\">Processing... collect</span>\n",
       "            </div>\n",
       "            "
      ],
      "text/plain": [
       "<IPython.core.display.HTML object>"
      ]
     },
     "metadata": {},
     "output_type": "display_data"
    },
    {
     "name": "stderr",
     "output_type": "stream",
     "text": [
      "WARNING:apache_beam.options.pipeline_options:Discarding unparseable args: ['-f', '/Users/xqhu/Library/Jupyter/runtime/kernel-701fa203-072f-46c4-a82b-0d3bc685b43a.json']\n"
     ]
    },
    {
     "data": {
      "application/javascript": [
       "\n",
       "        if (typeof window.interactive_beam_jquery == 'undefined') {\n",
       "          var jqueryScript = document.createElement('script');\n",
       "          jqueryScript.src = 'https://code.jquery.com/jquery-3.4.1.slim.min.js';\n",
       "          jqueryScript.type = 'text/javascript';\n",
       "          jqueryScript.onload = function() {\n",
       "            var datatableScript = document.createElement('script');\n",
       "            datatableScript.src = 'https://cdn.datatables.net/1.10.20/js/jquery.dataTables.min.js';\n",
       "            datatableScript.type = 'text/javascript';\n",
       "            datatableScript.onload = function() {\n",
       "              window.interactive_beam_jquery = jQuery.noConflict(true);\n",
       "              window.interactive_beam_jquery(document).ready(function($){\n",
       "                \n",
       "            $(\"#progress_indicator_13cfeba02290113873536153b9a063d0\").remove();\n",
       "              });\n",
       "            }\n",
       "            document.head.appendChild(datatableScript);\n",
       "          };\n",
       "          document.head.appendChild(jqueryScript);\n",
       "        } else {\n",
       "          window.interactive_beam_jquery(document).ready(function($){\n",
       "            \n",
       "            $(\"#progress_indicator_13cfeba02290113873536153b9a063d0\").remove();\n",
       "          });\n",
       "        }"
      ]
     },
     "metadata": {},
     "output_type": "display_data"
    },
    {
     "data": {
      "text/html": [
       "<div>\n",
       "<style scoped>\n",
       "    .dataframe tbody tr th:only-of-type {\n",
       "        vertical-align: middle;\n",
       "    }\n",
       "\n",
       "    .dataframe tbody tr th {\n",
       "        vertical-align: top;\n",
       "    }\n",
       "\n",
       "    .dataframe thead th {\n",
       "        text-align: right;\n",
       "    }\n",
       "</style>\n",
       "<table border=\"1\" class=\"dataframe\">\n",
       "  <thead>\n",
       "    <tr style=\"text-align: right;\">\n",
       "      <th></th>\n",
       "      <th>0</th>\n",
       "    </tr>\n",
       "  </thead>\n",
       "  <tbody>\n",
       "    <tr>\n",
       "      <th>0</th>\n",
       "      <td>[-0.013717398, -0.042851556, -0.01562865, 0.01...</td>\n",
       "    </tr>\n",
       "    <tr>\n",
       "      <th>1</th>\n",
       "      <td>[0.0564525, 0.05500244, 0.031379532, 0.0339484...</td>\n",
       "    </tr>\n",
       "    <tr>\n",
       "      <th>2</th>\n",
       "      <td>[0.043933515, 0.05893439, 0.04817844, 0.077548...</td>\n",
       "    </tr>\n",
       "  </tbody>\n",
       "</table>\n",
       "</div>"
      ],
      "text/plain": [
       "                                                   0\n",
       "0  [-0.013717398, -0.042851556, -0.01562865, 0.01...\n",
       "1  [0.0564525, 0.05500244, 0.031379532, 0.0339484...\n",
       "2  [0.043933515, 0.05893439, 0.04817844, 0.077548..."
      ]
     },
     "execution_count": 16,
     "metadata": {},
     "output_type": "execute_result"
    }
   ],
   "source": [
    "model.block_data(model.blocks[1])"
   ]
  },
  {
   "cell_type": "code",
   "execution_count": 17,
   "id": "b3723bb0-312f-4f8c-8152-18093a43161c",
   "metadata": {},
   "outputs": [
    {
     "data": {
      "text/plain": [
       "'{\"block_id\": \"5964d7fc-f313-4433-8671-ab3c803b7169\", \"source_ids\": [\"2bbbc4ed-d3ea-4dc5-b4e5-625e03c314d9\"], \"target_ids\": [], \"model_name\": \"all-MiniLM-L6-v2\"}'"
      ]
     },
     "execution_count": 17,
     "metadata": {},
     "output_type": "execute_result"
    }
   ],
   "source": [
    "model.blocks[1].json(exclude={\"operation\", \"o\"})"
   ]
  },
  {
   "cell_type": "code",
   "execution_count": null,
   "id": "09c93d29-620e-46de-812b-25b3289b7f7b",
   "metadata": {},
   "outputs": [],
   "source": []
  }
 ],
 "metadata": {
  "kernelspec": {
   "display_name": "Python 3 (ipykernel)",
   "language": "python",
   "name": "python3"
  },
  "language_info": {
   "codemirror_mode": {
    "name": "ipython",
    "version": 3
   },
   "file_extension": ".py",
   "mimetype": "text/x-python",
   "name": "python",
   "nbconvert_exporter": "python",
   "pygments_lexer": "ipython3",
   "version": "3.9.13"
  }
 },
 "nbformat": 4,
 "nbformat_minor": 5
}
