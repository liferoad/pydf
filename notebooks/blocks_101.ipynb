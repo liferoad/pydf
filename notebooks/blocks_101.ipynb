{
 "cells": [
  {
   "cell_type": "code",
   "execution_count": 1,
   "id": "04c79c9c-0de2-4ed1-8582-39b009a5ec4e",
   "metadata": {},
   "outputs": [],
   "source": [
    "%load_ext autoreload\n",
    "%autoreload 2"
   ]
  },
  {
   "cell_type": "code",
   "execution_count": 2,
   "id": "cb40c1ab-baa2-49cd-9031-f3de99b54c10",
   "metadata": {},
   "outputs": [],
   "source": [
    "from df import blocks as blocks"
   ]
  },
  {
   "cell_type": "markdown",
   "id": "49f15748-2f59-4e7d-9554-926e472f0b6b",
   "metadata": {},
   "source": [
    "# Simple sequential beam model"
   ]
  },
  {
   "cell_type": "code",
   "execution_count": 3,
   "id": "e4a0be0e-061f-40f4-a037-879b375648b8",
   "metadata": {},
   "outputs": [],
   "source": [
    "sentences = ['This framework generates embeddings for each input sentence',\n",
    "    'Sentences are passed as a list of string.', \n",
    "    'The quick brown fox jumps over the lazy dog.']"
   ]
  },
  {
   "cell_type": "code",
   "execution_count": 4,
   "id": "2a405218-c765-49a2-b2eb-7ae659affe9b",
   "metadata": {},
   "outputs": [],
   "source": [
    "create = blocks.CreateBlock(values = sentences)"
   ]
  },
  {
   "cell_type": "code",
   "execution_count": 5,
   "id": "b5f294ca-e1a7-4d9f-9eb9-e2a139bcc9ce",
   "metadata": {},
   "outputs": [
    {
     "data": {
      "text/plain": [
       "<Create(PTransform) label=[Create] at 0x106fd8580>"
      ]
     },
     "execution_count": 5,
     "metadata": {},
     "output_type": "execute_result"
    }
   ],
   "source": [
    "create.operation"
   ]
  },
  {
   "cell_type": "code",
   "execution_count": 6,
   "id": "0f7e2181-81b4-47ad-9b41-abfefaf09dee",
   "metadata": {},
   "outputs": [
    {
     "data": {
      "text/plain": [
       "CreateBlock(block_type='Create', block_id=UUID('0e6e0620-f26d-4fd7-98f5-93189251a47b'), source_ids=[], target_ids=[], operation=<Create(PTransform) label=[Create] at 0x106fd8580>, o=None, values=['This framework generates embeddings for each input sentence', 'Sentences are passed as a list of string.', 'The quick brown fox jumps over the lazy dog.'])"
      ]
     },
     "execution_count": 6,
     "metadata": {},
     "output_type": "execute_result"
    }
   ],
   "source": [
    "create"
   ]
  },
  {
   "cell_type": "code",
   "execution_count": 7,
   "id": "58d3f758-6929-4670-be73-256b7c1f28a4",
   "metadata": {},
   "outputs": [],
   "source": [
    "embed = blocks.SentenceEmbeddingBlock()"
   ]
  },
  {
   "cell_type": "code",
   "execution_count": 8,
   "id": "a7e2e372-8fec-4228-9cc1-4d48a7eefd23",
   "metadata": {},
   "outputs": [
    {
     "data": {
      "text/plain": [
       "'all-MiniLM-L6-v2'"
      ]
     },
     "execution_count": 8,
     "metadata": {},
     "output_type": "execute_result"
    }
   ],
   "source": [
    "embed.model_name"
   ]
  },
  {
   "cell_type": "code",
   "execution_count": 9,
   "id": "7ca529fc-4103-45a4-b8e6-4dea937806b5",
   "metadata": {},
   "outputs": [
    {
     "data": {
      "text/plain": [
       "<ParDo(PTransform) label=[Map(<lambda at blocks.py:85>)] at 0x2ab875280>"
      ]
     },
     "execution_count": 9,
     "metadata": {},
     "output_type": "execute_result"
    }
   ],
   "source": [
    "embed.operation"
   ]
  },
  {
   "cell_type": "code",
   "execution_count": 10,
   "id": "20a76956-cee8-4ad4-8964-f11344b62ae6",
   "metadata": {},
   "outputs": [],
   "source": [
    "model = blocks.BlockAssembler.Sequential([create, embed])"
   ]
  },
  {
   "cell_type": "code",
   "execution_count": 11,
   "id": "9c70096a-5fdd-45b1-8b1c-825f92eb7d07",
   "metadata": {},
   "outputs": [
    {
     "data": {
      "application/javascript": [
       "\n",
       "        if (typeof window.interactive_beam_jquery == 'undefined') {\n",
       "          var jqueryScript = document.createElement('script');\n",
       "          jqueryScript.src = 'https://code.jquery.com/jquery-3.4.1.slim.min.js';\n",
       "          jqueryScript.type = 'text/javascript';\n",
       "          jqueryScript.onload = function() {\n",
       "            var datatableScript = document.createElement('script');\n",
       "            datatableScript.src = 'https://cdn.datatables.net/1.10.20/js/jquery.dataTables.min.js';\n",
       "            datatableScript.type = 'text/javascript';\n",
       "            datatableScript.onload = function() {\n",
       "              window.interactive_beam_jquery = jQuery.noConflict(true);\n",
       "              window.interactive_beam_jquery(document).ready(function($){\n",
       "                \n",
       "              });\n",
       "            }\n",
       "            document.head.appendChild(datatableScript);\n",
       "          };\n",
       "          document.head.appendChild(jqueryScript);\n",
       "        } else {\n",
       "          window.interactive_beam_jquery(document).ready(function($){\n",
       "            \n",
       "          });\n",
       "        }"
      ]
     },
     "metadata": {},
     "output_type": "display_data"
    }
   ],
   "source": [
    "model.compile()"
   ]
  },
  {
   "cell_type": "code",
   "execution_count": 12,
   "id": "4ee2e711-935e-4181-89a6-950bd9ae92b1",
   "metadata": {},
   "outputs": [
    {
     "data": {
      "text/plain": [
       "2"
      ]
     },
     "execution_count": 12,
     "metadata": {},
     "output_type": "execute_result"
    }
   ],
   "source": [
    "len(model.blocks)"
   ]
  },
  {
   "cell_type": "code",
   "execution_count": 13,
   "id": "865585bc-abcb-487b-82a4-2a01df0ec89b",
   "metadata": {},
   "outputs": [
    {
     "data": {
      "text/html": [
       "\n",
       "            <link rel=\"stylesheet\" href=\"https://stackpath.bootstrapcdn.com/bootstrap/4.4.1/css/bootstrap.min.css\" integrity=\"sha384-Vkoo8x4CGsO3+Hhxv8T/Q5PaXtkKtu6ug5TOeNV6gBiFeWPGFN9MuhOf23Q9Ifjh\" crossorigin=\"anonymous\">\n",
       "            <div id=\"progress_indicator_5098039157cc68ebd049153c891acc67\">\n",
       "              <div class=\"spinner-border text-info\" role=\"status\"></div>\n",
       "              <span class=\"text-info\">Processing... show_graph</span>\n",
       "            </div>\n",
       "            "
      ],
      "text/plain": [
       "<IPython.core.display.HTML object>"
      ]
     },
     "metadata": {},
     "output_type": "display_data"
    },
    {
     "name": "stdout",
     "output_type": "stream",
     "text": [
      "/Users/xqhu/homebrew/bin/dot\n"
     ]
    },
    {
     "data": {
      "text/html": [
       "<?xml version=\"1.0\" encoding=\"UTF-8\" standalone=\"no\"?>\n",
       "<!DOCTYPE svg PUBLIC \"-//W3C//DTD SVG 1.1//EN\"\n",
       " \"http://www.w3.org/Graphics/SVG/1.1/DTD/svg11.dtd\">\n",
       "<!-- Generated by graphviz version 7.0.5 (20221223.1930)\n",
       " -->\n",
       "<!-- Title: G Pages: 1 -->\n",
       "<svg width=\"369pt\" height=\"260pt\"\n",
       " viewBox=\"0.00 0.00 369.00 260.00\" xmlns=\"http://www.w3.org/2000/svg\" xmlns:xlink=\"http://www.w3.org/1999/xlink\">\n",
       "<g id=\"graph0\" class=\"graph\" transform=\"scale(1 1) rotate(0) translate(4 256)\">\n",
       "<title>G</title>\n",
       "<polygon fill=\"white\" stroke=\"none\" points=\"-4,4 -4,-256 365,-256 365,4 -4,4\"/>\n",
       "<!-- Create &#45; 0e6e0620&#45;f26d&#45;4fd7&#45;98f5&#45;93189251a47b -->\n",
       "<g id=\"node1\" class=\"node\">\n",
       "<title>Create &#45; 0e6e0620&#45;f26d&#45;4fd7&#45;98f5&#45;93189251a47b</title>\n",
       "<polygon fill=\"none\" stroke=\"blue\" points=\"325,-252 36,-252 36,-216 325,-216 325,-252\"/>\n",
       "<text text-anchor=\"middle\" x=\"180.5\" y=\"-230.3\" font-family=\"Times,serif\" font-size=\"14.00\" fill=\"blue\">Create &#45; 0e6e0620&#45;f26d&#45;4fd7&#45;98f5&#45;93189251a47b</text>\n",
       "</g>\n",
       "<!-- pcoll64 -->\n",
       "<g id=\"node2\" class=\"node\">\n",
       "<title>pcoll64</title>\n",
       "<ellipse fill=\"none\" stroke=\"blue\" cx=\"180.5\" cy=\"-162\" rx=\"18\" ry=\"18\"/>\n",
       "</g>\n",
       "<!-- Create &#45; 0e6e0620&#45;f26d&#45;4fd7&#45;98f5&#45;93189251a47b&#45;&gt;pcoll64 -->\n",
       "<g id=\"edge1\" class=\"edge\">\n",
       "<title>Create &#45; 0e6e0620&#45;f26d&#45;4fd7&#45;98f5&#45;93189251a47b&#45;&gt;pcoll64</title>\n",
       "<path fill=\"none\" stroke=\"black\" d=\"M180.5,-215.7C180.5,-208.41 180.5,-199.73 180.5,-191.54\"/>\n",
       "<polygon fill=\"black\" stroke=\"black\" points=\"184,-191.62 180.5,-181.62 177,-191.62 184,-191.62\"/>\n",
       "</g>\n",
       "<!-- SentenceEmbedding &#45; 745323cb&#45;a6f1&#45;4fe1&#45;a62c&#45;98ac8cf65d8a -->\n",
       "<g id=\"node3\" class=\"node\">\n",
       "<title>SentenceEmbedding &#45; 745323cb&#45;a6f1&#45;4fe1&#45;a62c&#45;98ac8cf65d8a</title>\n",
       "<polygon fill=\"none\" stroke=\"blue\" points=\"361,-108 0,-108 0,-72 361,-72 361,-108\"/>\n",
       "<text text-anchor=\"middle\" x=\"180.5\" y=\"-86.3\" font-family=\"Times,serif\" font-size=\"14.00\" fill=\"blue\">SentenceEmbedding &#45; 745323cb&#45;a6f1&#45;4fe1&#45;a62c&#45;98ac8cf65d8a</text>\n",
       "</g>\n",
       "<!-- pcoll64&#45;&gt;SentenceEmbedding &#45; 745323cb&#45;a6f1&#45;4fe1&#45;a62c&#45;98ac8cf65d8a -->\n",
       "<g id=\"edge2\" class=\"edge\">\n",
       "<title>pcoll64&#45;&gt;SentenceEmbedding &#45; 745323cb&#45;a6f1&#45;4fe1&#45;a62c&#45;98ac8cf65d8a</title>\n",
       "<path fill=\"none\" stroke=\"black\" d=\"M180.5,-143.7C180.5,-136.41 180.5,-127.73 180.5,-119.54\"/>\n",
       "<polygon fill=\"black\" stroke=\"black\" points=\"184,-119.62 180.5,-109.62 177,-119.62 184,-119.62\"/>\n",
       "</g>\n",
       "<!-- pcoll5831 -->\n",
       "<g id=\"node4\" class=\"node\">\n",
       "<title>pcoll5831</title>\n",
       "<ellipse fill=\"none\" stroke=\"blue\" cx=\"180.5\" cy=\"-18\" rx=\"18\" ry=\"18\"/>\n",
       "</g>\n",
       "<!-- SentenceEmbedding &#45; 745323cb&#45;a6f1&#45;4fe1&#45;a62c&#45;98ac8cf65d8a&#45;&gt;pcoll5831 -->\n",
       "<g id=\"edge3\" class=\"edge\">\n",
       "<title>SentenceEmbedding &#45; 745323cb&#45;a6f1&#45;4fe1&#45;a62c&#45;98ac8cf65d8a&#45;&gt;pcoll5831</title>\n",
       "<path fill=\"none\" stroke=\"black\" d=\"M180.5,-71.7C180.5,-64.41 180.5,-55.73 180.5,-47.54\"/>\n",
       "<polygon fill=\"black\" stroke=\"black\" points=\"184,-47.62 180.5,-37.62 177,-47.62 184,-47.62\"/>\n",
       "</g>\n",
       "</g>\n",
       "</svg>\n"
      ],
      "text/plain": [
       "<IPython.core.display.HTML object>"
      ]
     },
     "metadata": {},
     "output_type": "display_data"
    },
    {
     "data": {
      "application/javascript": [
       "\n",
       "        if (typeof window.interactive_beam_jquery == 'undefined') {\n",
       "          var jqueryScript = document.createElement('script');\n",
       "          jqueryScript.src = 'https://code.jquery.com/jquery-3.4.1.slim.min.js';\n",
       "          jqueryScript.type = 'text/javascript';\n",
       "          jqueryScript.onload = function() {\n",
       "            var datatableScript = document.createElement('script');\n",
       "            datatableScript.src = 'https://cdn.datatables.net/1.10.20/js/jquery.dataTables.min.js';\n",
       "            datatableScript.type = 'text/javascript';\n",
       "            datatableScript.onload = function() {\n",
       "              window.interactive_beam_jquery = jQuery.noConflict(true);\n",
       "              window.interactive_beam_jquery(document).ready(function($){\n",
       "                \n",
       "            $(\"#progress_indicator_5098039157cc68ebd049153c891acc67\").remove();\n",
       "              });\n",
       "            }\n",
       "            document.head.appendChild(datatableScript);\n",
       "          };\n",
       "          document.head.appendChild(jqueryScript);\n",
       "        } else {\n",
       "          window.interactive_beam_jquery(document).ready(function($){\n",
       "            \n",
       "            $(\"#progress_indicator_5098039157cc68ebd049153c891acc67\").remove();\n",
       "          });\n",
       "        }"
      ]
     },
     "metadata": {},
     "output_type": "display_data"
    }
   ],
   "source": [
    "model.show_graph()"
   ]
  },
  {
   "cell_type": "code",
   "execution_count": 14,
   "id": "113e09c6-177d-4314-80ba-21d7d58c1bec",
   "metadata": {},
   "outputs": [
    {
     "data": {
      "text/html": [
       "\n",
       "            <link rel=\"stylesheet\" href=\"https://stackpath.bootstrapcdn.com/bootstrap/4.4.1/css/bootstrap.min.css\" integrity=\"sha384-Vkoo8x4CGsO3+Hhxv8T/Q5PaXtkKtu6ug5TOeNV6gBiFeWPGFN9MuhOf23Q9Ifjh\" crossorigin=\"anonymous\">\n",
       "            <div id=\"progress_indicator_d2c21077115f6d97f2faa383eaa3d542\">\n",
       "              <div class=\"spinner-border text-info\" role=\"status\"></div>\n",
       "              <span class=\"text-info\">Processing... collect</span>\n",
       "            </div>\n",
       "            "
      ],
      "text/plain": [
       "<IPython.core.display.HTML object>"
      ]
     },
     "metadata": {},
     "output_type": "display_data"
    },
    {
     "data": {
      "application/javascript": [
       "\n",
       "        if (typeof window.interactive_beam_jquery == 'undefined') {\n",
       "          var jqueryScript = document.createElement('script');\n",
       "          jqueryScript.src = 'https://code.jquery.com/jquery-3.4.1.slim.min.js';\n",
       "          jqueryScript.type = 'text/javascript';\n",
       "          jqueryScript.onload = function() {\n",
       "            var datatableScript = document.createElement('script');\n",
       "            datatableScript.src = 'https://cdn.datatables.net/1.10.20/js/jquery.dataTables.min.js';\n",
       "            datatableScript.type = 'text/javascript';\n",
       "            datatableScript.onload = function() {\n",
       "              window.interactive_beam_jquery = jQuery.noConflict(true);\n",
       "              window.interactive_beam_jquery(document).ready(function($){\n",
       "                \n",
       "            $(\"#progress_indicator_d2c21077115f6d97f2faa383eaa3d542\").remove();\n",
       "              });\n",
       "            }\n",
       "            document.head.appendChild(datatableScript);\n",
       "          };\n",
       "          document.head.appendChild(jqueryScript);\n",
       "        } else {\n",
       "          window.interactive_beam_jquery(document).ready(function($){\n",
       "            \n",
       "            $(\"#progress_indicator_d2c21077115f6d97f2faa383eaa3d542\").remove();\n",
       "          });\n",
       "        }"
      ]
     },
     "metadata": {},
     "output_type": "display_data"
    },
    {
     "data": {
      "text/html": [
       "<div>\n",
       "<style scoped>\n",
       "    .dataframe tbody tr th:only-of-type {\n",
       "        vertical-align: middle;\n",
       "    }\n",
       "\n",
       "    .dataframe tbody tr th {\n",
       "        vertical-align: top;\n",
       "    }\n",
       "\n",
       "    .dataframe thead th {\n",
       "        text-align: right;\n",
       "    }\n",
       "</style>\n",
       "<table border=\"1\" class=\"dataframe\">\n",
       "  <thead>\n",
       "    <tr style=\"text-align: right;\">\n",
       "      <th></th>\n",
       "      <th>0</th>\n",
       "    </tr>\n",
       "  </thead>\n",
       "  <tbody>\n",
       "    <tr>\n",
       "      <th>0</th>\n",
       "      <td>This framework generates embeddings for each i...</td>\n",
       "    </tr>\n",
       "    <tr>\n",
       "      <th>1</th>\n",
       "      <td>Sentences are passed as a list of string.</td>\n",
       "    </tr>\n",
       "    <tr>\n",
       "      <th>2</th>\n",
       "      <td>The quick brown fox jumps over the lazy dog.</td>\n",
       "    </tr>\n",
       "  </tbody>\n",
       "</table>\n",
       "</div>"
      ],
      "text/plain": [
       "                                                   0\n",
       "0  This framework generates embeddings for each i...\n",
       "1          Sentences are passed as a list of string.\n",
       "2       The quick brown fox jumps over the lazy dog."
      ]
     },
     "execution_count": 14,
     "metadata": {},
     "output_type": "execute_result"
    }
   ],
   "source": [
    "model.block_data(model.blocks[0])"
   ]
  },
  {
   "cell_type": "code",
   "execution_count": 15,
   "id": "808cfc4d-de90-4ed4-9f48-6d28c01fb89d",
   "metadata": {},
   "outputs": [
    {
     "data": {
      "text/html": [
       "\n",
       "            <link rel=\"stylesheet\" href=\"https://stackpath.bootstrapcdn.com/bootstrap/4.4.1/css/bootstrap.min.css\" integrity=\"sha384-Vkoo8x4CGsO3+Hhxv8T/Q5PaXtkKtu6ug5TOeNV6gBiFeWPGFN9MuhOf23Q9Ifjh\" crossorigin=\"anonymous\">\n",
       "            <div id=\"progress_indicator_5a8b6e002bb6cb469d95b05e1db2beac\">\n",
       "              <div class=\"spinner-border text-info\" role=\"status\"></div>\n",
       "              <span class=\"text-info\">Processing... collect</span>\n",
       "            </div>\n",
       "            "
      ],
      "text/plain": [
       "<IPython.core.display.HTML object>"
      ]
     },
     "metadata": {},
     "output_type": "display_data"
    },
    {
     "data": {
      "application/javascript": [
       "\n",
       "        if (typeof window.interactive_beam_jquery == 'undefined') {\n",
       "          var jqueryScript = document.createElement('script');\n",
       "          jqueryScript.src = 'https://code.jquery.com/jquery-3.4.1.slim.min.js';\n",
       "          jqueryScript.type = 'text/javascript';\n",
       "          jqueryScript.onload = function() {\n",
       "            var datatableScript = document.createElement('script');\n",
       "            datatableScript.src = 'https://cdn.datatables.net/1.10.20/js/jquery.dataTables.min.js';\n",
       "            datatableScript.type = 'text/javascript';\n",
       "            datatableScript.onload = function() {\n",
       "              window.interactive_beam_jquery = jQuery.noConflict(true);\n",
       "              window.interactive_beam_jquery(document).ready(function($){\n",
       "                \n",
       "            $(\"#progress_indicator_5a8b6e002bb6cb469d95b05e1db2beac\").remove();\n",
       "              });\n",
       "            }\n",
       "            document.head.appendChild(datatableScript);\n",
       "          };\n",
       "          document.head.appendChild(jqueryScript);\n",
       "        } else {\n",
       "          window.interactive_beam_jquery(document).ready(function($){\n",
       "            \n",
       "            $(\"#progress_indicator_5a8b6e002bb6cb469d95b05e1db2beac\").remove();\n",
       "          });\n",
       "        }"
      ]
     },
     "metadata": {},
     "output_type": "display_data"
    },
    {
     "data": {
      "text/html": [
       "<div>\n",
       "<style scoped>\n",
       "    .dataframe tbody tr th:only-of-type {\n",
       "        vertical-align: middle;\n",
       "    }\n",
       "\n",
       "    .dataframe tbody tr th {\n",
       "        vertical-align: top;\n",
       "    }\n",
       "\n",
       "    .dataframe thead th {\n",
       "        text-align: right;\n",
       "    }\n",
       "</style>\n",
       "<table border=\"1\" class=\"dataframe\">\n",
       "  <thead>\n",
       "    <tr style=\"text-align: right;\">\n",
       "      <th></th>\n",
       "      <th>0</th>\n",
       "    </tr>\n",
       "  </thead>\n",
       "  <tbody>\n",
       "    <tr>\n",
       "      <th>0</th>\n",
       "      <td>[-0.013717398, -0.042851556, -0.01562865, 0.01...</td>\n",
       "    </tr>\n",
       "    <tr>\n",
       "      <th>1</th>\n",
       "      <td>[0.0564525, 0.05500244, 0.031379532, 0.0339484...</td>\n",
       "    </tr>\n",
       "    <tr>\n",
       "      <th>2</th>\n",
       "      <td>[0.043933515, 0.05893439, 0.04817844, 0.077548...</td>\n",
       "    </tr>\n",
       "  </tbody>\n",
       "</table>\n",
       "</div>"
      ],
      "text/plain": [
       "                                                   0\n",
       "0  [-0.013717398, -0.042851556, -0.01562865, 0.01...\n",
       "1  [0.0564525, 0.05500244, 0.031379532, 0.0339484...\n",
       "2  [0.043933515, 0.05893439, 0.04817844, 0.077548..."
      ]
     },
     "execution_count": 15,
     "metadata": {},
     "output_type": "execute_result"
    }
   ],
   "source": [
    "model.block_data(model.blocks[1])"
   ]
  },
  {
   "cell_type": "code",
   "execution_count": 16,
   "id": "b3723bb0-312f-4f8c-8152-18093a43161c",
   "metadata": {},
   "outputs": [
    {
     "data": {
      "text/plain": [
       "'{\"block_type\": \"SentenceEmbedding\", \"block_id\": \"745323cb-a6f1-4fe1-a62c-98ac8cf65d8a\", \"source_ids\": [\"0e6e0620-f26d-4fd7-98f5-93189251a47b\"], \"target_ids\": [], \"model_name\": \"all-MiniLM-L6-v2\"}'"
      ]
     },
     "execution_count": 16,
     "metadata": {},
     "output_type": "execute_result"
    }
   ],
   "source": [
    "model.blocks[1].json(exclude={\"operation\", \"o\"})"
   ]
  },
  {
   "cell_type": "markdown",
   "id": "91597325-102a-46c1-92f0-d9df0e52d188",
   "metadata": {},
   "source": [
    "# Support the json config"
   ]
  },
  {
   "cell_type": "code",
   "execution_count": 17,
   "id": "0f78d865-3aa0-47a5-99ff-71d551a2d8d9",
   "metadata": {},
   "outputs": [],
   "source": [
    "model_in_json = model.to_json(indent=2)"
   ]
  },
  {
   "cell_type": "code",
   "execution_count": 18,
   "id": "b9766958-ee94-4860-b03f-76996689e1c9",
   "metadata": {},
   "outputs": [
    {
     "name": "stdout",
     "output_type": "stream",
     "text": [
      "{\n",
      "  \"blocks\": [\n",
      "    {\n",
      "      \"block_type\": \"Create\",\n",
      "      \"block_id\": \"0e6e0620-f26d-4fd7-98f5-93189251a47b\",\n",
      "      \"source_ids\": [],\n",
      "      \"target_ids\": [\n",
      "        \"745323cb-a6f1-4fe1-a62c-98ac8cf65d8a\"\n",
      "      ],\n",
      "      \"values\": [\n",
      "        \"This framework generates embeddings for each input sentence\",\n",
      "        \"Sentences are passed as a list of string.\",\n",
      "        \"The quick brown fox jumps over the lazy dog.\"\n",
      "      ]\n",
      "    },\n",
      "    {\n",
      "      \"block_type\": \"SentenceEmbedding\",\n",
      "      \"block_id\": \"745323cb-a6f1-4fe1-a62c-98ac8cf65d8a\",\n",
      "      \"source_ids\": [\n",
      "        \"0e6e0620-f26d-4fd7-98f5-93189251a47b\"\n",
      "      ],\n",
      "      \"target_ids\": [],\n",
      "      \"model_name\": \"all-MiniLM-L6-v2\"\n",
      "    }\n",
      "  ]\n",
      "}\n"
     ]
    }
   ],
   "source": [
    "print(model_in_json)"
   ]
  },
  {
   "cell_type": "code",
   "execution_count": 19,
   "id": "45837cb7-a917-4b9c-8234-6d20b0450747",
   "metadata": {},
   "outputs": [],
   "source": [
    "new_model = blocks.BlockAssembler.from_json(model_in_json)"
   ]
  },
  {
   "cell_type": "code",
   "execution_count": 20,
   "id": "ca4a8802-11ea-42a7-8c55-db5467221100",
   "metadata": {},
   "outputs": [],
   "source": [
    "new_model.compile()"
   ]
  },
  {
   "cell_type": "code",
   "execution_count": 21,
   "id": "d34b4c05-b557-4c11-8511-7a19fdcdbcc0",
   "metadata": {},
   "outputs": [
    {
     "data": {
      "text/html": [
       "\n",
       "            <link rel=\"stylesheet\" href=\"https://stackpath.bootstrapcdn.com/bootstrap/4.4.1/css/bootstrap.min.css\" integrity=\"sha384-Vkoo8x4CGsO3+Hhxv8T/Q5PaXtkKtu6ug5TOeNV6gBiFeWPGFN9MuhOf23Q9Ifjh\" crossorigin=\"anonymous\">\n",
       "            <div id=\"progress_indicator_68bd6588552d1c525d1cbfcb483c6018\">\n",
       "              <div class=\"spinner-border text-info\" role=\"status\"></div>\n",
       "              <span class=\"text-info\">Processing... show_graph</span>\n",
       "            </div>\n",
       "            "
      ],
      "text/plain": [
       "<IPython.core.display.HTML object>"
      ]
     },
     "metadata": {},
     "output_type": "display_data"
    },
    {
     "name": "stdout",
     "output_type": "stream",
     "text": [
      "huggingface/tokenizers: The current process just got forked, after parallelism has already been used. Disabling parallelism to avoid deadlocks...\n",
      "To disable this warning, you can either:\n",
      "\t- Avoid using `tokenizers` before the fork if possible\n",
      "\t- Explicitly set the environment variable TOKENIZERS_PARALLELISM=(true | false)\n",
      "/Users/xqhu/homebrew/bin/dot\n",
      "huggingface/tokenizers: The current process just got forked, after parallelism has already been used. Disabling parallelism to avoid deadlocks...\n",
      "To disable this warning, you can either:\n",
      "\t- Avoid using `tokenizers` before the fork if possible\n",
      "\t- Explicitly set the environment variable TOKENIZERS_PARALLELISM=(true | false)\n"
     ]
    },
    {
     "data": {
      "text/html": [
       "<?xml version=\"1.0\" encoding=\"UTF-8\" standalone=\"no\"?>\n",
       "<!DOCTYPE svg PUBLIC \"-//W3C//DTD SVG 1.1//EN\"\n",
       " \"http://www.w3.org/Graphics/SVG/1.1/DTD/svg11.dtd\">\n",
       "<!-- Generated by graphviz version 7.0.5 (20221223.1930)\n",
       " -->\n",
       "<!-- Title: G Pages: 1 -->\n",
       "<svg width=\"369pt\" height=\"260pt\"\n",
       " viewBox=\"0.00 0.00 369.00 260.00\" xmlns=\"http://www.w3.org/2000/svg\" xmlns:xlink=\"http://www.w3.org/1999/xlink\">\n",
       "<g id=\"graph0\" class=\"graph\" transform=\"scale(1 1) rotate(0) translate(4 256)\">\n",
       "<title>G</title>\n",
       "<polygon fill=\"white\" stroke=\"none\" points=\"-4,4 -4,-256 365,-256 365,4 -4,4\"/>\n",
       "<!-- Create &#45; 0e6e0620&#45;f26d&#45;4fd7&#45;98f5&#45;93189251a47b -->\n",
       "<g id=\"node1\" class=\"node\">\n",
       "<title>Create &#45; 0e6e0620&#45;f26d&#45;4fd7&#45;98f5&#45;93189251a47b</title>\n",
       "<polygon fill=\"none\" stroke=\"blue\" points=\"325,-252 36,-252 36,-216 325,-216 325,-252\"/>\n",
       "<text text-anchor=\"middle\" x=\"180.5\" y=\"-230.3\" font-family=\"Times,serif\" font-size=\"14.00\" fill=\"blue\">Create &#45; 0e6e0620&#45;f26d&#45;4fd7&#45;98f5&#45;93189251a47b</text>\n",
       "</g>\n",
       "<!-- pcoll64 -->\n",
       "<g id=\"node2\" class=\"node\">\n",
       "<title>pcoll64</title>\n",
       "<ellipse fill=\"none\" stroke=\"blue\" cx=\"180.5\" cy=\"-162\" rx=\"18\" ry=\"18\"/>\n",
       "</g>\n",
       "<!-- Create &#45; 0e6e0620&#45;f26d&#45;4fd7&#45;98f5&#45;93189251a47b&#45;&gt;pcoll64 -->\n",
       "<g id=\"edge1\" class=\"edge\">\n",
       "<title>Create &#45; 0e6e0620&#45;f26d&#45;4fd7&#45;98f5&#45;93189251a47b&#45;&gt;pcoll64</title>\n",
       "<path fill=\"none\" stroke=\"black\" d=\"M180.5,-215.7C180.5,-208.41 180.5,-199.73 180.5,-191.54\"/>\n",
       "<polygon fill=\"black\" stroke=\"black\" points=\"184,-191.62 180.5,-181.62 177,-191.62 184,-191.62\"/>\n",
       "</g>\n",
       "<!-- SentenceEmbedding &#45; 745323cb&#45;a6f1&#45;4fe1&#45;a62c&#45;98ac8cf65d8a -->\n",
       "<g id=\"node3\" class=\"node\">\n",
       "<title>SentenceEmbedding &#45; 745323cb&#45;a6f1&#45;4fe1&#45;a62c&#45;98ac8cf65d8a</title>\n",
       "<polygon fill=\"none\" stroke=\"blue\" points=\"361,-108 0,-108 0,-72 361,-72 361,-108\"/>\n",
       "<text text-anchor=\"middle\" x=\"180.5\" y=\"-86.3\" font-family=\"Times,serif\" font-size=\"14.00\" fill=\"blue\">SentenceEmbedding &#45; 745323cb&#45;a6f1&#45;4fe1&#45;a62c&#45;98ac8cf65d8a</text>\n",
       "</g>\n",
       "<!-- pcoll64&#45;&gt;SentenceEmbedding &#45; 745323cb&#45;a6f1&#45;4fe1&#45;a62c&#45;98ac8cf65d8a -->\n",
       "<g id=\"edge2\" class=\"edge\">\n",
       "<title>pcoll64&#45;&gt;SentenceEmbedding &#45; 745323cb&#45;a6f1&#45;4fe1&#45;a62c&#45;98ac8cf65d8a</title>\n",
       "<path fill=\"none\" stroke=\"black\" d=\"M180.5,-143.7C180.5,-136.41 180.5,-127.73 180.5,-119.54\"/>\n",
       "<polygon fill=\"black\" stroke=\"black\" points=\"184,-119.62 180.5,-109.62 177,-119.62 184,-119.62\"/>\n",
       "</g>\n",
       "<!-- pcoll5831 -->\n",
       "<g id=\"node4\" class=\"node\">\n",
       "<title>pcoll5831</title>\n",
       "<ellipse fill=\"none\" stroke=\"blue\" cx=\"180.5\" cy=\"-18\" rx=\"18\" ry=\"18\"/>\n",
       "</g>\n",
       "<!-- SentenceEmbedding &#45; 745323cb&#45;a6f1&#45;4fe1&#45;a62c&#45;98ac8cf65d8a&#45;&gt;pcoll5831 -->\n",
       "<g id=\"edge3\" class=\"edge\">\n",
       "<title>SentenceEmbedding &#45; 745323cb&#45;a6f1&#45;4fe1&#45;a62c&#45;98ac8cf65d8a&#45;&gt;pcoll5831</title>\n",
       "<path fill=\"none\" stroke=\"black\" d=\"M180.5,-71.7C180.5,-64.41 180.5,-55.73 180.5,-47.54\"/>\n",
       "<polygon fill=\"black\" stroke=\"black\" points=\"184,-47.62 180.5,-37.62 177,-47.62 184,-47.62\"/>\n",
       "</g>\n",
       "</g>\n",
       "</svg>\n"
      ],
      "text/plain": [
       "<IPython.core.display.HTML object>"
      ]
     },
     "metadata": {},
     "output_type": "display_data"
    },
    {
     "data": {
      "application/javascript": [
       "\n",
       "        if (typeof window.interactive_beam_jquery == 'undefined') {\n",
       "          var jqueryScript = document.createElement('script');\n",
       "          jqueryScript.src = 'https://code.jquery.com/jquery-3.4.1.slim.min.js';\n",
       "          jqueryScript.type = 'text/javascript';\n",
       "          jqueryScript.onload = function() {\n",
       "            var datatableScript = document.createElement('script');\n",
       "            datatableScript.src = 'https://cdn.datatables.net/1.10.20/js/jquery.dataTables.min.js';\n",
       "            datatableScript.type = 'text/javascript';\n",
       "            datatableScript.onload = function() {\n",
       "              window.interactive_beam_jquery = jQuery.noConflict(true);\n",
       "              window.interactive_beam_jquery(document).ready(function($){\n",
       "                \n",
       "            $(\"#progress_indicator_68bd6588552d1c525d1cbfcb483c6018\").remove();\n",
       "              });\n",
       "            }\n",
       "            document.head.appendChild(datatableScript);\n",
       "          };\n",
       "          document.head.appendChild(jqueryScript);\n",
       "        } else {\n",
       "          window.interactive_beam_jquery(document).ready(function($){\n",
       "            \n",
       "            $(\"#progress_indicator_68bd6588552d1c525d1cbfcb483c6018\").remove();\n",
       "          });\n",
       "        }"
      ]
     },
     "metadata": {},
     "output_type": "display_data"
    }
   ],
   "source": [
    "new_model.show_graph()"
   ]
  },
  {
   "cell_type": "code",
   "execution_count": 22,
   "id": "8ff4cf7b-17a8-4e80-9535-50db3f7e9533",
   "metadata": {},
   "outputs": [
    {
     "data": {
      "text/html": [
       "\n",
       "            <link rel=\"stylesheet\" href=\"https://stackpath.bootstrapcdn.com/bootstrap/4.4.1/css/bootstrap.min.css\" integrity=\"sha384-Vkoo8x4CGsO3+Hhxv8T/Q5PaXtkKtu6ug5TOeNV6gBiFeWPGFN9MuhOf23Q9Ifjh\" crossorigin=\"anonymous\">\n",
       "            <div id=\"progress_indicator_986ada52a59ab70e5765d4e6eb347ed2\">\n",
       "              <div class=\"spinner-border text-info\" role=\"status\"></div>\n",
       "              <span class=\"text-info\">Processing... collect</span>\n",
       "            </div>\n",
       "            "
      ],
      "text/plain": [
       "<IPython.core.display.HTML object>"
      ]
     },
     "metadata": {},
     "output_type": "display_data"
    },
    {
     "data": {
      "application/javascript": [
       "\n",
       "        if (typeof window.interactive_beam_jquery == 'undefined') {\n",
       "          var jqueryScript = document.createElement('script');\n",
       "          jqueryScript.src = 'https://code.jquery.com/jquery-3.4.1.slim.min.js';\n",
       "          jqueryScript.type = 'text/javascript';\n",
       "          jqueryScript.onload = function() {\n",
       "            var datatableScript = document.createElement('script');\n",
       "            datatableScript.src = 'https://cdn.datatables.net/1.10.20/js/jquery.dataTables.min.js';\n",
       "            datatableScript.type = 'text/javascript';\n",
       "            datatableScript.onload = function() {\n",
       "              window.interactive_beam_jquery = jQuery.noConflict(true);\n",
       "              window.interactive_beam_jquery(document).ready(function($){\n",
       "                \n",
       "            $(\"#progress_indicator_986ada52a59ab70e5765d4e6eb347ed2\").remove();\n",
       "              });\n",
       "            }\n",
       "            document.head.appendChild(datatableScript);\n",
       "          };\n",
       "          document.head.appendChild(jqueryScript);\n",
       "        } else {\n",
       "          window.interactive_beam_jquery(document).ready(function($){\n",
       "            \n",
       "            $(\"#progress_indicator_986ada52a59ab70e5765d4e6eb347ed2\").remove();\n",
       "          });\n",
       "        }"
      ]
     },
     "metadata": {},
     "output_type": "display_data"
    },
    {
     "data": {
      "text/html": [
       "<div>\n",
       "<style scoped>\n",
       "    .dataframe tbody tr th:only-of-type {\n",
       "        vertical-align: middle;\n",
       "    }\n",
       "\n",
       "    .dataframe tbody tr th {\n",
       "        vertical-align: top;\n",
       "    }\n",
       "\n",
       "    .dataframe thead th {\n",
       "        text-align: right;\n",
       "    }\n",
       "</style>\n",
       "<table border=\"1\" class=\"dataframe\">\n",
       "  <thead>\n",
       "    <tr style=\"text-align: right;\">\n",
       "      <th></th>\n",
       "      <th>0</th>\n",
       "    </tr>\n",
       "  </thead>\n",
       "  <tbody>\n",
       "    <tr>\n",
       "      <th>0</th>\n",
       "      <td>[-0.013717398, -0.042851556, -0.01562865, 0.01...</td>\n",
       "    </tr>\n",
       "    <tr>\n",
       "      <th>1</th>\n",
       "      <td>[0.0564525, 0.05500244, 0.031379532, 0.0339484...</td>\n",
       "    </tr>\n",
       "    <tr>\n",
       "      <th>2</th>\n",
       "      <td>[0.043933515, 0.05893439, 0.04817844, 0.077548...</td>\n",
       "    </tr>\n",
       "  </tbody>\n",
       "</table>\n",
       "</div>"
      ],
      "text/plain": [
       "                                                   0\n",
       "0  [-0.013717398, -0.042851556, -0.01562865, 0.01...\n",
       "1  [0.0564525, 0.05500244, 0.031379532, 0.0339484...\n",
       "2  [0.043933515, 0.05893439, 0.04817844, 0.077548..."
      ]
     },
     "execution_count": 22,
     "metadata": {},
     "output_type": "execute_result"
    }
   ],
   "source": [
    "new_model.block_data(new_model.blocks[1])"
   ]
  },
  {
   "cell_type": "markdown",
   "id": "3b7f7fe6-2695-4bd8-82b7-b0475b31a84f",
   "metadata": {},
   "source": [
    "# Use Functional API to build more complicated models"
   ]
  },
  {
   "cell_type": "code",
   "execution_count": 23,
   "id": "2f3d43b9-26bb-4b84-b6f0-01288ab27a67",
   "metadata": {},
   "outputs": [],
   "source": [
    "create_1 = blocks.CreateBlock(values = sentences)"
   ]
  },
  {
   "cell_type": "code",
   "execution_count": 24,
   "id": "ee0c9483-e1e6-4509-8c03-fe6ca638dfb8",
   "metadata": {},
   "outputs": [],
   "source": [
    "embed_1 = blocks.SentenceEmbeddingBlock()([create_1])"
   ]
  },
  {
   "cell_type": "code",
   "execution_count": 25,
   "id": "e9eb32ba-a6d6-4f3b-98a2-4398b1afd426",
   "metadata": {},
   "outputs": [
    {
     "data": {
      "text/plain": [
       "SentenceEmbeddingBlock(block_type='SentenceEmbedding', block_id=UUID('a6c0b9c7-595d-4943-bac0-7371d5fd472b'), source_ids=[UUID('aab03a32-752c-41b0-9cad-ccc821de723b')], target_ids=[], operation=<ParDo(PTransform) label=[Map(<lambda at blocks.py:85>)] at 0x2ae198430>, o=None, model_name='all-MiniLM-L6-v2')"
      ]
     },
     "execution_count": 25,
     "metadata": {},
     "output_type": "execute_result"
    }
   ],
   "source": [
    "embed_1"
   ]
  },
  {
   "cell_type": "code",
   "execution_count": 26,
   "id": "77ec2399-a970-48b3-9de7-f8f7999f4da7",
   "metadata": {},
   "outputs": [],
   "source": [
    "target_sentences = ['This framework is for testing']"
   ]
  },
  {
   "cell_type": "code",
   "execution_count": 27,
   "id": "929939f1-bc1a-46d3-b71a-afca74261773",
   "metadata": {},
   "outputs": [],
   "source": [
    "create_2 = blocks.CreateBlock(values = target_sentences)\n",
    "embed_2 = blocks.SentenceEmbeddingBlock()([create_2])"
   ]
  },
  {
   "cell_type": "code",
   "execution_count": 28,
   "id": "a1cca392-e6d9-4ad0-99dd-e7e331a17441",
   "metadata": {},
   "outputs": [],
   "source": [
    "model_1 = blocks.BlockAssembler([create_1, create_2])"
   ]
  },
  {
   "cell_type": "code",
   "execution_count": 29,
   "id": "a5e13c61-d2a2-44f3-a0e7-8f7aa2ea448c",
   "metadata": {},
   "outputs": [],
   "source": [
    "model_1.compile()"
   ]
  },
  {
   "cell_type": "code",
   "execution_count": 30,
   "id": "f0e0d09e-14c5-4a18-b9f5-da14ac60535f",
   "metadata": {},
   "outputs": [
    {
     "data": {
      "text/html": [
       "\n",
       "            <link rel=\"stylesheet\" href=\"https://stackpath.bootstrapcdn.com/bootstrap/4.4.1/css/bootstrap.min.css\" integrity=\"sha384-Vkoo8x4CGsO3+Hhxv8T/Q5PaXtkKtu6ug5TOeNV6gBiFeWPGFN9MuhOf23Q9Ifjh\" crossorigin=\"anonymous\">\n",
       "            <div id=\"progress_indicator_350a3bb5d206e8c047354d03906bde1d\">\n",
       "              <div class=\"spinner-border text-info\" role=\"status\"></div>\n",
       "              <span class=\"text-info\">Processing... show_graph</span>\n",
       "            </div>\n",
       "            "
      ],
      "text/plain": [
       "<IPython.core.display.HTML object>"
      ]
     },
     "metadata": {},
     "output_type": "display_data"
    },
    {
     "name": "stdout",
     "output_type": "stream",
     "text": [
      "huggingface/tokenizers: The current process just got forked, after parallelism has already been used. Disabling parallelism to avoid deadlocks...\n",
      "To disable this warning, you can either:\n",
      "\t- Avoid using `tokenizers` before the fork if possible\n",
      "\t- Explicitly set the environment variable TOKENIZERS_PARALLELISM=(true | false)\n",
      "/Users/xqhu/homebrew/bin/dot\n",
      "huggingface/tokenizers: The current process just got forked, after parallelism has already been used. Disabling parallelism to avoid deadlocks...\n",
      "To disable this warning, you can either:\n",
      "\t- Avoid using `tokenizers` before the fork if possible\n",
      "\t- Explicitly set the environment variable TOKENIZERS_PARALLELISM=(true | false)\n"
     ]
    },
    {
     "data": {
      "text/html": [
       "<?xml version=\"1.0\" encoding=\"UTF-8\" standalone=\"no\"?>\n",
       "<!DOCTYPE svg PUBLIC \"-//W3C//DTD SVG 1.1//EN\"\n",
       " \"http://www.w3.org/Graphics/SVG/1.1/DTD/svg11.dtd\">\n",
       "<!-- Generated by graphviz version 7.0.5 (20221223.1930)\n",
       " -->\n",
       "<!-- Title: G Pages: 1 -->\n",
       "<svg width=\"752pt\" height=\"260pt\"\n",
       " viewBox=\"0.00 0.00 751.50 260.00\" xmlns=\"http://www.w3.org/2000/svg\" xmlns:xlink=\"http://www.w3.org/1999/xlink\">\n",
       "<g id=\"graph0\" class=\"graph\" transform=\"scale(1 1) rotate(0) translate(4 256)\">\n",
       "<title>G</title>\n",
       "<polygon fill=\"white\" stroke=\"none\" points=\"-4,4 -4,-256 747.5,-256 747.5,4 -4,4\"/>\n",
       "<!-- Create &#45; aab03a32&#45;752c&#45;41b0&#45;9cad&#45;ccc821de723b -->\n",
       "<g id=\"node1\" class=\"node\">\n",
       "<title>Create &#45; aab03a32&#45;752c&#45;41b0&#45;9cad&#45;ccc821de723b</title>\n",
       "<polygon fill=\"none\" stroke=\"blue\" points=\"329,-252 39,-252 39,-216 329,-216 329,-252\"/>\n",
       "<text text-anchor=\"middle\" x=\"184\" y=\"-230.3\" font-family=\"Times,serif\" font-size=\"14.00\" fill=\"blue\">Create &#45; aab03a32&#45;752c&#45;41b0&#45;9cad&#45;ccc821de723b</text>\n",
       "</g>\n",
       "<!-- pcoll64 -->\n",
       "<g id=\"node2\" class=\"node\">\n",
       "<title>pcoll64</title>\n",
       "<ellipse fill=\"none\" stroke=\"blue\" cx=\"184\" cy=\"-162\" rx=\"18\" ry=\"18\"/>\n",
       "</g>\n",
       "<!-- Create &#45; aab03a32&#45;752c&#45;41b0&#45;9cad&#45;ccc821de723b&#45;&gt;pcoll64 -->\n",
       "<g id=\"edge1\" class=\"edge\">\n",
       "<title>Create &#45; aab03a32&#45;752c&#45;41b0&#45;9cad&#45;ccc821de723b&#45;&gt;pcoll64</title>\n",
       "<path fill=\"none\" stroke=\"black\" d=\"M184,-215.7C184,-208.41 184,-199.73 184,-191.54\"/>\n",
       "<polygon fill=\"black\" stroke=\"black\" points=\"187.5,-191.62 184,-181.62 180.5,-191.62 187.5,-191.62\"/>\n",
       "</g>\n",
       "<!-- SentenceEmbedding &#45; a6c0b9c7&#45;595d&#45;4943&#45;bac0&#45;7371d5fd472b -->\n",
       "<g id=\"node3\" class=\"node\">\n",
       "<title>SentenceEmbedding &#45; a6c0b9c7&#45;595d&#45;4943&#45;bac0&#45;7371d5fd472b</title>\n",
       "<polygon fill=\"none\" stroke=\"blue\" points=\"368,-108 0,-108 0,-72 368,-72 368,-108\"/>\n",
       "<text text-anchor=\"middle\" x=\"184\" y=\"-86.3\" font-family=\"Times,serif\" font-size=\"14.00\" fill=\"blue\">SentenceEmbedding &#45; a6c0b9c7&#45;595d&#45;4943&#45;bac0&#45;7371d5fd472b</text>\n",
       "</g>\n",
       "<!-- pcoll64&#45;&gt;SentenceEmbedding &#45; a6c0b9c7&#45;595d&#45;4943&#45;bac0&#45;7371d5fd472b -->\n",
       "<g id=\"edge2\" class=\"edge\">\n",
       "<title>pcoll64&#45;&gt;SentenceEmbedding &#45; a6c0b9c7&#45;595d&#45;4943&#45;bac0&#45;7371d5fd472b</title>\n",
       "<path fill=\"none\" stroke=\"black\" d=\"M184,-143.7C184,-136.41 184,-127.73 184,-119.54\"/>\n",
       "<polygon fill=\"black\" stroke=\"black\" points=\"187.5,-119.62 184,-109.62 180.5,-119.62 187.5,-119.62\"/>\n",
       "</g>\n",
       "<!-- pcoll5831 -->\n",
       "<g id=\"node4\" class=\"node\">\n",
       "<title>pcoll5831</title>\n",
       "<ellipse fill=\"none\" stroke=\"blue\" cx=\"184\" cy=\"-18\" rx=\"18\" ry=\"18\"/>\n",
       "</g>\n",
       "<!-- SentenceEmbedding &#45; a6c0b9c7&#45;595d&#45;4943&#45;bac0&#45;7371d5fd472b&#45;&gt;pcoll5831 -->\n",
       "<g id=\"edge3\" class=\"edge\">\n",
       "<title>SentenceEmbedding &#45; a6c0b9c7&#45;595d&#45;4943&#45;bac0&#45;7371d5fd472b&#45;&gt;pcoll5831</title>\n",
       "<path fill=\"none\" stroke=\"black\" d=\"M184,-71.7C184,-64.41 184,-55.73 184,-47.54\"/>\n",
       "<polygon fill=\"black\" stroke=\"black\" points=\"187.5,-47.62 184,-37.62 180.5,-47.62 187.5,-47.62\"/>\n",
       "</g>\n",
       "<!-- Create &#45; 5e37b113&#45;3cb4&#45;4fe0&#45;8856&#45;f8c00db4417d -->\n",
       "<g id=\"node5\" class=\"node\">\n",
       "<title>Create &#45; 5e37b113&#45;3cb4&#45;4fe0&#45;8856&#45;f8c00db4417d</title>\n",
       "<polygon fill=\"none\" stroke=\"blue\" points=\"710,-252 420,-252 420,-216 710,-216 710,-252\"/>\n",
       "<text text-anchor=\"middle\" x=\"565\" y=\"-230.3\" font-family=\"Times,serif\" font-size=\"14.00\" fill=\"blue\">Create &#45; 5e37b113&#45;3cb4&#45;4fe0&#45;8856&#45;f8c00db4417d</text>\n",
       "</g>\n",
       "<!-- pcoll2287 -->\n",
       "<g id=\"node6\" class=\"node\">\n",
       "<title>pcoll2287</title>\n",
       "<ellipse fill=\"none\" stroke=\"blue\" cx=\"565\" cy=\"-162\" rx=\"18\" ry=\"18\"/>\n",
       "</g>\n",
       "<!-- Create &#45; 5e37b113&#45;3cb4&#45;4fe0&#45;8856&#45;f8c00db4417d&#45;&gt;pcoll2287 -->\n",
       "<g id=\"edge4\" class=\"edge\">\n",
       "<title>Create &#45; 5e37b113&#45;3cb4&#45;4fe0&#45;8856&#45;f8c00db4417d&#45;&gt;pcoll2287</title>\n",
       "<path fill=\"none\" stroke=\"black\" d=\"M565,-215.7C565,-208.41 565,-199.73 565,-191.54\"/>\n",
       "<polygon fill=\"black\" stroke=\"black\" points=\"568.5,-191.62 565,-181.62 561.5,-191.62 568.5,-191.62\"/>\n",
       "</g>\n",
       "<!-- SentenceEmbedding &#45; eaef16cc&#45;0273&#45;4df6&#45;a817&#45;8acacc6f89f9 -->\n",
       "<g id=\"node7\" class=\"node\">\n",
       "<title>SentenceEmbedding &#45; eaef16cc&#45;0273&#45;4df6&#45;a817&#45;8acacc6f89f9</title>\n",
       "<polygon fill=\"none\" stroke=\"blue\" points=\"743.5,-108 386.5,-108 386.5,-72 743.5,-72 743.5,-108\"/>\n",
       "<text text-anchor=\"middle\" x=\"565\" y=\"-86.3\" font-family=\"Times,serif\" font-size=\"14.00\" fill=\"blue\">SentenceEmbedding &#45; eaef16cc&#45;0273&#45;4df6&#45;a817&#45;8acacc6f89f9</text>\n",
       "</g>\n",
       "<!-- pcoll2287&#45;&gt;SentenceEmbedding &#45; eaef16cc&#45;0273&#45;4df6&#45;a817&#45;8acacc6f89f9 -->\n",
       "<g id=\"edge5\" class=\"edge\">\n",
       "<title>pcoll2287&#45;&gt;SentenceEmbedding &#45; eaef16cc&#45;0273&#45;4df6&#45;a817&#45;8acacc6f89f9</title>\n",
       "<path fill=\"none\" stroke=\"black\" d=\"M565,-143.7C565,-136.41 565,-127.73 565,-119.54\"/>\n",
       "<polygon fill=\"black\" stroke=\"black\" points=\"568.5,-119.62 565,-109.62 561.5,-119.62 568.5,-119.62\"/>\n",
       "</g>\n",
       "<!-- pcoll4496 -->\n",
       "<g id=\"node8\" class=\"node\">\n",
       "<title>pcoll4496</title>\n",
       "<ellipse fill=\"none\" stroke=\"blue\" cx=\"565\" cy=\"-18\" rx=\"18\" ry=\"18\"/>\n",
       "</g>\n",
       "<!-- SentenceEmbedding &#45; eaef16cc&#45;0273&#45;4df6&#45;a817&#45;8acacc6f89f9&#45;&gt;pcoll4496 -->\n",
       "<g id=\"edge6\" class=\"edge\">\n",
       "<title>SentenceEmbedding &#45; eaef16cc&#45;0273&#45;4df6&#45;a817&#45;8acacc6f89f9&#45;&gt;pcoll4496</title>\n",
       "<path fill=\"none\" stroke=\"black\" d=\"M565,-71.7C565,-64.41 565,-55.73 565,-47.54\"/>\n",
       "<polygon fill=\"black\" stroke=\"black\" points=\"568.5,-47.62 565,-37.62 561.5,-47.62 568.5,-47.62\"/>\n",
       "</g>\n",
       "</g>\n",
       "</svg>\n"
      ],
      "text/plain": [
       "<IPython.core.display.HTML object>"
      ]
     },
     "metadata": {},
     "output_type": "display_data"
    },
    {
     "data": {
      "application/javascript": [
       "\n",
       "        if (typeof window.interactive_beam_jquery == 'undefined') {\n",
       "          var jqueryScript = document.createElement('script');\n",
       "          jqueryScript.src = 'https://code.jquery.com/jquery-3.4.1.slim.min.js';\n",
       "          jqueryScript.type = 'text/javascript';\n",
       "          jqueryScript.onload = function() {\n",
       "            var datatableScript = document.createElement('script');\n",
       "            datatableScript.src = 'https://cdn.datatables.net/1.10.20/js/jquery.dataTables.min.js';\n",
       "            datatableScript.type = 'text/javascript';\n",
       "            datatableScript.onload = function() {\n",
       "              window.interactive_beam_jquery = jQuery.noConflict(true);\n",
       "              window.interactive_beam_jquery(document).ready(function($){\n",
       "                \n",
       "            $(\"#progress_indicator_350a3bb5d206e8c047354d03906bde1d\").remove();\n",
       "              });\n",
       "            }\n",
       "            document.head.appendChild(datatableScript);\n",
       "          };\n",
       "          document.head.appendChild(jqueryScript);\n",
       "        } else {\n",
       "          window.interactive_beam_jquery(document).ready(function($){\n",
       "            \n",
       "            $(\"#progress_indicator_350a3bb5d206e8c047354d03906bde1d\").remove();\n",
       "          });\n",
       "        }"
      ]
     },
     "metadata": {},
     "output_type": "display_data"
    }
   ],
   "source": [
    "model_1.show_graph()"
   ]
  },
  {
   "cell_type": "code",
   "execution_count": null,
   "id": "1a6ae4ec-fc7b-456c-b8b1-8f06e342ee5d",
   "metadata": {},
   "outputs": [],
   "source": []
  }
 ],
 "metadata": {
  "kernelspec": {
   "display_name": "Python 3 (ipykernel)",
   "language": "python",
   "name": "python3"
  },
  "language_info": {
   "codemirror_mode": {
    "name": "ipython",
    "version": 3
   },
   "file_extension": ".py",
   "mimetype": "text/x-python",
   "name": "python",
   "nbconvert_exporter": "python",
   "pygments_lexer": "ipython3",
   "version": "3.9.13"
  }
 },
 "nbformat": 4,
 "nbformat_minor": 5
}
