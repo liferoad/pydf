{
 "cells": [
  {
   "cell_type": "code",
   "execution_count": 1,
   "id": "04c79c9c-0de2-4ed1-8582-39b009a5ec4e",
   "metadata": {},
   "outputs": [],
   "source": [
    "%load_ext autoreload\n",
    "%autoreload 2"
   ]
  },
  {
   "cell_type": "code",
   "execution_count": 2,
   "id": "cb40c1ab-baa2-49cd-9031-f3de99b54c10",
   "metadata": {},
   "outputs": [],
   "source": [
    "from df import blocks as blocks"
   ]
  },
  {
   "cell_type": "markdown",
   "id": "49f15748-2f59-4e7d-9554-926e472f0b6b",
   "metadata": {},
   "source": [
    "# Simple sequential beam model"
   ]
  },
  {
   "cell_type": "code",
   "execution_count": 3,
   "id": "e4a0be0e-061f-40f4-a037-879b375648b8",
   "metadata": {},
   "outputs": [],
   "source": [
    "sentences = ['This framework generates embeddings for each input sentence',\n",
    "    'Sentences are passed as a list of string.', \n",
    "    'The quick brown fox jumps over the lazy dog.']"
   ]
  },
  {
   "cell_type": "code",
   "execution_count": 4,
   "id": "2a405218-c765-49a2-b2eb-7ae659affe9b",
   "metadata": {},
   "outputs": [],
   "source": [
    "create = blocks.CreateBlock(values = sentences)"
   ]
  },
  {
   "cell_type": "code",
   "execution_count": 5,
   "id": "b5f294ca-e1a7-4d9f-9eb9-e2a139bcc9ce",
   "metadata": {},
   "outputs": [
    {
     "data": {
      "text/plain": [
       "<Create(PTransform) label=[Create] at 0x1039d2190>"
      ]
     },
     "execution_count": 5,
     "metadata": {},
     "output_type": "execute_result"
    }
   ],
   "source": [
    "create.operation"
   ]
  },
  {
   "cell_type": "code",
   "execution_count": 6,
   "id": "0f7e2181-81b4-47ad-9b41-abfefaf09dee",
   "metadata": {},
   "outputs": [
    {
     "data": {
      "text/plain": [
       "CreateBlock(block_type='Create', block_id=UUID('8bca9fb6-8c7d-4756-b928-cbbf5b215f4b'), source_ids=[], target_ids=[], operation=<Create(PTransform) label=[Create] at 0x1039d2190>, o=None, values=['This framework generates embeddings for each input sentence', 'Sentences are passed as a list of string.', 'The quick brown fox jumps over the lazy dog.'])"
      ]
     },
     "execution_count": 6,
     "metadata": {},
     "output_type": "execute_result"
    }
   ],
   "source": [
    "create"
   ]
  },
  {
   "cell_type": "code",
   "execution_count": 7,
   "id": "58d3f758-6929-4670-be73-256b7c1f28a4",
   "metadata": {},
   "outputs": [],
   "source": [
    "embed = blocks.SentenceEmbeddingBlock()"
   ]
  },
  {
   "cell_type": "code",
   "execution_count": 8,
   "id": "a7e2e372-8fec-4228-9cc1-4d48a7eefd23",
   "metadata": {},
   "outputs": [
    {
     "data": {
      "text/plain": [
       "'all-MiniLM-L6-v2'"
      ]
     },
     "execution_count": 8,
     "metadata": {},
     "output_type": "execute_result"
    }
   ],
   "source": [
    "embed.model_name"
   ]
  },
  {
   "cell_type": "code",
   "execution_count": 9,
   "id": "7ca529fc-4103-45a4-b8e6-4dea937806b5",
   "metadata": {},
   "outputs": [
    {
     "data": {
      "text/plain": [
       "<ParDo(PTransform) label=[Map(<lambda at blocks.py:88>)] at 0x16e2729d0>"
      ]
     },
     "execution_count": 9,
     "metadata": {},
     "output_type": "execute_result"
    }
   ],
   "source": [
    "embed.operation"
   ]
  },
  {
   "cell_type": "code",
   "execution_count": 10,
   "id": "20a76956-cee8-4ad4-8964-f11344b62ae6",
   "metadata": {},
   "outputs": [],
   "source": [
    "model = blocks.BlockAssembler.Sequential([create, embed])"
   ]
  },
  {
   "cell_type": "code",
   "execution_count": 11,
   "id": "9c70096a-5fdd-45b1-8b1c-825f92eb7d07",
   "metadata": {},
   "outputs": [
    {
     "data": {
      "application/javascript": [
       "\n",
       "        if (typeof window.interactive_beam_jquery == 'undefined') {\n",
       "          var jqueryScript = document.createElement('script');\n",
       "          jqueryScript.src = 'https://code.jquery.com/jquery-3.4.1.slim.min.js';\n",
       "          jqueryScript.type = 'text/javascript';\n",
       "          jqueryScript.onload = function() {\n",
       "            var datatableScript = document.createElement('script');\n",
       "            datatableScript.src = 'https://cdn.datatables.net/1.10.20/js/jquery.dataTables.min.js';\n",
       "            datatableScript.type = 'text/javascript';\n",
       "            datatableScript.onload = function() {\n",
       "              window.interactive_beam_jquery = jQuery.noConflict(true);\n",
       "              window.interactive_beam_jquery(document).ready(function($){\n",
       "                \n",
       "              });\n",
       "            }\n",
       "            document.head.appendChild(datatableScript);\n",
       "          };\n",
       "          document.head.appendChild(jqueryScript);\n",
       "        } else {\n",
       "          window.interactive_beam_jquery(document).ready(function($){\n",
       "            \n",
       "          });\n",
       "        }"
      ]
     },
     "metadata": {},
     "output_type": "display_data"
    }
   ],
   "source": [
    "model.compile()"
   ]
  },
  {
   "cell_type": "code",
   "execution_count": 12,
   "id": "4ee2e711-935e-4181-89a6-950bd9ae92b1",
   "metadata": {},
   "outputs": [
    {
     "data": {
      "text/plain": [
       "2"
      ]
     },
     "execution_count": 12,
     "metadata": {},
     "output_type": "execute_result"
    }
   ],
   "source": [
    "len(model.blocks)"
   ]
  },
  {
   "cell_type": "code",
   "execution_count": 13,
   "id": "865585bc-abcb-487b-82a4-2a01df0ec89b",
   "metadata": {},
   "outputs": [
    {
     "data": {
      "text/html": [
       "\n",
       "            <link rel=\"stylesheet\" href=\"https://stackpath.bootstrapcdn.com/bootstrap/4.4.1/css/bootstrap.min.css\" integrity=\"sha384-Vkoo8x4CGsO3+Hhxv8T/Q5PaXtkKtu6ug5TOeNV6gBiFeWPGFN9MuhOf23Q9Ifjh\" crossorigin=\"anonymous\">\n",
       "            <div id=\"progress_indicator_92fd072457cd48736fd1a6206909a09b\">\n",
       "              <div class=\"spinner-border text-info\" role=\"status\"></div>\n",
       "              <span class=\"text-info\">Processing... show_graph</span>\n",
       "            </div>\n",
       "            "
      ],
      "text/plain": [
       "<IPython.core.display.HTML object>"
      ]
     },
     "metadata": {},
     "output_type": "display_data"
    },
    {
     "name": "stdout",
     "output_type": "stream",
     "text": [
      "/Users/xqhu/homebrew/bin/dot\n"
     ]
    },
    {
     "data": {
      "text/html": [
       "<?xml version=\"1.0\" encoding=\"UTF-8\" standalone=\"no\"?>\n",
       "<!DOCTYPE svg PUBLIC \"-//W3C//DTD SVG 1.1//EN\"\n",
       " \"http://www.w3.org/Graphics/SVG/1.1/DTD/svg11.dtd\">\n",
       "<!-- Generated by graphviz version 7.0.5 (20221223.1930)\n",
       " -->\n",
       "<!-- Title: G Pages: 1 -->\n",
       "<svg width=\"359pt\" height=\"260pt\"\n",
       " viewBox=\"0.00 0.00 359.00 260.00\" xmlns=\"http://www.w3.org/2000/svg\" xmlns:xlink=\"http://www.w3.org/1999/xlink\">\n",
       "<g id=\"graph0\" class=\"graph\" transform=\"scale(1 1) rotate(0) translate(4 256)\">\n",
       "<title>G</title>\n",
       "<polygon fill=\"white\" stroke=\"none\" points=\"-4,4 -4,-256 355,-256 355,4 -4,4\"/>\n",
       "<!-- Create &#45; 8bca9fb6&#45;8c7d&#45;4756&#45;b928&#45;cbbf5b215f4b -->\n",
       "<g id=\"node1\" class=\"node\">\n",
       "<title>Create &#45; 8bca9fb6&#45;8c7d&#45;4756&#45;b928&#45;cbbf5b215f4b</title>\n",
       "<polygon fill=\"none\" stroke=\"blue\" points=\"319.5,-252 31.5,-252 31.5,-216 319.5,-216 319.5,-252\"/>\n",
       "<text text-anchor=\"middle\" x=\"175.5\" y=\"-230.3\" font-family=\"Times,serif\" font-size=\"14.00\" fill=\"blue\">Create &#45; 8bca9fb6&#45;8c7d&#45;4756&#45;b928&#45;cbbf5b215f4b</text>\n",
       "</g>\n",
       "<!-- pcoll820 -->\n",
       "<g id=\"node2\" class=\"node\">\n",
       "<title>pcoll820</title>\n",
       "<ellipse fill=\"none\" stroke=\"blue\" cx=\"175.5\" cy=\"-162\" rx=\"18\" ry=\"18\"/>\n",
       "</g>\n",
       "<!-- Create &#45; 8bca9fb6&#45;8c7d&#45;4756&#45;b928&#45;cbbf5b215f4b&#45;&gt;pcoll820 -->\n",
       "<g id=\"edge1\" class=\"edge\">\n",
       "<title>Create &#45; 8bca9fb6&#45;8c7d&#45;4756&#45;b928&#45;cbbf5b215f4b&#45;&gt;pcoll820</title>\n",
       "<path fill=\"none\" stroke=\"black\" d=\"M175.5,-215.7C175.5,-208.41 175.5,-199.73 175.5,-191.54\"/>\n",
       "<polygon fill=\"black\" stroke=\"black\" points=\"179,-191.62 175.5,-181.62 172,-191.62 179,-191.62\"/>\n",
       "</g>\n",
       "<!-- SentenceEmbedding &#45; d99fdef9&#45;1f7d&#45;4f50&#45;8cff&#45;2e4bdfff16cd -->\n",
       "<g id=\"node3\" class=\"node\">\n",
       "<title>SentenceEmbedding &#45; d99fdef9&#45;1f7d&#45;4f50&#45;8cff&#45;2e4bdfff16cd</title>\n",
       "<polygon fill=\"none\" stroke=\"blue\" points=\"351,-108 0,-108 0,-72 351,-72 351,-108\"/>\n",
       "<text text-anchor=\"middle\" x=\"175.5\" y=\"-86.3\" font-family=\"Times,serif\" font-size=\"14.00\" fill=\"blue\">SentenceEmbedding &#45; d99fdef9&#45;1f7d&#45;4f50&#45;8cff&#45;2e4bdfff16cd</text>\n",
       "</g>\n",
       "<!-- pcoll820&#45;&gt;SentenceEmbedding &#45; d99fdef9&#45;1f7d&#45;4f50&#45;8cff&#45;2e4bdfff16cd -->\n",
       "<g id=\"edge2\" class=\"edge\">\n",
       "<title>pcoll820&#45;&gt;SentenceEmbedding &#45; d99fdef9&#45;1f7d&#45;4f50&#45;8cff&#45;2e4bdfff16cd</title>\n",
       "<path fill=\"none\" stroke=\"black\" d=\"M175.5,-143.7C175.5,-136.41 175.5,-127.73 175.5,-119.54\"/>\n",
       "<polygon fill=\"black\" stroke=\"black\" points=\"179,-119.62 175.5,-109.62 172,-119.62 179,-119.62\"/>\n",
       "</g>\n",
       "<!-- pcoll8385 -->\n",
       "<g id=\"node4\" class=\"node\">\n",
       "<title>pcoll8385</title>\n",
       "<ellipse fill=\"none\" stroke=\"blue\" cx=\"175.5\" cy=\"-18\" rx=\"18\" ry=\"18\"/>\n",
       "</g>\n",
       "<!-- SentenceEmbedding &#45; d99fdef9&#45;1f7d&#45;4f50&#45;8cff&#45;2e4bdfff16cd&#45;&gt;pcoll8385 -->\n",
       "<g id=\"edge3\" class=\"edge\">\n",
       "<title>SentenceEmbedding &#45; d99fdef9&#45;1f7d&#45;4f50&#45;8cff&#45;2e4bdfff16cd&#45;&gt;pcoll8385</title>\n",
       "<path fill=\"none\" stroke=\"black\" d=\"M175.5,-71.7C175.5,-64.41 175.5,-55.73 175.5,-47.54\"/>\n",
       "<polygon fill=\"black\" stroke=\"black\" points=\"179,-47.62 175.5,-37.62 172,-47.62 179,-47.62\"/>\n",
       "</g>\n",
       "</g>\n",
       "</svg>\n"
      ],
      "text/plain": [
       "<IPython.core.display.HTML object>"
      ]
     },
     "metadata": {},
     "output_type": "display_data"
    },
    {
     "data": {
      "application/javascript": [
       "\n",
       "        if (typeof window.interactive_beam_jquery == 'undefined') {\n",
       "          var jqueryScript = document.createElement('script');\n",
       "          jqueryScript.src = 'https://code.jquery.com/jquery-3.4.1.slim.min.js';\n",
       "          jqueryScript.type = 'text/javascript';\n",
       "          jqueryScript.onload = function() {\n",
       "            var datatableScript = document.createElement('script');\n",
       "            datatableScript.src = 'https://cdn.datatables.net/1.10.20/js/jquery.dataTables.min.js';\n",
       "            datatableScript.type = 'text/javascript';\n",
       "            datatableScript.onload = function() {\n",
       "              window.interactive_beam_jquery = jQuery.noConflict(true);\n",
       "              window.interactive_beam_jquery(document).ready(function($){\n",
       "                \n",
       "            $(\"#progress_indicator_92fd072457cd48736fd1a6206909a09b\").remove();\n",
       "              });\n",
       "            }\n",
       "            document.head.appendChild(datatableScript);\n",
       "          };\n",
       "          document.head.appendChild(jqueryScript);\n",
       "        } else {\n",
       "          window.interactive_beam_jquery(document).ready(function($){\n",
       "            \n",
       "            $(\"#progress_indicator_92fd072457cd48736fd1a6206909a09b\").remove();\n",
       "          });\n",
       "        }"
      ]
     },
     "metadata": {},
     "output_type": "display_data"
    }
   ],
   "source": [
    "model.show_graph()"
   ]
  },
  {
   "cell_type": "code",
   "execution_count": 14,
   "id": "113e09c6-177d-4314-80ba-21d7d58c1bec",
   "metadata": {},
   "outputs": [
    {
     "data": {
      "text/html": [
       "\n",
       "            <link rel=\"stylesheet\" href=\"https://stackpath.bootstrapcdn.com/bootstrap/4.4.1/css/bootstrap.min.css\" integrity=\"sha384-Vkoo8x4CGsO3+Hhxv8T/Q5PaXtkKtu6ug5TOeNV6gBiFeWPGFN9MuhOf23Q9Ifjh\" crossorigin=\"anonymous\">\n",
       "            <div id=\"progress_indicator_92fd072457cd48736fd1a6206909a09b\">\n",
       "              <div class=\"spinner-border text-info\" role=\"status\"></div>\n",
       "              <span class=\"text-info\">Processing... collect</span>\n",
       "            </div>\n",
       "            "
      ],
      "text/plain": [
       "<IPython.core.display.HTML object>"
      ]
     },
     "metadata": {},
     "output_type": "display_data"
    },
    {
     "data": {
      "application/javascript": [
       "\n",
       "        if (typeof window.interactive_beam_jquery == 'undefined') {\n",
       "          var jqueryScript = document.createElement('script');\n",
       "          jqueryScript.src = 'https://code.jquery.com/jquery-3.4.1.slim.min.js';\n",
       "          jqueryScript.type = 'text/javascript';\n",
       "          jqueryScript.onload = function() {\n",
       "            var datatableScript = document.createElement('script');\n",
       "            datatableScript.src = 'https://cdn.datatables.net/1.10.20/js/jquery.dataTables.min.js';\n",
       "            datatableScript.type = 'text/javascript';\n",
       "            datatableScript.onload = function() {\n",
       "              window.interactive_beam_jquery = jQuery.noConflict(true);\n",
       "              window.interactive_beam_jquery(document).ready(function($){\n",
       "                \n",
       "            $(\"#progress_indicator_92fd072457cd48736fd1a6206909a09b\").remove();\n",
       "              });\n",
       "            }\n",
       "            document.head.appendChild(datatableScript);\n",
       "          };\n",
       "          document.head.appendChild(jqueryScript);\n",
       "        } else {\n",
       "          window.interactive_beam_jquery(document).ready(function($){\n",
       "            \n",
       "            $(\"#progress_indicator_92fd072457cd48736fd1a6206909a09b\").remove();\n",
       "          });\n",
       "        }"
      ]
     },
     "metadata": {},
     "output_type": "display_data"
    },
    {
     "data": {
      "text/html": [
       "<div>\n",
       "<style scoped>\n",
       "    .dataframe tbody tr th:only-of-type {\n",
       "        vertical-align: middle;\n",
       "    }\n",
       "\n",
       "    .dataframe tbody tr th {\n",
       "        vertical-align: top;\n",
       "    }\n",
       "\n",
       "    .dataframe thead th {\n",
       "        text-align: right;\n",
       "    }\n",
       "</style>\n",
       "<table border=\"1\" class=\"dataframe\">\n",
       "  <thead>\n",
       "    <tr style=\"text-align: right;\">\n",
       "      <th></th>\n",
       "      <th>0</th>\n",
       "    </tr>\n",
       "  </thead>\n",
       "  <tbody>\n",
       "    <tr>\n",
       "      <th>0</th>\n",
       "      <td>This framework generates embeddings for each i...</td>\n",
       "    </tr>\n",
       "    <tr>\n",
       "      <th>1</th>\n",
       "      <td>Sentences are passed as a list of string.</td>\n",
       "    </tr>\n",
       "    <tr>\n",
       "      <th>2</th>\n",
       "      <td>The quick brown fox jumps over the lazy dog.</td>\n",
       "    </tr>\n",
       "  </tbody>\n",
       "</table>\n",
       "</div>"
      ],
      "text/plain": [
       "                                                   0\n",
       "0  This framework generates embeddings for each i...\n",
       "1          Sentences are passed as a list of string.\n",
       "2       The quick brown fox jumps over the lazy dog."
      ]
     },
     "execution_count": 14,
     "metadata": {},
     "output_type": "execute_result"
    }
   ],
   "source": [
    "model.block_data(model.blocks[0])"
   ]
  },
  {
   "cell_type": "code",
   "execution_count": 15,
   "id": "808cfc4d-de90-4ed4-9f48-6d28c01fb89d",
   "metadata": {},
   "outputs": [
    {
     "data": {
      "text/html": [
       "\n",
       "            <link rel=\"stylesheet\" href=\"https://stackpath.bootstrapcdn.com/bootstrap/4.4.1/css/bootstrap.min.css\" integrity=\"sha384-Vkoo8x4CGsO3+Hhxv8T/Q5PaXtkKtu6ug5TOeNV6gBiFeWPGFN9MuhOf23Q9Ifjh\" crossorigin=\"anonymous\">\n",
       "            <div id=\"progress_indicator_0e18e3335a818a4f295e222919604493\">\n",
       "              <div class=\"spinner-border text-info\" role=\"status\"></div>\n",
       "              <span class=\"text-info\">Processing... collect</span>\n",
       "            </div>\n",
       "            "
      ],
      "text/plain": [
       "<IPython.core.display.HTML object>"
      ]
     },
     "metadata": {},
     "output_type": "display_data"
    },
    {
     "data": {
      "application/javascript": [
       "\n",
       "        if (typeof window.interactive_beam_jquery == 'undefined') {\n",
       "          var jqueryScript = document.createElement('script');\n",
       "          jqueryScript.src = 'https://code.jquery.com/jquery-3.4.1.slim.min.js';\n",
       "          jqueryScript.type = 'text/javascript';\n",
       "          jqueryScript.onload = function() {\n",
       "            var datatableScript = document.createElement('script');\n",
       "            datatableScript.src = 'https://cdn.datatables.net/1.10.20/js/jquery.dataTables.min.js';\n",
       "            datatableScript.type = 'text/javascript';\n",
       "            datatableScript.onload = function() {\n",
       "              window.interactive_beam_jquery = jQuery.noConflict(true);\n",
       "              window.interactive_beam_jquery(document).ready(function($){\n",
       "                \n",
       "            $(\"#progress_indicator_0e18e3335a818a4f295e222919604493\").remove();\n",
       "              });\n",
       "            }\n",
       "            document.head.appendChild(datatableScript);\n",
       "          };\n",
       "          document.head.appendChild(jqueryScript);\n",
       "        } else {\n",
       "          window.interactive_beam_jquery(document).ready(function($){\n",
       "            \n",
       "            $(\"#progress_indicator_0e18e3335a818a4f295e222919604493\").remove();\n",
       "          });\n",
       "        }"
      ]
     },
     "metadata": {},
     "output_type": "display_data"
    },
    {
     "data": {
      "text/html": [
       "<div>\n",
       "<style scoped>\n",
       "    .dataframe tbody tr th:only-of-type {\n",
       "        vertical-align: middle;\n",
       "    }\n",
       "\n",
       "    .dataframe tbody tr th {\n",
       "        vertical-align: top;\n",
       "    }\n",
       "\n",
       "    .dataframe thead th {\n",
       "        text-align: right;\n",
       "    }\n",
       "</style>\n",
       "<table border=\"1\" class=\"dataframe\">\n",
       "  <thead>\n",
       "    <tr style=\"text-align: right;\">\n",
       "      <th></th>\n",
       "      <th>0</th>\n",
       "    </tr>\n",
       "  </thead>\n",
       "  <tbody>\n",
       "    <tr>\n",
       "      <th>0</th>\n",
       "      <td>[-0.013717398, -0.042851556, -0.01562865, 0.01...</td>\n",
       "    </tr>\n",
       "    <tr>\n",
       "      <th>1</th>\n",
       "      <td>[0.0564525, 0.05500244, 0.031379532, 0.0339484...</td>\n",
       "    </tr>\n",
       "    <tr>\n",
       "      <th>2</th>\n",
       "      <td>[0.043933515, 0.05893439, 0.04817844, 0.077548...</td>\n",
       "    </tr>\n",
       "  </tbody>\n",
       "</table>\n",
       "</div>"
      ],
      "text/plain": [
       "                                                   0\n",
       "0  [-0.013717398, -0.042851556, -0.01562865, 0.01...\n",
       "1  [0.0564525, 0.05500244, 0.031379532, 0.0339484...\n",
       "2  [0.043933515, 0.05893439, 0.04817844, 0.077548..."
      ]
     },
     "execution_count": 15,
     "metadata": {},
     "output_type": "execute_result"
    }
   ],
   "source": [
    "model.block_data(model.blocks[1])"
   ]
  },
  {
   "cell_type": "code",
   "execution_count": 16,
   "id": "b3723bb0-312f-4f8c-8152-18093a43161c",
   "metadata": {},
   "outputs": [
    {
     "data": {
      "text/plain": [
       "'{\"block_type\": \"SentenceEmbedding\", \"block_id\": \"d99fdef9-1f7d-4f50-8cff-2e4bdfff16cd\", \"source_ids\": [\"8bca9fb6-8c7d-4756-b928-cbbf5b215f4b\"], \"target_ids\": [], \"model_name\": \"all-MiniLM-L6-v2\"}'"
      ]
     },
     "execution_count": 16,
     "metadata": {},
     "output_type": "execute_result"
    }
   ],
   "source": [
    "model.blocks[1].json(exclude={\"operation\", \"o\"})"
   ]
  },
  {
   "cell_type": "markdown",
   "id": "91597325-102a-46c1-92f0-d9df0e52d188",
   "metadata": {},
   "source": [
    "# Support the json config"
   ]
  },
  {
   "cell_type": "code",
   "execution_count": 17,
   "id": "0f78d865-3aa0-47a5-99ff-71d551a2d8d9",
   "metadata": {},
   "outputs": [],
   "source": [
    "model_in_json = model.to_json(indent=2)"
   ]
  },
  {
   "cell_type": "code",
   "execution_count": 18,
   "id": "b9766958-ee94-4860-b03f-76996689e1c9",
   "metadata": {},
   "outputs": [
    {
     "name": "stdout",
     "output_type": "stream",
     "text": [
      "{\n",
      "  \"blocks\": [\n",
      "    {\n",
      "      \"block_type\": \"Create\",\n",
      "      \"block_id\": \"8bca9fb6-8c7d-4756-b928-cbbf5b215f4b\",\n",
      "      \"source_ids\": [],\n",
      "      \"target_ids\": [\n",
      "        \"d99fdef9-1f7d-4f50-8cff-2e4bdfff16cd\"\n",
      "      ],\n",
      "      \"values\": [\n",
      "        \"This framework generates embeddings for each input sentence\",\n",
      "        \"Sentences are passed as a list of string.\",\n",
      "        \"The quick brown fox jumps over the lazy dog.\"\n",
      "      ]\n",
      "    },\n",
      "    {\n",
      "      \"block_type\": \"SentenceEmbedding\",\n",
      "      \"block_id\": \"d99fdef9-1f7d-4f50-8cff-2e4bdfff16cd\",\n",
      "      \"source_ids\": [\n",
      "        \"8bca9fb6-8c7d-4756-b928-cbbf5b215f4b\"\n",
      "      ],\n",
      "      \"target_ids\": [],\n",
      "      \"model_name\": \"all-MiniLM-L6-v2\"\n",
      "    }\n",
      "  ]\n",
      "}\n"
     ]
    }
   ],
   "source": [
    "print(model_in_json)"
   ]
  },
  {
   "cell_type": "code",
   "execution_count": 19,
   "id": "45837cb7-a917-4b9c-8234-6d20b0450747",
   "metadata": {},
   "outputs": [],
   "source": [
    "new_model = blocks.BlockAssembler.from_json(model_in_json)"
   ]
  },
  {
   "cell_type": "code",
   "execution_count": 20,
   "id": "ca4a8802-11ea-42a7-8c55-db5467221100",
   "metadata": {},
   "outputs": [],
   "source": [
    "new_model.compile()"
   ]
  },
  {
   "cell_type": "code",
   "execution_count": 21,
   "id": "d34b4c05-b557-4c11-8511-7a19fdcdbcc0",
   "metadata": {},
   "outputs": [
    {
     "data": {
      "text/html": [
       "\n",
       "            <link rel=\"stylesheet\" href=\"https://stackpath.bootstrapcdn.com/bootstrap/4.4.1/css/bootstrap.min.css\" integrity=\"sha384-Vkoo8x4CGsO3+Hhxv8T/Q5PaXtkKtu6ug5TOeNV6gBiFeWPGFN9MuhOf23Q9Ifjh\" crossorigin=\"anonymous\">\n",
       "            <div id=\"progress_indicator_b5f87aacbd3fdf0bae3d9af611daebe0\">\n",
       "              <div class=\"spinner-border text-info\" role=\"status\"></div>\n",
       "              <span class=\"text-info\">Processing... show_graph</span>\n",
       "            </div>\n",
       "            "
      ],
      "text/plain": [
       "<IPython.core.display.HTML object>"
      ]
     },
     "metadata": {},
     "output_type": "display_data"
    },
    {
     "name": "stdout",
     "output_type": "stream",
     "text": [
      "huggingface/tokenizers: The current process just got forked, after parallelism has already been used. Disabling parallelism to avoid deadlocks...\n",
      "To disable this warning, you can either:\n",
      "\t- Avoid using `tokenizers` before the fork if possible\n",
      "\t- Explicitly set the environment variable TOKENIZERS_PARALLELISM=(true | false)\n",
      "/Users/xqhu/homebrew/bin/dot\n",
      "huggingface/tokenizers: The current process just got forked, after parallelism has already been used. Disabling parallelism to avoid deadlocks...\n",
      "To disable this warning, you can either:\n",
      "\t- Avoid using `tokenizers` before the fork if possible\n",
      "\t- Explicitly set the environment variable TOKENIZERS_PARALLELISM=(true | false)\n"
     ]
    },
    {
     "data": {
      "text/html": [
       "<?xml version=\"1.0\" encoding=\"UTF-8\" standalone=\"no\"?>\n",
       "<!DOCTYPE svg PUBLIC \"-//W3C//DTD SVG 1.1//EN\"\n",
       " \"http://www.w3.org/Graphics/SVG/1.1/DTD/svg11.dtd\">\n",
       "<!-- Generated by graphviz version 7.0.5 (20221223.1930)\n",
       " -->\n",
       "<!-- Title: G Pages: 1 -->\n",
       "<svg width=\"359pt\" height=\"260pt\"\n",
       " viewBox=\"0.00 0.00 359.00 260.00\" xmlns=\"http://www.w3.org/2000/svg\" xmlns:xlink=\"http://www.w3.org/1999/xlink\">\n",
       "<g id=\"graph0\" class=\"graph\" transform=\"scale(1 1) rotate(0) translate(4 256)\">\n",
       "<title>G</title>\n",
       "<polygon fill=\"white\" stroke=\"none\" points=\"-4,4 -4,-256 355,-256 355,4 -4,4\"/>\n",
       "<!-- Create &#45; 8bca9fb6&#45;8c7d&#45;4756&#45;b928&#45;cbbf5b215f4b -->\n",
       "<g id=\"node1\" class=\"node\">\n",
       "<title>Create &#45; 8bca9fb6&#45;8c7d&#45;4756&#45;b928&#45;cbbf5b215f4b</title>\n",
       "<polygon fill=\"none\" stroke=\"blue\" points=\"319.5,-252 31.5,-252 31.5,-216 319.5,-216 319.5,-252\"/>\n",
       "<text text-anchor=\"middle\" x=\"175.5\" y=\"-230.3\" font-family=\"Times,serif\" font-size=\"14.00\" fill=\"blue\">Create &#45; 8bca9fb6&#45;8c7d&#45;4756&#45;b928&#45;cbbf5b215f4b</text>\n",
       "</g>\n",
       "<!-- pcoll820 -->\n",
       "<g id=\"node2\" class=\"node\">\n",
       "<title>pcoll820</title>\n",
       "<ellipse fill=\"none\" stroke=\"blue\" cx=\"175.5\" cy=\"-162\" rx=\"18\" ry=\"18\"/>\n",
       "</g>\n",
       "<!-- Create &#45; 8bca9fb6&#45;8c7d&#45;4756&#45;b928&#45;cbbf5b215f4b&#45;&gt;pcoll820 -->\n",
       "<g id=\"edge1\" class=\"edge\">\n",
       "<title>Create &#45; 8bca9fb6&#45;8c7d&#45;4756&#45;b928&#45;cbbf5b215f4b&#45;&gt;pcoll820</title>\n",
       "<path fill=\"none\" stroke=\"black\" d=\"M175.5,-215.7C175.5,-208.41 175.5,-199.73 175.5,-191.54\"/>\n",
       "<polygon fill=\"black\" stroke=\"black\" points=\"179,-191.62 175.5,-181.62 172,-191.62 179,-191.62\"/>\n",
       "</g>\n",
       "<!-- SentenceEmbedding &#45; d99fdef9&#45;1f7d&#45;4f50&#45;8cff&#45;2e4bdfff16cd -->\n",
       "<g id=\"node3\" class=\"node\">\n",
       "<title>SentenceEmbedding &#45; d99fdef9&#45;1f7d&#45;4f50&#45;8cff&#45;2e4bdfff16cd</title>\n",
       "<polygon fill=\"none\" stroke=\"blue\" points=\"351,-108 0,-108 0,-72 351,-72 351,-108\"/>\n",
       "<text text-anchor=\"middle\" x=\"175.5\" y=\"-86.3\" font-family=\"Times,serif\" font-size=\"14.00\" fill=\"blue\">SentenceEmbedding &#45; d99fdef9&#45;1f7d&#45;4f50&#45;8cff&#45;2e4bdfff16cd</text>\n",
       "</g>\n",
       "<!-- pcoll820&#45;&gt;SentenceEmbedding &#45; d99fdef9&#45;1f7d&#45;4f50&#45;8cff&#45;2e4bdfff16cd -->\n",
       "<g id=\"edge2\" class=\"edge\">\n",
       "<title>pcoll820&#45;&gt;SentenceEmbedding &#45; d99fdef9&#45;1f7d&#45;4f50&#45;8cff&#45;2e4bdfff16cd</title>\n",
       "<path fill=\"none\" stroke=\"black\" d=\"M175.5,-143.7C175.5,-136.41 175.5,-127.73 175.5,-119.54\"/>\n",
       "<polygon fill=\"black\" stroke=\"black\" points=\"179,-119.62 175.5,-109.62 172,-119.62 179,-119.62\"/>\n",
       "</g>\n",
       "<!-- pcoll8385 -->\n",
       "<g id=\"node4\" class=\"node\">\n",
       "<title>pcoll8385</title>\n",
       "<ellipse fill=\"none\" stroke=\"blue\" cx=\"175.5\" cy=\"-18\" rx=\"18\" ry=\"18\"/>\n",
       "</g>\n",
       "<!-- SentenceEmbedding &#45; d99fdef9&#45;1f7d&#45;4f50&#45;8cff&#45;2e4bdfff16cd&#45;&gt;pcoll8385 -->\n",
       "<g id=\"edge3\" class=\"edge\">\n",
       "<title>SentenceEmbedding &#45; d99fdef9&#45;1f7d&#45;4f50&#45;8cff&#45;2e4bdfff16cd&#45;&gt;pcoll8385</title>\n",
       "<path fill=\"none\" stroke=\"black\" d=\"M175.5,-71.7C175.5,-64.41 175.5,-55.73 175.5,-47.54\"/>\n",
       "<polygon fill=\"black\" stroke=\"black\" points=\"179,-47.62 175.5,-37.62 172,-47.62 179,-47.62\"/>\n",
       "</g>\n",
       "</g>\n",
       "</svg>\n"
      ],
      "text/plain": [
       "<IPython.core.display.HTML object>"
      ]
     },
     "metadata": {},
     "output_type": "display_data"
    },
    {
     "data": {
      "application/javascript": [
       "\n",
       "        if (typeof window.interactive_beam_jquery == 'undefined') {\n",
       "          var jqueryScript = document.createElement('script');\n",
       "          jqueryScript.src = 'https://code.jquery.com/jquery-3.4.1.slim.min.js';\n",
       "          jqueryScript.type = 'text/javascript';\n",
       "          jqueryScript.onload = function() {\n",
       "            var datatableScript = document.createElement('script');\n",
       "            datatableScript.src = 'https://cdn.datatables.net/1.10.20/js/jquery.dataTables.min.js';\n",
       "            datatableScript.type = 'text/javascript';\n",
       "            datatableScript.onload = function() {\n",
       "              window.interactive_beam_jquery = jQuery.noConflict(true);\n",
       "              window.interactive_beam_jquery(document).ready(function($){\n",
       "                \n",
       "            $(\"#progress_indicator_b5f87aacbd3fdf0bae3d9af611daebe0\").remove();\n",
       "              });\n",
       "            }\n",
       "            document.head.appendChild(datatableScript);\n",
       "          };\n",
       "          document.head.appendChild(jqueryScript);\n",
       "        } else {\n",
       "          window.interactive_beam_jquery(document).ready(function($){\n",
       "            \n",
       "            $(\"#progress_indicator_b5f87aacbd3fdf0bae3d9af611daebe0\").remove();\n",
       "          });\n",
       "        }"
      ]
     },
     "metadata": {},
     "output_type": "display_data"
    }
   ],
   "source": [
    "new_model.show_graph()"
   ]
  },
  {
   "cell_type": "code",
   "execution_count": 22,
   "id": "8ff4cf7b-17a8-4e80-9535-50db3f7e9533",
   "metadata": {},
   "outputs": [
    {
     "data": {
      "text/html": [
       "\n",
       "            <link rel=\"stylesheet\" href=\"https://stackpath.bootstrapcdn.com/bootstrap/4.4.1/css/bootstrap.min.css\" integrity=\"sha384-Vkoo8x4CGsO3+Hhxv8T/Q5PaXtkKtu6ug5TOeNV6gBiFeWPGFN9MuhOf23Q9Ifjh\" crossorigin=\"anonymous\">\n",
       "            <div id=\"progress_indicator_a413298718c546abd97edc966a360e8f\">\n",
       "              <div class=\"spinner-border text-info\" role=\"status\"></div>\n",
       "              <span class=\"text-info\">Processing... collect</span>\n",
       "            </div>\n",
       "            "
      ],
      "text/plain": [
       "<IPython.core.display.HTML object>"
      ]
     },
     "metadata": {},
     "output_type": "display_data"
    },
    {
     "data": {
      "application/javascript": [
       "\n",
       "        if (typeof window.interactive_beam_jquery == 'undefined') {\n",
       "          var jqueryScript = document.createElement('script');\n",
       "          jqueryScript.src = 'https://code.jquery.com/jquery-3.4.1.slim.min.js';\n",
       "          jqueryScript.type = 'text/javascript';\n",
       "          jqueryScript.onload = function() {\n",
       "            var datatableScript = document.createElement('script');\n",
       "            datatableScript.src = 'https://cdn.datatables.net/1.10.20/js/jquery.dataTables.min.js';\n",
       "            datatableScript.type = 'text/javascript';\n",
       "            datatableScript.onload = function() {\n",
       "              window.interactive_beam_jquery = jQuery.noConflict(true);\n",
       "              window.interactive_beam_jquery(document).ready(function($){\n",
       "                \n",
       "            $(\"#progress_indicator_a413298718c546abd97edc966a360e8f\").remove();\n",
       "              });\n",
       "            }\n",
       "            document.head.appendChild(datatableScript);\n",
       "          };\n",
       "          document.head.appendChild(jqueryScript);\n",
       "        } else {\n",
       "          window.interactive_beam_jquery(document).ready(function($){\n",
       "            \n",
       "            $(\"#progress_indicator_a413298718c546abd97edc966a360e8f\").remove();\n",
       "          });\n",
       "        }"
      ]
     },
     "metadata": {},
     "output_type": "display_data"
    },
    {
     "data": {
      "text/html": [
       "<div>\n",
       "<style scoped>\n",
       "    .dataframe tbody tr th:only-of-type {\n",
       "        vertical-align: middle;\n",
       "    }\n",
       "\n",
       "    .dataframe tbody tr th {\n",
       "        vertical-align: top;\n",
       "    }\n",
       "\n",
       "    .dataframe thead th {\n",
       "        text-align: right;\n",
       "    }\n",
       "</style>\n",
       "<table border=\"1\" class=\"dataframe\">\n",
       "  <thead>\n",
       "    <tr style=\"text-align: right;\">\n",
       "      <th></th>\n",
       "      <th>0</th>\n",
       "    </tr>\n",
       "  </thead>\n",
       "  <tbody>\n",
       "    <tr>\n",
       "      <th>0</th>\n",
       "      <td>[-0.013717398, -0.042851556, -0.01562865, 0.01...</td>\n",
       "    </tr>\n",
       "    <tr>\n",
       "      <th>1</th>\n",
       "      <td>[0.0564525, 0.05500244, 0.031379532, 0.0339484...</td>\n",
       "    </tr>\n",
       "    <tr>\n",
       "      <th>2</th>\n",
       "      <td>[0.043933515, 0.05893439, 0.04817844, 0.077548...</td>\n",
       "    </tr>\n",
       "  </tbody>\n",
       "</table>\n",
       "</div>"
      ],
      "text/plain": [
       "                                                   0\n",
       "0  [-0.013717398, -0.042851556, -0.01562865, 0.01...\n",
       "1  [0.0564525, 0.05500244, 0.031379532, 0.0339484...\n",
       "2  [0.043933515, 0.05893439, 0.04817844, 0.077548..."
      ]
     },
     "execution_count": 22,
     "metadata": {},
     "output_type": "execute_result"
    }
   ],
   "source": [
    "new_model.block_data(new_model.blocks[1])"
   ]
  },
  {
   "cell_type": "markdown",
   "id": "3b7f7fe6-2695-4bd8-82b7-b0475b31a84f",
   "metadata": {},
   "source": [
    "# Use Functional API to build more complicated models"
   ]
  },
  {
   "cell_type": "code",
   "execution_count": 23,
   "id": "3cc2c221-4deb-440e-bf2a-ebec5efd3312",
   "metadata": {},
   "outputs": [],
   "source": [
    "create_1 = blocks.CreateBlock(values = sentences)\n",
    "embed_1 = blocks.SentenceEmbeddingBlock()([create_1])"
   ]
  },
  {
   "cell_type": "code",
   "execution_count": 24,
   "id": "6b40925f-87b5-4634-a05c-2c891e799b2d",
   "metadata": {},
   "outputs": [],
   "source": [
    "target_sentences = ['This framework is for testing']\n",
    "create_2 = blocks.CreateBlock(values = target_sentences)\n",
    "embed_2 = blocks.SentenceEmbeddingBlock()([create_2])"
   ]
  },
  {
   "cell_type": "code",
   "execution_count": 25,
   "id": "3a67b26e-ab1b-4fba-9bb3-d8ec66839054",
   "metadata": {},
   "outputs": [],
   "source": [
    "cross = blocks.CrossJoinBlock()([embed_1, embed_2])"
   ]
  },
  {
   "cell_type": "code",
   "execution_count": 26,
   "id": "6eaae757-e3ea-481e-ad99-296428413e61",
   "metadata": {},
   "outputs": [
    {
     "data": {
      "text/plain": [
       "CrossJoinBlock(block_type='CrossJoin', block_id=UUID('8a062255-cfa7-4988-bd3b-47caa380a727'), source_ids=[UUID('7e4f9fa9-34d5-44f3-8cc0-2d2403c75fc0'), UUID('22a44793-231f-4a07-87c8-42b36bab2638')], target_ids=[], operation=None, o=None)"
      ]
     },
     "execution_count": 26,
     "metadata": {},
     "output_type": "execute_result"
    }
   ],
   "source": [
    "cross"
   ]
  },
  {
   "cell_type": "code",
   "execution_count": 27,
   "id": "a311e52b-7cce-4c73-bc23-2aac64304ba3",
   "metadata": {},
   "outputs": [],
   "source": [
    "sim = blocks.CosSimilarityBlock()(cross)"
   ]
  },
  {
   "cell_type": "code",
   "execution_count": 28,
   "id": "1d79b063-0ccd-4f67-944d-1cc2609b1497",
   "metadata": {},
   "outputs": [
    {
     "data": {
      "text/plain": [
       "CosSimilarityBlock(block_type='CosSimilarity', block_id=UUID('12337bf1-bcbe-451e-be80-910e757f78ce'), source_ids=[UUID('8a062255-cfa7-4988-bd3b-47caa380a727')], target_ids=[], operation=<ParDo(PTransform) label=[Map(<lambda at blocks.py:114>)] at 0x1778575e0>, o=None)"
      ]
     },
     "execution_count": 28,
     "metadata": {},
     "output_type": "execute_result"
    }
   ],
   "source": [
    "sim"
   ]
  },
  {
   "cell_type": "code",
   "execution_count": 29,
   "id": "a1cca392-e6d9-4ad0-99dd-e7e331a17441",
   "metadata": {},
   "outputs": [],
   "source": [
    "model_1 = blocks.BlockAssembler([create_1, create_2])"
   ]
  },
  {
   "cell_type": "code",
   "execution_count": 30,
   "id": "a5e13c61-d2a2-44f3-a0e7-8f7aa2ea448c",
   "metadata": {},
   "outputs": [],
   "source": [
    "model_1.compile()"
   ]
  },
  {
   "cell_type": "code",
   "execution_count": 31,
   "id": "f0e0d09e-14c5-4a18-b9f5-da14ac60535f",
   "metadata": {},
   "outputs": [
    {
     "data": {
      "text/html": [
       "\n",
       "            <link rel=\"stylesheet\" href=\"https://stackpath.bootstrapcdn.com/bootstrap/4.4.1/css/bootstrap.min.css\" integrity=\"sha384-Vkoo8x4CGsO3+Hhxv8T/Q5PaXtkKtu6ug5TOeNV6gBiFeWPGFN9MuhOf23Q9Ifjh\" crossorigin=\"anonymous\">\n",
       "            <div id=\"progress_indicator_628a0bd887c4fae7b8475dec14565b17\">\n",
       "              <div class=\"spinner-border text-info\" role=\"status\"></div>\n",
       "              <span class=\"text-info\">Processing... show_graph</span>\n",
       "            </div>\n",
       "            "
      ],
      "text/plain": [
       "<IPython.core.display.HTML object>"
      ]
     },
     "metadata": {},
     "output_type": "display_data"
    },
    {
     "name": "stdout",
     "output_type": "stream",
     "text": [
      "huggingface/tokenizers: The current process just got forked, after parallelism has already been used. Disabling parallelism to avoid deadlocks...\n",
      "To disable this warning, you can either:\n",
      "\t- Avoid using `tokenizers` before the fork if possible\n",
      "\t- Explicitly set the environment variable TOKENIZERS_PARALLELISM=(true | false)\n",
      "/Users/xqhu/homebrew/bin/dot\n",
      "huggingface/tokenizers: The current process just got forked, after parallelism has already been used. Disabling parallelism to avoid deadlocks...\n",
      "To disable this warning, you can either:\n",
      "\t- Avoid using `tokenizers` before the fork if possible\n",
      "\t- Explicitly set the environment variable TOKENIZERS_PARALLELISM=(true | false)\n"
     ]
    },
    {
     "data": {
      "text/html": [
       "<?xml version=\"1.0\" encoding=\"UTF-8\" standalone=\"no\"?>\n",
       "<!DOCTYPE svg PUBLIC \"-//W3C//DTD SVG 1.1//EN\"\n",
       " \"http://www.w3.org/Graphics/SVG/1.1/DTD/svg11.dtd\">\n",
       "<!-- Generated by graphviz version 7.0.5 (20221223.1930)\n",
       " -->\n",
       "<!-- Title: G Pages: 1 -->\n",
       "<svg width=\"756pt\" height=\"548pt\"\n",
       " viewBox=\"0.00 0.00 756.00 548.00\" xmlns=\"http://www.w3.org/2000/svg\" xmlns:xlink=\"http://www.w3.org/1999/xlink\">\n",
       "<g id=\"graph0\" class=\"graph\" transform=\"scale(1 1) rotate(0) translate(4 544)\">\n",
       "<title>G</title>\n",
       "<polygon fill=\"white\" stroke=\"none\" points=\"-4,4 -4,-544 752,-544 752,4 -4,4\"/>\n",
       "<!-- Create &#45; 49b63496&#45;6865&#45;492a&#45;80ff&#45;e3d372493884 -->\n",
       "<g id=\"node1\" class=\"node\">\n",
       "<title>Create &#45; 49b63496&#45;6865&#45;492a&#45;80ff&#45;e3d372493884</title>\n",
       "<polygon fill=\"none\" stroke=\"blue\" points=\"326.5,-540 34.5,-540 34.5,-504 326.5,-504 326.5,-540\"/>\n",
       "<text text-anchor=\"middle\" x=\"180.5\" y=\"-518.3\" font-family=\"Times,serif\" font-size=\"14.00\" fill=\"blue\">Create &#45; 49b63496&#45;6865&#45;492a&#45;80ff&#45;e3d372493884</text>\n",
       "</g>\n",
       "<!-- pcoll820 -->\n",
       "<g id=\"node2\" class=\"node\">\n",
       "<title>pcoll820</title>\n",
       "<ellipse fill=\"none\" stroke=\"blue\" cx=\"180.5\" cy=\"-450\" rx=\"18\" ry=\"18\"/>\n",
       "</g>\n",
       "<!-- Create &#45; 49b63496&#45;6865&#45;492a&#45;80ff&#45;e3d372493884&#45;&gt;pcoll820 -->\n",
       "<g id=\"edge1\" class=\"edge\">\n",
       "<title>Create &#45; 49b63496&#45;6865&#45;492a&#45;80ff&#45;e3d372493884&#45;&gt;pcoll820</title>\n",
       "<path fill=\"none\" stroke=\"black\" d=\"M180.5,-503.7C180.5,-496.41 180.5,-487.73 180.5,-479.54\"/>\n",
       "<polygon fill=\"black\" stroke=\"black\" points=\"184,-479.62 180.5,-469.62 177,-479.62 184,-479.62\"/>\n",
       "</g>\n",
       "<!-- SentenceEmbedding &#45; 7e4f9fa9&#45;34d5&#45;44f3&#45;8cc0&#45;2d2403c75fc0 -->\n",
       "<g id=\"node3\" class=\"node\">\n",
       "<title>SentenceEmbedding &#45; 7e4f9fa9&#45;34d5&#45;44f3&#45;8cc0&#45;2d2403c75fc0</title>\n",
       "<polygon fill=\"none\" stroke=\"blue\" points=\"361,-396 0,-396 0,-360 361,-360 361,-396\"/>\n",
       "<text text-anchor=\"middle\" x=\"180.5\" y=\"-374.3\" font-family=\"Times,serif\" font-size=\"14.00\" fill=\"blue\">SentenceEmbedding &#45; 7e4f9fa9&#45;34d5&#45;44f3&#45;8cc0&#45;2d2403c75fc0</text>\n",
       "</g>\n",
       "<!-- pcoll820&#45;&gt;SentenceEmbedding &#45; 7e4f9fa9&#45;34d5&#45;44f3&#45;8cc0&#45;2d2403c75fc0 -->\n",
       "<g id=\"edge2\" class=\"edge\">\n",
       "<title>pcoll820&#45;&gt;SentenceEmbedding &#45; 7e4f9fa9&#45;34d5&#45;44f3&#45;8cc0&#45;2d2403c75fc0</title>\n",
       "<path fill=\"none\" stroke=\"black\" d=\"M180.5,-431.7C180.5,-424.41 180.5,-415.73 180.5,-407.54\"/>\n",
       "<polygon fill=\"black\" stroke=\"black\" points=\"184,-407.62 180.5,-397.62 177,-407.62 184,-407.62\"/>\n",
       "</g>\n",
       "<!-- pcoll8385 -->\n",
       "<g id=\"node4\" class=\"node\">\n",
       "<title>pcoll8385</title>\n",
       "<ellipse fill=\"none\" stroke=\"blue\" cx=\"344.5\" cy=\"-306\" rx=\"18\" ry=\"18\"/>\n",
       "</g>\n",
       "<!-- SentenceEmbedding &#45; 7e4f9fa9&#45;34d5&#45;44f3&#45;8cc0&#45;2d2403c75fc0&#45;&gt;pcoll8385 -->\n",
       "<g id=\"edge3\" class=\"edge\">\n",
       "<title>SentenceEmbedding &#45; 7e4f9fa9&#45;34d5&#45;44f3&#45;8cc0&#45;2d2403c75fc0&#45;&gt;pcoll8385</title>\n",
       "<path fill=\"none\" stroke=\"black\" d=\"M221.46,-359.52C251.68,-346.62 291.91,-329.45 318.01,-318.31\"/>\n",
       "<polygon fill=\"black\" stroke=\"black\" points=\"319.04,-321.67 326.87,-314.53 316.29,-315.23 319.04,-321.67\"/>\n",
       "</g>\n",
       "<!-- CrossJoin &#45; 8a062255&#45;cfa7&#45;4988&#45;bd3b&#45;47caa380a727 -->\n",
       "<g id=\"node9\" class=\"node\">\n",
       "<title>CrossJoin &#45; 8a062255&#45;cfa7&#45;4988&#45;bd3b&#45;47caa380a727</title>\n",
       "<polygon fill=\"none\" stroke=\"blue\" points=\"525.5,-252 217.5,-252 217.5,-216 525.5,-216 525.5,-252\"/>\n",
       "<text text-anchor=\"middle\" x=\"371.5\" y=\"-230.3\" font-family=\"Times,serif\" font-size=\"14.00\" fill=\"blue\">CrossJoin &#45; 8a062255&#45;cfa7&#45;4988&#45;bd3b&#45;47caa380a727</text>\n",
       "</g>\n",
       "<!-- pcoll8385&#45;&gt;CrossJoin &#45; 8a062255&#45;cfa7&#45;4988&#45;bd3b&#45;47caa380a727 -->\n",
       "<g id=\"edge4\" class=\"edge\">\n",
       "<title>pcoll8385&#45;&gt;CrossJoin &#45; 8a062255&#45;cfa7&#45;4988&#45;bd3b&#45;47caa380a727</title>\n",
       "<path fill=\"none\" stroke=\"black\" d=\"M350.76,-288.76C353.74,-281.04 357.39,-271.59 360.79,-262.77\"/>\n",
       "<polygon fill=\"black\" stroke=\"black\" points=\"364.02,-264.13 364.35,-253.54 357.49,-261.61 364.02,-264.13\"/>\n",
       "</g>\n",
       "<!-- Create &#45; 4f54cd02&#45;66c7&#45;406f&#45;8c90&#45;e265d519c2db -->\n",
       "<g id=\"node5\" class=\"node\">\n",
       "<title>Create &#45; 4f54cd02&#45;66c7&#45;406f&#45;8c90&#45;e265d519c2db</title>\n",
       "<polygon fill=\"none\" stroke=\"blue\" points=\"708.5,-540 418.5,-540 418.5,-504 708.5,-504 708.5,-540\"/>\n",
       "<text text-anchor=\"middle\" x=\"563.5\" y=\"-518.3\" font-family=\"Times,serif\" font-size=\"14.00\" fill=\"blue\">Create &#45; 4f54cd02&#45;66c7&#45;406f&#45;8c90&#45;e265d519c2db</text>\n",
       "</g>\n",
       "<!-- pcoll7060 -->\n",
       "<g id=\"node6\" class=\"node\">\n",
       "<title>pcoll7060</title>\n",
       "<ellipse fill=\"none\" stroke=\"blue\" cx=\"563.5\" cy=\"-450\" rx=\"18\" ry=\"18\"/>\n",
       "</g>\n",
       "<!-- Create &#45; 4f54cd02&#45;66c7&#45;406f&#45;8c90&#45;e265d519c2db&#45;&gt;pcoll7060 -->\n",
       "<g id=\"edge5\" class=\"edge\">\n",
       "<title>Create &#45; 4f54cd02&#45;66c7&#45;406f&#45;8c90&#45;e265d519c2db&#45;&gt;pcoll7060</title>\n",
       "<path fill=\"none\" stroke=\"black\" d=\"M563.5,-503.7C563.5,-496.41 563.5,-487.73 563.5,-479.54\"/>\n",
       "<polygon fill=\"black\" stroke=\"black\" points=\"567,-479.62 563.5,-469.62 560,-479.62 567,-479.62\"/>\n",
       "</g>\n",
       "<!-- SentenceEmbedding &#45; 22a44793&#45;231f&#45;4a07&#45;87c8&#45;42b36bab2638 -->\n",
       "<g id=\"node7\" class=\"node\">\n",
       "<title>SentenceEmbedding &#45; 22a44793&#45;231f&#45;4a07&#45;87c8&#45;42b36bab2638</title>\n",
       "<polygon fill=\"none\" stroke=\"blue\" points=\"748,-396 379,-396 379,-360 748,-360 748,-396\"/>\n",
       "<text text-anchor=\"middle\" x=\"563.5\" y=\"-374.3\" font-family=\"Times,serif\" font-size=\"14.00\" fill=\"blue\">SentenceEmbedding &#45; 22a44793&#45;231f&#45;4a07&#45;87c8&#45;42b36bab2638</text>\n",
       "</g>\n",
       "<!-- pcoll7060&#45;&gt;SentenceEmbedding &#45; 22a44793&#45;231f&#45;4a07&#45;87c8&#45;42b36bab2638 -->\n",
       "<g id=\"edge6\" class=\"edge\">\n",
       "<title>pcoll7060&#45;&gt;SentenceEmbedding &#45; 22a44793&#45;231f&#45;4a07&#45;87c8&#45;42b36bab2638</title>\n",
       "<path fill=\"none\" stroke=\"black\" d=\"M563.5,-431.7C563.5,-424.41 563.5,-415.73 563.5,-407.54\"/>\n",
       "<polygon fill=\"black\" stroke=\"black\" points=\"567,-407.62 563.5,-397.62 560,-407.62 567,-407.62\"/>\n",
       "</g>\n",
       "<!-- pcoll6585 -->\n",
       "<g id=\"node8\" class=\"node\">\n",
       "<title>pcoll6585</title>\n",
       "<ellipse fill=\"none\" stroke=\"blue\" cx=\"480.5\" cy=\"-306\" rx=\"18\" ry=\"18\"/>\n",
       "</g>\n",
       "<!-- SentenceEmbedding &#45; 22a44793&#45;231f&#45;4a07&#45;87c8&#45;42b36bab2638&#45;&gt;pcoll6585 -->\n",
       "<g id=\"edge7\" class=\"edge\">\n",
       "<title>SentenceEmbedding &#45; 22a44793&#45;231f&#45;4a07&#45;87c8&#45;42b36bab2638&#45;&gt;pcoll6585</title>\n",
       "<path fill=\"none\" stroke=\"black\" d=\"M542.98,-359.7C530.7,-349.34 515.09,-336.17 502.54,-325.59\"/>\n",
       "<polygon fill=\"black\" stroke=\"black\" points=\"505.1,-323.17 495.2,-319.39 500.58,-328.52 505.1,-323.17\"/>\n",
       "</g>\n",
       "<!-- pcoll6585&#45;&gt;CrossJoin &#45; 8a062255&#45;cfa7&#45;4988&#45;bd3b&#45;47caa380a727 -->\n",
       "<g id=\"edge8\" class=\"edge\">\n",
       "<title>pcoll6585&#45;&gt;CrossJoin &#45; 8a062255&#45;cfa7&#45;4988&#45;bd3b&#45;47caa380a727</title>\n",
       "<path fill=\"none\" stroke=\"black\" d=\"M465.8,-295.56C451.09,-286.11 427.86,-271.19 408.14,-258.53\"/>\n",
       "<polygon fill=\"black\" stroke=\"black\" points=\"410.08,-255.62 399.78,-253.16 406.3,-261.51 410.08,-255.62\"/>\n",
       "</g>\n",
       "<!-- pcoll4250 -->\n",
       "<g id=\"node10\" class=\"node\">\n",
       "<title>pcoll4250</title>\n",
       "<ellipse fill=\"none\" stroke=\"blue\" cx=\"371.5\" cy=\"-162\" rx=\"18\" ry=\"18\"/>\n",
       "</g>\n",
       "<!-- CrossJoin &#45; 8a062255&#45;cfa7&#45;4988&#45;bd3b&#45;47caa380a727&#45;&gt;pcoll4250 -->\n",
       "<g id=\"edge9\" class=\"edge\">\n",
       "<title>CrossJoin &#45; 8a062255&#45;cfa7&#45;4988&#45;bd3b&#45;47caa380a727&#45;&gt;pcoll4250</title>\n",
       "<path fill=\"none\" stroke=\"black\" d=\"M371.5,-215.7C371.5,-208.41 371.5,-199.73 371.5,-191.54\"/>\n",
       "<polygon fill=\"black\" stroke=\"black\" points=\"375,-191.62 371.5,-181.62 368,-191.62 375,-191.62\"/>\n",
       "</g>\n",
       "<!-- CosSimilarity &#45; 12337bf1&#45;bcbe&#45;451e&#45;be80&#45;910e757f78ce -->\n",
       "<g id=\"node11\" class=\"node\">\n",
       "<title>CosSimilarity &#45; 12337bf1&#45;bcbe&#45;451e&#45;be80&#45;910e757f78ce</title>\n",
       "<polygon fill=\"none\" stroke=\"blue\" points=\"536,-108 207,-108 207,-72 536,-72 536,-108\"/>\n",
       "<text text-anchor=\"middle\" x=\"371.5\" y=\"-86.3\" font-family=\"Times,serif\" font-size=\"14.00\" fill=\"blue\">CosSimilarity &#45; 12337bf1&#45;bcbe&#45;451e&#45;be80&#45;910e757f78ce</text>\n",
       "</g>\n",
       "<!-- pcoll4250&#45;&gt;CosSimilarity &#45; 12337bf1&#45;bcbe&#45;451e&#45;be80&#45;910e757f78ce -->\n",
       "<g id=\"edge10\" class=\"edge\">\n",
       "<title>pcoll4250&#45;&gt;CosSimilarity &#45; 12337bf1&#45;bcbe&#45;451e&#45;be80&#45;910e757f78ce</title>\n",
       "<path fill=\"none\" stroke=\"black\" d=\"M371.5,-143.7C371.5,-136.41 371.5,-127.73 371.5,-119.54\"/>\n",
       "<polygon fill=\"black\" stroke=\"black\" points=\"375,-119.62 371.5,-109.62 368,-119.62 375,-119.62\"/>\n",
       "</g>\n",
       "<!-- pcoll2995 -->\n",
       "<g id=\"node12\" class=\"node\">\n",
       "<title>pcoll2995</title>\n",
       "<ellipse fill=\"none\" stroke=\"blue\" cx=\"371.5\" cy=\"-18\" rx=\"18\" ry=\"18\"/>\n",
       "</g>\n",
       "<!-- CosSimilarity &#45; 12337bf1&#45;bcbe&#45;451e&#45;be80&#45;910e757f78ce&#45;&gt;pcoll2995 -->\n",
       "<g id=\"edge11\" class=\"edge\">\n",
       "<title>CosSimilarity &#45; 12337bf1&#45;bcbe&#45;451e&#45;be80&#45;910e757f78ce&#45;&gt;pcoll2995</title>\n",
       "<path fill=\"none\" stroke=\"black\" d=\"M371.5,-71.7C371.5,-64.41 371.5,-55.73 371.5,-47.54\"/>\n",
       "<polygon fill=\"black\" stroke=\"black\" points=\"375,-47.62 371.5,-37.62 368,-47.62 375,-47.62\"/>\n",
       "</g>\n",
       "</g>\n",
       "</svg>\n"
      ],
      "text/plain": [
       "<IPython.core.display.HTML object>"
      ]
     },
     "metadata": {},
     "output_type": "display_data"
    },
    {
     "data": {
      "application/javascript": [
       "\n",
       "        if (typeof window.interactive_beam_jquery == 'undefined') {\n",
       "          var jqueryScript = document.createElement('script');\n",
       "          jqueryScript.src = 'https://code.jquery.com/jquery-3.4.1.slim.min.js';\n",
       "          jqueryScript.type = 'text/javascript';\n",
       "          jqueryScript.onload = function() {\n",
       "            var datatableScript = document.createElement('script');\n",
       "            datatableScript.src = 'https://cdn.datatables.net/1.10.20/js/jquery.dataTables.min.js';\n",
       "            datatableScript.type = 'text/javascript';\n",
       "            datatableScript.onload = function() {\n",
       "              window.interactive_beam_jquery = jQuery.noConflict(true);\n",
       "              window.interactive_beam_jquery(document).ready(function($){\n",
       "                \n",
       "            $(\"#progress_indicator_628a0bd887c4fae7b8475dec14565b17\").remove();\n",
       "              });\n",
       "            }\n",
       "            document.head.appendChild(datatableScript);\n",
       "          };\n",
       "          document.head.appendChild(jqueryScript);\n",
       "        } else {\n",
       "          window.interactive_beam_jquery(document).ready(function($){\n",
       "            \n",
       "            $(\"#progress_indicator_628a0bd887c4fae7b8475dec14565b17\").remove();\n",
       "          });\n",
       "        }"
      ]
     },
     "metadata": {},
     "output_type": "display_data"
    }
   ],
   "source": [
    "model_1.show_graph()"
   ]
  },
  {
   "cell_type": "code",
   "execution_count": 32,
   "id": "1a6ae4ec-fc7b-456c-b8b1-8f06e342ee5d",
   "metadata": {},
   "outputs": [
    {
     "data": {
      "text/html": [
       "\n",
       "            <link rel=\"stylesheet\" href=\"https://stackpath.bootstrapcdn.com/bootstrap/4.4.1/css/bootstrap.min.css\" integrity=\"sha384-Vkoo8x4CGsO3+Hhxv8T/Q5PaXtkKtu6ug5TOeNV6gBiFeWPGFN9MuhOf23Q9Ifjh\" crossorigin=\"anonymous\">\n",
       "            <div id=\"progress_indicator_9845a749d73554b1cd3babdbac32bd56\">\n",
       "              <div class=\"spinner-border text-info\" role=\"status\"></div>\n",
       "              <span class=\"text-info\">Processing... collect</span>\n",
       "            </div>\n",
       "            "
      ],
      "text/plain": [
       "<IPython.core.display.HTML object>"
      ]
     },
     "metadata": {},
     "output_type": "display_data"
    },
    {
     "name": "stderr",
     "output_type": "stream",
     "text": [
      "/Users/xqhu/Dev/pydf/venv/lib/python3.9/site-packages/sentence_transformers/util.py:36: UserWarning: Creating a tensor from a list of numpy.ndarrays is extremely slow. Please consider converting the list to a single numpy.ndarray with numpy.array() before converting to a tensor. (Triggered internally at /Users/runner/work/pytorch/pytorch/pytorch/torch/csrc/utils/tensor_new.cpp:233.)\n",
      "  a = torch.tensor(a)\n"
     ]
    },
    {
     "data": {
      "application/javascript": [
       "\n",
       "        if (typeof window.interactive_beam_jquery == 'undefined') {\n",
       "          var jqueryScript = document.createElement('script');\n",
       "          jqueryScript.src = 'https://code.jquery.com/jquery-3.4.1.slim.min.js';\n",
       "          jqueryScript.type = 'text/javascript';\n",
       "          jqueryScript.onload = function() {\n",
       "            var datatableScript = document.createElement('script');\n",
       "            datatableScript.src = 'https://cdn.datatables.net/1.10.20/js/jquery.dataTables.min.js';\n",
       "            datatableScript.type = 'text/javascript';\n",
       "            datatableScript.onload = function() {\n",
       "              window.interactive_beam_jquery = jQuery.noConflict(true);\n",
       "              window.interactive_beam_jquery(document).ready(function($){\n",
       "                \n",
       "            $(\"#progress_indicator_9845a749d73554b1cd3babdbac32bd56\").remove();\n",
       "              });\n",
       "            }\n",
       "            document.head.appendChild(datatableScript);\n",
       "          };\n",
       "          document.head.appendChild(jqueryScript);\n",
       "        } else {\n",
       "          window.interactive_beam_jquery(document).ready(function($){\n",
       "            \n",
       "            $(\"#progress_indicator_9845a749d73554b1cd3babdbac32bd56\").remove();\n",
       "          });\n",
       "        }"
      ]
     },
     "metadata": {},
     "output_type": "display_data"
    },
    {
     "data": {
      "text/html": [
       "<div>\n",
       "<style scoped>\n",
       "    .dataframe tbody tr th:only-of-type {\n",
       "        vertical-align: middle;\n",
       "    }\n",
       "\n",
       "    .dataframe tbody tr th {\n",
       "        vertical-align: top;\n",
       "    }\n",
       "\n",
       "    .dataframe thead th {\n",
       "        text-align: right;\n",
       "    }\n",
       "</style>\n",
       "<table border=\"1\" class=\"dataframe\">\n",
       "  <thead>\n",
       "    <tr style=\"text-align: right;\">\n",
       "      <th></th>\n",
       "      <th>0</th>\n",
       "    </tr>\n",
       "  </thead>\n",
       "  <tbody>\n",
       "    <tr>\n",
       "      <th>0</th>\n",
       "      <td>0.342632</td>\n",
       "    </tr>\n",
       "    <tr>\n",
       "      <th>1</th>\n",
       "      <td>0.162461</td>\n",
       "    </tr>\n",
       "    <tr>\n",
       "      <th>2</th>\n",
       "      <td>0.051704</td>\n",
       "    </tr>\n",
       "  </tbody>\n",
       "</table>\n",
       "</div>"
      ],
      "text/plain": [
       "          0\n",
       "0  0.342632\n",
       "1  0.162461\n",
       "2  0.051704"
      ]
     },
     "execution_count": 32,
     "metadata": {},
     "output_type": "execute_result"
    }
   ],
   "source": [
    "model_1.block_data(sim)"
   ]
  },
  {
   "cell_type": "code",
   "execution_count": null,
   "id": "7772b06d-d7ac-4202-bc10-c05559024919",
   "metadata": {},
   "outputs": [],
   "source": []
  }
 ],
 "metadata": {
  "kernelspec": {
   "display_name": "Python 3 (ipykernel)",
   "language": "python",
   "name": "python3"
  },
  "language_info": {
   "codemirror_mode": {
    "name": "ipython",
    "version": 3
   },
   "file_extension": ".py",
   "mimetype": "text/x-python",
   "name": "python",
   "nbconvert_exporter": "python",
   "pygments_lexer": "ipython3",
   "version": "3.9.13"
  }
 },
 "nbformat": 4,
 "nbformat_minor": 5
}
