{
 "cells": [
  {
   "cell_type": "code",
   "execution_count": 1,
   "id": "04c79c9c-0de2-4ed1-8582-39b009a5ec4e",
   "metadata": {},
   "outputs": [],
   "source": [
    "%load_ext autoreload\n",
    "%autoreload 2"
   ]
  },
  {
   "cell_type": "code",
   "execution_count": 2,
   "id": "cb40c1ab-baa2-49cd-9031-f3de99b54c10",
   "metadata": {},
   "outputs": [],
   "source": [
    "from df import blocks as blocks"
   ]
  },
  {
   "cell_type": "markdown",
   "id": "86edb753-f355-45d8-9153-489e65f51a51",
   "metadata": {},
   "source": [
    "**Only few pre-defined blocks are supported now but we can add more easily and add even more blocks specifically ML feature engineering**"
   ]
  },
  {
   "cell_type": "markdown",
   "id": "49f15748-2f59-4e7d-9554-926e472f0b6b",
   "metadata": {},
   "source": [
    "# Simple sequential beam model"
   ]
  },
  {
   "cell_type": "code",
   "execution_count": 3,
   "id": "e4a0be0e-061f-40f4-a037-879b375648b8",
   "metadata": {},
   "outputs": [],
   "source": [
    "sentences = ['This framework generates embeddings for each input sentence',\n",
    "    'Sentences are passed as a list of string.', \n",
    "    'The quick brown fox jumps over the lazy dog.']"
   ]
  },
  {
   "cell_type": "code",
   "execution_count": 4,
   "id": "2a405218-c765-49a2-b2eb-7ae659affe9b",
   "metadata": {},
   "outputs": [],
   "source": [
    "create = blocks.CreateBlock(values = sentences)"
   ]
  },
  {
   "cell_type": "code",
   "execution_count": 5,
   "id": "b5f294ca-e1a7-4d9f-9eb9-e2a139bcc9ce",
   "metadata": {},
   "outputs": [
    {
     "data": {
      "text/plain": [
       "<Create(PTransform) label=[Create] at 0x294a94550>"
      ]
     },
     "execution_count": 5,
     "metadata": {},
     "output_type": "execute_result"
    }
   ],
   "source": [
    "create.operation"
   ]
  },
  {
   "cell_type": "code",
   "execution_count": 6,
   "id": "0f7e2181-81b4-47ad-9b41-abfefaf09dee",
   "metadata": {},
   "outputs": [
    {
     "data": {
      "text/plain": [
       "CreateBlock(block_type='Create', block_id=UUID('af6a023f-07ae-4e97-b16e-aafc4a89e8a7'), source_ids=[], target_ids=[], operation=<Create(PTransform) label=[Create] at 0x294a94550>, o=None, values=['This framework generates embeddings for each input sentence', 'Sentences are passed as a list of string.', 'The quick brown fox jumps over the lazy dog.'])"
      ]
     },
     "execution_count": 6,
     "metadata": {},
     "output_type": "execute_result"
    }
   ],
   "source": [
    "create"
   ]
  },
  {
   "cell_type": "code",
   "execution_count": 7,
   "id": "58d3f758-6929-4670-be73-256b7c1f28a4",
   "metadata": {},
   "outputs": [],
   "source": [
    "embed = blocks.SentenceEmbeddingBlock()"
   ]
  },
  {
   "cell_type": "code",
   "execution_count": 8,
   "id": "a7e2e372-8fec-4228-9cc1-4d48a7eefd23",
   "metadata": {},
   "outputs": [
    {
     "data": {
      "text/plain": [
       "'all-MiniLM-L6-v2'"
      ]
     },
     "execution_count": 8,
     "metadata": {},
     "output_type": "execute_result"
    }
   ],
   "source": [
    "embed.model_name"
   ]
  },
  {
   "cell_type": "code",
   "execution_count": 9,
   "id": "7ca529fc-4103-45a4-b8e6-4dea937806b5",
   "metadata": {},
   "outputs": [
    {
     "data": {
      "text/plain": [
       "<ParDo(PTransform) label=[Map(<lambda at blocks.py:94>)] at 0x294a94e80>"
      ]
     },
     "execution_count": 9,
     "metadata": {},
     "output_type": "execute_result"
    }
   ],
   "source": [
    "embed.operation"
   ]
  },
  {
   "cell_type": "code",
   "execution_count": 10,
   "id": "20a76956-cee8-4ad4-8964-f11344b62ae6",
   "metadata": {},
   "outputs": [],
   "source": [
    "model = blocks.BlockAssembler.Sequential([create, embed])"
   ]
  },
  {
   "cell_type": "code",
   "execution_count": 11,
   "id": "9c70096a-5fdd-45b1-8b1c-825f92eb7d07",
   "metadata": {},
   "outputs": [
    {
     "data": {
      "application/javascript": [
       "\n",
       "        if (typeof window.interactive_beam_jquery == 'undefined') {\n",
       "          var jqueryScript = document.createElement('script');\n",
       "          jqueryScript.src = 'https://code.jquery.com/jquery-3.4.1.slim.min.js';\n",
       "          jqueryScript.type = 'text/javascript';\n",
       "          jqueryScript.onload = function() {\n",
       "            var datatableScript = document.createElement('script');\n",
       "            datatableScript.src = 'https://cdn.datatables.net/1.10.20/js/jquery.dataTables.min.js';\n",
       "            datatableScript.type = 'text/javascript';\n",
       "            datatableScript.onload = function() {\n",
       "              window.interactive_beam_jquery = jQuery.noConflict(true);\n",
       "              window.interactive_beam_jquery(document).ready(function($){\n",
       "                \n",
       "              });\n",
       "            }\n",
       "            document.head.appendChild(datatableScript);\n",
       "          };\n",
       "          document.head.appendChild(jqueryScript);\n",
       "        } else {\n",
       "          window.interactive_beam_jquery(document).ready(function($){\n",
       "            \n",
       "          });\n",
       "        }"
      ]
     },
     "metadata": {},
     "output_type": "display_data"
    }
   ],
   "source": [
    "model.compile()"
   ]
  },
  {
   "cell_type": "code",
   "execution_count": 12,
   "id": "4ee2e711-935e-4181-89a6-950bd9ae92b1",
   "metadata": {},
   "outputs": [
    {
     "data": {
      "text/plain": [
       "2"
      ]
     },
     "execution_count": 12,
     "metadata": {},
     "output_type": "execute_result"
    }
   ],
   "source": [
    "len(model.blocks)"
   ]
  },
  {
   "cell_type": "code",
   "execution_count": 13,
   "id": "865585bc-abcb-487b-82a4-2a01df0ec89b",
   "metadata": {},
   "outputs": [
    {
     "data": {
      "text/html": [
       "\n",
       "            <link rel=\"stylesheet\" href=\"https://stackpath.bootstrapcdn.com/bootstrap/4.4.1/css/bootstrap.min.css\" integrity=\"sha384-Vkoo8x4CGsO3+Hhxv8T/Q5PaXtkKtu6ug5TOeNV6gBiFeWPGFN9MuhOf23Q9Ifjh\" crossorigin=\"anonymous\">\n",
       "            <div id=\"progress_indicator_4688e3f1c46e5bb9ebf746fcdfe81d4a\">\n",
       "              <div class=\"spinner-border text-info\" role=\"status\"></div>\n",
       "              <span class=\"text-info\">Processing... show_graph</span>\n",
       "            </div>\n",
       "            "
      ],
      "text/plain": [
       "<IPython.core.display.HTML object>"
      ]
     },
     "metadata": {},
     "output_type": "display_data"
    },
    {
     "name": "stdout",
     "output_type": "stream",
     "text": [
      "/Users/xqhu/homebrew/bin/dot\n"
     ]
    },
    {
     "data": {
      "text/html": [
       "<?xml version=\"1.0\" encoding=\"UTF-8\" standalone=\"no\"?>\n",
       "<!DOCTYPE svg PUBLIC \"-//W3C//DTD SVG 1.1//EN\"\n",
       " \"http://www.w3.org/Graphics/SVG/1.1/DTD/svg11.dtd\">\n",
       "<!-- Generated by graphviz version 7.0.5 (20221223.1930)\n",
       " -->\n",
       "<!-- Title: G Pages: 1 -->\n",
       "<svg width=\"376pt\" height=\"260pt\"\n",
       " viewBox=\"0.00 0.00 376.00 260.00\" xmlns=\"http://www.w3.org/2000/svg\" xmlns:xlink=\"http://www.w3.org/1999/xlink\">\n",
       "<g id=\"graph0\" class=\"graph\" transform=\"scale(1 1) rotate(0) translate(4 256)\">\n",
       "<title>G</title>\n",
       "<polygon fill=\"white\" stroke=\"none\" points=\"-4,4 -4,-256 372,-256 372,4 -4,4\"/>\n",
       "<!-- Create &#45; af6a023f&#45;07ae&#45;4e97&#45;b16e&#45;aafc4a89e8a7 -->\n",
       "<g id=\"node1\" class=\"node\">\n",
       "<title>Create &#45; af6a023f&#45;07ae&#45;4e97&#45;b16e&#45;aafc4a89e8a7</title>\n",
       "<polygon fill=\"none\" stroke=\"blue\" points=\"325,-252 43,-252 43,-216 325,-216 325,-252\"/>\n",
       "<text text-anchor=\"middle\" x=\"184\" y=\"-230.3\" font-family=\"Times,serif\" font-size=\"14.00\" fill=\"blue\">Create &#45; af6a023f&#45;07ae&#45;4e97&#45;b16e&#45;aafc4a89e8a7</text>\n",
       "</g>\n",
       "<!-- pcoll4413 -->\n",
       "<g id=\"node2\" class=\"node\">\n",
       "<title>pcoll4413</title>\n",
       "<ellipse fill=\"none\" stroke=\"blue\" cx=\"184\" cy=\"-162\" rx=\"18\" ry=\"18\"/>\n",
       "</g>\n",
       "<!-- Create &#45; af6a023f&#45;07ae&#45;4e97&#45;b16e&#45;aafc4a89e8a7&#45;&gt;pcoll4413 -->\n",
       "<g id=\"edge1\" class=\"edge\">\n",
       "<title>Create &#45; af6a023f&#45;07ae&#45;4e97&#45;b16e&#45;aafc4a89e8a7&#45;&gt;pcoll4413</title>\n",
       "<path fill=\"none\" stroke=\"black\" d=\"M184,-215.7C184,-208.41 184,-199.73 184,-191.54\"/>\n",
       "<polygon fill=\"black\" stroke=\"black\" points=\"187.5,-191.62 184,-181.62 180.5,-191.62 187.5,-191.62\"/>\n",
       "</g>\n",
       "<!-- SentenceEmbedding &#45; dc2dc2bf&#45;e407&#45;4811&#45;8714&#45;30ca6b3c3518 -->\n",
       "<g id=\"node3\" class=\"node\">\n",
       "<title>SentenceEmbedding &#45; dc2dc2bf&#45;e407&#45;4811&#45;8714&#45;30ca6b3c3518</title>\n",
       "<polygon fill=\"none\" stroke=\"blue\" points=\"368,-108 0,-108 0,-72 368,-72 368,-108\"/>\n",
       "<text text-anchor=\"middle\" x=\"184\" y=\"-86.3\" font-family=\"Times,serif\" font-size=\"14.00\" fill=\"blue\">SentenceEmbedding &#45; dc2dc2bf&#45;e407&#45;4811&#45;8714&#45;30ca6b3c3518</text>\n",
       "</g>\n",
       "<!-- pcoll4413&#45;&gt;SentenceEmbedding &#45; dc2dc2bf&#45;e407&#45;4811&#45;8714&#45;30ca6b3c3518 -->\n",
       "<g id=\"edge2\" class=\"edge\">\n",
       "<title>pcoll4413&#45;&gt;SentenceEmbedding &#45; dc2dc2bf&#45;e407&#45;4811&#45;8714&#45;30ca6b3c3518</title>\n",
       "<path fill=\"none\" stroke=\"black\" d=\"M184,-143.7C184,-136.41 184,-127.73 184,-119.54\"/>\n",
       "<polygon fill=\"black\" stroke=\"black\" points=\"187.5,-119.62 184,-109.62 180.5,-119.62 187.5,-119.62\"/>\n",
       "</g>\n",
       "<!-- pcoll9859 -->\n",
       "<g id=\"node4\" class=\"node\">\n",
       "<title>pcoll9859</title>\n",
       "<ellipse fill=\"none\" stroke=\"blue\" cx=\"184\" cy=\"-18\" rx=\"18\" ry=\"18\"/>\n",
       "</g>\n",
       "<!-- SentenceEmbedding &#45; dc2dc2bf&#45;e407&#45;4811&#45;8714&#45;30ca6b3c3518&#45;&gt;pcoll9859 -->\n",
       "<g id=\"edge3\" class=\"edge\">\n",
       "<title>SentenceEmbedding &#45; dc2dc2bf&#45;e407&#45;4811&#45;8714&#45;30ca6b3c3518&#45;&gt;pcoll9859</title>\n",
       "<path fill=\"none\" stroke=\"black\" d=\"M184,-71.7C184,-64.41 184,-55.73 184,-47.54\"/>\n",
       "<polygon fill=\"black\" stroke=\"black\" points=\"187.5,-47.62 184,-37.62 180.5,-47.62 187.5,-47.62\"/>\n",
       "</g>\n",
       "</g>\n",
       "</svg>\n"
      ],
      "text/plain": [
       "<IPython.core.display.HTML object>"
      ]
     },
     "metadata": {},
     "output_type": "display_data"
    },
    {
     "data": {
      "application/javascript": [
       "\n",
       "        if (typeof window.interactive_beam_jquery == 'undefined') {\n",
       "          var jqueryScript = document.createElement('script');\n",
       "          jqueryScript.src = 'https://code.jquery.com/jquery-3.4.1.slim.min.js';\n",
       "          jqueryScript.type = 'text/javascript';\n",
       "          jqueryScript.onload = function() {\n",
       "            var datatableScript = document.createElement('script');\n",
       "            datatableScript.src = 'https://cdn.datatables.net/1.10.20/js/jquery.dataTables.min.js';\n",
       "            datatableScript.type = 'text/javascript';\n",
       "            datatableScript.onload = function() {\n",
       "              window.interactive_beam_jquery = jQuery.noConflict(true);\n",
       "              window.interactive_beam_jquery(document).ready(function($){\n",
       "                \n",
       "            $(\"#progress_indicator_4688e3f1c46e5bb9ebf746fcdfe81d4a\").remove();\n",
       "              });\n",
       "            }\n",
       "            document.head.appendChild(datatableScript);\n",
       "          };\n",
       "          document.head.appendChild(jqueryScript);\n",
       "        } else {\n",
       "          window.interactive_beam_jquery(document).ready(function($){\n",
       "            \n",
       "            $(\"#progress_indicator_4688e3f1c46e5bb9ebf746fcdfe81d4a\").remove();\n",
       "          });\n",
       "        }"
      ]
     },
     "metadata": {},
     "output_type": "display_data"
    }
   ],
   "source": [
    "model.show_graph()"
   ]
  },
  {
   "cell_type": "code",
   "execution_count": 14,
   "id": "113e09c6-177d-4314-80ba-21d7d58c1bec",
   "metadata": {},
   "outputs": [
    {
     "data": {
      "text/html": [
       "\n",
       "            <link rel=\"stylesheet\" href=\"https://stackpath.bootstrapcdn.com/bootstrap/4.4.1/css/bootstrap.min.css\" integrity=\"sha384-Vkoo8x4CGsO3+Hhxv8T/Q5PaXtkKtu6ug5TOeNV6gBiFeWPGFN9MuhOf23Q9Ifjh\" crossorigin=\"anonymous\">\n",
       "            <div id=\"progress_indicator_5c95ad4ff4eb83ea4d04a2bf7f83aeea\">\n",
       "              <div class=\"spinner-border text-info\" role=\"status\"></div>\n",
       "              <span class=\"text-info\">Processing... collect</span>\n",
       "            </div>\n",
       "            "
      ],
      "text/plain": [
       "<IPython.core.display.HTML object>"
      ]
     },
     "metadata": {},
     "output_type": "display_data"
    },
    {
     "data": {
      "application/javascript": [
       "\n",
       "        if (typeof window.interactive_beam_jquery == 'undefined') {\n",
       "          var jqueryScript = document.createElement('script');\n",
       "          jqueryScript.src = 'https://code.jquery.com/jquery-3.4.1.slim.min.js';\n",
       "          jqueryScript.type = 'text/javascript';\n",
       "          jqueryScript.onload = function() {\n",
       "            var datatableScript = document.createElement('script');\n",
       "            datatableScript.src = 'https://cdn.datatables.net/1.10.20/js/jquery.dataTables.min.js';\n",
       "            datatableScript.type = 'text/javascript';\n",
       "            datatableScript.onload = function() {\n",
       "              window.interactive_beam_jquery = jQuery.noConflict(true);\n",
       "              window.interactive_beam_jquery(document).ready(function($){\n",
       "                \n",
       "            $(\"#progress_indicator_5c95ad4ff4eb83ea4d04a2bf7f83aeea\").remove();\n",
       "              });\n",
       "            }\n",
       "            document.head.appendChild(datatableScript);\n",
       "          };\n",
       "          document.head.appendChild(jqueryScript);\n",
       "        } else {\n",
       "          window.interactive_beam_jquery(document).ready(function($){\n",
       "            \n",
       "            $(\"#progress_indicator_5c95ad4ff4eb83ea4d04a2bf7f83aeea\").remove();\n",
       "          });\n",
       "        }"
      ]
     },
     "metadata": {},
     "output_type": "display_data"
    },
    {
     "data": {
      "text/html": [
       "<div>\n",
       "<style scoped>\n",
       "    .dataframe tbody tr th:only-of-type {\n",
       "        vertical-align: middle;\n",
       "    }\n",
       "\n",
       "    .dataframe tbody tr th {\n",
       "        vertical-align: top;\n",
       "    }\n",
       "\n",
       "    .dataframe thead th {\n",
       "        text-align: right;\n",
       "    }\n",
       "</style>\n",
       "<table border=\"1\" class=\"dataframe\">\n",
       "  <thead>\n",
       "    <tr style=\"text-align: right;\">\n",
       "      <th></th>\n",
       "      <th>0</th>\n",
       "    </tr>\n",
       "  </thead>\n",
       "  <tbody>\n",
       "    <tr>\n",
       "      <th>0</th>\n",
       "      <td>This framework generates embeddings for each i...</td>\n",
       "    </tr>\n",
       "    <tr>\n",
       "      <th>1</th>\n",
       "      <td>Sentences are passed as a list of string.</td>\n",
       "    </tr>\n",
       "    <tr>\n",
       "      <th>2</th>\n",
       "      <td>The quick brown fox jumps over the lazy dog.</td>\n",
       "    </tr>\n",
       "  </tbody>\n",
       "</table>\n",
       "</div>"
      ],
      "text/plain": [
       "                                                   0\n",
       "0  This framework generates embeddings for each i...\n",
       "1          Sentences are passed as a list of string.\n",
       "2       The quick brown fox jumps over the lazy dog."
      ]
     },
     "execution_count": 14,
     "metadata": {},
     "output_type": "execute_result"
    }
   ],
   "source": [
    "model.block_data(model.blocks[0])"
   ]
  },
  {
   "cell_type": "code",
   "execution_count": 15,
   "id": "808cfc4d-de90-4ed4-9f48-6d28c01fb89d",
   "metadata": {},
   "outputs": [
    {
     "data": {
      "text/html": [
       "\n",
       "            <link rel=\"stylesheet\" href=\"https://stackpath.bootstrapcdn.com/bootstrap/4.4.1/css/bootstrap.min.css\" integrity=\"sha384-Vkoo8x4CGsO3+Hhxv8T/Q5PaXtkKtu6ug5TOeNV6gBiFeWPGFN9MuhOf23Q9Ifjh\" crossorigin=\"anonymous\">\n",
       "            <div id=\"progress_indicator_e26b6e4006eeb8b1e31dc0bfb3b00f53\">\n",
       "              <div class=\"spinner-border text-info\" role=\"status\"></div>\n",
       "              <span class=\"text-info\">Processing... collect</span>\n",
       "            </div>\n",
       "            "
      ],
      "text/plain": [
       "<IPython.core.display.HTML object>"
      ]
     },
     "metadata": {},
     "output_type": "display_data"
    },
    {
     "data": {
      "application/javascript": [
       "\n",
       "        if (typeof window.interactive_beam_jquery == 'undefined') {\n",
       "          var jqueryScript = document.createElement('script');\n",
       "          jqueryScript.src = 'https://code.jquery.com/jquery-3.4.1.slim.min.js';\n",
       "          jqueryScript.type = 'text/javascript';\n",
       "          jqueryScript.onload = function() {\n",
       "            var datatableScript = document.createElement('script');\n",
       "            datatableScript.src = 'https://cdn.datatables.net/1.10.20/js/jquery.dataTables.min.js';\n",
       "            datatableScript.type = 'text/javascript';\n",
       "            datatableScript.onload = function() {\n",
       "              window.interactive_beam_jquery = jQuery.noConflict(true);\n",
       "              window.interactive_beam_jquery(document).ready(function($){\n",
       "                \n",
       "            $(\"#progress_indicator_e26b6e4006eeb8b1e31dc0bfb3b00f53\").remove();\n",
       "              });\n",
       "            }\n",
       "            document.head.appendChild(datatableScript);\n",
       "          };\n",
       "          document.head.appendChild(jqueryScript);\n",
       "        } else {\n",
       "          window.interactive_beam_jquery(document).ready(function($){\n",
       "            \n",
       "            $(\"#progress_indicator_e26b6e4006eeb8b1e31dc0bfb3b00f53\").remove();\n",
       "          });\n",
       "        }"
      ]
     },
     "metadata": {},
     "output_type": "display_data"
    },
    {
     "data": {
      "text/html": [
       "<div>\n",
       "<style scoped>\n",
       "    .dataframe tbody tr th:only-of-type {\n",
       "        vertical-align: middle;\n",
       "    }\n",
       "\n",
       "    .dataframe tbody tr th {\n",
       "        vertical-align: top;\n",
       "    }\n",
       "\n",
       "    .dataframe thead th {\n",
       "        text-align: right;\n",
       "    }\n",
       "</style>\n",
       "<table border=\"1\" class=\"dataframe\">\n",
       "  <thead>\n",
       "    <tr style=\"text-align: right;\">\n",
       "      <th></th>\n",
       "      <th>0</th>\n",
       "    </tr>\n",
       "  </thead>\n",
       "  <tbody>\n",
       "    <tr>\n",
       "      <th>0</th>\n",
       "      <td>[-0.013717398, -0.042851556, -0.01562865, 0.01...</td>\n",
       "    </tr>\n",
       "    <tr>\n",
       "      <th>1</th>\n",
       "      <td>[0.0564525, 0.05500244, 0.031379532, 0.0339484...</td>\n",
       "    </tr>\n",
       "    <tr>\n",
       "      <th>2</th>\n",
       "      <td>[0.043933515, 0.05893439, 0.04817844, 0.077548...</td>\n",
       "    </tr>\n",
       "  </tbody>\n",
       "</table>\n",
       "</div>"
      ],
      "text/plain": [
       "                                                   0\n",
       "0  [-0.013717398, -0.042851556, -0.01562865, 0.01...\n",
       "1  [0.0564525, 0.05500244, 0.031379532, 0.0339484...\n",
       "2  [0.043933515, 0.05893439, 0.04817844, 0.077548..."
      ]
     },
     "execution_count": 15,
     "metadata": {},
     "output_type": "execute_result"
    }
   ],
   "source": [
    "model.block_data(model.blocks[1])"
   ]
  },
  {
   "cell_type": "code",
   "execution_count": 16,
   "id": "b3723bb0-312f-4f8c-8152-18093a43161c",
   "metadata": {},
   "outputs": [
    {
     "data": {
      "text/plain": [
       "'{\"block_type\": \"SentenceEmbedding\", \"block_id\": \"dc2dc2bf-e407-4811-8714-30ca6b3c3518\", \"source_ids\": [\"af6a023f-07ae-4e97-b16e-aafc4a89e8a7\"], \"target_ids\": [], \"model_name\": \"all-MiniLM-L6-v2\"}'"
      ]
     },
     "execution_count": 16,
     "metadata": {},
     "output_type": "execute_result"
    }
   ],
   "source": [
    "model.blocks[1].json(exclude={\"operation\", \"o\"})"
   ]
  },
  {
   "cell_type": "markdown",
   "id": "91597325-102a-46c1-92f0-d9df0e52d188",
   "metadata": {},
   "source": [
    "# Support the json config"
   ]
  },
  {
   "cell_type": "code",
   "execution_count": 17,
   "id": "0f78d865-3aa0-47a5-99ff-71d551a2d8d9",
   "metadata": {},
   "outputs": [],
   "source": [
    "model_in_json = model.to_json(indent=2)"
   ]
  },
  {
   "cell_type": "code",
   "execution_count": 18,
   "id": "b9766958-ee94-4860-b03f-76996689e1c9",
   "metadata": {},
   "outputs": [
    {
     "name": "stdout",
     "output_type": "stream",
     "text": [
      "{\n",
      "  \"blocks\": [\n",
      "    {\n",
      "      \"block_type\": \"Create\",\n",
      "      \"block_id\": \"af6a023f-07ae-4e97-b16e-aafc4a89e8a7\",\n",
      "      \"source_ids\": [],\n",
      "      \"target_ids\": [\n",
      "        \"dc2dc2bf-e407-4811-8714-30ca6b3c3518\"\n",
      "      ],\n",
      "      \"values\": [\n",
      "        \"This framework generates embeddings for each input sentence\",\n",
      "        \"Sentences are passed as a list of string.\",\n",
      "        \"The quick brown fox jumps over the lazy dog.\"\n",
      "      ]\n",
      "    },\n",
      "    {\n",
      "      \"block_type\": \"SentenceEmbedding\",\n",
      "      \"block_id\": \"dc2dc2bf-e407-4811-8714-30ca6b3c3518\",\n",
      "      \"source_ids\": [\n",
      "        \"af6a023f-07ae-4e97-b16e-aafc4a89e8a7\"\n",
      "      ],\n",
      "      \"target_ids\": [],\n",
      "      \"model_name\": \"all-MiniLM-L6-v2\"\n",
      "    }\n",
      "  ],\n",
      "  \"model_type\": \"SEQUENTIAL\"\n",
      "}\n"
     ]
    }
   ],
   "source": [
    "print(model_in_json)"
   ]
  },
  {
   "cell_type": "code",
   "execution_count": 19,
   "id": "45837cb7-a917-4b9c-8234-6d20b0450747",
   "metadata": {},
   "outputs": [],
   "source": [
    "new_model = blocks.BlockAssembler.from_json(model_in_json)"
   ]
  },
  {
   "cell_type": "code",
   "execution_count": 20,
   "id": "ca4a8802-11ea-42a7-8c55-db5467221100",
   "metadata": {},
   "outputs": [],
   "source": [
    "new_model.compile()"
   ]
  },
  {
   "cell_type": "code",
   "execution_count": 21,
   "id": "d34b4c05-b557-4c11-8511-7a19fdcdbcc0",
   "metadata": {},
   "outputs": [
    {
     "data": {
      "text/html": [
       "\n",
       "            <link rel=\"stylesheet\" href=\"https://stackpath.bootstrapcdn.com/bootstrap/4.4.1/css/bootstrap.min.css\" integrity=\"sha384-Vkoo8x4CGsO3+Hhxv8T/Q5PaXtkKtu6ug5TOeNV6gBiFeWPGFN9MuhOf23Q9Ifjh\" crossorigin=\"anonymous\">\n",
       "            <div id=\"progress_indicator_036a4f6b2ce9b46b63b0ac604c1e8c9b\">\n",
       "              <div class=\"spinner-border text-info\" role=\"status\"></div>\n",
       "              <span class=\"text-info\">Processing... show_graph</span>\n",
       "            </div>\n",
       "            "
      ],
      "text/plain": [
       "<IPython.core.display.HTML object>"
      ]
     },
     "metadata": {},
     "output_type": "display_data"
    },
    {
     "name": "stdout",
     "output_type": "stream",
     "text": [
      "huggingface/tokenizers: The current process just got forked, after parallelism has already been used. Disabling parallelism to avoid deadlocks...\n",
      "To disable this warning, you can either:\n",
      "\t- Avoid using `tokenizers` before the fork if possible\n",
      "\t- Explicitly set the environment variable TOKENIZERS_PARALLELISM=(true | false)\n",
      "/Users/xqhu/homebrew/bin/dot\n",
      "huggingface/tokenizers: The current process just got forked, after parallelism has already been used. Disabling parallelism to avoid deadlocks...\n",
      "To disable this warning, you can either:\n",
      "\t- Avoid using `tokenizers` before the fork if possible\n",
      "\t- Explicitly set the environment variable TOKENIZERS_PARALLELISM=(true | false)\n"
     ]
    },
    {
     "data": {
      "text/html": [
       "<?xml version=\"1.0\" encoding=\"UTF-8\" standalone=\"no\"?>\n",
       "<!DOCTYPE svg PUBLIC \"-//W3C//DTD SVG 1.1//EN\"\n",
       " \"http://www.w3.org/Graphics/SVG/1.1/DTD/svg11.dtd\">\n",
       "<!-- Generated by graphviz version 7.0.5 (20221223.1930)\n",
       " -->\n",
       "<!-- Title: G Pages: 1 -->\n",
       "<svg width=\"376pt\" height=\"260pt\"\n",
       " viewBox=\"0.00 0.00 376.00 260.00\" xmlns=\"http://www.w3.org/2000/svg\" xmlns:xlink=\"http://www.w3.org/1999/xlink\">\n",
       "<g id=\"graph0\" class=\"graph\" transform=\"scale(1 1) rotate(0) translate(4 256)\">\n",
       "<title>G</title>\n",
       "<polygon fill=\"white\" stroke=\"none\" points=\"-4,4 -4,-256 372,-256 372,4 -4,4\"/>\n",
       "<!-- Create &#45; af6a023f&#45;07ae&#45;4e97&#45;b16e&#45;aafc4a89e8a7 -->\n",
       "<g id=\"node1\" class=\"node\">\n",
       "<title>Create &#45; af6a023f&#45;07ae&#45;4e97&#45;b16e&#45;aafc4a89e8a7</title>\n",
       "<polygon fill=\"none\" stroke=\"blue\" points=\"325,-252 43,-252 43,-216 325,-216 325,-252\"/>\n",
       "<text text-anchor=\"middle\" x=\"184\" y=\"-230.3\" font-family=\"Times,serif\" font-size=\"14.00\" fill=\"blue\">Create &#45; af6a023f&#45;07ae&#45;4e97&#45;b16e&#45;aafc4a89e8a7</text>\n",
       "</g>\n",
       "<!-- pcoll4413 -->\n",
       "<g id=\"node2\" class=\"node\">\n",
       "<title>pcoll4413</title>\n",
       "<ellipse fill=\"none\" stroke=\"blue\" cx=\"184\" cy=\"-162\" rx=\"18\" ry=\"18\"/>\n",
       "</g>\n",
       "<!-- Create &#45; af6a023f&#45;07ae&#45;4e97&#45;b16e&#45;aafc4a89e8a7&#45;&gt;pcoll4413 -->\n",
       "<g id=\"edge1\" class=\"edge\">\n",
       "<title>Create &#45; af6a023f&#45;07ae&#45;4e97&#45;b16e&#45;aafc4a89e8a7&#45;&gt;pcoll4413</title>\n",
       "<path fill=\"none\" stroke=\"black\" d=\"M184,-215.7C184,-208.41 184,-199.73 184,-191.54\"/>\n",
       "<polygon fill=\"black\" stroke=\"black\" points=\"187.5,-191.62 184,-181.62 180.5,-191.62 187.5,-191.62\"/>\n",
       "</g>\n",
       "<!-- SentenceEmbedding &#45; dc2dc2bf&#45;e407&#45;4811&#45;8714&#45;30ca6b3c3518 -->\n",
       "<g id=\"node3\" class=\"node\">\n",
       "<title>SentenceEmbedding &#45; dc2dc2bf&#45;e407&#45;4811&#45;8714&#45;30ca6b3c3518</title>\n",
       "<polygon fill=\"none\" stroke=\"blue\" points=\"368,-108 0,-108 0,-72 368,-72 368,-108\"/>\n",
       "<text text-anchor=\"middle\" x=\"184\" y=\"-86.3\" font-family=\"Times,serif\" font-size=\"14.00\" fill=\"blue\">SentenceEmbedding &#45; dc2dc2bf&#45;e407&#45;4811&#45;8714&#45;30ca6b3c3518</text>\n",
       "</g>\n",
       "<!-- pcoll4413&#45;&gt;SentenceEmbedding &#45; dc2dc2bf&#45;e407&#45;4811&#45;8714&#45;30ca6b3c3518 -->\n",
       "<g id=\"edge2\" class=\"edge\">\n",
       "<title>pcoll4413&#45;&gt;SentenceEmbedding &#45; dc2dc2bf&#45;e407&#45;4811&#45;8714&#45;30ca6b3c3518</title>\n",
       "<path fill=\"none\" stroke=\"black\" d=\"M184,-143.7C184,-136.41 184,-127.73 184,-119.54\"/>\n",
       "<polygon fill=\"black\" stroke=\"black\" points=\"187.5,-119.62 184,-109.62 180.5,-119.62 187.5,-119.62\"/>\n",
       "</g>\n",
       "<!-- pcoll9859 -->\n",
       "<g id=\"node4\" class=\"node\">\n",
       "<title>pcoll9859</title>\n",
       "<ellipse fill=\"none\" stroke=\"blue\" cx=\"184\" cy=\"-18\" rx=\"18\" ry=\"18\"/>\n",
       "</g>\n",
       "<!-- SentenceEmbedding &#45; dc2dc2bf&#45;e407&#45;4811&#45;8714&#45;30ca6b3c3518&#45;&gt;pcoll9859 -->\n",
       "<g id=\"edge3\" class=\"edge\">\n",
       "<title>SentenceEmbedding &#45; dc2dc2bf&#45;e407&#45;4811&#45;8714&#45;30ca6b3c3518&#45;&gt;pcoll9859</title>\n",
       "<path fill=\"none\" stroke=\"black\" d=\"M184,-71.7C184,-64.41 184,-55.73 184,-47.54\"/>\n",
       "<polygon fill=\"black\" stroke=\"black\" points=\"187.5,-47.62 184,-37.62 180.5,-47.62 187.5,-47.62\"/>\n",
       "</g>\n",
       "</g>\n",
       "</svg>\n"
      ],
      "text/plain": [
       "<IPython.core.display.HTML object>"
      ]
     },
     "metadata": {},
     "output_type": "display_data"
    },
    {
     "data": {
      "application/javascript": [
       "\n",
       "        if (typeof window.interactive_beam_jquery == 'undefined') {\n",
       "          var jqueryScript = document.createElement('script');\n",
       "          jqueryScript.src = 'https://code.jquery.com/jquery-3.4.1.slim.min.js';\n",
       "          jqueryScript.type = 'text/javascript';\n",
       "          jqueryScript.onload = function() {\n",
       "            var datatableScript = document.createElement('script');\n",
       "            datatableScript.src = 'https://cdn.datatables.net/1.10.20/js/jquery.dataTables.min.js';\n",
       "            datatableScript.type = 'text/javascript';\n",
       "            datatableScript.onload = function() {\n",
       "              window.interactive_beam_jquery = jQuery.noConflict(true);\n",
       "              window.interactive_beam_jquery(document).ready(function($){\n",
       "                \n",
       "            $(\"#progress_indicator_036a4f6b2ce9b46b63b0ac604c1e8c9b\").remove();\n",
       "              });\n",
       "            }\n",
       "            document.head.appendChild(datatableScript);\n",
       "          };\n",
       "          document.head.appendChild(jqueryScript);\n",
       "        } else {\n",
       "          window.interactive_beam_jquery(document).ready(function($){\n",
       "            \n",
       "            $(\"#progress_indicator_036a4f6b2ce9b46b63b0ac604c1e8c9b\").remove();\n",
       "          });\n",
       "        }"
      ]
     },
     "metadata": {},
     "output_type": "display_data"
    }
   ],
   "source": [
    "new_model.show_graph()"
   ]
  },
  {
   "cell_type": "code",
   "execution_count": 22,
   "id": "8ff4cf7b-17a8-4e80-9535-50db3f7e9533",
   "metadata": {},
   "outputs": [
    {
     "data": {
      "text/html": [
       "\n",
       "            <link rel=\"stylesheet\" href=\"https://stackpath.bootstrapcdn.com/bootstrap/4.4.1/css/bootstrap.min.css\" integrity=\"sha384-Vkoo8x4CGsO3+Hhxv8T/Q5PaXtkKtu6ug5TOeNV6gBiFeWPGFN9MuhOf23Q9Ifjh\" crossorigin=\"anonymous\">\n",
       "            <div id=\"progress_indicator_99dba4e9357094bc98085bffd3119472\">\n",
       "              <div class=\"spinner-border text-info\" role=\"status\"></div>\n",
       "              <span class=\"text-info\">Processing... collect</span>\n",
       "            </div>\n",
       "            "
      ],
      "text/plain": [
       "<IPython.core.display.HTML object>"
      ]
     },
     "metadata": {},
     "output_type": "display_data"
    },
    {
     "data": {
      "application/javascript": [
       "\n",
       "        if (typeof window.interactive_beam_jquery == 'undefined') {\n",
       "          var jqueryScript = document.createElement('script');\n",
       "          jqueryScript.src = 'https://code.jquery.com/jquery-3.4.1.slim.min.js';\n",
       "          jqueryScript.type = 'text/javascript';\n",
       "          jqueryScript.onload = function() {\n",
       "            var datatableScript = document.createElement('script');\n",
       "            datatableScript.src = 'https://cdn.datatables.net/1.10.20/js/jquery.dataTables.min.js';\n",
       "            datatableScript.type = 'text/javascript';\n",
       "            datatableScript.onload = function() {\n",
       "              window.interactive_beam_jquery = jQuery.noConflict(true);\n",
       "              window.interactive_beam_jquery(document).ready(function($){\n",
       "                \n",
       "            $(\"#progress_indicator_99dba4e9357094bc98085bffd3119472\").remove();\n",
       "              });\n",
       "            }\n",
       "            document.head.appendChild(datatableScript);\n",
       "          };\n",
       "          document.head.appendChild(jqueryScript);\n",
       "        } else {\n",
       "          window.interactive_beam_jquery(document).ready(function($){\n",
       "            \n",
       "            $(\"#progress_indicator_99dba4e9357094bc98085bffd3119472\").remove();\n",
       "          });\n",
       "        }"
      ]
     },
     "metadata": {},
     "output_type": "display_data"
    },
    {
     "data": {
      "text/html": [
       "<div>\n",
       "<style scoped>\n",
       "    .dataframe tbody tr th:only-of-type {\n",
       "        vertical-align: middle;\n",
       "    }\n",
       "\n",
       "    .dataframe tbody tr th {\n",
       "        vertical-align: top;\n",
       "    }\n",
       "\n",
       "    .dataframe thead th {\n",
       "        text-align: right;\n",
       "    }\n",
       "</style>\n",
       "<table border=\"1\" class=\"dataframe\">\n",
       "  <thead>\n",
       "    <tr style=\"text-align: right;\">\n",
       "      <th></th>\n",
       "      <th>0</th>\n",
       "    </tr>\n",
       "  </thead>\n",
       "  <tbody>\n",
       "    <tr>\n",
       "      <th>0</th>\n",
       "      <td>[-0.013717398, -0.042851556, -0.01562865, 0.01...</td>\n",
       "    </tr>\n",
       "    <tr>\n",
       "      <th>1</th>\n",
       "      <td>[0.0564525, 0.05500244, 0.031379532, 0.0339484...</td>\n",
       "    </tr>\n",
       "    <tr>\n",
       "      <th>2</th>\n",
       "      <td>[0.043933515, 0.05893439, 0.04817844, 0.077548...</td>\n",
       "    </tr>\n",
       "  </tbody>\n",
       "</table>\n",
       "</div>"
      ],
      "text/plain": [
       "                                                   0\n",
       "0  [-0.013717398, -0.042851556, -0.01562865, 0.01...\n",
       "1  [0.0564525, 0.05500244, 0.031379532, 0.0339484...\n",
       "2  [0.043933515, 0.05893439, 0.04817844, 0.077548..."
      ]
     },
     "execution_count": 22,
     "metadata": {},
     "output_type": "execute_result"
    }
   ],
   "source": [
    "new_model.block_data(new_model.blocks[1])"
   ]
  },
  {
   "cell_type": "markdown",
   "id": "3b7f7fe6-2695-4bd8-82b7-b0475b31a84f",
   "metadata": {},
   "source": [
    "# Use Functional API to build more complicated models"
   ]
  },
  {
   "cell_type": "code",
   "execution_count": 23,
   "id": "3cc2c221-4deb-440e-bf2a-ebec5efd3312",
   "metadata": {},
   "outputs": [],
   "source": [
    "create_1 = blocks.CreateBlock(values = sentences)\n",
    "embed_1 = blocks.SentenceEmbeddingBlock()([create_1])"
   ]
  },
  {
   "cell_type": "code",
   "execution_count": 24,
   "id": "6b40925f-87b5-4634-a05c-2c891e799b2d",
   "metadata": {},
   "outputs": [],
   "source": [
    "target_sentences = ['This framework is for testing']\n",
    "create_2 = blocks.CreateBlock(values = target_sentences)\n",
    "embed_2 = blocks.SentenceEmbeddingBlock()([create_2])"
   ]
  },
  {
   "cell_type": "code",
   "execution_count": 25,
   "id": "3a67b26e-ab1b-4fba-9bb3-d8ec66839054",
   "metadata": {},
   "outputs": [],
   "source": [
    "cross = blocks.CrossJoinBlock()([embed_1, embed_2])"
   ]
  },
  {
   "cell_type": "code",
   "execution_count": 26,
   "id": "6eaae757-e3ea-481e-ad99-296428413e61",
   "metadata": {},
   "outputs": [
    {
     "data": {
      "text/plain": [
       "CrossJoinBlock(block_type='CrossJoin', block_id=UUID('e9c0f4fd-36bd-408f-a276-69f0242fd84a'), source_ids=[UUID('c31692e1-91c8-4a21-864c-51d4fb2135a0'), UUID('8cff6a1d-93e7-4326-98b4-465648c18e47')], target_ids=[], operation=None, o=None)"
      ]
     },
     "execution_count": 26,
     "metadata": {},
     "output_type": "execute_result"
    }
   ],
   "source": [
    "cross"
   ]
  },
  {
   "cell_type": "code",
   "execution_count": 27,
   "id": "a311e52b-7cce-4c73-bc23-2aac64304ba3",
   "metadata": {},
   "outputs": [],
   "source": [
    "sim = blocks.CosSimilarityBlock()(cross)"
   ]
  },
  {
   "cell_type": "code",
   "execution_count": 28,
   "id": "1d79b063-0ccd-4f67-944d-1cc2609b1497",
   "metadata": {},
   "outputs": [
    {
     "data": {
      "text/plain": [
       "CosSimilarityBlock(block_type='CosSimilarity', block_id=UUID('ed01ae94-58f0-4e75-bd53-07a471e8cd31'), source_ids=[UUID('e9c0f4fd-36bd-408f-a276-69f0242fd84a')], target_ids=[], operation=<ParDo(PTransform) label=[Map(<lambda at blocks.py:120>)] at 0x295ed9820>, o=None)"
      ]
     },
     "execution_count": 28,
     "metadata": {},
     "output_type": "execute_result"
    }
   ],
   "source": [
    "sim"
   ]
  },
  {
   "cell_type": "code",
   "execution_count": 29,
   "id": "a1cca392-e6d9-4ad0-99dd-e7e331a17441",
   "metadata": {},
   "outputs": [],
   "source": [
    "model_1 = blocks.BlockAssembler([create_1, create_2])"
   ]
  },
  {
   "cell_type": "code",
   "execution_count": 30,
   "id": "a5e13c61-d2a2-44f3-a0e7-8f7aa2ea448c",
   "metadata": {},
   "outputs": [],
   "source": [
    "model_1.compile()"
   ]
  },
  {
   "cell_type": "code",
   "execution_count": 31,
   "id": "f0e0d09e-14c5-4a18-b9f5-da14ac60535f",
   "metadata": {},
   "outputs": [
    {
     "data": {
      "text/html": [
       "\n",
       "            <link rel=\"stylesheet\" href=\"https://stackpath.bootstrapcdn.com/bootstrap/4.4.1/css/bootstrap.min.css\" integrity=\"sha384-Vkoo8x4CGsO3+Hhxv8T/Q5PaXtkKtu6ug5TOeNV6gBiFeWPGFN9MuhOf23Q9Ifjh\" crossorigin=\"anonymous\">\n",
       "            <div id=\"progress_indicator_ef438197724806bebfa3f752c6f8ac36\">\n",
       "              <div class=\"spinner-border text-info\" role=\"status\"></div>\n",
       "              <span class=\"text-info\">Processing... show_graph</span>\n",
       "            </div>\n",
       "            "
      ],
      "text/plain": [
       "<IPython.core.display.HTML object>"
      ]
     },
     "metadata": {},
     "output_type": "display_data"
    },
    {
     "name": "stdout",
     "output_type": "stream",
     "text": [
      "huggingface/tokenizers: The current process just got forked, after parallelism has already been used. Disabling parallelism to avoid deadlocks...\n",
      "To disable this warning, you can either:\n",
      "\t- Avoid using `tokenizers` before the fork if possible\n",
      "\t- Explicitly set the environment variable TOKENIZERS_PARALLELISM=(true | false)\n",
      "/Users/xqhu/homebrew/bin/dot\n",
      "huggingface/tokenizers: The current process just got forked, after parallelism has already been used. Disabling parallelism to avoid deadlocks...\n",
      "To disable this warning, you can either:\n",
      "\t- Avoid using `tokenizers` before the fork if possible\n",
      "\t- Explicitly set the environment variable TOKENIZERS_PARALLELISM=(true | false)\n"
     ]
    },
    {
     "data": {
      "text/html": [
       "<?xml version=\"1.0\" encoding=\"UTF-8\" standalone=\"no\"?>\n",
       "<!DOCTYPE svg PUBLIC \"-//W3C//DTD SVG 1.1//EN\"\n",
       " \"http://www.w3.org/Graphics/SVG/1.1/DTD/svg11.dtd\">\n",
       "<!-- Generated by graphviz version 7.0.5 (20221223.1930)\n",
       " -->\n",
       "<!-- Title: G Pages: 1 -->\n",
       "<svg width=\"760pt\" height=\"548pt\"\n",
       " viewBox=\"0.00 0.00 760.00 548.00\" xmlns=\"http://www.w3.org/2000/svg\" xmlns:xlink=\"http://www.w3.org/1999/xlink\">\n",
       "<g id=\"graph0\" class=\"graph\" transform=\"scale(1 1) rotate(0) translate(4 544)\">\n",
       "<title>G</title>\n",
       "<polygon fill=\"white\" stroke=\"none\" points=\"-4,4 -4,-544 756,-544 756,4 -4,4\"/>\n",
       "<!-- Create &#45; 6ec7ea12&#45;a47d&#45;4804&#45;b09f&#45;5ccdeb0a1750 -->\n",
       "<g id=\"node1\" class=\"node\">\n",
       "<title>Create &#45; 6ec7ea12&#45;a47d&#45;4804&#45;b09f&#45;5ccdeb0a1750</title>\n",
       "<polygon fill=\"none\" stroke=\"blue\" points=\"328.5,-540 39.5,-540 39.5,-504 328.5,-504 328.5,-540\"/>\n",
       "<text text-anchor=\"middle\" x=\"184\" y=\"-518.3\" font-family=\"Times,serif\" font-size=\"14.00\" fill=\"blue\">Create &#45; 6ec7ea12&#45;a47d&#45;4804&#45;b09f&#45;5ccdeb0a1750</text>\n",
       "</g>\n",
       "<!-- pcoll4413 -->\n",
       "<g id=\"node2\" class=\"node\">\n",
       "<title>pcoll4413</title>\n",
       "<ellipse fill=\"none\" stroke=\"blue\" cx=\"184\" cy=\"-450\" rx=\"18\" ry=\"18\"/>\n",
       "</g>\n",
       "<!-- Create &#45; 6ec7ea12&#45;a47d&#45;4804&#45;b09f&#45;5ccdeb0a1750&#45;&gt;pcoll4413 -->\n",
       "<g id=\"edge1\" class=\"edge\">\n",
       "<title>Create &#45; 6ec7ea12&#45;a47d&#45;4804&#45;b09f&#45;5ccdeb0a1750&#45;&gt;pcoll4413</title>\n",
       "<path fill=\"none\" stroke=\"black\" d=\"M184,-503.7C184,-496.41 184,-487.73 184,-479.54\"/>\n",
       "<polygon fill=\"black\" stroke=\"black\" points=\"187.5,-479.62 184,-469.62 180.5,-479.62 187.5,-479.62\"/>\n",
       "</g>\n",
       "<!-- SentenceEmbedding &#45; c31692e1&#45;91c8&#45;4a21&#45;864c&#45;51d4fb2135a0 -->\n",
       "<g id=\"node3\" class=\"node\">\n",
       "<title>SentenceEmbedding &#45; c31692e1&#45;91c8&#45;4a21&#45;864c&#45;51d4fb2135a0</title>\n",
       "<polygon fill=\"none\" stroke=\"blue\" points=\"368,-396 0,-396 0,-360 368,-360 368,-396\"/>\n",
       "<text text-anchor=\"middle\" x=\"184\" y=\"-374.3\" font-family=\"Times,serif\" font-size=\"14.00\" fill=\"blue\">SentenceEmbedding &#45; c31692e1&#45;91c8&#45;4a21&#45;864c&#45;51d4fb2135a0</text>\n",
       "</g>\n",
       "<!-- pcoll4413&#45;&gt;SentenceEmbedding &#45; c31692e1&#45;91c8&#45;4a21&#45;864c&#45;51d4fb2135a0 -->\n",
       "<g id=\"edge2\" class=\"edge\">\n",
       "<title>pcoll4413&#45;&gt;SentenceEmbedding &#45; c31692e1&#45;91c8&#45;4a21&#45;864c&#45;51d4fb2135a0</title>\n",
       "<path fill=\"none\" stroke=\"black\" d=\"M184,-431.7C184,-424.41 184,-415.73 184,-407.54\"/>\n",
       "<polygon fill=\"black\" stroke=\"black\" points=\"187.5,-407.62 184,-397.62 180.5,-407.62 187.5,-407.62\"/>\n",
       "</g>\n",
       "<!-- pcoll9859 -->\n",
       "<g id=\"node4\" class=\"node\">\n",
       "<title>pcoll9859</title>\n",
       "<ellipse fill=\"none\" stroke=\"blue\" cx=\"349\" cy=\"-306\" rx=\"18\" ry=\"18\"/>\n",
       "</g>\n",
       "<!-- SentenceEmbedding &#45; c31692e1&#45;91c8&#45;4a21&#45;864c&#45;51d4fb2135a0&#45;&gt;pcoll9859 -->\n",
       "<g id=\"edge3\" class=\"edge\">\n",
       "<title>SentenceEmbedding &#45; c31692e1&#45;91c8&#45;4a21&#45;864c&#45;51d4fb2135a0&#45;&gt;pcoll9859</title>\n",
       "<path fill=\"none\" stroke=\"black\" d=\"M225.21,-359.52C255.61,-346.62 296.09,-329.45 322.35,-318.31\"/>\n",
       "<polygon fill=\"black\" stroke=\"black\" points=\"323.43,-321.65 331.27,-314.52 320.69,-315.21 323.43,-321.65\"/>\n",
       "</g>\n",
       "<!-- CrossJoin &#45; e9c0f4fd&#45;36bd&#45;408f&#45;a276&#45;69f0242fd84a -->\n",
       "<g id=\"node9\" class=\"node\">\n",
       "<title>CrossJoin &#45; e9c0f4fd&#45;36bd&#45;408f&#45;a276&#45;69f0242fd84a</title>\n",
       "<polygon fill=\"none\" stroke=\"blue\" points=\"527,-252 225,-252 225,-216 527,-216 527,-252\"/>\n",
       "<text text-anchor=\"middle\" x=\"376\" y=\"-230.3\" font-family=\"Times,serif\" font-size=\"14.00\" fill=\"blue\">CrossJoin &#45; e9c0f4fd&#45;36bd&#45;408f&#45;a276&#45;69f0242fd84a</text>\n",
       "</g>\n",
       "<!-- pcoll9859&#45;&gt;CrossJoin &#45; e9c0f4fd&#45;36bd&#45;408f&#45;a276&#45;69f0242fd84a -->\n",
       "<g id=\"edge4\" class=\"edge\">\n",
       "<title>pcoll9859&#45;&gt;CrossJoin &#45; e9c0f4fd&#45;36bd&#45;408f&#45;a276&#45;69f0242fd84a</title>\n",
       "<path fill=\"none\" stroke=\"black\" d=\"M355.26,-288.76C358.24,-281.04 361.89,-271.59 365.29,-262.77\"/>\n",
       "<polygon fill=\"black\" stroke=\"black\" points=\"368.52,-264.13 368.85,-253.54 361.99,-261.61 368.52,-264.13\"/>\n",
       "</g>\n",
       "<!-- Create &#45; 16f952d0&#45;0c70&#45;44c0&#45;adb9&#45;dd2c69b818e9 -->\n",
       "<g id=\"node5\" class=\"node\">\n",
       "<title>Create &#45; 16f952d0&#45;0c70&#45;44c0&#45;adb9&#45;dd2c69b818e9</title>\n",
       "<polygon fill=\"none\" stroke=\"blue\" points=\"715,-540 423,-540 423,-504 715,-504 715,-540\"/>\n",
       "<text text-anchor=\"middle\" x=\"569\" y=\"-518.3\" font-family=\"Times,serif\" font-size=\"14.00\" fill=\"blue\">Create &#45; 16f952d0&#45;0c70&#45;44c0&#45;adb9&#45;dd2c69b818e9</text>\n",
       "</g>\n",
       "<!-- pcoll7996 -->\n",
       "<g id=\"node6\" class=\"node\">\n",
       "<title>pcoll7996</title>\n",
       "<ellipse fill=\"none\" stroke=\"blue\" cx=\"569\" cy=\"-450\" rx=\"18\" ry=\"18\"/>\n",
       "</g>\n",
       "<!-- Create &#45; 16f952d0&#45;0c70&#45;44c0&#45;adb9&#45;dd2c69b818e9&#45;&gt;pcoll7996 -->\n",
       "<g id=\"edge5\" class=\"edge\">\n",
       "<title>Create &#45; 16f952d0&#45;0c70&#45;44c0&#45;adb9&#45;dd2c69b818e9&#45;&gt;pcoll7996</title>\n",
       "<path fill=\"none\" stroke=\"black\" d=\"M569,-503.7C569,-496.41 569,-487.73 569,-479.54\"/>\n",
       "<polygon fill=\"black\" stroke=\"black\" points=\"572.5,-479.62 569,-469.62 565.5,-479.62 572.5,-479.62\"/>\n",
       "</g>\n",
       "<!-- SentenceEmbedding &#45; 8cff6a1d&#45;93e7&#45;4326&#45;98b4&#45;465648c18e47 -->\n",
       "<g id=\"node7\" class=\"node\">\n",
       "<title>SentenceEmbedding &#45; 8cff6a1d&#45;93e7&#45;4326&#45;98b4&#45;465648c18e47</title>\n",
       "<polygon fill=\"none\" stroke=\"blue\" points=\"752,-396 386,-396 386,-360 752,-360 752,-396\"/>\n",
       "<text text-anchor=\"middle\" x=\"569\" y=\"-374.3\" font-family=\"Times,serif\" font-size=\"14.00\" fill=\"blue\">SentenceEmbedding &#45; 8cff6a1d&#45;93e7&#45;4326&#45;98b4&#45;465648c18e47</text>\n",
       "</g>\n",
       "<!-- pcoll7996&#45;&gt;SentenceEmbedding &#45; 8cff6a1d&#45;93e7&#45;4326&#45;98b4&#45;465648c18e47 -->\n",
       "<g id=\"edge6\" class=\"edge\">\n",
       "<title>pcoll7996&#45;&gt;SentenceEmbedding &#45; 8cff6a1d&#45;93e7&#45;4326&#45;98b4&#45;465648c18e47</title>\n",
       "<path fill=\"none\" stroke=\"black\" d=\"M569,-431.7C569,-424.41 569,-415.73 569,-407.54\"/>\n",
       "<polygon fill=\"black\" stroke=\"black\" points=\"572.5,-407.62 569,-397.62 565.5,-407.62 572.5,-407.62\"/>\n",
       "</g>\n",
       "<!-- pcoll137 -->\n",
       "<g id=\"node8\" class=\"node\">\n",
       "<title>pcoll137</title>\n",
       "<ellipse fill=\"none\" stroke=\"blue\" cx=\"486\" cy=\"-306\" rx=\"18\" ry=\"18\"/>\n",
       "</g>\n",
       "<!-- SentenceEmbedding &#45; 8cff6a1d&#45;93e7&#45;4326&#45;98b4&#45;465648c18e47&#45;&gt;pcoll137 -->\n",
       "<g id=\"edge7\" class=\"edge\">\n",
       "<title>SentenceEmbedding &#45; 8cff6a1d&#45;93e7&#45;4326&#45;98b4&#45;465648c18e47&#45;&gt;pcoll137</title>\n",
       "<path fill=\"none\" stroke=\"black\" d=\"M548.48,-359.7C536.2,-349.34 520.59,-336.17 508.04,-325.59\"/>\n",
       "<polygon fill=\"black\" stroke=\"black\" points=\"510.6,-323.17 500.7,-319.39 506.08,-328.52 510.6,-323.17\"/>\n",
       "</g>\n",
       "<!-- pcoll137&#45;&gt;CrossJoin &#45; e9c0f4fd&#45;36bd&#45;408f&#45;a276&#45;69f0242fd84a -->\n",
       "<g id=\"edge8\" class=\"edge\">\n",
       "<title>pcoll137&#45;&gt;CrossJoin &#45; e9c0f4fd&#45;36bd&#45;408f&#45;a276&#45;69f0242fd84a</title>\n",
       "<path fill=\"none\" stroke=\"black\" d=\"M471.16,-295.56C456.25,-286.07 432.66,-271.06 412.71,-258.36\"/>\n",
       "<polygon fill=\"black\" stroke=\"black\" points=\"414.85,-255.57 404.53,-253.16 411.09,-261.48 414.85,-255.57\"/>\n",
       "</g>\n",
       "<!-- pcoll3343 -->\n",
       "<g id=\"node10\" class=\"node\">\n",
       "<title>pcoll3343</title>\n",
       "<ellipse fill=\"none\" stroke=\"blue\" cx=\"376\" cy=\"-162\" rx=\"18\" ry=\"18\"/>\n",
       "</g>\n",
       "<!-- CrossJoin &#45; e9c0f4fd&#45;36bd&#45;408f&#45;a276&#45;69f0242fd84a&#45;&gt;pcoll3343 -->\n",
       "<g id=\"edge9\" class=\"edge\">\n",
       "<title>CrossJoin &#45; e9c0f4fd&#45;36bd&#45;408f&#45;a276&#45;69f0242fd84a&#45;&gt;pcoll3343</title>\n",
       "<path fill=\"none\" stroke=\"black\" d=\"M376,-215.7C376,-208.41 376,-199.73 376,-191.54\"/>\n",
       "<polygon fill=\"black\" stroke=\"black\" points=\"379.5,-191.62 376,-181.62 372.5,-191.62 379.5,-191.62\"/>\n",
       "</g>\n",
       "<!-- CosSimilarity &#45; ed01ae94&#45;58f0&#45;4e75&#45;bd53&#45;07a471e8cd31 -->\n",
       "<g id=\"node11\" class=\"node\">\n",
       "<title>CosSimilarity &#45; ed01ae94&#45;58f0&#45;4e75&#45;bd53&#45;07a471e8cd31</title>\n",
       "<polygon fill=\"none\" stroke=\"blue\" points=\"541.5,-108 210.5,-108 210.5,-72 541.5,-72 541.5,-108\"/>\n",
       "<text text-anchor=\"middle\" x=\"376\" y=\"-86.3\" font-family=\"Times,serif\" font-size=\"14.00\" fill=\"blue\">CosSimilarity &#45; ed01ae94&#45;58f0&#45;4e75&#45;bd53&#45;07a471e8cd31</text>\n",
       "</g>\n",
       "<!-- pcoll3343&#45;&gt;CosSimilarity &#45; ed01ae94&#45;58f0&#45;4e75&#45;bd53&#45;07a471e8cd31 -->\n",
       "<g id=\"edge10\" class=\"edge\">\n",
       "<title>pcoll3343&#45;&gt;CosSimilarity &#45; ed01ae94&#45;58f0&#45;4e75&#45;bd53&#45;07a471e8cd31</title>\n",
       "<path fill=\"none\" stroke=\"black\" d=\"M376,-143.7C376,-136.41 376,-127.73 376,-119.54\"/>\n",
       "<polygon fill=\"black\" stroke=\"black\" points=\"379.5,-119.62 376,-109.62 372.5,-119.62 379.5,-119.62\"/>\n",
       "</g>\n",
       "<!-- pcoll1791 -->\n",
       "<g id=\"node12\" class=\"node\">\n",
       "<title>pcoll1791</title>\n",
       "<ellipse fill=\"none\" stroke=\"blue\" cx=\"376\" cy=\"-18\" rx=\"18\" ry=\"18\"/>\n",
       "</g>\n",
       "<!-- CosSimilarity &#45; ed01ae94&#45;58f0&#45;4e75&#45;bd53&#45;07a471e8cd31&#45;&gt;pcoll1791 -->\n",
       "<g id=\"edge11\" class=\"edge\">\n",
       "<title>CosSimilarity &#45; ed01ae94&#45;58f0&#45;4e75&#45;bd53&#45;07a471e8cd31&#45;&gt;pcoll1791</title>\n",
       "<path fill=\"none\" stroke=\"black\" d=\"M376,-71.7C376,-64.41 376,-55.73 376,-47.54\"/>\n",
       "<polygon fill=\"black\" stroke=\"black\" points=\"379.5,-47.62 376,-37.62 372.5,-47.62 379.5,-47.62\"/>\n",
       "</g>\n",
       "</g>\n",
       "</svg>\n"
      ],
      "text/plain": [
       "<IPython.core.display.HTML object>"
      ]
     },
     "metadata": {},
     "output_type": "display_data"
    },
    {
     "data": {
      "application/javascript": [
       "\n",
       "        if (typeof window.interactive_beam_jquery == 'undefined') {\n",
       "          var jqueryScript = document.createElement('script');\n",
       "          jqueryScript.src = 'https://code.jquery.com/jquery-3.4.1.slim.min.js';\n",
       "          jqueryScript.type = 'text/javascript';\n",
       "          jqueryScript.onload = function() {\n",
       "            var datatableScript = document.createElement('script');\n",
       "            datatableScript.src = 'https://cdn.datatables.net/1.10.20/js/jquery.dataTables.min.js';\n",
       "            datatableScript.type = 'text/javascript';\n",
       "            datatableScript.onload = function() {\n",
       "              window.interactive_beam_jquery = jQuery.noConflict(true);\n",
       "              window.interactive_beam_jquery(document).ready(function($){\n",
       "                \n",
       "            $(\"#progress_indicator_ef438197724806bebfa3f752c6f8ac36\").remove();\n",
       "              });\n",
       "            }\n",
       "            document.head.appendChild(datatableScript);\n",
       "          };\n",
       "          document.head.appendChild(jqueryScript);\n",
       "        } else {\n",
       "          window.interactive_beam_jquery(document).ready(function($){\n",
       "            \n",
       "            $(\"#progress_indicator_ef438197724806bebfa3f752c6f8ac36\").remove();\n",
       "          });\n",
       "        }"
      ]
     },
     "metadata": {},
     "output_type": "display_data"
    }
   ],
   "source": [
    "model_1.show_graph()"
   ]
  },
  {
   "cell_type": "code",
   "execution_count": 32,
   "id": "1a6ae4ec-fc7b-456c-b8b1-8f06e342ee5d",
   "metadata": {},
   "outputs": [
    {
     "data": {
      "text/html": [
       "\n",
       "            <link rel=\"stylesheet\" href=\"https://stackpath.bootstrapcdn.com/bootstrap/4.4.1/css/bootstrap.min.css\" integrity=\"sha384-Vkoo8x4CGsO3+Hhxv8T/Q5PaXtkKtu6ug5TOeNV6gBiFeWPGFN9MuhOf23Q9Ifjh\" crossorigin=\"anonymous\">\n",
       "            <div id=\"progress_indicator_8dedc5f8be240b631ac5da8c65da0227\">\n",
       "              <div class=\"spinner-border text-info\" role=\"status\"></div>\n",
       "              <span class=\"text-info\">Processing... collect</span>\n",
       "            </div>\n",
       "            "
      ],
      "text/plain": [
       "<IPython.core.display.HTML object>"
      ]
     },
     "metadata": {},
     "output_type": "display_data"
    },
    {
     "name": "stderr",
     "output_type": "stream",
     "text": [
      "/Users/xqhu/Dev/pydf/venv/lib/python3.9/site-packages/sentence_transformers/util.py:36: UserWarning: Creating a tensor from a list of numpy.ndarrays is extremely slow. Please consider converting the list to a single numpy.ndarray with numpy.array() before converting to a tensor. (Triggered internally at /Users/runner/work/pytorch/pytorch/pytorch/torch/csrc/utils/tensor_new.cpp:233.)\n",
      "  a = torch.tensor(a)\n"
     ]
    },
    {
     "data": {
      "application/javascript": [
       "\n",
       "        if (typeof window.interactive_beam_jquery == 'undefined') {\n",
       "          var jqueryScript = document.createElement('script');\n",
       "          jqueryScript.src = 'https://code.jquery.com/jquery-3.4.1.slim.min.js';\n",
       "          jqueryScript.type = 'text/javascript';\n",
       "          jqueryScript.onload = function() {\n",
       "            var datatableScript = document.createElement('script');\n",
       "            datatableScript.src = 'https://cdn.datatables.net/1.10.20/js/jquery.dataTables.min.js';\n",
       "            datatableScript.type = 'text/javascript';\n",
       "            datatableScript.onload = function() {\n",
       "              window.interactive_beam_jquery = jQuery.noConflict(true);\n",
       "              window.interactive_beam_jquery(document).ready(function($){\n",
       "                \n",
       "            $(\"#progress_indicator_8dedc5f8be240b631ac5da8c65da0227\").remove();\n",
       "              });\n",
       "            }\n",
       "            document.head.appendChild(datatableScript);\n",
       "          };\n",
       "          document.head.appendChild(jqueryScript);\n",
       "        } else {\n",
       "          window.interactive_beam_jquery(document).ready(function($){\n",
       "            \n",
       "            $(\"#progress_indicator_8dedc5f8be240b631ac5da8c65da0227\").remove();\n",
       "          });\n",
       "        }"
      ]
     },
     "metadata": {},
     "output_type": "display_data"
    },
    {
     "data": {
      "text/html": [
       "<div>\n",
       "<style scoped>\n",
       "    .dataframe tbody tr th:only-of-type {\n",
       "        vertical-align: middle;\n",
       "    }\n",
       "\n",
       "    .dataframe tbody tr th {\n",
       "        vertical-align: top;\n",
       "    }\n",
       "\n",
       "    .dataframe thead th {\n",
       "        text-align: right;\n",
       "    }\n",
       "</style>\n",
       "<table border=\"1\" class=\"dataframe\">\n",
       "  <thead>\n",
       "    <tr style=\"text-align: right;\">\n",
       "      <th></th>\n",
       "      <th>0</th>\n",
       "    </tr>\n",
       "  </thead>\n",
       "  <tbody>\n",
       "    <tr>\n",
       "      <th>0</th>\n",
       "      <td>0.342632</td>\n",
       "    </tr>\n",
       "    <tr>\n",
       "      <th>1</th>\n",
       "      <td>0.162461</td>\n",
       "    </tr>\n",
       "    <tr>\n",
       "      <th>2</th>\n",
       "      <td>0.051704</td>\n",
       "    </tr>\n",
       "  </tbody>\n",
       "</table>\n",
       "</div>"
      ],
      "text/plain": [
       "          0\n",
       "0  0.342632\n",
       "1  0.162461\n",
       "2  0.051704"
      ]
     },
     "execution_count": 32,
     "metadata": {},
     "output_type": "execute_result"
    }
   ],
   "source": [
    "model_1.block_data(sim)"
   ]
  },
  {
   "cell_type": "code",
   "execution_count": 33,
   "id": "7772b06d-d7ac-4202-bc10-c05559024919",
   "metadata": {},
   "outputs": [],
   "source": [
    "# You can also use the json config here for functional models\n",
    "model_1_config = model_1.to_json(indent=2)"
   ]
  },
  {
   "cell_type": "code",
   "execution_count": 34,
   "id": "f2dfe048-0757-4b7c-a7a1-9c9388be7404",
   "metadata": {},
   "outputs": [
    {
     "name": "stdout",
     "output_type": "stream",
     "text": [
      "{\n",
      "  \"blocks\": [\n",
      "    {\n",
      "      \"block_type\": \"Create\",\n",
      "      \"block_id\": \"6ec7ea12-a47d-4804-b09f-5ccdeb0a1750\",\n",
      "      \"source_ids\": [],\n",
      "      \"target_ids\": [\n",
      "        \"c31692e1-91c8-4a21-864c-51d4fb2135a0\"\n",
      "      ],\n",
      "      \"values\": [\n",
      "        \"This framework generates embeddings for each input sentence\",\n",
      "        \"Sentences are passed as a list of string.\",\n",
      "        \"The quick brown fox jumps over the lazy dog.\"\n",
      "      ]\n",
      "    },\n",
      "    {\n",
      "      \"block_type\": \"SentenceEmbedding\",\n",
      "      \"block_id\": \"c31692e1-91c8-4a21-864c-51d4fb2135a0\",\n",
      "      \"source_ids\": [\n",
      "        \"6ec7ea12-a47d-4804-b09f-5ccdeb0a1750\"\n",
      "      ],\n",
      "      \"target_ids\": [\n",
      "        \"e9c0f4fd-36bd-408f-a276-69f0242fd84a\",\n",
      "        \"e9c0f4fd-36bd-408f-a276-69f0242fd84a\",\n",
      "        \"e9c0f4fd-36bd-408f-a276-69f0242fd84a\"\n",
      "      ],\n",
      "      \"model_name\": \"all-MiniLM-L6-v2\"\n",
      "    },\n",
      "    {\n",
      "      \"block_type\": \"CrossJoin\",\n",
      "      \"block_id\": \"e9c0f4fd-36bd-408f-a276-69f0242fd84a\",\n",
      "      \"source_ids\": [\n",
      "        \"c31692e1-91c8-4a21-864c-51d4fb2135a0\",\n",
      "        \"8cff6a1d-93e7-4326-98b4-465648c18e47\"\n",
      "      ],\n",
      "      \"target_ids\": [\n",
      "        \"ed01ae94-58f0-4e75-bd53-07a471e8cd31\"\n",
      "      ]\n",
      "    },\n",
      "    {\n",
      "      \"block_type\": \"CosSimilarity\",\n",
      "      \"block_id\": \"ed01ae94-58f0-4e75-bd53-07a471e8cd31\",\n",
      "      \"source_ids\": [\n",
      "        \"e9c0f4fd-36bd-408f-a276-69f0242fd84a\"\n",
      "      ],\n",
      "      \"target_ids\": []\n",
      "    },\n",
      "    {\n",
      "      \"block_type\": \"Create\",\n",
      "      \"block_id\": \"16f952d0-0c70-44c0-adb9-dd2c69b818e9\",\n",
      "      \"source_ids\": [],\n",
      "      \"target_ids\": [\n",
      "        \"8cff6a1d-93e7-4326-98b4-465648c18e47\"\n",
      "      ],\n",
      "      \"values\": [\n",
      "        \"This framework is for testing\"\n",
      "      ]\n",
      "    },\n",
      "    {\n",
      "      \"block_type\": \"SentenceEmbedding\",\n",
      "      \"block_id\": \"8cff6a1d-93e7-4326-98b4-465648c18e47\",\n",
      "      \"source_ids\": [\n",
      "        \"16f952d0-0c70-44c0-adb9-dd2c69b818e9\"\n",
      "      ],\n",
      "      \"target_ids\": [\n",
      "        \"e9c0f4fd-36bd-408f-a276-69f0242fd84a\",\n",
      "        \"e9c0f4fd-36bd-408f-a276-69f0242fd84a\",\n",
      "        \"e9c0f4fd-36bd-408f-a276-69f0242fd84a\"\n",
      "      ],\n",
      "      \"model_name\": \"all-MiniLM-L6-v2\"\n",
      "    }\n",
      "  ],\n",
      "  \"model_type\": \"FUNCTIONAL\"\n",
      "}\n"
     ]
    }
   ],
   "source": [
    "print(model_1_config)"
   ]
  },
  {
   "cell_type": "code",
   "execution_count": 35,
   "id": "61f116de-ecaa-4ed0-bf32-4ce733c6835c",
   "metadata": {},
   "outputs": [],
   "source": [
    "new_model_1 = blocks.BlockAssembler.from_json(model_1_config)"
   ]
  },
  {
   "cell_type": "code",
   "execution_count": 36,
   "id": "572a625f-6294-430a-8939-f1d0d2496c40",
   "metadata": {},
   "outputs": [],
   "source": [
    "new_model_1.compile()"
   ]
  },
  {
   "cell_type": "code",
   "execution_count": 37,
   "id": "9050c9ad-6d4e-455f-9f49-7e5e1d3a3216",
   "metadata": {},
   "outputs": [
    {
     "data": {
      "text/html": [
       "\n",
       "            <link rel=\"stylesheet\" href=\"https://stackpath.bootstrapcdn.com/bootstrap/4.4.1/css/bootstrap.min.css\" integrity=\"sha384-Vkoo8x4CGsO3+Hhxv8T/Q5PaXtkKtu6ug5TOeNV6gBiFeWPGFN9MuhOf23Q9Ifjh\" crossorigin=\"anonymous\">\n",
       "            <div id=\"progress_indicator_d7171249eb24910afcab819872a5fb2d\">\n",
       "              <div class=\"spinner-border text-info\" role=\"status\"></div>\n",
       "              <span class=\"text-info\">Processing... show_graph</span>\n",
       "            </div>\n",
       "            "
      ],
      "text/plain": [
       "<IPython.core.display.HTML object>"
      ]
     },
     "metadata": {},
     "output_type": "display_data"
    },
    {
     "name": "stdout",
     "output_type": "stream",
     "text": [
      "huggingface/tokenizers: The current process just got forked, after parallelism has already been used. Disabling parallelism to avoid deadlocks...\n",
      "To disable this warning, you can either:\n",
      "\t- Avoid using `tokenizers` before the fork if possible\n",
      "\t- Explicitly set the environment variable TOKENIZERS_PARALLELISM=(true | false)\n",
      "/Users/xqhu/homebrew/bin/dot\n",
      "huggingface/tokenizers: The current process just got forked, after parallelism has already been used. Disabling parallelism to avoid deadlocks...\n",
      "To disable this warning, you can either:\n",
      "\t- Avoid using `tokenizers` before the fork if possible\n",
      "\t- Explicitly set the environment variable TOKENIZERS_PARALLELISM=(true | false)\n"
     ]
    },
    {
     "data": {
      "text/html": [
       "<?xml version=\"1.0\" encoding=\"UTF-8\" standalone=\"no\"?>\n",
       "<!DOCTYPE svg PUBLIC \"-//W3C//DTD SVG 1.1//EN\"\n",
       " \"http://www.w3.org/Graphics/SVG/1.1/DTD/svg11.dtd\">\n",
       "<!-- Generated by graphviz version 7.0.5 (20221223.1930)\n",
       " -->\n",
       "<!-- Title: G Pages: 1 -->\n",
       "<svg width=\"760pt\" height=\"548pt\"\n",
       " viewBox=\"0.00 0.00 760.00 548.00\" xmlns=\"http://www.w3.org/2000/svg\" xmlns:xlink=\"http://www.w3.org/1999/xlink\">\n",
       "<g id=\"graph0\" class=\"graph\" transform=\"scale(1 1) rotate(0) translate(4 544)\">\n",
       "<title>G</title>\n",
       "<polygon fill=\"white\" stroke=\"none\" points=\"-4,4 -4,-544 756,-544 756,4 -4,4\"/>\n",
       "<!-- Create &#45; 6ec7ea12&#45;a47d&#45;4804&#45;b09f&#45;5ccdeb0a1750 -->\n",
       "<g id=\"node1\" class=\"node\">\n",
       "<title>Create &#45; 6ec7ea12&#45;a47d&#45;4804&#45;b09f&#45;5ccdeb0a1750</title>\n",
       "<polygon fill=\"none\" stroke=\"blue\" points=\"328.5,-540 39.5,-540 39.5,-504 328.5,-504 328.5,-540\"/>\n",
       "<text text-anchor=\"middle\" x=\"184\" y=\"-518.3\" font-family=\"Times,serif\" font-size=\"14.00\" fill=\"blue\">Create &#45; 6ec7ea12&#45;a47d&#45;4804&#45;b09f&#45;5ccdeb0a1750</text>\n",
       "</g>\n",
       "<!-- pcoll4413 -->\n",
       "<g id=\"node2\" class=\"node\">\n",
       "<title>pcoll4413</title>\n",
       "<ellipse fill=\"none\" stroke=\"blue\" cx=\"184\" cy=\"-450\" rx=\"18\" ry=\"18\"/>\n",
       "</g>\n",
       "<!-- Create &#45; 6ec7ea12&#45;a47d&#45;4804&#45;b09f&#45;5ccdeb0a1750&#45;&gt;pcoll4413 -->\n",
       "<g id=\"edge1\" class=\"edge\">\n",
       "<title>Create &#45; 6ec7ea12&#45;a47d&#45;4804&#45;b09f&#45;5ccdeb0a1750&#45;&gt;pcoll4413</title>\n",
       "<path fill=\"none\" stroke=\"black\" d=\"M184,-503.7C184,-496.41 184,-487.73 184,-479.54\"/>\n",
       "<polygon fill=\"black\" stroke=\"black\" points=\"187.5,-479.62 184,-469.62 180.5,-479.62 187.5,-479.62\"/>\n",
       "</g>\n",
       "<!-- SentenceEmbedding &#45; c31692e1&#45;91c8&#45;4a21&#45;864c&#45;51d4fb2135a0 -->\n",
       "<g id=\"node3\" class=\"node\">\n",
       "<title>SentenceEmbedding &#45; c31692e1&#45;91c8&#45;4a21&#45;864c&#45;51d4fb2135a0</title>\n",
       "<polygon fill=\"none\" stroke=\"blue\" points=\"368,-396 0,-396 0,-360 368,-360 368,-396\"/>\n",
       "<text text-anchor=\"middle\" x=\"184\" y=\"-374.3\" font-family=\"Times,serif\" font-size=\"14.00\" fill=\"blue\">SentenceEmbedding &#45; c31692e1&#45;91c8&#45;4a21&#45;864c&#45;51d4fb2135a0</text>\n",
       "</g>\n",
       "<!-- pcoll4413&#45;&gt;SentenceEmbedding &#45; c31692e1&#45;91c8&#45;4a21&#45;864c&#45;51d4fb2135a0 -->\n",
       "<g id=\"edge2\" class=\"edge\">\n",
       "<title>pcoll4413&#45;&gt;SentenceEmbedding &#45; c31692e1&#45;91c8&#45;4a21&#45;864c&#45;51d4fb2135a0</title>\n",
       "<path fill=\"none\" stroke=\"black\" d=\"M184,-431.7C184,-424.41 184,-415.73 184,-407.54\"/>\n",
       "<polygon fill=\"black\" stroke=\"black\" points=\"187.5,-407.62 184,-397.62 180.5,-407.62 187.5,-407.62\"/>\n",
       "</g>\n",
       "<!-- pcoll9859 -->\n",
       "<g id=\"node4\" class=\"node\">\n",
       "<title>pcoll9859</title>\n",
       "<ellipse fill=\"none\" stroke=\"blue\" cx=\"349\" cy=\"-306\" rx=\"18\" ry=\"18\"/>\n",
       "</g>\n",
       "<!-- SentenceEmbedding &#45; c31692e1&#45;91c8&#45;4a21&#45;864c&#45;51d4fb2135a0&#45;&gt;pcoll9859 -->\n",
       "<g id=\"edge3\" class=\"edge\">\n",
       "<title>SentenceEmbedding &#45; c31692e1&#45;91c8&#45;4a21&#45;864c&#45;51d4fb2135a0&#45;&gt;pcoll9859</title>\n",
       "<path fill=\"none\" stroke=\"black\" d=\"M225.21,-359.52C255.61,-346.62 296.09,-329.45 322.35,-318.31\"/>\n",
       "<polygon fill=\"black\" stroke=\"black\" points=\"323.43,-321.65 331.27,-314.52 320.69,-315.21 323.43,-321.65\"/>\n",
       "</g>\n",
       "<!-- CrossJoin &#45; e9c0f4fd&#45;36bd&#45;408f&#45;a276&#45;69f0242fd84a -->\n",
       "<g id=\"node9\" class=\"node\">\n",
       "<title>CrossJoin &#45; e9c0f4fd&#45;36bd&#45;408f&#45;a276&#45;69f0242fd84a</title>\n",
       "<polygon fill=\"none\" stroke=\"blue\" points=\"527,-252 225,-252 225,-216 527,-216 527,-252\"/>\n",
       "<text text-anchor=\"middle\" x=\"376\" y=\"-230.3\" font-family=\"Times,serif\" font-size=\"14.00\" fill=\"blue\">CrossJoin &#45; e9c0f4fd&#45;36bd&#45;408f&#45;a276&#45;69f0242fd84a</text>\n",
       "</g>\n",
       "<!-- pcoll9859&#45;&gt;CrossJoin &#45; e9c0f4fd&#45;36bd&#45;408f&#45;a276&#45;69f0242fd84a -->\n",
       "<g id=\"edge4\" class=\"edge\">\n",
       "<title>pcoll9859&#45;&gt;CrossJoin &#45; e9c0f4fd&#45;36bd&#45;408f&#45;a276&#45;69f0242fd84a</title>\n",
       "<path fill=\"none\" stroke=\"black\" d=\"M355.26,-288.76C358.24,-281.04 361.89,-271.59 365.29,-262.77\"/>\n",
       "<polygon fill=\"black\" stroke=\"black\" points=\"368.52,-264.13 368.85,-253.54 361.99,-261.61 368.52,-264.13\"/>\n",
       "</g>\n",
       "<!-- Create &#45; 16f952d0&#45;0c70&#45;44c0&#45;adb9&#45;dd2c69b818e9 -->\n",
       "<g id=\"node5\" class=\"node\">\n",
       "<title>Create &#45; 16f952d0&#45;0c70&#45;44c0&#45;adb9&#45;dd2c69b818e9</title>\n",
       "<polygon fill=\"none\" stroke=\"blue\" points=\"715,-540 423,-540 423,-504 715,-504 715,-540\"/>\n",
       "<text text-anchor=\"middle\" x=\"569\" y=\"-518.3\" font-family=\"Times,serif\" font-size=\"14.00\" fill=\"blue\">Create &#45; 16f952d0&#45;0c70&#45;44c0&#45;adb9&#45;dd2c69b818e9</text>\n",
       "</g>\n",
       "<!-- pcoll7996 -->\n",
       "<g id=\"node6\" class=\"node\">\n",
       "<title>pcoll7996</title>\n",
       "<ellipse fill=\"none\" stroke=\"blue\" cx=\"569\" cy=\"-450\" rx=\"18\" ry=\"18\"/>\n",
       "</g>\n",
       "<!-- Create &#45; 16f952d0&#45;0c70&#45;44c0&#45;adb9&#45;dd2c69b818e9&#45;&gt;pcoll7996 -->\n",
       "<g id=\"edge5\" class=\"edge\">\n",
       "<title>Create &#45; 16f952d0&#45;0c70&#45;44c0&#45;adb9&#45;dd2c69b818e9&#45;&gt;pcoll7996</title>\n",
       "<path fill=\"none\" stroke=\"black\" d=\"M569,-503.7C569,-496.41 569,-487.73 569,-479.54\"/>\n",
       "<polygon fill=\"black\" stroke=\"black\" points=\"572.5,-479.62 569,-469.62 565.5,-479.62 572.5,-479.62\"/>\n",
       "</g>\n",
       "<!-- SentenceEmbedding &#45; 8cff6a1d&#45;93e7&#45;4326&#45;98b4&#45;465648c18e47 -->\n",
       "<g id=\"node7\" class=\"node\">\n",
       "<title>SentenceEmbedding &#45; 8cff6a1d&#45;93e7&#45;4326&#45;98b4&#45;465648c18e47</title>\n",
       "<polygon fill=\"none\" stroke=\"blue\" points=\"752,-396 386,-396 386,-360 752,-360 752,-396\"/>\n",
       "<text text-anchor=\"middle\" x=\"569\" y=\"-374.3\" font-family=\"Times,serif\" font-size=\"14.00\" fill=\"blue\">SentenceEmbedding &#45; 8cff6a1d&#45;93e7&#45;4326&#45;98b4&#45;465648c18e47</text>\n",
       "</g>\n",
       "<!-- pcoll7996&#45;&gt;SentenceEmbedding &#45; 8cff6a1d&#45;93e7&#45;4326&#45;98b4&#45;465648c18e47 -->\n",
       "<g id=\"edge6\" class=\"edge\">\n",
       "<title>pcoll7996&#45;&gt;SentenceEmbedding &#45; 8cff6a1d&#45;93e7&#45;4326&#45;98b4&#45;465648c18e47</title>\n",
       "<path fill=\"none\" stroke=\"black\" d=\"M569,-431.7C569,-424.41 569,-415.73 569,-407.54\"/>\n",
       "<polygon fill=\"black\" stroke=\"black\" points=\"572.5,-407.62 569,-397.62 565.5,-407.62 572.5,-407.62\"/>\n",
       "</g>\n",
       "<!-- pcoll137 -->\n",
       "<g id=\"node8\" class=\"node\">\n",
       "<title>pcoll137</title>\n",
       "<ellipse fill=\"none\" stroke=\"blue\" cx=\"486\" cy=\"-306\" rx=\"18\" ry=\"18\"/>\n",
       "</g>\n",
       "<!-- SentenceEmbedding &#45; 8cff6a1d&#45;93e7&#45;4326&#45;98b4&#45;465648c18e47&#45;&gt;pcoll137 -->\n",
       "<g id=\"edge7\" class=\"edge\">\n",
       "<title>SentenceEmbedding &#45; 8cff6a1d&#45;93e7&#45;4326&#45;98b4&#45;465648c18e47&#45;&gt;pcoll137</title>\n",
       "<path fill=\"none\" stroke=\"black\" d=\"M548.48,-359.7C536.2,-349.34 520.59,-336.17 508.04,-325.59\"/>\n",
       "<polygon fill=\"black\" stroke=\"black\" points=\"510.6,-323.17 500.7,-319.39 506.08,-328.52 510.6,-323.17\"/>\n",
       "</g>\n",
       "<!-- pcoll137&#45;&gt;CrossJoin &#45; e9c0f4fd&#45;36bd&#45;408f&#45;a276&#45;69f0242fd84a -->\n",
       "<g id=\"edge8\" class=\"edge\">\n",
       "<title>pcoll137&#45;&gt;CrossJoin &#45; e9c0f4fd&#45;36bd&#45;408f&#45;a276&#45;69f0242fd84a</title>\n",
       "<path fill=\"none\" stroke=\"black\" d=\"M471.16,-295.56C456.25,-286.07 432.66,-271.06 412.71,-258.36\"/>\n",
       "<polygon fill=\"black\" stroke=\"black\" points=\"414.85,-255.57 404.53,-253.16 411.09,-261.48 414.85,-255.57\"/>\n",
       "</g>\n",
       "<!-- pcoll3343 -->\n",
       "<g id=\"node10\" class=\"node\">\n",
       "<title>pcoll3343</title>\n",
       "<ellipse fill=\"none\" stroke=\"blue\" cx=\"376\" cy=\"-162\" rx=\"18\" ry=\"18\"/>\n",
       "</g>\n",
       "<!-- CrossJoin &#45; e9c0f4fd&#45;36bd&#45;408f&#45;a276&#45;69f0242fd84a&#45;&gt;pcoll3343 -->\n",
       "<g id=\"edge9\" class=\"edge\">\n",
       "<title>CrossJoin &#45; e9c0f4fd&#45;36bd&#45;408f&#45;a276&#45;69f0242fd84a&#45;&gt;pcoll3343</title>\n",
       "<path fill=\"none\" stroke=\"black\" d=\"M376,-215.7C376,-208.41 376,-199.73 376,-191.54\"/>\n",
       "<polygon fill=\"black\" stroke=\"black\" points=\"379.5,-191.62 376,-181.62 372.5,-191.62 379.5,-191.62\"/>\n",
       "</g>\n",
       "<!-- CosSimilarity &#45; ed01ae94&#45;58f0&#45;4e75&#45;bd53&#45;07a471e8cd31 -->\n",
       "<g id=\"node11\" class=\"node\">\n",
       "<title>CosSimilarity &#45; ed01ae94&#45;58f0&#45;4e75&#45;bd53&#45;07a471e8cd31</title>\n",
       "<polygon fill=\"none\" stroke=\"blue\" points=\"541.5,-108 210.5,-108 210.5,-72 541.5,-72 541.5,-108\"/>\n",
       "<text text-anchor=\"middle\" x=\"376\" y=\"-86.3\" font-family=\"Times,serif\" font-size=\"14.00\" fill=\"blue\">CosSimilarity &#45; ed01ae94&#45;58f0&#45;4e75&#45;bd53&#45;07a471e8cd31</text>\n",
       "</g>\n",
       "<!-- pcoll3343&#45;&gt;CosSimilarity &#45; ed01ae94&#45;58f0&#45;4e75&#45;bd53&#45;07a471e8cd31 -->\n",
       "<g id=\"edge10\" class=\"edge\">\n",
       "<title>pcoll3343&#45;&gt;CosSimilarity &#45; ed01ae94&#45;58f0&#45;4e75&#45;bd53&#45;07a471e8cd31</title>\n",
       "<path fill=\"none\" stroke=\"black\" d=\"M376,-143.7C376,-136.41 376,-127.73 376,-119.54\"/>\n",
       "<polygon fill=\"black\" stroke=\"black\" points=\"379.5,-119.62 376,-109.62 372.5,-119.62 379.5,-119.62\"/>\n",
       "</g>\n",
       "<!-- pcoll1791 -->\n",
       "<g id=\"node12\" class=\"node\">\n",
       "<title>pcoll1791</title>\n",
       "<ellipse fill=\"none\" stroke=\"blue\" cx=\"376\" cy=\"-18\" rx=\"18\" ry=\"18\"/>\n",
       "</g>\n",
       "<!-- CosSimilarity &#45; ed01ae94&#45;58f0&#45;4e75&#45;bd53&#45;07a471e8cd31&#45;&gt;pcoll1791 -->\n",
       "<g id=\"edge11\" class=\"edge\">\n",
       "<title>CosSimilarity &#45; ed01ae94&#45;58f0&#45;4e75&#45;bd53&#45;07a471e8cd31&#45;&gt;pcoll1791</title>\n",
       "<path fill=\"none\" stroke=\"black\" d=\"M376,-71.7C376,-64.41 376,-55.73 376,-47.54\"/>\n",
       "<polygon fill=\"black\" stroke=\"black\" points=\"379.5,-47.62 376,-37.62 372.5,-47.62 379.5,-47.62\"/>\n",
       "</g>\n",
       "</g>\n",
       "</svg>\n"
      ],
      "text/plain": [
       "<IPython.core.display.HTML object>"
      ]
     },
     "metadata": {},
     "output_type": "display_data"
    },
    {
     "data": {
      "application/javascript": [
       "\n",
       "        if (typeof window.interactive_beam_jquery == 'undefined') {\n",
       "          var jqueryScript = document.createElement('script');\n",
       "          jqueryScript.src = 'https://code.jquery.com/jquery-3.4.1.slim.min.js';\n",
       "          jqueryScript.type = 'text/javascript';\n",
       "          jqueryScript.onload = function() {\n",
       "            var datatableScript = document.createElement('script');\n",
       "            datatableScript.src = 'https://cdn.datatables.net/1.10.20/js/jquery.dataTables.min.js';\n",
       "            datatableScript.type = 'text/javascript';\n",
       "            datatableScript.onload = function() {\n",
       "              window.interactive_beam_jquery = jQuery.noConflict(true);\n",
       "              window.interactive_beam_jquery(document).ready(function($){\n",
       "                \n",
       "            $(\"#progress_indicator_d7171249eb24910afcab819872a5fb2d\").remove();\n",
       "              });\n",
       "            }\n",
       "            document.head.appendChild(datatableScript);\n",
       "          };\n",
       "          document.head.appendChild(jqueryScript);\n",
       "        } else {\n",
       "          window.interactive_beam_jquery(document).ready(function($){\n",
       "            \n",
       "            $(\"#progress_indicator_d7171249eb24910afcab819872a5fb2d\").remove();\n",
       "          });\n",
       "        }"
      ]
     },
     "metadata": {},
     "output_type": "display_data"
    }
   ],
   "source": [
    "new_model_1.show_graph()"
   ]
  },
  {
   "cell_type": "code",
   "execution_count": null,
   "id": "23db6a52-939a-4516-8e74-0016bb49ac55",
   "metadata": {},
   "outputs": [],
   "source": []
  }
 ],
 "metadata": {
  "kernelspec": {
   "display_name": "Python 3 (ipykernel)",
   "language": "python",
   "name": "python3"
  },
  "language_info": {
   "codemirror_mode": {
    "name": "ipython",
    "version": 3
   },
   "file_extension": ".py",
   "mimetype": "text/x-python",
   "name": "python",
   "nbconvert_exporter": "python",
   "pygments_lexer": "ipython3",
   "version": "3.9.13"
  }
 },
 "nbformat": 4,
 "nbformat_minor": 5
}
