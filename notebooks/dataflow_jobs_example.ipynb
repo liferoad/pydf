{
 "cells": [
  {
   "cell_type": "code",
   "execution_count": 1,
   "id": "05daae2e",
   "metadata": {},
   "outputs": [],
   "source": [
    "%load_ext autoreload\n",
    "%autoreload 2"
   ]
  },
  {
   "cell_type": "markdown",
   "id": "0b259ff0",
   "metadata": {},
   "source": [
    "# Manage Dataflow jobs"
   ]
  },
  {
   "cell_type": "code",
   "execution_count": 2,
   "id": "e8000f7f-c42d-47ec-a728-acb4b4c380cb",
   "metadata": {},
   "outputs": [],
   "source": [
    "from df import models as dm\n",
    "from df import dataflow as flow"
   ]
  },
  {
   "cell_type": "code",
   "execution_count": 3,
   "id": "59640ca0-ee32-4fc3-9188-1cc28b6a7b91",
   "metadata": {},
   "outputs": [],
   "source": [
    "dw = flow.Dataflow(project_id=\"manav-jit-test\", location_id=\"us-central1\", service_account_file=\"manav-jit-test-2f1ad5006d9b.json\")"
   ]
  },
  {
   "cell_type": "code",
   "execution_count": 4,
   "id": "0f2a5c02-6e52-4680-a134-9cad2bcba58d",
   "metadata": {},
   "outputs": [],
   "source": [
    "# list all jobs\n",
    "jobs = dw.list_jobs()"
   ]
  },
  {
   "cell_type": "code",
   "execution_count": 5,
   "id": "68cf0086",
   "metadata": {},
   "outputs": [
    {
     "data": {
      "text/plain": [
       "14"
      ]
     },
     "execution_count": 5,
     "metadata": {},
     "output_type": "execute_result"
    }
   ],
   "source": [
    "len(jobs)"
   ]
  },
  {
   "cell_type": "code",
   "execution_count": 6,
   "id": "c1a7b6b6",
   "metadata": {},
   "outputs": [
    {
     "data": {
      "text/plain": [
       "Job(name='test-df-xqhu', id='2022-11-11_09_05_52-7575541146347739197')"
      ]
     },
     "execution_count": 6,
     "metadata": {},
     "output_type": "execute_result"
    }
   ],
   "source": [
    "jobs[0]"
   ]
  },
  {
   "cell_type": "code",
   "execution_count": 7,
   "id": "74efaf58",
   "metadata": {},
   "outputs": [
    {
     "data": {
      "text/plain": [
       "{'id': '2022-11-11_09_05_52-7575541146347739197',\n",
       " 'projectId': 'manav-jit-test',\n",
       " 'name': 'test-df-xqhu',\n",
       " 'type': 'JOB_TYPE_BATCH',\n",
       " 'currentState': 'JOB_STATE_DONE',\n",
       " 'currentStateTime': '2022-11-11T17:08:28.838170Z',\n",
       " 'createTime': '2022-11-11T17:05:53.216828Z',\n",
       " 'location': 'us-central1',\n",
       " 'jobMetadata': {'sdkVersion': {'version': '2.41.0',\n",
       "   'versionDisplayName': 'Apache Beam SDK for Java',\n",
       "   'sdkSupportStatus': 'STALE'}},\n",
       " 'startTime': '2022-11-11T17:05:53.216828Z'}"
      ]
     },
     "execution_count": 7,
     "metadata": {},
     "output_type": "execute_result"
    }
   ],
   "source": [
    "jobs[0]._api_results"
   ]
  },
  {
   "cell_type": "markdown",
   "id": "83fec383",
   "metadata": {},
   "source": [
    "## Create Job From Template (Word Count)"
   ]
  },
  {
   "cell_type": "code",
   "execution_count": 14,
   "id": "a8b488bb",
   "metadata": {},
   "outputs": [],
   "source": [
    "from df import options as op"
   ]
  },
  {
   "cell_type": "code",
   "execution_count": 25,
   "id": "26ccd48f",
   "metadata": {},
   "outputs": [],
   "source": [
    "my_word_count = op.WordCountTemplate(jobName=\"test-xqhu-df-3\", \n",
    "    parameters=op.WordCountParameters(\n",
    "        inputFile=\"gs://dataflow-samples/shakespeare/kinglear.txt\", \n",
    "        output=\"gs://pydf_test_bucket/results/output\")\n",
    "    )"
   ]
  },
  {
   "cell_type": "code",
   "execution_count": 26,
   "id": "a001a93b",
   "metadata": {},
   "outputs": [
    {
     "data": {
      "text/plain": [
       "WordCountTemplate(gcsPath='gs://dataflow-templates/latest/Word_Count', jobName='test-xqhu-df-3', parameters=WordCountParameters(inputFile='gs://dataflow-samples/shakespeare/kinglear.txt', output='gs://pydf_test_bucket/results/output'), environment=Environment(zone='us-central1-f'))"
      ]
     },
     "execution_count": 26,
     "metadata": {},
     "output_type": "execute_result"
    }
   ],
   "source": [
    "my_word_count"
   ]
  },
  {
   "cell_type": "code",
   "execution_count": 27,
   "id": "12fff568",
   "metadata": {},
   "outputs": [
    {
     "data": {
      "text/plain": [
       "Job(name='test-xqhu-df-3', id='2022-11-11_14_31_47-13779813673873869743')"
      ]
     },
     "execution_count": 27,
     "metadata": {},
     "output_type": "execute_result"
    }
   ],
   "source": [
    "dw.create_job_from_template(template=my_word_count)"
   ]
  },
  {
   "cell_type": "code",
   "execution_count": 28,
   "id": "72a9419a",
   "metadata": {},
   "outputs": [
    {
     "data": {
      "text/plain": [
       "Job(name='test-xqhu-df-3', id='2022-11-11_14_31_47-13779813673873869743')"
      ]
     },
     "execution_count": 28,
     "metadata": {},
     "output_type": "execute_result"
    }
   ],
   "source": [
    "jobs = dw.list_jobs()\n",
    "jobs[0]"
   ]
  },
  {
   "cell_type": "code",
   "execution_count": null,
   "id": "6241e010",
   "metadata": {},
   "outputs": [],
   "source": []
  }
 ],
 "metadata": {
  "kernelspec": {
   "display_name": "Python 3.9.13 ('venv': venv)",
   "language": "python",
   "name": "python3"
  },
  "language_info": {
   "codemirror_mode": {
    "name": "ipython",
    "version": 3
   },
   "file_extension": ".py",
   "mimetype": "text/x-python",
   "name": "python",
   "nbconvert_exporter": "python",
   "pygments_lexer": "ipython3",
   "version": "3.9.13"
  },
  "vscode": {
   "interpreter": {
    "hash": "6f737920f730edbd29bf5d9c00b412287b0c2b244b77025b95628ee3d308af8f"
   }
  }
 },
 "nbformat": 4,
 "nbformat_minor": 5
}
