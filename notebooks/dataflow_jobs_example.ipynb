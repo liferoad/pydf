{
 "cells": [
  {
   "cell_type": "code",
   "execution_count": 12,
   "id": "05daae2e",
   "metadata": {},
   "outputs": [],
   "source": [
    "%load_ext autoreload\n",
    "%autoreload 2"
   ]
  },
  {
   "cell_type": "markdown",
   "id": "0b259ff0",
   "metadata": {},
   "source": [
    "# Manage Dataflow jobs"
   ]
  },
  {
   "cell_type": "code",
   "execution_count": 16,
   "id": "e8000f7f-c42d-47ec-a728-acb4b4c380cb",
   "metadata": {},
   "outputs": [],
   "source": [
    "from df import models as dm\n",
    "from df import dataflow as flow"
   ]
  },
  {
   "cell_type": "code",
   "execution_count": 20,
   "id": "59640ca0-ee32-4fc3-9188-1cc28b6a7b91",
   "metadata": {},
   "outputs": [],
   "source": [
    "dw = flow.Dataflow(project_id=\"manav-jit-test\", location_id=\"us-central1\", service_account_file=\"manav-jit-test-2f1ad5006d9b.json\")"
   ]
  },
  {
   "cell_type": "code",
   "execution_count": 24,
   "id": "0f2a5c02-6e52-4680-a134-9cad2bcba58d",
   "metadata": {},
   "outputs": [],
   "source": [
    "# list all jobs\n",
    "jobs = dw.list_jobs()"
   ]
  },
  {
   "cell_type": "code",
   "execution_count": 25,
   "id": "68cf0086",
   "metadata": {},
   "outputs": [
    {
     "data": {
      "text/plain": [
       "10"
      ]
     },
     "execution_count": 25,
     "metadata": {},
     "output_type": "execute_result"
    }
   ],
   "source": [
    "len(jobs)"
   ]
  },
  {
   "cell_type": "code",
   "execution_count": 26,
   "id": "c1a7b6b6",
   "metadata": {},
   "outputs": [
    {
     "data": {
      "text/plain": [
       "Job(name='manav-jit-test', id='2022-11-10_20_14_14-3485483869581624643')"
      ]
     },
     "execution_count": 26,
     "metadata": {},
     "output_type": "execute_result"
    }
   ],
   "source": [
    "jobs[0]"
   ]
  },
  {
   "cell_type": "code",
   "execution_count": 27,
   "id": "74efaf58",
   "metadata": {},
   "outputs": [
    {
     "data": {
      "text/plain": [
       "{'id': '2022-11-10_20_14_14-3485483869581624643',\n",
       " 'projectId': 'manav-jit-test',\n",
       " 'name': 'manav-jit-test',\n",
       " 'type': 'JOB_TYPE_BATCH',\n",
       " 'currentState': 'JOB_STATE_DONE',\n",
       " 'currentStateTime': '2022-11-11T04:16:58.506185Z',\n",
       " 'createTime': '2022-11-11T04:14:14.456667Z',\n",
       " 'location': 'us-central1',\n",
       " 'jobMetadata': {'sdkVersion': {'version': '2.41.0',\n",
       "   'versionDisplayName': 'Apache Beam SDK for Java',\n",
       "   'sdkSupportStatus': 'STALE'}},\n",
       " 'startTime': '2022-11-11T04:14:14.456667Z'}"
      ]
     },
     "execution_count": 27,
     "metadata": {},
     "output_type": "execute_result"
    }
   ],
   "source": [
    "jobs[0]._api_results"
   ]
  },
  {
   "cell_type": "code",
   "execution_count": 14,
   "id": "e52383af",
   "metadata": {},
   "outputs": [],
   "source": [
    "# create a new data pipeline\n",
    "new_dp = dw.create_data_pipeline(dm.DataPipeline(short_name=\"test-df\"))"
   ]
  },
  {
   "cell_type": "code",
   "execution_count": 15,
   "id": "d5b5af38",
   "metadata": {},
   "outputs": [
    {
     "data": {
      "text/plain": [
       "{'name': 'projects/manav-jit-test/locations/us-central1/pipelines/test-df',\n",
       " 'state': 'STATE_ACTIVE',\n",
       " 'createTime': '2022-11-10T23:26:56.408743Z',\n",
       " 'lastUpdateTime': '2022-11-10T23:26:56.408743Z'}"
      ]
     },
     "execution_count": 15,
     "metadata": {},
     "output_type": "execute_result"
    }
   ],
   "source": [
    "new_dp.raw_results"
   ]
  },
  {
   "cell_type": "code",
   "execution_count": 16,
   "id": "8df3bc8e",
   "metadata": {},
   "outputs": [],
   "source": [
    "# remove this data pipeline\n",
    "new_dp.delete()"
   ]
  },
  {
   "cell_type": "code",
   "execution_count": null,
   "id": "12fff568",
   "metadata": {},
   "outputs": [],
   "source": []
  }
 ],
 "metadata": {
  "kernelspec": {
   "display_name": "Python 3.9.13 ('venv': venv)",
   "language": "python",
   "name": "python3"
  },
  "language_info": {
   "codemirror_mode": {
    "name": "ipython",
    "version": 3
   },
   "file_extension": ".py",
   "mimetype": "text/x-python",
   "name": "python",
   "nbconvert_exporter": "python",
   "pygments_lexer": "ipython3",
   "version": "3.9.13"
  },
  "vscode": {
   "interpreter": {
    "hash": "6f737920f730edbd29bf5d9c00b412287b0c2b244b77025b95628ee3d308af8f"
   }
  }
 },
 "nbformat": 4,
 "nbformat_minor": 5
}
