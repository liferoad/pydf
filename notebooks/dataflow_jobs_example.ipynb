{
 "cells": [
  {
   "cell_type": "code",
   "execution_count": 14,
   "id": "05daae2e",
   "metadata": {},
   "outputs": [],
   "source": [
    "%load_ext autoreload\n",
    "%autoreload 2"
   ]
  },
  {
   "cell_type": "markdown",
   "id": "0b259ff0",
   "metadata": {},
   "source": [
    "# Manage Dataflow jobs"
   ]
  },
  {
   "cell_type": "code",
   "execution_count": 15,
   "id": "e8000f7f-c42d-47ec-a728-acb4b4c380cb",
   "metadata": {},
   "outputs": [],
   "source": [
    "from df import models as dm\n",
    "from df import dataflow as flow"
   ]
  },
  {
   "cell_type": "code",
   "execution_count": 16,
   "id": "59640ca0-ee32-4fc3-9188-1cc28b6a7b91",
   "metadata": {},
   "outputs": [],
   "source": [
    "dw = flow.Dataflow(project_id=\"manav-jit-test\", location_id=\"us-central1\")"
   ]
  },
  {
   "cell_type": "code",
   "execution_count": 17,
   "id": "0f2a5c02-6e52-4680-a134-9cad2bcba58d",
   "metadata": {},
   "outputs": [],
   "source": [
    "# list all jobs\n",
    "jobs = dw.list_jobs()"
   ]
  },
  {
   "cell_type": "code",
   "execution_count": 18,
   "id": "68cf0086",
   "metadata": {},
   "outputs": [
    {
     "data": {
      "text/plain": [
       "36"
      ]
     },
     "execution_count": 18,
     "metadata": {},
     "output_type": "execute_result"
    }
   ],
   "source": [
    "len(jobs)"
   ]
  },
  {
   "cell_type": "code",
   "execution_count": 19,
   "id": "c1a7b6b6",
   "metadata": {},
   "outputs": [
    {
     "data": {
      "text/plain": [
       "Job(name='my-job-test-1', id='2023-02-11_09_26_18-13215510002259317354')"
      ]
     },
     "execution_count": 19,
     "metadata": {},
     "output_type": "execute_result"
    }
   ],
   "source": [
    "jobs[0]"
   ]
  },
  {
   "cell_type": "code",
   "execution_count": 20,
   "id": "74efaf58",
   "metadata": {},
   "outputs": [
    {
     "data": {
      "text/plain": [
       "{'id': '2023-02-11_09_26_18-13215510002259317354',\n",
       " 'projectId': 'manav-jit-test',\n",
       " 'name': 'my-job-test-1',\n",
       " 'type': 'JOB_TYPE_BATCH',\n",
       " 'currentState': 'JOB_STATE_FAILED',\n",
       " 'currentStateTime': '2023-02-11T17:26:19.888547Z',\n",
       " 'createTime': '2023-02-11T17:26:18.507370Z',\n",
       " 'location': 'us-central1',\n",
       " 'startTime': '2023-02-11T17:26:18.507370Z'}"
      ]
     },
     "execution_count": 20,
     "metadata": {},
     "output_type": "execute_result"
    }
   ],
   "source": [
    "jobs[0].raw_results"
   ]
  },
  {
   "cell_type": "code",
   "execution_count": 26,
   "id": "a65dbebf",
   "metadata": {},
   "outputs": [
    {
     "data": {
      "text/plain": [
       "{'id': '2023-02-10_17_40_00-5518646539704692818',\n",
       " 'projectId': 'manav-jit-test',\n",
       " 'name': 'test-word-count-mp--1676079600',\n",
       " 'type': 'JOB_TYPE_BATCH',\n",
       " 'environment': {'userAgent': {'container.base_repository': 'gcr.io/cloud-dataflow/v1beta3',\n",
       "   'fnapi.container.version': '2.44.0',\n",
       "   'java.version': '11.0.14.1',\n",
       "   'os.arch': 'amd64',\n",
       "   'os.version': '4.15.0-smp-926.51.0.0',\n",
       "   'legacy.environment.major.version': '8',\n",
       "   'name': 'Apache Beam SDK for Java',\n",
       "   'version': '2.44.0',\n",
       "   'java.vendor': 'Google Inc.',\n",
       "   'os.name': 'Linux',\n",
       "   'fnapi.environment.major.version': '8',\n",
       "   'legacy.container.version': '2.44.0'},\n",
       "  'version': {'major': '8', 'job_type': 'FNAPI_BATCH'},\n",
       "  'shuffleMode': 'SERVICE_BASED'},\n",
       " 'currentState': 'JOB_STATE_DONE',\n",
       " 'currentStateTime': '2023-02-11T01:44:43.482644Z',\n",
       " 'createTime': '2023-02-11T01:40:01.080300Z',\n",
       " 'labels': {'goog-dataflow-provided-template-name': 'word_count',\n",
       "  'goog-dataflow-provided-template-type': 'legacy',\n",
       "  'goog-dataflow-provided-template-version': '2023-01-29-00_rc00',\n",
       "  'goog-data-pipelines': 'test-word-count'},\n",
       " 'location': 'us-central1',\n",
       " 'stageStates': [{'executionStageName': 'F61',\n",
       "   'executionStageState': 'JOB_STATE_DONE',\n",
       "   'currentStateTime': '2023-02-11T01:43:54.030Z'},\n",
       "  {'executionStageName': 'F64',\n",
       "   'executionStageState': 'JOB_STATE_DONE',\n",
       "   'currentStateTime': '2023-02-11T01:42:46.280Z'},\n",
       "  {'executionStageName': 'WriteCounts-WriteFiles-GatherTempFileResults-Reify-ReifyViewInGlobalWindow-Create-Values-Read-Create3-split-with-sizing-out9',\n",
       "   'executionStageState': 'JOB_STATE_DONE',\n",
       "   'currentStateTime': '2023-02-11T01:42:46.346Z'},\n",
       "  {'executionStageName': 'WriteCounts/WriteFiles/GatherTempFileResults/Reify.ReifyViewInGlobalWindow/Reify.ReifyView/ParDo(Anonymous)/ParMultiDo(Anonymous)/View-org.apache.beam.sdk.values.PCollectionViews$SimplePCollectionView.<init>:1204#1abfe6cb40bcf2e7-key-and-window-out15-unsharded55',\n",
       "   'executionStageState': 'JOB_STATE_DONE',\n",
       "   'currentStateTime': '2023-02-11T01:43:07.422Z'},\n",
       "  {'executionStageName': 'F63',\n",
       "   'executionStageState': 'JOB_STATE_DONE',\n",
       "   'currentStateTime': '2023-02-11T01:43:52.602Z'},\n",
       "  {'executionStageName': 'start72',\n",
       "   'executionStageState': 'JOB_STATE_DONE',\n",
       "   'currentStateTime': '2023-02-11T01:40:10.543Z'},\n",
       "  {'executionStageName': 'WriteCounts-WriteFiles-FinalizeTempFileBundles-Reshuffle-ViaRandomKey-Reshuffle-GroupByKey-close-shuffle36',\n",
       "   'executionStageState': 'JOB_STATE_DONE',\n",
       "   'currentStateTime': '2023-02-11T01:43:53.682Z'},\n",
       "  {'executionStageName': 'success70',\n",
       "   'executionStageState': 'JOB_STATE_DONE',\n",
       "   'currentStateTime': '2023-02-11T01:43:54.073Z'},\n",
       "  {'executionStageName': 'WriteCounts-WriteFiles-WriteUnshardedBundlesToTempFiles-GroupUnwritten-close-shuffle42',\n",
       "   'executionStageState': 'JOB_STATE_DONE',\n",
       "   'currentStateTime': '2023-02-11T01:43:04.627Z'},\n",
       "  {'executionStageName': 'WriteCounts-WriteFiles-WriteUnshardedBundlesToTempFiles-GroupUnwritten-open-shuffle40',\n",
       "   'executionStageState': 'JOB_STATE_DONE',\n",
       "   'currentStateTime': '2023-02-11T01:43:01.302Z'},\n",
       "  {'executionStageName': 'WriteCounts-WriteFiles-WriteUnshardedBundlesToTempFiles-Flatten-PCollections-u48-u53',\n",
       "   'executionStageState': 'JOB_STATE_DONE',\n",
       "   'currentStateTime': '2023-02-11T01:43:07.355Z'},\n",
       "  {'executionStageName': 'WordCount-CountWords-Count-PerElement-Combine-perKey-Count--GroupByKey20-open-shuffle26',\n",
       "   'executionStageState': 'JOB_STATE_DONE',\n",
       "   'currentStateTime': '2023-02-11T01:42:52.863Z'},\n",
       "  {'executionStageName': 'WriteCounts/WriteFiles/GatherTempFileResults/Reify.ReifyViewInGlobalWindow/Reify.ReifyView/ParDo(Anonymous)/ParMultiDo(Anonymous)/View-org.apache.beam.sdk.values.PCollectionViews$SimplePCollectionView.<init>:1204#1abfe6cb40bcf2e7-key-and-window-out15-c51',\n",
       "   'executionStageState': 'JOB_STATE_DONE',\n",
       "   'currentStateTime': '2023-02-11T01:43:07.205Z'},\n",
       "  {'executionStageName': 'WriteCounts-WriteFiles-FinalizeTempFileBundles-Reshuffle-ViaRandomKey-Reshuffle-GroupByKey-shuffle-session33',\n",
       "   'executionStageState': 'JOB_STATE_DONE',\n",
       "   'currentStateTime': '2023-02-11T01:43:47.760Z'},\n",
       "  {'executionStageName': 'F67',\n",
       "   'executionStageState': 'JOB_STATE_DONE',\n",
       "   'currentStateTime': '2023-02-11T01:42:48.046Z'},\n",
       "  {'executionStageName': 'WordCount-CountWords-Count-PerElement-Combine-perKey-Count--GroupByKey20-close-shuffle28',\n",
       "   'executionStageState': 'JOB_STATE_DONE',\n",
       "   'currentStateTime': '2023-02-11T01:43:01.085Z'},\n",
       "  {'executionStageName': 'WriteCounts/WriteFiles/GatherTempFileResults/Reify.ReifyViewInGlobalWindow/Reify.ReifyView/ParDo(Anonymous)/ParMultiDo(Anonymous)/View-org.apache.beam.sdk.values.PCollectionViews$SimplePCollectionView.<init>:1204#1abfe6cb40bcf2e7-view-out13',\n",
       "   'executionStageState': 'JOB_STATE_DONE',\n",
       "   'currentStateTime': '2023-02-11T01:43:47.389Z'},\n",
       "  {'executionStageName': 'WriteCounts-WriteFiles-FinalizeTempFileBundles-Reshuffle-ViaRandomKey-Reshuffle-GroupByKey-open-shuffle34',\n",
       "   'executionStageState': 'JOB_STATE_DONE',\n",
       "   'currentStateTime': '2023-02-11T01:43:47.714Z'},\n",
       "  {'executionStageName': 'F66',\n",
       "   'executionStageState': 'JOB_STATE_DONE',\n",
       "   'currentStateTime': '2023-02-11T01:43:00.986Z'},\n",
       "  {'executionStageName': 'WriteCounts/WriteFiles/GatherTempFileResults/Reify.ReifyViewInGlobalWindow/Reify.ReifyView/ParDo(Anonymous)/ParMultiDo(Anonymous)/View-org.apache.beam.sdk.values.PCollectionViews$SimplePCollectionView.<init>:1204#1abfe6cb40bcf2e7-key-and-window-out15-shuffle-session56',\n",
       "   'executionStageState': 'JOB_STATE_DONE',\n",
       "   'currentStateTime': '2023-02-11T01:43:07.753Z'},\n",
       "  {'executionStageName': 'WriteCounts/WriteFiles/GatherTempFileResults/Reify.ReifyViewInGlobalWindow/Reify.ReifyView/ParDo(Anonymous)/ParMultiDo(Anonymous)/View-org.apache.beam.sdk.values.PCollectionViews$SimplePCollectionView.<init>:1204#1abfe6cb40bcf2e7-key-and-window-out15-c52',\n",
       "   'executionStageState': 'JOB_STATE_DONE',\n",
       "   'currentStateTime': '2023-02-11T01:43:04.535Z'},\n",
       "  {'executionStageName': 'WriteCounts/WriteFiles/GatherTempFileResults/Reify.ReifyViewInGlobalWindow/Reify.ReifyView/ParDo(Anonymous)/ParMultiDo(Anonymous)/View-org.apache.beam.sdk.values.PCollectionViews$SimplePCollectionView.<init>:1204#1abfe6cb40bcf2e7-key-and-window-out15-open-shuffle57',\n",
       "   'executionStageState': 'JOB_STATE_DONE',\n",
       "   'currentStateTime': '2023-02-11T01:43:07.687Z'},\n",
       "  {'executionStageName': 'F68',\n",
       "   'executionStageState': 'JOB_STATE_DONE',\n",
       "   'currentStateTime': '2023-02-11T01:43:09.699Z'},\n",
       "  {'executionStageName': 'F62',\n",
       "   'executionStageState': 'JOB_STATE_DONE',\n",
       "   'currentStateTime': '2023-02-11T01:43:07.148Z'},\n",
       "  {'executionStageName': 'WordCount-CountWords-Count-PerElement-Combine-perKey-Count--GroupByKey20-shuffle-session25',\n",
       "   'executionStageState': 'JOB_STATE_DONE',\n",
       "   'currentStateTime': '2023-02-11T01:42:52.923Z'},\n",
       "  {'executionStageName': 'WriteCounts-WriteFiles-WriteUnshardedBundlesToTempFiles-GroupUnwritten-shuffle-session39',\n",
       "   'executionStageState': 'JOB_STATE_DONE',\n",
       "   'currentStateTime': '2023-02-11T01:43:01.349Z'},\n",
       "  {'executionStageName': 'WriteCounts/WriteFiles/GatherTempFileResults/Reify.ReifyViewInGlobalWindow/Reify.ReifyView/ParDo(Anonymous)/ParMultiDo(Anonymous)/View-org.apache.beam.sdk.values.PCollectionViews$SimplePCollectionView.<init>:1204#1abfe6cb40bcf2e7-key-and-window-out15',\n",
       "   'executionStageState': 'JOB_STATE_DONE',\n",
       "   'currentStateTime': '2023-02-11T01:43:47.241Z'},\n",
       "  {'executionStageName': 'ReadLines-Read-ParDo-BoundedSourceAsSDFWrapper--ParMultiDo-BoundedSourceAsSDFWrapper--split-with-sizing-out3',\n",
       "   'executionStageState': 'JOB_STATE_DONE',\n",
       "   'currentStateTime': '2023-02-11T01:42:48.102Z'},\n",
       "  {'executionStageName': 'F69',\n",
       "   'executionStageState': 'JOB_STATE_DONE',\n",
       "   'currentStateTime': '2023-02-11T01:43:47.193Z'},\n",
       "  {'executionStageName': 'WriteCounts/WriteFiles/GatherTempFileResults/Reify.ReifyViewInGlobalWindow/Reify.ReifyView/ParDo(Anonymous)/ParMultiDo(Anonymous)/View-org.apache.beam.sdk.values.PCollectionViews$SimplePCollectionView.<init>:1204#1abfe6cb40bcf2e7-key-and-window-out15-close-shuffle59',\n",
       "   'executionStageState': 'JOB_STATE_DONE',\n",
       "   'currentStateTime': '2023-02-11T01:43:09.825Z'},\n",
       "  {'executionStageName': 'failure71',\n",
       "   'executionStageState': 'JOB_STATE_PENDING',\n",
       "   'currentStateTime': '2023-02-11T01:40:10.428Z'},\n",
       "  {'executionStageName': 'F65',\n",
       "   'executionStageState': 'JOB_STATE_DONE',\n",
       "   'currentStateTime': '2023-02-11T01:43:04.476Z'},\n",
       "  {'executionStageName': 'WriteCounts/WriteFiles/GatherTempFileResults/Reify.ReifyViewInGlobalWindow/Reify.ReifyView/ParDo(Anonymous)/ParMultiDo(Anonymous)/View-org.apache.beam.sdk.values.PCollectionViews$SimplePCollectionView.<init>:1204#1abfe6cb40bcf2e7-view12',\n",
       "   'executionStageState': 'JOB_STATE_DONE',\n",
       "   'currentStateTime': '2023-02-11T01:43:47.342Z'}],\n",
       " 'jobMetadata': {'sdkVersion': {'version': '2.44.0',\n",
       "   'versionDisplayName': 'Apache Beam SDK for Java',\n",
       "   'sdkSupportStatus': 'SUPPORTED'}},\n",
       " 'startTime': '2023-02-11T01:40:01.080300Z'}"
      ]
     },
     "execution_count": 26,
     "metadata": {},
     "output_type": "execute_result"
    }
   ],
   "source": [
    "jobs[2].details"
   ]
  },
  {
   "cell_type": "markdown",
   "id": "83fec383",
   "metadata": {},
   "source": [
    "## Create Job From Template (Word Count)"
   ]
  },
  {
   "cell_type": "code",
   "execution_count": 66,
   "id": "a8b488bb",
   "metadata": {},
   "outputs": [],
   "source": [
    "from df import options as op"
   ]
  },
  {
   "cell_type": "code",
   "execution_count": 67,
   "id": "26ccd48f",
   "metadata": {},
   "outputs": [],
   "source": [
    "# the options are mapped to the Dataflow API options internally\n",
    "my_word_count = op.WordCountTemplate(job_name=\"test-xqhu-df-8\", input_file=\"gs://dataflow-samples/shakespeare/kinglear.txt\", output_file=\"gs://pydf_test_bucket/results/output\")"
   ]
  },
  {
   "cell_type": "code",
   "execution_count": 68,
   "id": "a001a93b",
   "metadata": {},
   "outputs": [
    {
     "data": {
      "text/plain": [
       "WordCountTemplate(environment=Environment(zone='us-central1-f'), gcs_path='gs://dataflow-templates/latest/Word_Count', job_name='test-xqhu-df-8', input_file='gs://dataflow-samples/shakespeare/kinglear.txt', output_file='gs://pydf_test_bucket/results/output')"
      ]
     },
     "execution_count": 68,
     "metadata": {},
     "output_type": "execute_result"
    }
   ],
   "source": [
    "my_word_count"
   ]
  },
  {
   "cell_type": "code",
   "execution_count": 69,
   "id": "40931cde",
   "metadata": {},
   "outputs": [
    {
     "data": {
      "text/plain": [
       "{'gcsPath': 'gs://dataflow-templates/latest/Word_Count',\n",
       " 'jobName': 'test-xqhu-df-8',\n",
       " 'parameters': {'inputFile': 'gs://dataflow-samples/shakespeare/kinglear.txt',\n",
       "  'output': 'gs://pydf_test_bucket/results/output'},\n",
       " 'environment': {'zone': 'us-central1-f'}}"
      ]
     },
     "execution_count": 69,
     "metadata": {},
     "output_type": "execute_result"
    }
   ],
   "source": [
    "my_word_count.body"
   ]
  },
  {
   "cell_type": "code",
   "execution_count": 70,
   "id": "12fff568",
   "metadata": {},
   "outputs": [
    {
     "data": {
      "text/plain": [
       "Job(name='test-xqhu-df-8', id='2022-11-12_13_35_35-2538083345406996981')"
      ]
     },
     "execution_count": 70,
     "metadata": {},
     "output_type": "execute_result"
    }
   ],
   "source": [
    "dw.create_job_from_template(template=my_word_count)"
   ]
  },
  {
   "cell_type": "code",
   "execution_count": 71,
   "id": "72a9419a",
   "metadata": {},
   "outputs": [
    {
     "data": {
      "text/plain": [
       "Job(name='test-xqhu-df-8', id='2022-11-12_13_35_35-2538083345406996981')"
      ]
     },
     "execution_count": 71,
     "metadata": {},
     "output_type": "execute_result"
    }
   ],
   "source": [
    "jobs = dw.list_jobs()\n",
    "jobs[0]"
   ]
  },
  {
   "cell_type": "code",
   "execution_count": 73,
   "id": "6241e010",
   "metadata": {},
   "outputs": [
    {
     "data": {
      "text/plain": [
       "Job(name='test-xqhu-df-8', id='2022-11-12_13_35_35-2538083345406996981')"
      ]
     },
     "execution_count": 73,
     "metadata": {},
     "output_type": "execute_result"
    }
   ],
   "source": [
    "# cancel a job\n",
    "jobs[0].cancel()"
   ]
  },
  {
   "cell_type": "code",
   "execution_count": null,
   "id": "72bc2492",
   "metadata": {},
   "outputs": [],
   "source": []
  }
 ],
 "metadata": {
  "kernelspec": {
   "display_name": "Python 3.9.13 ('venv': venv)",
   "language": "python",
   "name": "python3"
  },
  "language_info": {
   "codemirror_mode": {
    "name": "ipython",
    "version": 3
   },
   "file_extension": ".py",
   "mimetype": "text/x-python",
   "name": "python",
   "nbconvert_exporter": "python",
   "pygments_lexer": "ipython3",
   "version": "3.9.13"
  },
  "vscode": {
   "interpreter": {
    "hash": "6f737920f730edbd29bf5d9c00b412287b0c2b244b77025b95628ee3d308af8f"
   }
  }
 },
 "nbformat": 4,
 "nbformat_minor": 5
}
