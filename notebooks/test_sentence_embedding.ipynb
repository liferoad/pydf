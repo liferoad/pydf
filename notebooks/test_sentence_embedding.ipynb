{
 "cells": [
  {
   "cell_type": "code",
   "execution_count": 4,
   "id": "51ae9541-ff14-4cf8-b5c9-5cec9b78fda0",
   "metadata": {},
   "outputs": [],
   "source": [
    "# !pip install -U sentence-transformers"
   ]
  },
  {
   "cell_type": "code",
   "execution_count": 1,
   "id": "60f83d12-e6cf-424e-a7f1-e2c866f39125",
   "metadata": {},
   "outputs": [],
   "source": [
    "from sentence_transformers import SentenceTransformer\n",
    "model = SentenceTransformer('all-MiniLM-L6-v2')"
   ]
  },
  {
   "cell_type": "code",
   "execution_count": 55,
   "id": "228fcd2a-fb64-4a57-9595-ffb605f990ce",
   "metadata": {},
   "outputs": [],
   "source": [
    "sentences = ['This framework generates embeddings for each input sentence',\n",
    "    'Sentences are passed as a list of string.', \n",
    "    'The quick brown fox jumps over the lazy dog.']\n",
    "sentences_1 = ['This framework generates embeddings for each input sentence',]"
   ]
  },
  {
   "cell_type": "code",
   "execution_count": 2,
   "id": "c10cc749-dc66-4414-b904-172749beaa93",
   "metadata": {},
   "outputs": [],
   "source": [
    "sentence_embeddings = model.encode(sentences)"
   ]
  },
  {
   "cell_type": "code",
   "execution_count": 3,
   "id": "8d2427e6-3873-4f75-851e-0f3f9d5c0251",
   "metadata": {},
   "outputs": [
    {
     "data": {
      "text/plain": [
       "(3, 384)"
      ]
     },
     "execution_count": 3,
     "metadata": {},
     "output_type": "execute_result"
    }
   ],
   "source": [
    "sentence_embeddings.shape"
   ]
  },
  {
   "cell_type": "code",
   "execution_count": 5,
   "id": "7f39f244-6e6e-4b5b-828c-63d9d863f120",
   "metadata": {},
   "outputs": [
    {
     "data": {
      "text/plain": [
       "numpy.ndarray"
      ]
     },
     "execution_count": 5,
     "metadata": {},
     "output_type": "execute_result"
    }
   ],
   "source": [
    "type(sentence_embeddings)"
   ]
  },
  {
   "cell_type": "code",
   "execution_count": 32,
   "id": "c016d7f3-5e1d-47db-b486-8e3a478006e7",
   "metadata": {},
   "outputs": [],
   "source": [
    "import apache_beam as beam\n",
    "from apache_beam.runners.interactive.interactive_runner import InteractiveRunner\n",
    "import apache_beam.runners.interactive.interactive_beam as ib"
   ]
  },
  {
   "cell_type": "code",
   "execution_count": 33,
   "id": "365eb3f2-3cfd-4892-bfd7-9b23ffe0ec99",
   "metadata": {},
   "outputs": [],
   "source": [
    "from apache_beam.options.pipeline_options import PipelineOptions"
   ]
  },
  {
   "cell_type": "code",
   "execution_count": 58,
   "id": "fc69c3d8-6710-4878-97cf-30cd3f9ba116",
   "metadata": {},
   "outputs": [],
   "source": [
    "p = beam.Pipeline(InteractiveRunner(), options=PipelineOptions())"
   ]
  },
  {
   "cell_type": "code",
   "execution_count": 59,
   "id": "10737502-98b7-464f-a655-1a46469e0328",
   "metadata": {},
   "outputs": [
    {
     "name": "stderr",
     "output_type": "stream",
     "text": [
      "WARNING:apache_beam.options.pipeline_options:Discarding unparseable args: ['-f', '/Users/xqhu/Library/Jupyter/runtime/kernel-a377276a-a685-43d6-b922-26ee5729ccd2.json']\n"
     ]
    }
   ],
   "source": [
    "output = p | beam.Create(sentences) | beam.Map(lambda x: [model.encode(x)])"
   ]
  },
  {
   "cell_type": "code",
   "execution_count": 60,
   "id": "e40d5907-d37c-40cf-a906-d62ee04790c2",
   "metadata": {},
   "outputs": [],
   "source": [
    "output1 = p | beam.Create(sentences_1) | beam.Map(lambda x: [model.encode(x)])"
   ]
  },
  {
   "cell_type": "code",
   "execution_count": 61,
   "id": "3ffb79f8-1860-4a96-ab62-253f8b61d5f9",
   "metadata": {},
   "outputs": [
    {
     "data": {
      "text/html": [
       "\n",
       "            <link rel=\"stylesheet\" href=\"https://stackpath.bootstrapcdn.com/bootstrap/4.4.1/css/bootstrap.min.css\" integrity=\"sha384-Vkoo8x4CGsO3+Hhxv8T/Q5PaXtkKtu6ug5TOeNV6gBiFeWPGFN9MuhOf23Q9Ifjh\" crossorigin=\"anonymous\">\n",
       "            <div id=\"progress_indicator_b1cdfa6fd690d98a21470469afd99ced\">\n",
       "              <div class=\"spinner-border text-info\" role=\"status\"></div>\n",
       "              <span class=\"text-info\">Processing... show_graph</span>\n",
       "            </div>\n",
       "            "
      ],
      "text/plain": [
       "<IPython.core.display.HTML object>"
      ]
     },
     "metadata": {},
     "output_type": "display_data"
    },
    {
     "name": "stdout",
     "output_type": "stream",
     "text": [
      "huggingface/tokenizers: The current process just got forked, after parallelism has already been used. Disabling parallelism to avoid deadlocks...\n",
      "To disable this warning, you can either:\n",
      "\t- Avoid using `tokenizers` before the fork if possible\n",
      "\t- Explicitly set the environment variable TOKENIZERS_PARALLELISM=(true | false)\n",
      "/usr/local/bin/dot\n",
      "huggingface/tokenizers: The current process just got forked, after parallelism has already been used. Disabling parallelism to avoid deadlocks...\n",
      "To disable this warning, you can either:\n",
      "\t- Avoid using `tokenizers` before the fork if possible\n",
      "\t- Explicitly set the environment variable TOKENIZERS_PARALLELISM=(true | false)\n"
     ]
    },
    {
     "data": {
      "text/html": [
       "<?xml version=\"1.0\" encoding=\"UTF-8\" standalone=\"no\"?>\n",
       "<!DOCTYPE svg PUBLIC \"-//W3C//DTD SVG 1.1//EN\"\n",
       " \"http://www.w3.org/Graphics/SVG/1.1/DTD/svg11.dtd\">\n",
       "<!-- Generated by graphviz version 5.0.0 (20220707.1540)\n",
       " -->\n",
       "<!-- Title: G Pages: 1 -->\n",
       "<svg width=\"522pt\" height=\"299pt\"\n",
       " viewBox=\"0.00 0.00 521.50 299.39\" xmlns=\"http://www.w3.org/2000/svg\" xmlns:xlink=\"http://www.w3.org/1999/xlink\">\n",
       "<g id=\"graph0\" class=\"graph\" transform=\"scale(1 1) rotate(0) translate(4 295.39)\">\n",
       "<title>G</title>\n",
       "<polygon fill=\"white\" stroke=\"transparent\" points=\"-4,4 -4,-295.39 517.5,-295.39 517.5,4 -4,4\"/>\n",
       "<!-- [59]: Create -->\n",
       "<g id=\"node1\" class=\"node\">\n",
       "<title>[59]: Create</title>\n",
       "<polygon fill=\"none\" stroke=\"blue\" points=\"166.5,-291.39 84.5,-291.39 84.5,-255.39 166.5,-255.39 166.5,-291.39\"/>\n",
       "<text text-anchor=\"middle\" x=\"125.5\" y=\"-269.69\" font-family=\"Times,serif\" font-size=\"14.00\" fill=\"blue\">[59]: Create</text>\n",
       "</g>\n",
       "<!-- pcoll8592 -->\n",
       "<g id=\"node2\" class=\"node\">\n",
       "<title>pcoll8592</title>\n",
       "<ellipse fill=\"none\" stroke=\"blue\" cx=\"125.5\" cy=\"-201.39\" rx=\"18\" ry=\"18\"/>\n",
       "</g>\n",
       "<!-- [59]: Create&#45;&gt;pcoll8592 -->\n",
       "<g id=\"edge1\" class=\"edge\">\n",
       "<title>[59]: Create&#45;&gt;pcoll8592</title>\n",
       "<path fill=\"none\" stroke=\"black\" d=\"M125.5,-255.09C125.5,-247.38 125.5,-238.11 125.5,-229.51\"/>\n",
       "<polygon fill=\"black\" stroke=\"black\" points=\"129,-229.5 125.5,-219.5 122,-229.5 129,-229.5\"/>\n",
       "</g>\n",
       "<!-- [59]: Map(&lt;lambda at 2598773449.py:1&gt;) -->\n",
       "<g id=\"node3\" class=\"node\">\n",
       "<title>[59]: Map(&lt;lambda at 2598773449.py:1&gt;)</title>\n",
       "<polygon fill=\"none\" stroke=\"blue\" points=\"251,-147.39 0,-147.39 0,-111.39 251,-111.39 251,-147.39\"/>\n",
       "<text text-anchor=\"middle\" x=\"125.5\" y=\"-125.69\" font-family=\"Times,serif\" font-size=\"14.00\" fill=\"blue\">[59]: Map(&lt;lambda at 2598773449.py:1&gt;)</text>\n",
       "</g>\n",
       "<!-- pcoll8592&#45;&gt;[59]: Map(&lt;lambda at 2598773449.py:1&gt;) -->\n",
       "<g id=\"edge2\" class=\"edge\">\n",
       "<title>pcoll8592&#45;&gt;[59]: Map(&lt;lambda at 2598773449.py:1&gt;)</title>\n",
       "<path fill=\"none\" stroke=\"black\" d=\"M125.5,-183.09C125.5,-175.38 125.5,-166.11 125.5,-157.51\"/>\n",
       "<polygon fill=\"black\" stroke=\"black\" points=\"129,-157.5 125.5,-147.5 122,-157.5 129,-157.5\"/>\n",
       "</g>\n",
       "<!-- output -->\n",
       "<g id=\"node4\" class=\"node\">\n",
       "<title>output</title>\n",
       "<ellipse fill=\"none\" stroke=\"blue\" cx=\"125.5\" cy=\"-37.7\" rx=\"33.29\" ry=\"33.29\"/>\n",
       "<text text-anchor=\"middle\" x=\"125.5\" y=\"-34\" font-family=\"Times,serif\" font-size=\"14.00\" fill=\"blue\">output</text>\n",
       "</g>\n",
       "<!-- [59]: Map(&lt;lambda at 2598773449.py:1&gt;)&#45;&gt;output -->\n",
       "<g id=\"edge3\" class=\"edge\">\n",
       "<title>[59]: Map(&lt;lambda at 2598773449.py:1&gt;)&#45;&gt;output</title>\n",
       "<path fill=\"none\" stroke=\"black\" d=\"M125.5,-111.1C125.5,-102.53 125.5,-91.78 125.5,-81.2\"/>\n",
       "<polygon fill=\"black\" stroke=\"black\" points=\"129,-81.19 125.5,-71.19 122,-81.19 129,-81.19\"/>\n",
       "</g>\n",
       "<!-- [60]: Create -->\n",
       "<g id=\"node5\" class=\"node\">\n",
       "<title>[60]: Create</title>\n",
       "<polygon fill=\"none\" stroke=\"blue\" points=\"432.5,-291.39 350.5,-291.39 350.5,-255.39 432.5,-255.39 432.5,-291.39\"/>\n",
       "<text text-anchor=\"middle\" x=\"391.5\" y=\"-269.69\" font-family=\"Times,serif\" font-size=\"14.00\" fill=\"blue\">[60]: Create</text>\n",
       "</g>\n",
       "<!-- pcoll5294 -->\n",
       "<g id=\"node6\" class=\"node\">\n",
       "<title>pcoll5294</title>\n",
       "<ellipse fill=\"none\" stroke=\"blue\" cx=\"391.5\" cy=\"-201.39\" rx=\"18\" ry=\"18\"/>\n",
       "</g>\n",
       "<!-- [60]: Create&#45;&gt;pcoll5294 -->\n",
       "<g id=\"edge4\" class=\"edge\">\n",
       "<title>[60]: Create&#45;&gt;pcoll5294</title>\n",
       "<path fill=\"none\" stroke=\"black\" d=\"M391.5,-255.09C391.5,-247.38 391.5,-238.11 391.5,-229.51\"/>\n",
       "<polygon fill=\"black\" stroke=\"black\" points=\"395,-229.5 391.5,-219.5 388,-229.5 395,-229.5\"/>\n",
       "</g>\n",
       "<!-- [60]: Map(&lt;lambda at 940352044.py:1&gt;) -->\n",
       "<g id=\"node7\" class=\"node\">\n",
       "<title>[60]: Map(&lt;lambda at 940352044.py:1&gt;)</title>\n",
       "<polygon fill=\"none\" stroke=\"blue\" points=\"513.5,-147.39 269.5,-147.39 269.5,-111.39 513.5,-111.39 513.5,-147.39\"/>\n",
       "<text text-anchor=\"middle\" x=\"391.5\" y=\"-125.69\" font-family=\"Times,serif\" font-size=\"14.00\" fill=\"blue\">[60]: Map(&lt;lambda at 940352044.py:1&gt;)</text>\n",
       "</g>\n",
       "<!-- pcoll5294&#45;&gt;[60]: Map(&lt;lambda at 940352044.py:1&gt;) -->\n",
       "<g id=\"edge5\" class=\"edge\">\n",
       "<title>pcoll5294&#45;&gt;[60]: Map(&lt;lambda at 940352044.py:1&gt;)</title>\n",
       "<path fill=\"none\" stroke=\"black\" d=\"M391.5,-183.09C391.5,-175.38 391.5,-166.11 391.5,-157.51\"/>\n",
       "<polygon fill=\"black\" stroke=\"black\" points=\"395,-157.5 391.5,-147.5 388,-157.5 395,-157.5\"/>\n",
       "</g>\n",
       "<!-- output1 -->\n",
       "<g id=\"node8\" class=\"node\">\n",
       "<title>output1</title>\n",
       "<ellipse fill=\"none\" stroke=\"blue\" cx=\"391.5\" cy=\"-37.7\" rx=\"37.89\" ry=\"37.89\"/>\n",
       "<text text-anchor=\"middle\" x=\"391.5\" y=\"-34\" font-family=\"Times,serif\" font-size=\"14.00\" fill=\"blue\">output1</text>\n",
       "</g>\n",
       "<!-- [60]: Map(&lt;lambda at 940352044.py:1&gt;)&#45;&gt;output1 -->\n",
       "<g id=\"edge6\" class=\"edge\">\n",
       "<title>[60]: Map(&lt;lambda at 940352044.py:1&gt;)&#45;&gt;output1</title>\n",
       "<path fill=\"none\" stroke=\"black\" d=\"M391.5,-111.1C391.5,-103.78 391.5,-94.85 391.5,-85.8\"/>\n",
       "<polygon fill=\"black\" stroke=\"black\" points=\"395,-85.62 391.5,-75.62 388,-85.62 395,-85.62\"/>\n",
       "</g>\n",
       "</g>\n",
       "</svg>\n"
      ],
      "text/plain": [
       "<IPython.core.display.HTML object>"
      ]
     },
     "metadata": {},
     "output_type": "display_data"
    },
    {
     "data": {
      "application/javascript": [
       "\n",
       "        if (typeof window.interactive_beam_jquery == 'undefined') {\n",
       "          var jqueryScript = document.createElement('script');\n",
       "          jqueryScript.src = 'https://code.jquery.com/jquery-3.4.1.slim.min.js';\n",
       "          jqueryScript.type = 'text/javascript';\n",
       "          jqueryScript.onload = function() {\n",
       "            var datatableScript = document.createElement('script');\n",
       "            datatableScript.src = 'https://cdn.datatables.net/1.10.20/js/jquery.dataTables.min.js';\n",
       "            datatableScript.type = 'text/javascript';\n",
       "            datatableScript.onload = function() {\n",
       "              window.interactive_beam_jquery = jQuery.noConflict(true);\n",
       "              window.interactive_beam_jquery(document).ready(function($){\n",
       "                \n",
       "            $(\"#progress_indicator_b1cdfa6fd690d98a21470469afd99ced\").remove();\n",
       "              });\n",
       "            }\n",
       "            document.head.appendChild(datatableScript);\n",
       "          };\n",
       "          document.head.appendChild(jqueryScript);\n",
       "        } else {\n",
       "          window.interactive_beam_jquery(document).ready(function($){\n",
       "            \n",
       "            $(\"#progress_indicator_b1cdfa6fd690d98a21470469afd99ced\").remove();\n",
       "          });\n",
       "        }"
      ]
     },
     "metadata": {},
     "output_type": "display_data"
    }
   ],
   "source": [
    "ib.show_graph(p)"
   ]
  },
  {
   "cell_type": "code",
   "execution_count": 62,
   "id": "123363e7-84f9-4bf3-8933-d7552bd33cf9",
   "metadata": {},
   "outputs": [
    {
     "data": {
      "text/html": [
       "\n",
       "            <link rel=\"stylesheet\" href=\"https://stackpath.bootstrapcdn.com/bootstrap/4.4.1/css/bootstrap.min.css\" integrity=\"sha384-Vkoo8x4CGsO3+Hhxv8T/Q5PaXtkKtu6ug5TOeNV6gBiFeWPGFN9MuhOf23Q9Ifjh\" crossorigin=\"anonymous\">\n",
       "            <div id=\"progress_indicator_f48ef6f6a248cf0c486b3de1c914c596\">\n",
       "              <div class=\"spinner-border text-info\" role=\"status\"></div>\n",
       "              <span class=\"text-info\">Processing... collect</span>\n",
       "            </div>\n",
       "            "
      ],
      "text/plain": [
       "<IPython.core.display.HTML object>"
      ]
     },
     "metadata": {},
     "output_type": "display_data"
    },
    {
     "name": "stderr",
     "output_type": "stream",
     "text": [
      "WARNING:apache_beam.options.pipeline_options:Discarding unparseable args: ['-f', '/Users/xqhu/Library/Jupyter/runtime/kernel-a377276a-a685-43d6-b922-26ee5729ccd2.json']\n"
     ]
    },
    {
     "data": {
      "application/javascript": [
       "\n",
       "        if (typeof window.interactive_beam_jquery == 'undefined') {\n",
       "          var jqueryScript = document.createElement('script');\n",
       "          jqueryScript.src = 'https://code.jquery.com/jquery-3.4.1.slim.min.js';\n",
       "          jqueryScript.type = 'text/javascript';\n",
       "          jqueryScript.onload = function() {\n",
       "            var datatableScript = document.createElement('script');\n",
       "            datatableScript.src = 'https://cdn.datatables.net/1.10.20/js/jquery.dataTables.min.js';\n",
       "            datatableScript.type = 'text/javascript';\n",
       "            datatableScript.onload = function() {\n",
       "              window.interactive_beam_jquery = jQuery.noConflict(true);\n",
       "              window.interactive_beam_jquery(document).ready(function($){\n",
       "                \n",
       "            $(\"#progress_indicator_f48ef6f6a248cf0c486b3de1c914c596\").remove();\n",
       "              });\n",
       "            }\n",
       "            document.head.appendChild(datatableScript);\n",
       "          };\n",
       "          document.head.appendChild(jqueryScript);\n",
       "        } else {\n",
       "          window.interactive_beam_jquery(document).ready(function($){\n",
       "            \n",
       "            $(\"#progress_indicator_f48ef6f6a248cf0c486b3de1c914c596\").remove();\n",
       "          });\n",
       "        }"
      ]
     },
     "metadata": {},
     "output_type": "display_data"
    }
   ],
   "source": [
    "res = ib.collect(output)"
   ]
  },
  {
   "cell_type": "code",
   "execution_count": 63,
   "id": "81934814-351b-4b3c-851e-a67fd8c2ce0e",
   "metadata": {},
   "outputs": [
    {
     "data": {
      "text/plain": [
       "(3, 1)"
      ]
     },
     "execution_count": 63,
     "metadata": {},
     "output_type": "execute_result"
    }
   ],
   "source": [
    "res.shape"
   ]
  },
  {
   "cell_type": "code",
   "execution_count": 64,
   "id": "9c8f34f0-e466-4d02-a373-0cf6b08ee721",
   "metadata": {},
   "outputs": [
    {
     "data": {
      "text/html": [
       "<div>\n",
       "<style scoped>\n",
       "    .dataframe tbody tr th:only-of-type {\n",
       "        vertical-align: middle;\n",
       "    }\n",
       "\n",
       "    .dataframe tbody tr th {\n",
       "        vertical-align: top;\n",
       "    }\n",
       "\n",
       "    .dataframe thead th {\n",
       "        text-align: right;\n",
       "    }\n",
       "</style>\n",
       "<table border=\"1\" class=\"dataframe\">\n",
       "  <thead>\n",
       "    <tr style=\"text-align: right;\">\n",
       "      <th></th>\n",
       "      <th>0</th>\n",
       "    </tr>\n",
       "  </thead>\n",
       "  <tbody>\n",
       "    <tr>\n",
       "      <th>0</th>\n",
       "      <td>[-0.013717369, -0.042851534, -0.015628567, 0.0...</td>\n",
       "    </tr>\n",
       "    <tr>\n",
       "      <th>1</th>\n",
       "      <td>[0.0564525, 0.055002406, 0.03137959, 0.0339485...</td>\n",
       "    </tr>\n",
       "    <tr>\n",
       "      <th>2</th>\n",
       "      <td>[0.04393355, 0.058934387, 0.048178356, 0.07754...</td>\n",
       "    </tr>\n",
       "  </tbody>\n",
       "</table>\n",
       "</div>"
      ],
      "text/plain": [
       "                                                   0\n",
       "0  [-0.013717369, -0.042851534, -0.015628567, 0.0...\n",
       "1  [0.0564525, 0.055002406, 0.03137959, 0.0339485...\n",
       "2  [0.04393355, 0.058934387, 0.048178356, 0.07754..."
      ]
     },
     "execution_count": 64,
     "metadata": {},
     "output_type": "execute_result"
    }
   ],
   "source": [
    "res"
   ]
  },
  {
   "cell_type": "code",
   "execution_count": 65,
   "id": "d6e67a00-b240-44e6-a15c-1cf2466c2b99",
   "metadata": {},
   "outputs": [
    {
     "data": {
      "text/html": [
       "\n",
       "            <link rel=\"stylesheet\" href=\"https://stackpath.bootstrapcdn.com/bootstrap/4.4.1/css/bootstrap.min.css\" integrity=\"sha384-Vkoo8x4CGsO3+Hhxv8T/Q5PaXtkKtu6ug5TOeNV6gBiFeWPGFN9MuhOf23Q9Ifjh\" crossorigin=\"anonymous\">\n",
       "            <div id=\"progress_indicator_3766a01e60b9606d8e9aad8af9176738\">\n",
       "              <div class=\"spinner-border text-info\" role=\"status\"></div>\n",
       "              <span class=\"text-info\">Processing... collect</span>\n",
       "            </div>\n",
       "            "
      ],
      "text/plain": [
       "<IPython.core.display.HTML object>"
      ]
     },
     "metadata": {},
     "output_type": "display_data"
    },
    {
     "name": "stderr",
     "output_type": "stream",
     "text": [
      "WARNING:apache_beam.options.pipeline_options:Discarding unparseable args: ['-f', '/Users/xqhu/Library/Jupyter/runtime/kernel-a377276a-a685-43d6-b922-26ee5729ccd2.json']\n"
     ]
    },
    {
     "data": {
      "application/javascript": [
       "\n",
       "        if (typeof window.interactive_beam_jquery == 'undefined') {\n",
       "          var jqueryScript = document.createElement('script');\n",
       "          jqueryScript.src = 'https://code.jquery.com/jquery-3.4.1.slim.min.js';\n",
       "          jqueryScript.type = 'text/javascript';\n",
       "          jqueryScript.onload = function() {\n",
       "            var datatableScript = document.createElement('script');\n",
       "            datatableScript.src = 'https://cdn.datatables.net/1.10.20/js/jquery.dataTables.min.js';\n",
       "            datatableScript.type = 'text/javascript';\n",
       "            datatableScript.onload = function() {\n",
       "              window.interactive_beam_jquery = jQuery.noConflict(true);\n",
       "              window.interactive_beam_jquery(document).ready(function($){\n",
       "                \n",
       "            $(\"#progress_indicator_3766a01e60b9606d8e9aad8af9176738\").remove();\n",
       "              });\n",
       "            }\n",
       "            document.head.appendChild(datatableScript);\n",
       "          };\n",
       "          document.head.appendChild(jqueryScript);\n",
       "        } else {\n",
       "          window.interactive_beam_jquery(document).ready(function($){\n",
       "            \n",
       "            $(\"#progress_indicator_3766a01e60b9606d8e9aad8af9176738\").remove();\n",
       "          });\n",
       "        }"
      ]
     },
     "metadata": {},
     "output_type": "display_data"
    }
   ],
   "source": [
    "res1 = ib.collect(output1)"
   ]
  },
  {
   "cell_type": "code",
   "execution_count": 66,
   "id": "8a46e7c7-b6bb-4b66-b79e-2ae0f561a53a",
   "metadata": {},
   "outputs": [
    {
     "data": {
      "text/html": [
       "<div>\n",
       "<style scoped>\n",
       "    .dataframe tbody tr th:only-of-type {\n",
       "        vertical-align: middle;\n",
       "    }\n",
       "\n",
       "    .dataframe tbody tr th {\n",
       "        vertical-align: top;\n",
       "    }\n",
       "\n",
       "    .dataframe thead th {\n",
       "        text-align: right;\n",
       "    }\n",
       "</style>\n",
       "<table border=\"1\" class=\"dataframe\">\n",
       "  <thead>\n",
       "    <tr style=\"text-align: right;\">\n",
       "      <th></th>\n",
       "      <th>0</th>\n",
       "    </tr>\n",
       "  </thead>\n",
       "  <tbody>\n",
       "    <tr>\n",
       "      <th>0</th>\n",
       "      <td>[-0.013717369, -0.042851534, -0.015628567, 0.0...</td>\n",
       "    </tr>\n",
       "  </tbody>\n",
       "</table>\n",
       "</div>"
      ],
      "text/plain": [
       "                                                   0\n",
       "0  [-0.013717369, -0.042851534, -0.015628567, 0.0..."
      ]
     },
     "execution_count": 66,
     "metadata": {},
     "output_type": "execute_result"
    }
   ],
   "source": [
    "res1"
   ]
  },
  {
   "cell_type": "code",
   "execution_count": 95,
   "id": "41f2de81-41ef-49d3-8778-44c51177d416",
   "metadata": {},
   "outputs": [],
   "source": [
    "from sentence_transformers import util\n",
    "\n",
    "# Any user-defined function.\n",
    "# cross join is used as an example.\n",
    "def cross_join(left, rights):\n",
    "    for x in rights:\n",
    "        yield (left, x)\n",
    "    \n",
    "comb_result = (\n",
    "    output\n",
    "    | 'ApplyCrossJoin' >> beam.FlatMap(\n",
    "        cross_join, rights=beam.pvalue.AsIter(output1))\n",
    "    | \"Cosine\" >> beam.Map(lambda x: float(util.cos_sim(x[0], x[1])[0][0])))"
   ]
  },
  {
   "cell_type": "code",
   "execution_count": 96,
   "id": "6db33f23-f725-4ab5-b053-6783470b0487",
   "metadata": {},
   "outputs": [
    {
     "data": {
      "text/html": [
       "\n",
       "            <link rel=\"stylesheet\" href=\"https://stackpath.bootstrapcdn.com/bootstrap/4.4.1/css/bootstrap.min.css\" integrity=\"sha384-Vkoo8x4CGsO3+Hhxv8T/Q5PaXtkKtu6ug5TOeNV6gBiFeWPGFN9MuhOf23Q9Ifjh\" crossorigin=\"anonymous\">\n",
       "            <div id=\"progress_indicator_72e2b64f592428feaa6a455f24e19275\">\n",
       "              <div class=\"spinner-border text-info\" role=\"status\"></div>\n",
       "              <span class=\"text-info\">Processing... collect</span>\n",
       "            </div>\n",
       "            "
      ],
      "text/plain": [
       "<IPython.core.display.HTML object>"
      ]
     },
     "metadata": {},
     "output_type": "display_data"
    },
    {
     "name": "stderr",
     "output_type": "stream",
     "text": [
      "WARNING:apache_beam.options.pipeline_options:Discarding unparseable args: ['-f', '/Users/xqhu/Library/Jupyter/runtime/kernel-a377276a-a685-43d6-b922-26ee5729ccd2.json']\n"
     ]
    },
    {
     "data": {
      "application/javascript": [
       "\n",
       "        if (typeof window.interactive_beam_jquery == 'undefined') {\n",
       "          var jqueryScript = document.createElement('script');\n",
       "          jqueryScript.src = 'https://code.jquery.com/jquery-3.4.1.slim.min.js';\n",
       "          jqueryScript.type = 'text/javascript';\n",
       "          jqueryScript.onload = function() {\n",
       "            var datatableScript = document.createElement('script');\n",
       "            datatableScript.src = 'https://cdn.datatables.net/1.10.20/js/jquery.dataTables.min.js';\n",
       "            datatableScript.type = 'text/javascript';\n",
       "            datatableScript.onload = function() {\n",
       "              window.interactive_beam_jquery = jQuery.noConflict(true);\n",
       "              window.interactive_beam_jquery(document).ready(function($){\n",
       "                \n",
       "            $(\"#progress_indicator_72e2b64f592428feaa6a455f24e19275\").remove();\n",
       "              });\n",
       "            }\n",
       "            document.head.appendChild(datatableScript);\n",
       "          };\n",
       "          document.head.appendChild(jqueryScript);\n",
       "        } else {\n",
       "          window.interactive_beam_jquery(document).ready(function($){\n",
       "            \n",
       "            $(\"#progress_indicator_72e2b64f592428feaa6a455f24e19275\").remove();\n",
       "          });\n",
       "        }"
      ]
     },
     "metadata": {},
     "output_type": "display_data"
    }
   ],
   "source": [
    "sim_res = ib.collect(comb_result)"
   ]
  },
  {
   "cell_type": "code",
   "execution_count": 97,
   "id": "25e013c1-20fb-4245-b748-736577382b16",
   "metadata": {},
   "outputs": [
    {
     "data": {
      "text/plain": [
       "0    1.000000\n",
       "1    0.538079\n",
       "2    0.118056\n",
       "Name: 0, dtype: float64"
      ]
     },
     "execution_count": 97,
     "metadata": {},
     "output_type": "execute_result"
    }
   ],
   "source": [
    "sim_res[0]"
   ]
  },
  {
   "cell_type": "code",
   "execution_count": 98,
   "id": "1f2ec7f7-1ea3-4ef4-bd7a-c0709a3420dd",
   "metadata": {},
   "outputs": [
    {
     "data": {
      "text/plain": [
       "apache_beam.pvalue.PCollection"
      ]
     },
     "execution_count": 98,
     "metadata": {},
     "output_type": "execute_result"
    }
   ],
   "source": [
    "type(comb_result)"
   ]
  },
  {
   "cell_type": "code",
   "execution_count": 116,
   "id": "9d8372bd-dbb4-4470-80d0-605573584211",
   "metadata": {},
   "outputs": [],
   "source": [
    "from pydantic import BaseModel, Field\n",
    "from typing import List, Any\n",
    "\n",
    "class Block(BaseModel):\n",
    "    source: List[\"Block\"] = []\n",
    "    target: List[\"Block\"] = []\n",
    "    operation: beam.ParDo\n",
    "    \n",
    "    class Config:\n",
    "        arbitrary_types_allowed = True"
   ]
  },
  {
   "cell_type": "code",
   "execution_count": 119,
   "id": "8f280e0d-fe4c-440a-9728-a03238dbb73a",
   "metadata": {},
   "outputs": [],
   "source": [
    "class SentenceEmbeddingBlock(Block):\n",
    "    operation: beam.ParDo = Field(default=beam.Map(lambda x: [model.encode(x)]))"
   ]
  },
  {
   "cell_type": "code",
   "execution_count": 120,
   "id": "7f547bbf-fbd9-4b5e-9a7c-597b7652e8e9",
   "metadata": {},
   "outputs": [],
   "source": [
    "embed = SentenceEmbeddingBlock()"
   ]
  },
  {
   "cell_type": "code",
   "execution_count": 121,
   "id": "e29c5403-8710-4859-8dae-034633f36795",
   "metadata": {},
   "outputs": [
    {
     "data": {
      "text/plain": [
       "SentenceEmbeddingBlock(source=[], target=[], operation=<ParDo(PTransform) label=[Map(<lambda at 2263565550.py:2>)] at 0x16c88f610>)"
      ]
     },
     "execution_count": 121,
     "metadata": {},
     "output_type": "execute_result"
    }
   ],
   "source": [
    "embed"
   ]
  },
  {
   "cell_type": "code",
   "execution_count": 138,
   "id": "672a3c7d-f8f8-47cc-a4d9-2475d5549432",
   "metadata": {},
   "outputs": [],
   "source": [
    "class BlockAssembler:\n",
    "    def __init__(self, blocks: List[Block]):\n",
    "        self.blocks = blocks\n",
    "    @classmethod\n",
    "    def Sequential(cls, blocks: List[Block]):\n",
    "        # connect all the blocks using the list order\n",
    "        for i, block in enumerate(blocks):\n",
    "            if i > 0:\n",
    "                block.source = [blocks[i-1]]\n",
    "            if i < (len(blocks)-1):\n",
    "                block.target = [blocks[i+1]]\n",
    "        return cls(blocks)"
   ]
  },
  {
   "cell_type": "code",
   "execution_count": 139,
   "id": "bcbda87f-9a9e-4e51-9535-a0198ab84131",
   "metadata": {},
   "outputs": [],
   "source": [
    "blocks = BlockAssembler.Sequential([embed])"
   ]
  },
  {
   "cell_type": "code",
   "execution_count": 140,
   "id": "0b61c68f-a901-4380-a543-d5017051fe28",
   "metadata": {},
   "outputs": [
    {
     "data": {
      "text/plain": [
       "[SentenceEmbeddingBlock(source=[], target=[], operation=<ParDo(PTransform) label=[Map(<lambda at 2263565550.py:2>)] at 0x16c88f610>)]"
      ]
     },
     "execution_count": 140,
     "metadata": {},
     "output_type": "execute_result"
    }
   ],
   "source": [
    "blocks.blocks"
   ]
  },
  {
   "cell_type": "code",
   "execution_count": 128,
   "id": "63c38189-d26d-4b22-92b3-6641a4c0d4a0",
   "metadata": {},
   "outputs": [],
   "source": [
    "# TODO: IO blocks for beam.Create?\n"
   ]
  },
  {
   "cell_type": "code",
   "execution_count": 127,
   "id": "a65cbdbe-511c-4e8f-b48e-9f39fade3e3a",
   "metadata": {},
   "outputs": [],
   "source": [
    "# TODO: compile blocks to get the final Beam pipeline"
   ]
  },
  {
   "cell_type": "code",
   "execution_count": 132,
   "id": "916563a5-4754-4bc2-9e21-138dc50c4995",
   "metadata": {},
   "outputs": [
    {
     "name": "stdout",
     "output_type": "stream",
     "text": [
      "0 2\n",
      "1 3\n",
      "2 4\n"
     ]
    }
   ],
   "source": [
    "test = [1, 2, 3, 4]\n",
    "for i, t in enumerate(test[1:]):\n",
    "    print(i, t)"
   ]
  },
  {
   "cell_type": "code",
   "execution_count": null,
   "id": "4a73d064-d285-4bc8-a860-d78fbfb0dcd0",
   "metadata": {},
   "outputs": [],
   "source": []
  }
 ],
 "metadata": {
  "kernelspec": {
   "display_name": "Python 3 (ipykernel)",
   "language": "python",
   "name": "python3"
  },
  "language_info": {
   "codemirror_mode": {
    "name": "ipython",
    "version": 3
   },
   "file_extension": ".py",
   "mimetype": "text/x-python",
   "name": "python",
   "nbconvert_exporter": "python",
   "pygments_lexer": "ipython3",
   "version": "3.9.13"
  }
 },
 "nbformat": 4,
 "nbformat_minor": 5
}
