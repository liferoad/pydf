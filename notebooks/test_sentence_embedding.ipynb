{
 "cells": [
  {
   "cell_type": "code",
   "execution_count": null,
   "id": "51ae9541-ff14-4cf8-b5c9-5cec9b78fda0",
   "metadata": {},
   "outputs": [],
   "source": [
    "# !pip install -U sentence-transformers"
   ]
  },
  {
   "cell_type": "code",
   "execution_count": 1,
   "id": "60f83d12-e6cf-424e-a7f1-e2c866f39125",
   "metadata": {},
   "outputs": [],
   "source": [
    "from sentence_transformers import SentenceTransformer\n",
    "model = SentenceTransformer('all-MiniLM-L6-v2')"
   ]
  },
  {
   "cell_type": "code",
   "execution_count": 2,
   "id": "228fcd2a-fb64-4a57-9595-ffb605f990ce",
   "metadata": {},
   "outputs": [],
   "source": [
    "sentences = ['This framework generates embeddings for each input sentence',\n",
    "    'Sentences are passed as a list of string.', \n",
    "    'The quick brown fox jumps over the lazy dog.']\n",
    "sentences_1 = ['This framework generates embeddings for each input sentence',]"
   ]
  },
  {
   "cell_type": "code",
   "execution_count": 3,
   "id": "c10cc749-dc66-4414-b904-172749beaa93",
   "metadata": {},
   "outputs": [],
   "source": [
    "sentence_embeddings = model.encode(sentences)"
   ]
  },
  {
   "cell_type": "code",
   "execution_count": 4,
   "id": "8d2427e6-3873-4f75-851e-0f3f9d5c0251",
   "metadata": {},
   "outputs": [
    {
     "data": {
      "text/plain": [
       "(3, 384)"
      ]
     },
     "execution_count": 4,
     "metadata": {},
     "output_type": "execute_result"
    }
   ],
   "source": [
    "sentence_embeddings.shape"
   ]
  },
  {
   "cell_type": "code",
   "execution_count": 5,
   "id": "7f39f244-6e6e-4b5b-828c-63d9d863f120",
   "metadata": {},
   "outputs": [
    {
     "data": {
      "text/plain": [
       "numpy.ndarray"
      ]
     },
     "execution_count": 5,
     "metadata": {},
     "output_type": "execute_result"
    }
   ],
   "source": [
    "type(sentence_embeddings)"
   ]
  },
  {
   "cell_type": "code",
   "execution_count": 6,
   "id": "c016d7f3-5e1d-47db-b486-8e3a478006e7",
   "metadata": {},
   "outputs": [],
   "source": [
    "import apache_beam as beam\n",
    "from apache_beam.runners.interactive.interactive_runner import InteractiveRunner\n",
    "import apache_beam.runners.interactive.interactive_beam as ib"
   ]
  },
  {
   "cell_type": "code",
   "execution_count": 7,
   "id": "365eb3f2-3cfd-4892-bfd7-9b23ffe0ec99",
   "metadata": {},
   "outputs": [],
   "source": [
    "from apache_beam.options.pipeline_options import PipelineOptions"
   ]
  },
  {
   "cell_type": "code",
   "execution_count": 8,
   "id": "fc69c3d8-6710-4878-97cf-30cd3f9ba116",
   "metadata": {},
   "outputs": [],
   "source": [
    "p = beam.Pipeline(InteractiveRunner(), options=PipelineOptions())"
   ]
  },
  {
   "cell_type": "code",
   "execution_count": 9,
   "id": "10737502-98b7-464f-a655-1a46469e0328",
   "metadata": {},
   "outputs": [
    {
     "data": {
      "application/javascript": [
       "\n",
       "        if (typeof window.interactive_beam_jquery == 'undefined') {\n",
       "          var jqueryScript = document.createElement('script');\n",
       "          jqueryScript.src = 'https://code.jquery.com/jquery-3.4.1.slim.min.js';\n",
       "          jqueryScript.type = 'text/javascript';\n",
       "          jqueryScript.onload = function() {\n",
       "            var datatableScript = document.createElement('script');\n",
       "            datatableScript.src = 'https://cdn.datatables.net/1.10.20/js/jquery.dataTables.min.js';\n",
       "            datatableScript.type = 'text/javascript';\n",
       "            datatableScript.onload = function() {\n",
       "              window.interactive_beam_jquery = jQuery.noConflict(true);\n",
       "              window.interactive_beam_jquery(document).ready(function($){\n",
       "                \n",
       "              });\n",
       "            }\n",
       "            document.head.appendChild(datatableScript);\n",
       "          };\n",
       "          document.head.appendChild(jqueryScript);\n",
       "        } else {\n",
       "          window.interactive_beam_jquery(document).ready(function($){\n",
       "            \n",
       "          });\n",
       "        }"
      ]
     },
     "metadata": {},
     "output_type": "display_data"
    },
    {
     "name": "stderr",
     "output_type": "stream",
     "text": [
      "WARNING:apache_beam.options.pipeline_options:Discarding unparseable args: ['-f', '/Users/xqhu/Library/Jupyter/runtime/kernel-a377276a-a685-43d6-b922-26ee5729ccd2.json']\n"
     ]
    }
   ],
   "source": [
    "output = p | beam.Create(sentences) | beam.Map(lambda x: [model.encode(x)])"
   ]
  },
  {
   "cell_type": "code",
   "execution_count": 10,
   "id": "de231672-4a00-471a-a253-95531c6726c9",
   "metadata": {},
   "outputs": [
    {
     "data": {
      "text/plain": [
       "apache_beam.pvalue.PCollection"
      ]
     },
     "execution_count": 10,
     "metadata": {},
     "output_type": "execute_result"
    }
   ],
   "source": [
    "type(output)"
   ]
  },
  {
   "cell_type": "code",
   "execution_count": 11,
   "id": "e40d5907-d37c-40cf-a906-d62ee04790c2",
   "metadata": {},
   "outputs": [],
   "source": [
    "output1 = p | beam.Create(sentences_1) | beam.Map(lambda x: [model.encode(x)])"
   ]
  },
  {
   "cell_type": "code",
   "execution_count": 12,
   "id": "3ffb79f8-1860-4a96-ab62-253f8b61d5f9",
   "metadata": {},
   "outputs": [
    {
     "data": {
      "text/html": [
       "\n",
       "            <link rel=\"stylesheet\" href=\"https://stackpath.bootstrapcdn.com/bootstrap/4.4.1/css/bootstrap.min.css\" integrity=\"sha384-Vkoo8x4CGsO3+Hhxv8T/Q5PaXtkKtu6ug5TOeNV6gBiFeWPGFN9MuhOf23Q9Ifjh\" crossorigin=\"anonymous\">\n",
       "            <div id=\"progress_indicator_ae75513a06e8a9842b83d6c5fe742ee0\">\n",
       "              <div class=\"spinner-border text-info\" role=\"status\"></div>\n",
       "              <span class=\"text-info\">Processing... show_graph</span>\n",
       "            </div>\n",
       "            "
      ],
      "text/plain": [
       "<IPython.core.display.HTML object>"
      ]
     },
     "metadata": {},
     "output_type": "display_data"
    },
    {
     "name": "stdout",
     "output_type": "stream",
     "text": [
      "huggingface/tokenizers: The current process just got forked, after parallelism has already been used. Disabling parallelism to avoid deadlocks...\n",
      "To disable this warning, you can either:\n",
      "\t- Avoid using `tokenizers` before the fork if possible\n",
      "\t- Explicitly set the environment variable TOKENIZERS_PARALLELISM=(true | false)\n",
      "/usr/local/bin/dot\n",
      "huggingface/tokenizers: The current process just got forked, after parallelism has already been used. Disabling parallelism to avoid deadlocks...\n",
      "To disable this warning, you can either:\n",
      "\t- Avoid using `tokenizers` before the fork if possible\n",
      "\t- Explicitly set the environment variable TOKENIZERS_PARALLELISM=(true | false)\n"
     ]
    },
    {
     "data": {
      "text/html": [
       "<?xml version=\"1.0\" encoding=\"UTF-8\" standalone=\"no\"?>\n",
       "<!DOCTYPE svg PUBLIC \"-//W3C//DTD SVG 1.1//EN\"\n",
       " \"http://www.w3.org/Graphics/SVG/1.1/DTD/svg11.dtd\">\n",
       "<!-- Generated by graphviz version 5.0.0 (20220707.1540)\n",
       " -->\n",
       "<!-- Title: G Pages: 1 -->\n",
       "<svg width=\"514pt\" height=\"299pt\"\n",
       " viewBox=\"0.00 0.00 514.00 299.39\" xmlns=\"http://www.w3.org/2000/svg\" xmlns:xlink=\"http://www.w3.org/1999/xlink\">\n",
       "<g id=\"graph0\" class=\"graph\" transform=\"scale(1 1) rotate(0) translate(4 295.39)\">\n",
       "<title>G</title>\n",
       "<polygon fill=\"white\" stroke=\"transparent\" points=\"-4,4 -4,-295.39 510,-295.39 510,4 -4,4\"/>\n",
       "<!-- [9]: Create -->\n",
       "<g id=\"node1\" class=\"node\">\n",
       "<title>[9]: Create</title>\n",
       "<polygon fill=\"none\" stroke=\"blue\" points=\"159.5,-291.39 84.5,-291.39 84.5,-255.39 159.5,-255.39 159.5,-291.39\"/>\n",
       "<text text-anchor=\"middle\" x=\"122\" y=\"-269.69\" font-family=\"Times,serif\" font-size=\"14.00\" fill=\"blue\">[9]: Create</text>\n",
       "</g>\n",
       "<!-- pcoll1967 -->\n",
       "<g id=\"node2\" class=\"node\">\n",
       "<title>pcoll1967</title>\n",
       "<ellipse fill=\"none\" stroke=\"blue\" cx=\"122\" cy=\"-201.39\" rx=\"18\" ry=\"18\"/>\n",
       "</g>\n",
       "<!-- [9]: Create&#45;&gt;pcoll1967 -->\n",
       "<g id=\"edge1\" class=\"edge\">\n",
       "<title>[9]: Create&#45;&gt;pcoll1967</title>\n",
       "<path fill=\"none\" stroke=\"black\" d=\"M122,-255.09C122,-247.38 122,-238.11 122,-229.51\"/>\n",
       "<polygon fill=\"black\" stroke=\"black\" points=\"125.5,-229.5 122,-219.5 118.5,-229.5 125.5,-229.5\"/>\n",
       "</g>\n",
       "<!-- [9]: Map(&lt;lambda at 2598773449.py:1&gt;) -->\n",
       "<g id=\"node3\" class=\"node\">\n",
       "<title>[9]: Map(&lt;lambda at 2598773449.py:1&gt;)</title>\n",
       "<polygon fill=\"none\" stroke=\"blue\" points=\"244,-147.39 0,-147.39 0,-111.39 244,-111.39 244,-147.39\"/>\n",
       "<text text-anchor=\"middle\" x=\"122\" y=\"-125.69\" font-family=\"Times,serif\" font-size=\"14.00\" fill=\"blue\">[9]: Map(&lt;lambda at 2598773449.py:1&gt;)</text>\n",
       "</g>\n",
       "<!-- pcoll1967&#45;&gt;[9]: Map(&lt;lambda at 2598773449.py:1&gt;) -->\n",
       "<g id=\"edge2\" class=\"edge\">\n",
       "<title>pcoll1967&#45;&gt;[9]: Map(&lt;lambda at 2598773449.py:1&gt;)</title>\n",
       "<path fill=\"none\" stroke=\"black\" d=\"M122,-183.09C122,-175.38 122,-166.11 122,-157.51\"/>\n",
       "<polygon fill=\"black\" stroke=\"black\" points=\"125.5,-157.5 122,-147.5 118.5,-157.5 125.5,-157.5\"/>\n",
       "</g>\n",
       "<!-- output -->\n",
       "<g id=\"node4\" class=\"node\">\n",
       "<title>output</title>\n",
       "<ellipse fill=\"none\" stroke=\"blue\" cx=\"122\" cy=\"-37.7\" rx=\"33.29\" ry=\"33.29\"/>\n",
       "<text text-anchor=\"middle\" x=\"122\" y=\"-34\" font-family=\"Times,serif\" font-size=\"14.00\" fill=\"blue\">output</text>\n",
       "</g>\n",
       "<!-- [9]: Map(&lt;lambda at 2598773449.py:1&gt;)&#45;&gt;output -->\n",
       "<g id=\"edge3\" class=\"edge\">\n",
       "<title>[9]: Map(&lt;lambda at 2598773449.py:1&gt;)&#45;&gt;output</title>\n",
       "<path fill=\"none\" stroke=\"black\" d=\"M122,-111.1C122,-102.53 122,-91.78 122,-81.2\"/>\n",
       "<polygon fill=\"black\" stroke=\"black\" points=\"125.5,-81.19 122,-71.19 118.5,-81.19 125.5,-81.19\"/>\n",
       "</g>\n",
       "<!-- [11]: Create -->\n",
       "<g id=\"node5\" class=\"node\">\n",
       "<title>[11]: Create</title>\n",
       "<polygon fill=\"none\" stroke=\"blue\" points=\"425,-291.39 343,-291.39 343,-255.39 425,-255.39 425,-291.39\"/>\n",
       "<text text-anchor=\"middle\" x=\"384\" y=\"-269.69\" font-family=\"Times,serif\" font-size=\"14.00\" fill=\"blue\">[11]: Create</text>\n",
       "</g>\n",
       "<!-- pcoll776 -->\n",
       "<g id=\"node6\" class=\"node\">\n",
       "<title>pcoll776</title>\n",
       "<ellipse fill=\"none\" stroke=\"blue\" cx=\"384\" cy=\"-201.39\" rx=\"18\" ry=\"18\"/>\n",
       "</g>\n",
       "<!-- [11]: Create&#45;&gt;pcoll776 -->\n",
       "<g id=\"edge4\" class=\"edge\">\n",
       "<title>[11]: Create&#45;&gt;pcoll776</title>\n",
       "<path fill=\"none\" stroke=\"black\" d=\"M384,-255.09C384,-247.38 384,-238.11 384,-229.51\"/>\n",
       "<polygon fill=\"black\" stroke=\"black\" points=\"387.5,-229.5 384,-219.5 380.5,-229.5 387.5,-229.5\"/>\n",
       "</g>\n",
       "<!-- [11]: Map(&lt;lambda at 940352044.py:1&gt;) -->\n",
       "<g id=\"node7\" class=\"node\">\n",
       "<title>[11]: Map(&lt;lambda at 940352044.py:1&gt;)</title>\n",
       "<polygon fill=\"none\" stroke=\"blue\" points=\"506,-147.39 262,-147.39 262,-111.39 506,-111.39 506,-147.39\"/>\n",
       "<text text-anchor=\"middle\" x=\"384\" y=\"-125.69\" font-family=\"Times,serif\" font-size=\"14.00\" fill=\"blue\">[11]: Map(&lt;lambda at 940352044.py:1&gt;)</text>\n",
       "</g>\n",
       "<!-- pcoll776&#45;&gt;[11]: Map(&lt;lambda at 940352044.py:1&gt;) -->\n",
       "<g id=\"edge5\" class=\"edge\">\n",
       "<title>pcoll776&#45;&gt;[11]: Map(&lt;lambda at 940352044.py:1&gt;)</title>\n",
       "<path fill=\"none\" stroke=\"black\" d=\"M384,-183.09C384,-175.38 384,-166.11 384,-157.51\"/>\n",
       "<polygon fill=\"black\" stroke=\"black\" points=\"387.5,-157.5 384,-147.5 380.5,-157.5 387.5,-157.5\"/>\n",
       "</g>\n",
       "<!-- output1 -->\n",
       "<g id=\"node8\" class=\"node\">\n",
       "<title>output1</title>\n",
       "<ellipse fill=\"none\" stroke=\"blue\" cx=\"384\" cy=\"-37.7\" rx=\"37.89\" ry=\"37.89\"/>\n",
       "<text text-anchor=\"middle\" x=\"384\" y=\"-34\" font-family=\"Times,serif\" font-size=\"14.00\" fill=\"blue\">output1</text>\n",
       "</g>\n",
       "<!-- [11]: Map(&lt;lambda at 940352044.py:1&gt;)&#45;&gt;output1 -->\n",
       "<g id=\"edge6\" class=\"edge\">\n",
       "<title>[11]: Map(&lt;lambda at 940352044.py:1&gt;)&#45;&gt;output1</title>\n",
       "<path fill=\"none\" stroke=\"black\" d=\"M384,-111.1C384,-103.78 384,-94.85 384,-85.8\"/>\n",
       "<polygon fill=\"black\" stroke=\"black\" points=\"387.5,-85.62 384,-75.62 380.5,-85.62 387.5,-85.62\"/>\n",
       "</g>\n",
       "</g>\n",
       "</svg>\n"
      ],
      "text/plain": [
       "<IPython.core.display.HTML object>"
      ]
     },
     "metadata": {},
     "output_type": "display_data"
    },
    {
     "data": {
      "application/javascript": [
       "\n",
       "        if (typeof window.interactive_beam_jquery == 'undefined') {\n",
       "          var jqueryScript = document.createElement('script');\n",
       "          jqueryScript.src = 'https://code.jquery.com/jquery-3.4.1.slim.min.js';\n",
       "          jqueryScript.type = 'text/javascript';\n",
       "          jqueryScript.onload = function() {\n",
       "            var datatableScript = document.createElement('script');\n",
       "            datatableScript.src = 'https://cdn.datatables.net/1.10.20/js/jquery.dataTables.min.js';\n",
       "            datatableScript.type = 'text/javascript';\n",
       "            datatableScript.onload = function() {\n",
       "              window.interactive_beam_jquery = jQuery.noConflict(true);\n",
       "              window.interactive_beam_jquery(document).ready(function($){\n",
       "                \n",
       "            $(\"#progress_indicator_ae75513a06e8a9842b83d6c5fe742ee0\").remove();\n",
       "              });\n",
       "            }\n",
       "            document.head.appendChild(datatableScript);\n",
       "          };\n",
       "          document.head.appendChild(jqueryScript);\n",
       "        } else {\n",
       "          window.interactive_beam_jquery(document).ready(function($){\n",
       "            \n",
       "            $(\"#progress_indicator_ae75513a06e8a9842b83d6c5fe742ee0\").remove();\n",
       "          });\n",
       "        }"
      ]
     },
     "metadata": {},
     "output_type": "display_data"
    }
   ],
   "source": [
    "ib.show_graph(p)"
   ]
  },
  {
   "cell_type": "code",
   "execution_count": 13,
   "id": "123363e7-84f9-4bf3-8933-d7552bd33cf9",
   "metadata": {},
   "outputs": [
    {
     "data": {
      "text/html": [
       "\n",
       "            <link rel=\"stylesheet\" href=\"https://stackpath.bootstrapcdn.com/bootstrap/4.4.1/css/bootstrap.min.css\" integrity=\"sha384-Vkoo8x4CGsO3+Hhxv8T/Q5PaXtkKtu6ug5TOeNV6gBiFeWPGFN9MuhOf23Q9Ifjh\" crossorigin=\"anonymous\">\n",
       "            <div id=\"progress_indicator_3812c37ce0273fe159eaeb0ffe4d49c8\">\n",
       "              <div class=\"spinner-border text-info\" role=\"status\"></div>\n",
       "              <span class=\"text-info\">Processing... collect</span>\n",
       "            </div>\n",
       "            "
      ],
      "text/plain": [
       "<IPython.core.display.HTML object>"
      ]
     },
     "metadata": {},
     "output_type": "display_data"
    },
    {
     "name": "stderr",
     "output_type": "stream",
     "text": [
      "WARNING:apache_beam.options.pipeline_options:Discarding unparseable args: ['-f', '/Users/xqhu/Library/Jupyter/runtime/kernel-a377276a-a685-43d6-b922-26ee5729ccd2.json']\n"
     ]
    },
    {
     "data": {
      "application/javascript": [
       "\n",
       "        if (typeof window.interactive_beam_jquery == 'undefined') {\n",
       "          var jqueryScript = document.createElement('script');\n",
       "          jqueryScript.src = 'https://code.jquery.com/jquery-3.4.1.slim.min.js';\n",
       "          jqueryScript.type = 'text/javascript';\n",
       "          jqueryScript.onload = function() {\n",
       "            var datatableScript = document.createElement('script');\n",
       "            datatableScript.src = 'https://cdn.datatables.net/1.10.20/js/jquery.dataTables.min.js';\n",
       "            datatableScript.type = 'text/javascript';\n",
       "            datatableScript.onload = function() {\n",
       "              window.interactive_beam_jquery = jQuery.noConflict(true);\n",
       "              window.interactive_beam_jquery(document).ready(function($){\n",
       "                \n",
       "            $(\"#progress_indicator_3812c37ce0273fe159eaeb0ffe4d49c8\").remove();\n",
       "              });\n",
       "            }\n",
       "            document.head.appendChild(datatableScript);\n",
       "          };\n",
       "          document.head.appendChild(jqueryScript);\n",
       "        } else {\n",
       "          window.interactive_beam_jquery(document).ready(function($){\n",
       "            \n",
       "            $(\"#progress_indicator_3812c37ce0273fe159eaeb0ffe4d49c8\").remove();\n",
       "          });\n",
       "        }"
      ]
     },
     "metadata": {},
     "output_type": "display_data"
    }
   ],
   "source": [
    "res = ib.collect(output)"
   ]
  },
  {
   "cell_type": "code",
   "execution_count": 14,
   "id": "81934814-351b-4b3c-851e-a67fd8c2ce0e",
   "metadata": {},
   "outputs": [
    {
     "data": {
      "text/plain": [
       "(3, 1)"
      ]
     },
     "execution_count": 14,
     "metadata": {},
     "output_type": "execute_result"
    }
   ],
   "source": [
    "res.shape"
   ]
  },
  {
   "cell_type": "code",
   "execution_count": 15,
   "id": "9c8f34f0-e466-4d02-a373-0cf6b08ee721",
   "metadata": {},
   "outputs": [
    {
     "data": {
      "text/html": [
       "<div>\n",
       "<style scoped>\n",
       "    .dataframe tbody tr th:only-of-type {\n",
       "        vertical-align: middle;\n",
       "    }\n",
       "\n",
       "    .dataframe tbody tr th {\n",
       "        vertical-align: top;\n",
       "    }\n",
       "\n",
       "    .dataframe thead th {\n",
       "        text-align: right;\n",
       "    }\n",
       "</style>\n",
       "<table border=\"1\" class=\"dataframe\">\n",
       "  <thead>\n",
       "    <tr style=\"text-align: right;\">\n",
       "      <th></th>\n",
       "      <th>0</th>\n",
       "    </tr>\n",
       "  </thead>\n",
       "  <tbody>\n",
       "    <tr>\n",
       "      <th>0</th>\n",
       "      <td>[-0.013717369, -0.042851534, -0.015628567, 0.0...</td>\n",
       "    </tr>\n",
       "    <tr>\n",
       "      <th>1</th>\n",
       "      <td>[0.0564525, 0.055002406, 0.03137959, 0.0339485...</td>\n",
       "    </tr>\n",
       "    <tr>\n",
       "      <th>2</th>\n",
       "      <td>[0.04393355, 0.058934387, 0.048178356, 0.07754...</td>\n",
       "    </tr>\n",
       "  </tbody>\n",
       "</table>\n",
       "</div>"
      ],
      "text/plain": [
       "                                                   0\n",
       "0  [-0.013717369, -0.042851534, -0.015628567, 0.0...\n",
       "1  [0.0564525, 0.055002406, 0.03137959, 0.0339485...\n",
       "2  [0.04393355, 0.058934387, 0.048178356, 0.07754..."
      ]
     },
     "execution_count": 15,
     "metadata": {},
     "output_type": "execute_result"
    }
   ],
   "source": [
    "res"
   ]
  },
  {
   "cell_type": "code",
   "execution_count": 16,
   "id": "d6e67a00-b240-44e6-a15c-1cf2466c2b99",
   "metadata": {},
   "outputs": [
    {
     "data": {
      "text/html": [
       "\n",
       "            <link rel=\"stylesheet\" href=\"https://stackpath.bootstrapcdn.com/bootstrap/4.4.1/css/bootstrap.min.css\" integrity=\"sha384-Vkoo8x4CGsO3+Hhxv8T/Q5PaXtkKtu6ug5TOeNV6gBiFeWPGFN9MuhOf23Q9Ifjh\" crossorigin=\"anonymous\">\n",
       "            <div id=\"progress_indicator_5ce13c274b2d7b6b4f3a6122a910dc31\">\n",
       "              <div class=\"spinner-border text-info\" role=\"status\"></div>\n",
       "              <span class=\"text-info\">Processing... collect</span>\n",
       "            </div>\n",
       "            "
      ],
      "text/plain": [
       "<IPython.core.display.HTML object>"
      ]
     },
     "metadata": {},
     "output_type": "display_data"
    },
    {
     "name": "stderr",
     "output_type": "stream",
     "text": [
      "WARNING:apache_beam.options.pipeline_options:Discarding unparseable args: ['-f', '/Users/xqhu/Library/Jupyter/runtime/kernel-a377276a-a685-43d6-b922-26ee5729ccd2.json']\n"
     ]
    },
    {
     "data": {
      "application/javascript": [
       "\n",
       "        if (typeof window.interactive_beam_jquery == 'undefined') {\n",
       "          var jqueryScript = document.createElement('script');\n",
       "          jqueryScript.src = 'https://code.jquery.com/jquery-3.4.1.slim.min.js';\n",
       "          jqueryScript.type = 'text/javascript';\n",
       "          jqueryScript.onload = function() {\n",
       "            var datatableScript = document.createElement('script');\n",
       "            datatableScript.src = 'https://cdn.datatables.net/1.10.20/js/jquery.dataTables.min.js';\n",
       "            datatableScript.type = 'text/javascript';\n",
       "            datatableScript.onload = function() {\n",
       "              window.interactive_beam_jquery = jQuery.noConflict(true);\n",
       "              window.interactive_beam_jquery(document).ready(function($){\n",
       "                \n",
       "            $(\"#progress_indicator_5ce13c274b2d7b6b4f3a6122a910dc31\").remove();\n",
       "              });\n",
       "            }\n",
       "            document.head.appendChild(datatableScript);\n",
       "          };\n",
       "          document.head.appendChild(jqueryScript);\n",
       "        } else {\n",
       "          window.interactive_beam_jquery(document).ready(function($){\n",
       "            \n",
       "            $(\"#progress_indicator_5ce13c274b2d7b6b4f3a6122a910dc31\").remove();\n",
       "          });\n",
       "        }"
      ]
     },
     "metadata": {},
     "output_type": "display_data"
    }
   ],
   "source": [
    "res1 = ib.collect(output1)"
   ]
  },
  {
   "cell_type": "code",
   "execution_count": 17,
   "id": "8a46e7c7-b6bb-4b66-b79e-2ae0f561a53a",
   "metadata": {},
   "outputs": [
    {
     "data": {
      "text/html": [
       "<div>\n",
       "<style scoped>\n",
       "    .dataframe tbody tr th:only-of-type {\n",
       "        vertical-align: middle;\n",
       "    }\n",
       "\n",
       "    .dataframe tbody tr th {\n",
       "        vertical-align: top;\n",
       "    }\n",
       "\n",
       "    .dataframe thead th {\n",
       "        text-align: right;\n",
       "    }\n",
       "</style>\n",
       "<table border=\"1\" class=\"dataframe\">\n",
       "  <thead>\n",
       "    <tr style=\"text-align: right;\">\n",
       "      <th></th>\n",
       "      <th>0</th>\n",
       "    </tr>\n",
       "  </thead>\n",
       "  <tbody>\n",
       "    <tr>\n",
       "      <th>0</th>\n",
       "      <td>[-0.013717369, -0.042851534, -0.015628567, 0.0...</td>\n",
       "    </tr>\n",
       "  </tbody>\n",
       "</table>\n",
       "</div>"
      ],
      "text/plain": [
       "                                                   0\n",
       "0  [-0.013717369, -0.042851534, -0.015628567, 0.0..."
      ]
     },
     "execution_count": 17,
     "metadata": {},
     "output_type": "execute_result"
    }
   ],
   "source": [
    "res1"
   ]
  },
  {
   "cell_type": "code",
   "execution_count": 18,
   "id": "41f2de81-41ef-49d3-8778-44c51177d416",
   "metadata": {},
   "outputs": [],
   "source": [
    "from sentence_transformers import util\n",
    "\n",
    "# Any user-defined function.\n",
    "# cross join is used as an example.\n",
    "def cross_join(left, rights):\n",
    "    for x in rights:\n",
    "        yield (left, x)\n",
    "    \n",
    "comb_result = (\n",
    "    output\n",
    "    | 'ApplyCrossJoin' >> beam.FlatMap(\n",
    "        cross_join, rights=beam.pvalue.AsIter(output1))\n",
    "    | \"Cosine\" >> beam.Map(lambda x: float(util.cos_sim(x[0], x[1])[0][0])))"
   ]
  },
  {
   "cell_type": "code",
   "execution_count": 19,
   "id": "6db33f23-f725-4ab5-b053-6783470b0487",
   "metadata": {},
   "outputs": [
    {
     "data": {
      "text/html": [
       "\n",
       "            <link rel=\"stylesheet\" href=\"https://stackpath.bootstrapcdn.com/bootstrap/4.4.1/css/bootstrap.min.css\" integrity=\"sha384-Vkoo8x4CGsO3+Hhxv8T/Q5PaXtkKtu6ug5TOeNV6gBiFeWPGFN9MuhOf23Q9Ifjh\" crossorigin=\"anonymous\">\n",
       "            <div id=\"progress_indicator_a91c709ab394ecf2410ff3d876342829\">\n",
       "              <div class=\"spinner-border text-info\" role=\"status\"></div>\n",
       "              <span class=\"text-info\">Processing... collect</span>\n",
       "            </div>\n",
       "            "
      ],
      "text/plain": [
       "<IPython.core.display.HTML object>"
      ]
     },
     "metadata": {},
     "output_type": "display_data"
    },
    {
     "name": "stderr",
     "output_type": "stream",
     "text": [
      "WARNING:apache_beam.options.pipeline_options:Discarding unparseable args: ['-f', '/Users/xqhu/Library/Jupyter/runtime/kernel-a377276a-a685-43d6-b922-26ee5729ccd2.json']\n",
      "/Users/xqhu/vscode_projects/pydf/venv/lib/python3.9/site-packages/sentence_transformers/util.py:36: UserWarning: Creating a tensor from a list of numpy.ndarrays is extremely slow. Please consider converting the list to a single numpy.ndarray with numpy.array() before converting to a tensor. (Triggered internally at /Users/runner/work/pytorch/pytorch/pytorch/torch/csrc/utils/tensor_new.cpp:233.)\n",
      "  a = torch.tensor(a)\n"
     ]
    },
    {
     "data": {
      "application/javascript": [
       "\n",
       "        if (typeof window.interactive_beam_jquery == 'undefined') {\n",
       "          var jqueryScript = document.createElement('script');\n",
       "          jqueryScript.src = 'https://code.jquery.com/jquery-3.4.1.slim.min.js';\n",
       "          jqueryScript.type = 'text/javascript';\n",
       "          jqueryScript.onload = function() {\n",
       "            var datatableScript = document.createElement('script');\n",
       "            datatableScript.src = 'https://cdn.datatables.net/1.10.20/js/jquery.dataTables.min.js';\n",
       "            datatableScript.type = 'text/javascript';\n",
       "            datatableScript.onload = function() {\n",
       "              window.interactive_beam_jquery = jQuery.noConflict(true);\n",
       "              window.interactive_beam_jquery(document).ready(function($){\n",
       "                \n",
       "            $(\"#progress_indicator_a91c709ab394ecf2410ff3d876342829\").remove();\n",
       "              });\n",
       "            }\n",
       "            document.head.appendChild(datatableScript);\n",
       "          };\n",
       "          document.head.appendChild(jqueryScript);\n",
       "        } else {\n",
       "          window.interactive_beam_jquery(document).ready(function($){\n",
       "            \n",
       "            $(\"#progress_indicator_a91c709ab394ecf2410ff3d876342829\").remove();\n",
       "          });\n",
       "        }"
      ]
     },
     "metadata": {},
     "output_type": "display_data"
    }
   ],
   "source": [
    "sim_res = ib.collect(comb_result)"
   ]
  },
  {
   "cell_type": "code",
   "execution_count": 20,
   "id": "25e013c1-20fb-4245-b748-736577382b16",
   "metadata": {},
   "outputs": [
    {
     "data": {
      "text/plain": [
       "0    1.000000\n",
       "1    0.538079\n",
       "2    0.118056\n",
       "Name: 0, dtype: float64"
      ]
     },
     "execution_count": 20,
     "metadata": {},
     "output_type": "execute_result"
    }
   ],
   "source": [
    "sim_res[0]"
   ]
  },
  {
   "cell_type": "code",
   "execution_count": 21,
   "id": "1f2ec7f7-1ea3-4ef4-bd7a-c0709a3420dd",
   "metadata": {},
   "outputs": [
    {
     "data": {
      "text/plain": [
       "apache_beam.pvalue.PCollection"
      ]
     },
     "execution_count": 21,
     "metadata": {},
     "output_type": "execute_result"
    }
   ],
   "source": [
    "type(comb_result)"
   ]
  },
  {
   "cell_type": "code",
   "execution_count": 121,
   "id": "9d8372bd-dbb4-4470-80d0-605573584211",
   "metadata": {},
   "outputs": [],
   "source": [
    "from pydantic import BaseModel, Field\n",
    "from typing import List, Any\n",
    "\n",
    "class Block(BaseModel):\n",
    "    source: List[\"Block\"] = []\n",
    "    target: List[\"Block\"] = []\n",
    "    operation: beam.ParDo\n",
    "    o: beam.pvalue.PCollection = None\n",
    "    \n",
    "    class Config:\n",
    "        arbitrary_types_allowed = True"
   ]
  },
  {
   "cell_type": "code",
   "execution_count": 122,
   "id": "8f280e0d-fe4c-440a-9728-a03238dbb73a",
   "metadata": {},
   "outputs": [],
   "source": [
    "class SentenceEmbeddingBlock(Block):\n",
    "    operation: beam.ParDo = Field(default=beam.Map(lambda x: [model.encode(x)]))"
   ]
  },
  {
   "cell_type": "code",
   "execution_count": 123,
   "id": "63c38189-d26d-4b22-92b3-6641a4c0d4a0",
   "metadata": {},
   "outputs": [],
   "source": [
    "# block for beam.Create\n",
    "from pydantic import BaseModel, ValidationError, root_validator\n",
    "\n",
    "class CreateBlock(Block):\n",
    "    operation: beam.Create\n",
    "    values: List[Any]\n",
    "\n",
    "    @root_validator(pre=True)\n",
    "    def _set_fields(cls, values: dict) -> dict:\n",
    "        values[\"operation\"] = beam.Create(values[\"values\"])\n",
    "        return values"
   ]
  },
  {
   "cell_type": "code",
   "execution_count": 124,
   "id": "bcbda87f-9a9e-4e51-9535-a0198ab84131",
   "metadata": {},
   "outputs": [],
   "source": [
    "block_p = beam.Pipeline(InteractiveRunner(), options=PipelineOptions())"
   ]
  },
  {
   "cell_type": "code",
   "execution_count": 125,
   "id": "7f547bbf-fbd9-4b5e-9a7c-597b7652e8e9",
   "metadata": {},
   "outputs": [],
   "source": [
    "embed = SentenceEmbeddingBlock()"
   ]
  },
  {
   "cell_type": "code",
   "execution_count": 126,
   "id": "e29c5403-8710-4859-8dae-034633f36795",
   "metadata": {},
   "outputs": [],
   "source": [
    "embed.o"
   ]
  },
  {
   "cell_type": "code",
   "execution_count": 127,
   "id": "d267d006-ea00-42cf-87f4-89bbb29cb884",
   "metadata": {},
   "outputs": [],
   "source": [
    "create = CreateBlock(values = sentences)"
   ]
  },
  {
   "cell_type": "code",
   "execution_count": 128,
   "id": "e58223ac-dff2-47b8-aa31-0221acce965e",
   "metadata": {},
   "outputs": [
    {
     "data": {
      "text/plain": [
       "<Create(PTransform) label=[Create] at 0x16040f6a0>"
      ]
     },
     "execution_count": 128,
     "metadata": {},
     "output_type": "execute_result"
    }
   ],
   "source": [
    "create.operation"
   ]
  },
  {
   "cell_type": "code",
   "execution_count": 129,
   "id": "fc4b4b5c-5857-45f5-9028-cd3d6d095d79",
   "metadata": {},
   "outputs": [],
   "source": [
    "create.o"
   ]
  },
  {
   "cell_type": "code",
   "execution_count": 130,
   "id": "672a3c7d-f8f8-47cc-a4d9-2475d5549432",
   "metadata": {},
   "outputs": [],
   "source": [
    "class BlockAssembler:\n",
    "    def __init__(self, blocks: List[Block], p: beam.pipeline.Pipeline):\n",
    "        self.blocks = blocks\n",
    "        self.p = p\n",
    "    @classmethod\n",
    "    def Sequential(cls, blocks: List[Block], p: beam.pipeline.Pipeline):\n",
    "        # connect all the blocks using the list order\n",
    "        for i, block in enumerate(blocks):\n",
    "            if i > 0:\n",
    "                block.source = [blocks[i-1]]\n",
    "            if i < (len(blocks)-1):\n",
    "                block.target = [blocks[i+1]]\n",
    "        return cls(blocks, p)\n",
    "\n",
    "    def compile(self):\n",
    "        # sequential\n",
    "        o = self.p\n",
    "        for block in self.blocks:\n",
    "            block.o = o | block.operation\n",
    "            o = block.o\n",
    "        return \n",
    "    \n",
    "    def show_graph(self):\n",
    "        ib.show_graph(self.p)"
   ]
  },
  {
   "cell_type": "code",
   "execution_count": 131,
   "id": "17136f93-042c-4938-a86c-96847e11c5f1",
   "metadata": {},
   "outputs": [],
   "source": [
    "blocks = BlockAssembler.Sequential([create, embed], p=block_p)"
   ]
  },
  {
   "cell_type": "code",
   "execution_count": 132,
   "id": "fcd8602e-a76a-473b-9481-42c3f2e164df",
   "metadata": {},
   "outputs": [
    {
     "name": "stderr",
     "output_type": "stream",
     "text": [
      "WARNING:apache_beam.options.pipeline_options:Discarding unparseable args: ['-f', '/Users/xqhu/Library/Jupyter/runtime/kernel-a377276a-a685-43d6-b922-26ee5729ccd2.json']\n"
     ]
    }
   ],
   "source": [
    "blocks.compile()"
   ]
  },
  {
   "cell_type": "code",
   "execution_count": 133,
   "id": "c1992947-0134-474a-a9ad-ed0a8ac0f2b3",
   "metadata": {},
   "outputs": [
    {
     "data": {
      "text/plain": [
       "[SentenceEmbeddingBlock(source=[CreateBlock(source=[], target=[SentenceEmbeddingBlock(source=[...], target=[], operation=<ParDo(PTransform) label=[[132]: Map(<lambda at 2263565550.py:2>)] at 0x16032f940>, o=<PCollection[[132]: Map(<lambda at 2263565550.py:2>).None] at 0x1601f5f70>)], operation=<Create(PTransform) label=[[132]: Create] at 0x16040f6a0>, o=<PCollection[[132]: Create/Map(decode).None] at 0x160307df0>, values=['This framework generates embeddings for each input sentence', 'Sentences are passed as a list of string.', 'The quick brown fox jumps over the lazy dog.'])], target=[], operation=<ParDo(PTransform) label=[[132]: Map(<lambda at 2263565550.py:2>)] at 0x16032f940>, o=<PCollection[[132]: Map(<lambda at 2263565550.py:2>).None] at 0x1601f5f70>)]"
      ]
     },
     "execution_count": 133,
     "metadata": {},
     "output_type": "execute_result"
    }
   ],
   "source": [
    "blocks.blocks[0].target"
   ]
  },
  {
   "cell_type": "code",
   "execution_count": 134,
   "id": "4a73d064-d285-4bc8-a860-d78fbfb0dcd0",
   "metadata": {},
   "outputs": [
    {
     "data": {
      "text/html": [
       "\n",
       "            <link rel=\"stylesheet\" href=\"https://stackpath.bootstrapcdn.com/bootstrap/4.4.1/css/bootstrap.min.css\" integrity=\"sha384-Vkoo8x4CGsO3+Hhxv8T/Q5PaXtkKtu6ug5TOeNV6gBiFeWPGFN9MuhOf23Q9Ifjh\" crossorigin=\"anonymous\">\n",
       "            <div id=\"progress_indicator_162d15dd8dd75b9ac47a8143ddeadd5c\">\n",
       "              <div class=\"spinner-border text-info\" role=\"status\"></div>\n",
       "              <span class=\"text-info\">Processing... show_graph</span>\n",
       "            </div>\n",
       "            "
      ],
      "text/plain": [
       "<IPython.core.display.HTML object>"
      ]
     },
     "metadata": {},
     "output_type": "display_data"
    },
    {
     "name": "stdout",
     "output_type": "stream",
     "text": [
      "huggingface/tokenizers: The current process just got forked, after parallelism has already been used. Disabling parallelism to avoid deadlocks...\n",
      "To disable this warning, you can either:\n",
      "\t- Avoid using `tokenizers` before the fork if possible\n",
      "\t- Explicitly set the environment variable TOKENIZERS_PARALLELISM=(true | false)\n",
      "/usr/local/bin/dot\n",
      "huggingface/tokenizers: The current process just got forked, after parallelism has already been used. Disabling parallelism to avoid deadlocks...\n",
      "To disable this warning, you can either:\n",
      "\t- Avoid using `tokenizers` before the fork if possible\n",
      "\t- Explicitly set the environment variable TOKENIZERS_PARALLELISM=(true | false)\n"
     ]
    },
    {
     "data": {
      "text/html": [
       "<?xml version=\"1.0\" encoding=\"UTF-8\" standalone=\"no\"?>\n",
       "<!DOCTYPE svg PUBLIC \"-//W3C//DTD SVG 1.1//EN\"\n",
       " \"http://www.w3.org/Graphics/SVG/1.1/DTD/svg11.dtd\">\n",
       "<!-- Generated by graphviz version 5.0.0 (20220707.1540)\n",
       " -->\n",
       "<!-- Title: G Pages: 1 -->\n",
       "<svg width=\"265pt\" height=\"260pt\"\n",
       " viewBox=\"0.00 0.00 265.00 260.00\" xmlns=\"http://www.w3.org/2000/svg\" xmlns:xlink=\"http://www.w3.org/1999/xlink\">\n",
       "<g id=\"graph0\" class=\"graph\" transform=\"scale(1 1) rotate(0) translate(4 256)\">\n",
       "<title>G</title>\n",
       "<polygon fill=\"white\" stroke=\"transparent\" points=\"-4,4 -4,-256 261,-256 261,4 -4,4\"/>\n",
       "<!-- [132]: Create -->\n",
       "<g id=\"node1\" class=\"node\">\n",
       "<title>[132]: Create</title>\n",
       "<polygon fill=\"none\" stroke=\"blue\" points=\"173,-252 84,-252 84,-216 173,-216 173,-252\"/>\n",
       "<text text-anchor=\"middle\" x=\"128.5\" y=\"-230.3\" font-family=\"Times,serif\" font-size=\"14.00\" fill=\"blue\">[132]: Create</text>\n",
       "</g>\n",
       "<!-- pcoll1967 -->\n",
       "<g id=\"node2\" class=\"node\">\n",
       "<title>pcoll1967</title>\n",
       "<ellipse fill=\"none\" stroke=\"blue\" cx=\"128.5\" cy=\"-162\" rx=\"18\" ry=\"18\"/>\n",
       "</g>\n",
       "<!-- [132]: Create&#45;&gt;pcoll1967 -->\n",
       "<g id=\"edge1\" class=\"edge\">\n",
       "<title>[132]: Create&#45;&gt;pcoll1967</title>\n",
       "<path fill=\"none\" stroke=\"black\" d=\"M128.5,-215.7C128.5,-207.98 128.5,-198.71 128.5,-190.11\"/>\n",
       "<polygon fill=\"black\" stroke=\"black\" points=\"132,-190.1 128.5,-180.1 125,-190.1 132,-190.1\"/>\n",
       "</g>\n",
       "<!-- [132]: Map(&lt;lambda at 2263565550.py:2&gt;) -->\n",
       "<g id=\"node3\" class=\"node\">\n",
       "<title>[132]: Map(&lt;lambda at 2263565550.py:2&gt;)</title>\n",
       "<polygon fill=\"none\" stroke=\"blue\" points=\"257,-108 0,-108 0,-72 257,-72 257,-108\"/>\n",
       "<text text-anchor=\"middle\" x=\"128.5\" y=\"-86.3\" font-family=\"Times,serif\" font-size=\"14.00\" fill=\"blue\">[132]: Map(&lt;lambda at 2263565550.py:2&gt;)</text>\n",
       "</g>\n",
       "<!-- pcoll1967&#45;&gt;[132]: Map(&lt;lambda at 2263565550.py:2&gt;) -->\n",
       "<g id=\"edge2\" class=\"edge\">\n",
       "<title>pcoll1967&#45;&gt;[132]: Map(&lt;lambda at 2263565550.py:2&gt;)</title>\n",
       "<path fill=\"none\" stroke=\"black\" d=\"M128.5,-143.7C128.5,-135.98 128.5,-126.71 128.5,-118.11\"/>\n",
       "<polygon fill=\"black\" stroke=\"black\" points=\"132,-118.1 128.5,-108.1 125,-118.1 132,-118.1\"/>\n",
       "</g>\n",
       "<!-- pcoll8059 -->\n",
       "<g id=\"node4\" class=\"node\">\n",
       "<title>pcoll8059</title>\n",
       "<ellipse fill=\"none\" stroke=\"blue\" cx=\"128.5\" cy=\"-18\" rx=\"18\" ry=\"18\"/>\n",
       "</g>\n",
       "<!-- [132]: Map(&lt;lambda at 2263565550.py:2&gt;)&#45;&gt;pcoll8059 -->\n",
       "<g id=\"edge3\" class=\"edge\">\n",
       "<title>[132]: Map(&lt;lambda at 2263565550.py:2&gt;)&#45;&gt;pcoll8059</title>\n",
       "<path fill=\"none\" stroke=\"black\" d=\"M128.5,-71.7C128.5,-63.98 128.5,-54.71 128.5,-46.11\"/>\n",
       "<polygon fill=\"black\" stroke=\"black\" points=\"132,-46.1 128.5,-36.1 125,-46.1 132,-46.1\"/>\n",
       "</g>\n",
       "</g>\n",
       "</svg>\n"
      ],
      "text/plain": [
       "<IPython.core.display.HTML object>"
      ]
     },
     "metadata": {},
     "output_type": "display_data"
    },
    {
     "data": {
      "application/javascript": [
       "\n",
       "        if (typeof window.interactive_beam_jquery == 'undefined') {\n",
       "          var jqueryScript = document.createElement('script');\n",
       "          jqueryScript.src = 'https://code.jquery.com/jquery-3.4.1.slim.min.js';\n",
       "          jqueryScript.type = 'text/javascript';\n",
       "          jqueryScript.onload = function() {\n",
       "            var datatableScript = document.createElement('script');\n",
       "            datatableScript.src = 'https://cdn.datatables.net/1.10.20/js/jquery.dataTables.min.js';\n",
       "            datatableScript.type = 'text/javascript';\n",
       "            datatableScript.onload = function() {\n",
       "              window.interactive_beam_jquery = jQuery.noConflict(true);\n",
       "              window.interactive_beam_jquery(document).ready(function($){\n",
       "                \n",
       "            $(\"#progress_indicator_162d15dd8dd75b9ac47a8143ddeadd5c\").remove();\n",
       "              });\n",
       "            }\n",
       "            document.head.appendChild(datatableScript);\n",
       "          };\n",
       "          document.head.appendChild(jqueryScript);\n",
       "        } else {\n",
       "          window.interactive_beam_jquery(document).ready(function($){\n",
       "            \n",
       "            $(\"#progress_indicator_162d15dd8dd75b9ac47a8143ddeadd5c\").remove();\n",
       "          });\n",
       "        }"
      ]
     },
     "metadata": {},
     "output_type": "display_data"
    }
   ],
   "source": [
    "blocks.show_graph()"
   ]
  },
  {
   "cell_type": "code",
   "execution_count": null,
   "id": "fadea93e-d270-4ced-b4bb-9c00929bbcaa",
   "metadata": {},
   "outputs": [],
   "source": []
  },
  {
   "cell_type": "code",
   "execution_count": null,
   "id": "2bd94fe2-f51f-4804-a301-b369503d02b4",
   "metadata": {},
   "outputs": [],
   "source": []
  }
 ],
 "metadata": {
  "kernelspec": {
   "display_name": "Python 3 (ipykernel)",
   "language": "python",
   "name": "python3"
  },
  "language_info": {
   "codemirror_mode": {
    "name": "ipython",
    "version": 3
   },
   "file_extension": ".py",
   "mimetype": "text/x-python",
   "name": "python",
   "nbconvert_exporter": "python",
   "pygments_lexer": "ipython3",
   "version": "3.9.13"
  }
 },
 "nbformat": 4,
 "nbformat_minor": 5
}
