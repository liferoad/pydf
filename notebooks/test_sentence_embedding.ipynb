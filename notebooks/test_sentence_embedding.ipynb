{
 "cells": [
  {
   "cell_type": "code",
   "execution_count": 1,
   "id": "60f83d12-e6cf-424e-a7f1-e2c866f39125",
   "metadata": {},
   "outputs": [],
   "source": [
    "from sentence_transformers import SentenceTransformer\n",
    "model = SentenceTransformer('all-MiniLM-L6-v2')"
   ]
  },
  {
   "cell_type": "code",
   "execution_count": 2,
   "id": "228fcd2a-fb64-4a57-9595-ffb605f990ce",
   "metadata": {},
   "outputs": [],
   "source": [
    "sentences = ['This framework generates embeddings for each input sentence',\n",
    "    'Sentences are passed as a list of string.', \n",
    "    'The quick brown fox jumps over the lazy dog.']\n",
    "sentences_1 = ['This framework generates embeddings for each input sentence',]"
   ]
  },
  {
   "cell_type": "code",
   "execution_count": 3,
   "id": "c10cc749-dc66-4414-b904-172749beaa93",
   "metadata": {},
   "outputs": [],
   "source": [
    "sentence_embeddings = model.encode(sentences)"
   ]
  },
  {
   "cell_type": "code",
   "execution_count": 4,
   "id": "8d2427e6-3873-4f75-851e-0f3f9d5c0251",
   "metadata": {},
   "outputs": [
    {
     "data": {
      "text/plain": [
       "(3, 384)"
      ]
     },
     "execution_count": 4,
     "metadata": {},
     "output_type": "execute_result"
    }
   ],
   "source": [
    "sentence_embeddings.shape"
   ]
  },
  {
   "cell_type": "code",
   "execution_count": 5,
   "id": "7f39f244-6e6e-4b5b-828c-63d9d863f120",
   "metadata": {},
   "outputs": [
    {
     "data": {
      "text/plain": [
       "numpy.ndarray"
      ]
     },
     "execution_count": 5,
     "metadata": {},
     "output_type": "execute_result"
    }
   ],
   "source": [
    "type(sentence_embeddings)"
   ]
  },
  {
   "cell_type": "code",
   "execution_count": 6,
   "id": "c016d7f3-5e1d-47db-b486-8e3a478006e7",
   "metadata": {},
   "outputs": [],
   "source": [
    "import apache_beam as beam\n",
    "from apache_beam.runners.interactive.interactive_runner import InteractiveRunner\n",
    "import apache_beam.runners.interactive.interactive_beam as ib"
   ]
  },
  {
   "cell_type": "code",
   "execution_count": 7,
   "id": "365eb3f2-3cfd-4892-bfd7-9b23ffe0ec99",
   "metadata": {},
   "outputs": [],
   "source": [
    "from apache_beam.options.pipeline_options import PipelineOptions"
   ]
  },
  {
   "cell_type": "code",
   "execution_count": 8,
   "id": "fc69c3d8-6710-4878-97cf-30cd3f9ba116",
   "metadata": {},
   "outputs": [],
   "source": [
    "p = beam.Pipeline(InteractiveRunner(), options=PipelineOptions())"
   ]
  },
  {
   "cell_type": "code",
   "execution_count": 9,
   "id": "10737502-98b7-464f-a655-1a46469e0328",
   "metadata": {},
   "outputs": [
    {
     "data": {
      "application/javascript": [
       "\n",
       "        if (typeof window.interactive_beam_jquery == 'undefined') {\n",
       "          var jqueryScript = document.createElement('script');\n",
       "          jqueryScript.src = 'https://code.jquery.com/jquery-3.4.1.slim.min.js';\n",
       "          jqueryScript.type = 'text/javascript';\n",
       "          jqueryScript.onload = function() {\n",
       "            var datatableScript = document.createElement('script');\n",
       "            datatableScript.src = 'https://cdn.datatables.net/1.10.20/js/jquery.dataTables.min.js';\n",
       "            datatableScript.type = 'text/javascript';\n",
       "            datatableScript.onload = function() {\n",
       "              window.interactive_beam_jquery = jQuery.noConflict(true);\n",
       "              window.interactive_beam_jquery(document).ready(function($){\n",
       "                \n",
       "              });\n",
       "            }\n",
       "            document.head.appendChild(datatableScript);\n",
       "          };\n",
       "          document.head.appendChild(jqueryScript);\n",
       "        } else {\n",
       "          window.interactive_beam_jquery(document).ready(function($){\n",
       "            \n",
       "          });\n",
       "        }"
      ]
     },
     "metadata": {},
     "output_type": "display_data"
    },
    {
     "name": "stderr",
     "output_type": "stream",
     "text": [
      "WARNING:apache_beam.options.pipeline_options:Discarding unparseable args: ['-f', '/Users/xqhu/Library/Jupyter/runtime/kernel-701fa203-072f-46c4-a82b-0d3bc685b43a.json']\n"
     ]
    }
   ],
   "source": [
    "output = p | beam.Create(sentences) | beam.Map(lambda x: [model.encode(x)])"
   ]
  },
  {
   "cell_type": "code",
   "execution_count": 10,
   "id": "de231672-4a00-471a-a253-95531c6726c9",
   "metadata": {},
   "outputs": [
    {
     "data": {
      "text/plain": [
       "apache_beam.pvalue.PCollection"
      ]
     },
     "execution_count": 10,
     "metadata": {},
     "output_type": "execute_result"
    }
   ],
   "source": [
    "type(output)"
   ]
  },
  {
   "cell_type": "code",
   "execution_count": 11,
   "id": "e40d5907-d37c-40cf-a906-d62ee04790c2",
   "metadata": {},
   "outputs": [],
   "source": [
    "output1 = p | beam.Create(sentences_1) | beam.Map(lambda x: [model.encode(x)])"
   ]
  },
  {
   "cell_type": "code",
   "execution_count": 13,
   "id": "3ffb79f8-1860-4a96-ab62-253f8b61d5f9",
   "metadata": {},
   "outputs": [
    {
     "data": {
      "text/html": [
       "\n",
       "            <link rel=\"stylesheet\" href=\"https://stackpath.bootstrapcdn.com/bootstrap/4.4.1/css/bootstrap.min.css\" integrity=\"sha384-Vkoo8x4CGsO3+Hhxv8T/Q5PaXtkKtu6ug5TOeNV6gBiFeWPGFN9MuhOf23Q9Ifjh\" crossorigin=\"anonymous\">\n",
       "            <div id=\"progress_indicator_bd3012ae774ef32848fa566376b79425\">\n",
       "              <div class=\"spinner-border text-info\" role=\"status\"></div>\n",
       "              <span class=\"text-info\">Processing... show_graph</span>\n",
       "            </div>\n",
       "            "
      ],
      "text/plain": [
       "<IPython.core.display.HTML object>"
      ]
     },
     "metadata": {},
     "output_type": "display_data"
    },
    {
     "name": "stdout",
     "output_type": "stream",
     "text": [
      "huggingface/tokenizers: The current process just got forked, after parallelism has already been used. Disabling parallelism to avoid deadlocks...\n",
      "To disable this warning, you can either:\n",
      "\t- Avoid using `tokenizers` before the fork if possible\n",
      "\t- Explicitly set the environment variable TOKENIZERS_PARALLELISM=(true | false)\n"
     ]
    },
    {
     "data": {
      "text/html": [
       "digraph G {\n",
       "node [color=blue, fontcolor=blue, shape=box];\n",
       "\"[9]: Create\";\n",
       "pcoll383 [label=\"\", shape=circle];\n",
       "\"[9]: Map(<lambda at 2598773449.py:1>)\";\n",
       "output [shape=circle];\n",
       "\"[11]: Create\";\n",
       "pcoll5181 [label=\"\", shape=circle];\n",
       "\"[11]: Map(<lambda at 940352044.py:1>)\";\n",
       "output1 [shape=circle];\n",
       "\"[9]: Create\" -> pcoll383;\n",
       "pcoll383 -> \"[9]: Map(<lambda at 2598773449.py:1>)\";\n",
       "\"[9]: Map(<lambda at 2598773449.py:1>)\" -> output;\n",
       "\"[11]: Create\" -> pcoll5181;\n",
       "pcoll5181 -> \"[11]: Map(<lambda at 940352044.py:1>)\";\n",
       "\"[11]: Map(<lambda at 940352044.py:1>)\" -> output1;\n",
       "}\n"
      ],
      "text/plain": [
       "<IPython.core.display.HTML object>"
      ]
     },
     "metadata": {},
     "output_type": "display_data"
    },
    {
     "data": {
      "application/javascript": [
       "\n",
       "        if (typeof window.interactive_beam_jquery == 'undefined') {\n",
       "          var jqueryScript = document.createElement('script');\n",
       "          jqueryScript.src = 'https://code.jquery.com/jquery-3.4.1.slim.min.js';\n",
       "          jqueryScript.type = 'text/javascript';\n",
       "          jqueryScript.onload = function() {\n",
       "            var datatableScript = document.createElement('script');\n",
       "            datatableScript.src = 'https://cdn.datatables.net/1.10.20/js/jquery.dataTables.min.js';\n",
       "            datatableScript.type = 'text/javascript';\n",
       "            datatableScript.onload = function() {\n",
       "              window.interactive_beam_jquery = jQuery.noConflict(true);\n",
       "              window.interactive_beam_jquery(document).ready(function($){\n",
       "                \n",
       "            $(\"#progress_indicator_bd3012ae774ef32848fa566376b79425\").remove();\n",
       "              });\n",
       "            }\n",
       "            document.head.appendChild(datatableScript);\n",
       "          };\n",
       "          document.head.appendChild(jqueryScript);\n",
       "        } else {\n",
       "          window.interactive_beam_jquery(document).ready(function($){\n",
       "            \n",
       "            $(\"#progress_indicator_bd3012ae774ef32848fa566376b79425\").remove();\n",
       "          });\n",
       "        }"
      ]
     },
     "metadata": {},
     "output_type": "display_data"
    }
   ],
   "source": [
    "ib.show_graph(p)"
   ]
  },
  {
   "cell_type": "code",
   "execution_count": null,
   "id": "123363e7-84f9-4bf3-8933-d7552bd33cf9",
   "metadata": {},
   "outputs": [],
   "source": [
    "res = ib.collect(output)"
   ]
  },
  {
   "cell_type": "code",
   "execution_count": null,
   "id": "81934814-351b-4b3c-851e-a67fd8c2ce0e",
   "metadata": {},
   "outputs": [],
   "source": [
    "res.shape"
   ]
  },
  {
   "cell_type": "code",
   "execution_count": null,
   "id": "9c8f34f0-e466-4d02-a373-0cf6b08ee721",
   "metadata": {},
   "outputs": [],
   "source": [
    "res"
   ]
  },
  {
   "cell_type": "code",
   "execution_count": null,
   "id": "d6e67a00-b240-44e6-a15c-1cf2466c2b99",
   "metadata": {},
   "outputs": [],
   "source": [
    "res1 = ib.collect(output1)"
   ]
  },
  {
   "cell_type": "code",
   "execution_count": null,
   "id": "8a46e7c7-b6bb-4b66-b79e-2ae0f561a53a",
   "metadata": {},
   "outputs": [],
   "source": [
    "res1"
   ]
  },
  {
   "cell_type": "code",
   "execution_count": null,
   "id": "41f2de81-41ef-49d3-8778-44c51177d416",
   "metadata": {},
   "outputs": [],
   "source": [
    "from sentence_transformers import util\n",
    "\n",
    "# Any user-defined function.\n",
    "# cross join is used as an example.\n",
    "def cross_join(left, rights):\n",
    "    for x in rights:\n",
    "        yield (left, x)\n",
    "    \n",
    "comb_result = (\n",
    "    output\n",
    "    | 'ApplyCrossJoin' >> beam.FlatMap(\n",
    "        cross_join, rights=beam.pvalue.AsIter(output1))\n",
    "    | \"Cosine\" >> beam.Map(lambda x: float(util.cos_sim(x[0], x[1])[0][0])))"
   ]
  },
  {
   "cell_type": "code",
   "execution_count": null,
   "id": "6db33f23-f725-4ab5-b053-6783470b0487",
   "metadata": {},
   "outputs": [],
   "source": [
    "sim_res = ib.collect(comb_result)"
   ]
  },
  {
   "cell_type": "code",
   "execution_count": null,
   "id": "25e013c1-20fb-4245-b748-736577382b16",
   "metadata": {},
   "outputs": [],
   "source": [
    "sim_res[0]"
   ]
  },
  {
   "cell_type": "code",
   "execution_count": null,
   "id": "1f2ec7f7-1ea3-4ef4-bd7a-c0709a3420dd",
   "metadata": {},
   "outputs": [],
   "source": [
    "type(comb_result)"
   ]
  },
  {
   "cell_type": "code",
   "execution_count": null,
   "id": "9d8372bd-dbb4-4470-80d0-605573584211",
   "metadata": {},
   "outputs": [],
   "source": [
    "from pydantic import BaseModel, Field\n",
    "from typing import List, Any\n",
    "\n",
    "class Block(BaseModel):\n",
    "    source: List[\"Block\"] = []\n",
    "    target: List[\"Block\"] = []\n",
    "    operation: beam.ParDo\n",
    "    o: beam.pvalue.PCollection = None\n",
    "    \n",
    "    class Config:\n",
    "        arbitrary_types_allowed = True"
   ]
  },
  {
   "cell_type": "code",
   "execution_count": null,
   "id": "8f280e0d-fe4c-440a-9728-a03238dbb73a",
   "metadata": {},
   "outputs": [],
   "source": [
    "class SentenceEmbeddingBlock(Block):\n",
    "    operation: beam.ParDo = Field(default=beam.Map(lambda x: [model.encode(x)]))"
   ]
  },
  {
   "cell_type": "code",
   "execution_count": null,
   "id": "63c38189-d26d-4b22-92b3-6641a4c0d4a0",
   "metadata": {},
   "outputs": [],
   "source": [
    "# block for beam.Create\n",
    "from pydantic import BaseModel, ValidationError, root_validator\n",
    "\n",
    "class CreateBlock(Block):\n",
    "    operation: beam.Create\n",
    "    values: List[Any]\n",
    "\n",
    "    @root_validator(pre=True)\n",
    "    def _set_fields(cls, values: dict) -> dict:\n",
    "        values[\"operation\"] = beam.Create(values[\"values\"])\n",
    "        return values"
   ]
  },
  {
   "cell_type": "code",
   "execution_count": null,
   "id": "bcbda87f-9a9e-4e51-9535-a0198ab84131",
   "metadata": {},
   "outputs": [],
   "source": [
    "block_p = beam.Pipeline(InteractiveRunner(), options=PipelineOptions())"
   ]
  },
  {
   "cell_type": "code",
   "execution_count": null,
   "id": "7f547bbf-fbd9-4b5e-9a7c-597b7652e8e9",
   "metadata": {},
   "outputs": [],
   "source": [
    "embed = SentenceEmbeddingBlock()"
   ]
  },
  {
   "cell_type": "code",
   "execution_count": null,
   "id": "e29c5403-8710-4859-8dae-034633f36795",
   "metadata": {},
   "outputs": [],
   "source": [
    "embed.o"
   ]
  },
  {
   "cell_type": "code",
   "execution_count": null,
   "id": "d267d006-ea00-42cf-87f4-89bbb29cb884",
   "metadata": {},
   "outputs": [],
   "source": [
    "create = CreateBlock(values = sentences)"
   ]
  },
  {
   "cell_type": "code",
   "execution_count": null,
   "id": "e58223ac-dff2-47b8-aa31-0221acce965e",
   "metadata": {},
   "outputs": [],
   "source": [
    "create.operation"
   ]
  },
  {
   "cell_type": "code",
   "execution_count": null,
   "id": "fc4b4b5c-5857-45f5-9028-cd3d6d095d79",
   "metadata": {},
   "outputs": [],
   "source": [
    "create.o"
   ]
  },
  {
   "cell_type": "code",
   "execution_count": null,
   "id": "672a3c7d-f8f8-47cc-a4d9-2475d5549432",
   "metadata": {},
   "outputs": [],
   "source": [
    "class BlockAssembler:\n",
    "    def __init__(self, blocks: List[Block], p: beam.pipeline.Pipeline):\n",
    "        self.blocks = blocks\n",
    "        self.p = p\n",
    "    @classmethod\n",
    "    def Sequential(cls, blocks: List[Block], p: beam.pipeline.Pipeline):\n",
    "        # connect all the blocks using the list order\n",
    "        for i, block in enumerate(blocks):\n",
    "            if i > 0:\n",
    "                block.source = [blocks[i-1]]\n",
    "            if i < (len(blocks)-1):\n",
    "                block.target = [blocks[i+1]]\n",
    "        return cls(blocks, p)\n",
    "\n",
    "    def compile(self):\n",
    "        # sequential\n",
    "        o = self.p\n",
    "        for block in self.blocks:\n",
    "            block.o = o | block.operation\n",
    "            o = block.o\n",
    "        return \n",
    "    \n",
    "    def show_graph(self):\n",
    "        ib.show_graph(self.p)"
   ]
  },
  {
   "cell_type": "code",
   "execution_count": null,
   "id": "17136f93-042c-4938-a86c-96847e11c5f1",
   "metadata": {},
   "outputs": [],
   "source": [
    "blocks = BlockAssembler.Sequential([create, embed], p=block_p)"
   ]
  },
  {
   "cell_type": "code",
   "execution_count": null,
   "id": "fcd8602e-a76a-473b-9481-42c3f2e164df",
   "metadata": {},
   "outputs": [],
   "source": [
    "blocks.compile()"
   ]
  },
  {
   "cell_type": "code",
   "execution_count": null,
   "id": "c1992947-0134-474a-a9ad-ed0a8ac0f2b3",
   "metadata": {},
   "outputs": [],
   "source": [
    "blocks.blocks[0].target"
   ]
  },
  {
   "cell_type": "code",
   "execution_count": null,
   "id": "4a73d064-d285-4bc8-a860-d78fbfb0dcd0",
   "metadata": {},
   "outputs": [],
   "source": [
    "blocks.show_graph()"
   ]
  },
  {
   "cell_type": "code",
   "execution_count": null,
   "id": "fadea93e-d270-4ced-b4bb-9c00929bbcaa",
   "metadata": {},
   "outputs": [],
   "source": []
  },
  {
   "cell_type": "code",
   "execution_count": null,
   "id": "2bd94fe2-f51f-4804-a301-b369503d02b4",
   "metadata": {},
   "outputs": [],
   "source": []
  }
 ],
 "metadata": {
  "kernelspec": {
   "display_name": "Python 3 (ipykernel)",
   "language": "python",
   "name": "python3"
  },
  "language_info": {
   "codemirror_mode": {
    "name": "ipython",
    "version": 3
   },
   "file_extension": ".py",
   "mimetype": "text/x-python",
   "name": "python",
   "nbconvert_exporter": "python",
   "pygments_lexer": "ipython3",
   "version": "3.9.13"
  }
 },
 "nbformat": 4,
 "nbformat_minor": 5
}
